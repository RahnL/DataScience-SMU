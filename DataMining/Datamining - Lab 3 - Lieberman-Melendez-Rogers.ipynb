{
 "cells": [
  {
   "cell_type": "markdown",
   "metadata": {},
   "source": [
    "## Data Mining - MSDS 7331 - Thurs 6:30, Summer 2016\n",
    "\n",
    "Team 3: Sal Melendez, Rahn Lieberman, Thomas Rogers\n",
    "\n",
    "Github page: https://github.com/RahnL/DataScience-SMU/tree/master/DataMining"
   ]
  },
  {
   "cell_type": "markdown",
   "metadata": {},
   "source": [
    "## Introduction"
   ]
  },
  {
   "cell_type": "code",
   "execution_count": 2,
   "metadata": {
    "collapsed": true
   },
   "outputs": [],
   "source": [
    "# Set up\n",
    "import graphlab as gl\n",
    "# set canvas to show sframes and sgraphs in ipython notebook\n",
    "gl.canvas.set_target('ipynb')\n",
    "import matplotlib.pyplot as plt\n",
    "%matplotlib inline"
   ]
  },
  {
   "cell_type": "code",
   "execution_count": 4,
   "metadata": {
    "collapsed": false
   },
   "outputs": [
    {
     "data": {
      "application/javascript": [
       "$(\"head\").append($(\"<link/>\").attr({\n",
       "  rel:  \"stylesheet\",\n",
       "  type: \"text/css\",\n",
       "  href: \"//cdnjs.cloudflare.com/ajax/libs/font-awesome/4.1.0/css/font-awesome.min.css\"\n",
       "}));\n",
       "$(\"head\").append($(\"<link/>\").attr({\n",
       "  rel:  \"stylesheet\",\n",
       "  type: \"text/css\",\n",
       "  href: \"https://static.turi.com/products/graphlab-create/2.1/canvas/css/canvas.css\"\n",
       "}));\n",
       "\n",
       "            (function(){\n",
       "\n",
       "                var e = null;\n",
       "                if (typeof element == 'undefined') {\n",
       "                    var scripts = document.getElementsByTagName('script');\n",
       "                    var thisScriptTag = scripts[scripts.length-1];\n",
       "                    var parentDiv = thisScriptTag.parentNode;\n",
       "                    e = document.createElement('div');\n",
       "                    parentDiv.appendChild(e);\n",
       "                } else {\n",
       "                    e = element[0];\n",
       "                }\n",
       "\n",
       "                if (typeof requirejs !== 'undefined') {\n",
       "                    // disable load timeout; ipython_app.js is large and can take a while to load.\n",
       "                    requirejs.config({waitSeconds: 0});\n",
       "                }\n",
       "\n",
       "                require(['https://static.turi.com/products/graphlab-create/2.1/canvas/js/ipython_app.js'], function(IPythonApp){\n",
       "                    var app = new IPythonApp();\n",
       "                    app.attachView('sframe','Summary', {\"ipython\": true, \"sketch\": {\"rating\": {\"std\": 3.1120049915907826, \"complete\": true, \"min\": 1.0, \"max\": 10.0, \"quantile\": [1.0, 1.0, 1.0, 1.0, 1.0, 1.0, 1.0, 1.0, 1.0, 1.0, 1.0, 1.0, 1.0, 2.0, 2.0, 2.0, 2.0, 2.0, 2.0, 2.0, 2.0, 3.0, 3.0, 3.0, 3.0, 3.0, 4.0, 4.0, 4.0, 4.0, 4.0, 4.0, 4.0, 5.0, 5.0, 5.0, 5.0, 5.0, 5.0, 5.0, 5.0, 5.0, 5.0, 5.0, 6.0, 6.0, 6.0, 6.0, 6.0, 6.0, 6.0, 6.0, 6.0, 7.0, 7.0, 7.0, 7.0, 7.0, 7.0, 7.0, 7.0, 7.0, 7.0, 7.0, 8.0, 8.0, 8.0, 8.0, 8.0, 8.0, 8.0, 8.0, 8.0, 9.0, 9.0, 9.0, 9.0, 9.0, 9.0, 9.0, 10.0, 10.0, 10.0, 10.0, 10.0, 10.0, 10.0, 10.0, 10.0, 10.0, 10.0, 10.0, 10.0, 10.0, 10.0, 10.0, 10.0, 10.0, 10.0, 10.0, 10.0], \"median\": 6.0, \"numeric\": true, \"num_unique\": 10, \"num_undefined\": 0, \"var\": 9.684575067685948, \"progress\": 1.0, \"size\": 17359346, \"frequent_items\": {\"1\": {\"frequency\": 2315546, \"value\": 1}, \"2\": {\"frequency\": 1235266, \"value\": 2}, \"3\": {\"frequency\": 1000377, \"value\": 3}, \"4\": {\"frequency\": 1096031, \"value\": 4}, \"5\": {\"frequency\": 1991628, \"value\": 5}, \"6\": {\"frequency\": 1605496, \"value\": 6}, \"7\": {\"frequency\": 1793187, \"value\": 7}, \"8\": {\"frequency\": 1664057, \"value\": 8}, \"9\": {\"frequency\": 1117416, \"value\": 9}, \"10\": {\"frequency\": 3540342, \"value\": 10}}, \"mean\": 5.938436736038639}, \"profile_id\": {\"std\": 62183.68803652353, \"complete\": true, \"min\": 1.0, \"max\": 220970.0, \"quantile\": [1.0, 1720.0, 3301.0, 5886.0, 7562.0, 9321.0, 11324.0, 13160.0, 15184.0, 17400.0, 19535.0, 21335.0, 23066.0, 25125.0, 26695.0, 28930.0, 30620.0, 32284.0, 34192.0, 36134.0, 37876.0, 39748.0, 41571.0, 43836.0, 45992.0, 48136.0, 50408.0, 52391.0, 54380.0, 56397.0, 58619.0, 60968.0, 62717.0, 64497.0, 66479.0, 68693.0, 70600.0, 72360.0, 74230.0, 75841.0, 77822.0, 79784.0, 81808.0, 83773.0, 85542.0, 87724.0, 89705.0, 91794.0, 93626.0, 95590.0, 97238.0, 99266.0, 101377.0, 103213.0, 105220.0, 107269.0, 109339.0, 111123.0, 113214.0, 114993.0, 117041.0, 118624.0, 120605.0, 122284.0, 124174.0, 126376.0, 128314.0, 130815.0, 132559.0, 134622.0, 137081.0, 139957.0, 142896.0, 145616.0, 148592.0, 151334.0, 154345.0, 156496.0, 159585.0, 162617.0, 164981.0, 168015.0, 171180.0, 174112.0, 176744.0, 179284.0, 182107.0, 184835.0, 187772.0, 190803.0, 193574.0, 195945.0, 198616.0, 201823.0, 204410.0, 207202.0, 209645.0, 212327.0, 215178.0, 217975.0, 220970.0], \"median\": 97238.0, \"numeric\": true, \"num_unique\": 173088, \"num_undefined\": 0, \"var\": 3866811057.8236794, \"progress\": 1.0, \"size\": 17359346, \"frequent_items\": {\"73728\": {\"frequency\": 3719, \"value\": 73728}, \"86018\": {\"frequency\": 1743, \"value\": 86018}, \"94212\": {\"frequency\": 2316, \"value\": 94212}, \"20486\": {\"frequency\": 2824, \"value\": 20486}, \"51207\": {\"frequency\": 2376, \"value\": 51207}, \"182280\": {\"frequency\": 4760, \"value\": 182280}, \"120842\": {\"frequency\": 2260, \"value\": 120842}, \"73741\": {\"frequency\": 3605, \"value\": 73741}, \"26638\": {\"frequency\": 2872, \"value\": 26638}, \"26640\": {\"frequency\": 5451, \"value\": 26640}, \"6164\": {\"frequency\": 1805, \"value\": 6164}, \"210965\": {\"frequency\": 2373, \"value\": 210965}, \"14358\": {\"frequency\": 2006, \"value\": 14358}, \"44377\": {\"frequency\": 1937, \"value\": 44377}, \"71704\": {\"frequency\": 3065, \"value\": 71704}, \"122905\": {\"frequency\": 6470, \"value\": 122905}, \"69660\": {\"frequency\": 2511, \"value\": 69660}, \"184349\": {\"frequency\": 12341, \"value\": 184349}, \"98334\": {\"frequency\": 1991, \"value\": 98334}, \"75807\": {\"frequency\": 2097, \"value\": 75807}, \"118816\": {\"frequency\": 2003, \"value\": 118816}, \"96290\": {\"frequency\": 2048, \"value\": 96290}, \"40998\": {\"frequency\": 8063, \"value\": 40998}, \"208935\": {\"frequency\": 2606, \"value\": 208935}, \"108584\": {\"frequency\": 1781, \"value\": 108584}, \"118825\": {\"frequency\": 2313, \"value\": 118825}, \"145415\": {\"frequency\": 1687, \"value\": 145415}, \"131122\": {\"frequency\": 1840, \"value\": 131122}, \"180276\": {\"frequency\": 10515, \"value\": 180276}, \"190520\": {\"frequency\": 2778, \"value\": 190520}, \"96313\": {\"frequency\": 3067, \"value\": 96313}, \"122938\": {\"frequency\": 2101, \"value\": 122938}, \"67644\": {\"frequency\": 2120, \"value\": 67644}, \"2111\": {\"frequency\": 3629, \"value\": 2111}, \"67648\": {\"frequency\": 2163, \"value\": 67648}, \"98369\": {\"frequency\": 4163, \"value\": 98369}, \"65602\": {\"frequency\": 11597, \"value\": 65602}, \"12355\": {\"frequency\": 2586, \"value\": 12355}, \"168007\": {\"frequency\": 1920, \"value\": 168007}, \"77897\": {\"frequency\": 1851, \"value\": 77897}, \"86091\": {\"frequency\": 2144, \"value\": 86091}, \"202830\": {\"frequency\": 2906, \"value\": 202830}, \"2127\": {\"frequency\": 5297, \"value\": 2127}, \"45136\": {\"frequency\": 1862, \"value\": 45136}, \"75858\": {\"frequency\": 2084, \"value\": 75858}, \"174166\": {\"frequency\": 3107, \"value\": 174166}, \"110957\": {\"frequency\": 3695, \"value\": 110957}, \"172122\": {\"frequency\": 2913, \"value\": 172122}, \"117775\": {\"frequency\": 7891, \"value\": 117775}, \"63580\": {\"frequency\": 1759, \"value\": 63580}, \"79965\": {\"frequency\": 1865, \"value\": 79965}, \"114783\": {\"frequency\": 2842, \"value\": 114783}, \"100449\": {\"frequency\": 2661, \"value\": 100449}, \"135266\": {\"frequency\": 3495, \"value\": 135266}, \"36964\": {\"frequency\": 9337, \"value\": 36964}, \"135270\": {\"frequency\": 5926, \"value\": 135270}, \"163943\": {\"frequency\": 2474, \"value\": 163943}, \"8296\": {\"frequency\": 2105, \"value\": 8296}, \"135273\": {\"frequency\": 5101, \"value\": 135273}, \"20589\": {\"frequency\": 2629, \"value\": 20589}, \"133232\": {\"frequency\": 2631, \"value\": 133232}, \"12006\": {\"frequency\": 7696, \"value\": 12006}, \"112754\": {\"frequency\": 2897, \"value\": 112754}, \"112755\": {\"frequency\": 2370, \"value\": 112755}, \"104565\": {\"frequency\": 5869, \"value\": 104565}, \"88183\": {\"frequency\": 2656, \"value\": 88183}, \"67604\": {\"frequency\": 2238, \"value\": 67604}, \"24699\": {\"frequency\": 1839, \"value\": 24699}, \"6269\": {\"frequency\": 6102, \"value\": 6269}, \"47235\": {\"frequency\": 3460, \"value\": 47235}, \"133\": {\"frequency\": 7101, \"value\": 133}, \"196742\": {\"frequency\": 2209, \"value\": 196742}, \"15041\": {\"frequency\": 2547, \"value\": 15041}, \"28808\": {\"frequency\": 1974, \"value\": 28808}, \"78188\": {\"frequency\": 3125, \"value\": 78188}, \"38594\": {\"frequency\": 2278, \"value\": 38594}, \"65679\": {\"frequency\": 8261, \"value\": 65679}, \"135316\": {\"frequency\": 1997, \"value\": 135316}, \"125294\": {\"frequency\": 6574, \"value\": 125294}, \"114713\": {\"frequency\": 1794, \"value\": 114713}, \"12440\": {\"frequency\": 1795, \"value\": 12440}, \"192666\": {\"frequency\": 14324, \"value\": 192666}, \"65882\": {\"frequency\": 2261, \"value\": 65882}, \"51359\": {\"frequency\": 3096, \"value\": 51359}, \"102561\": {\"frequency\": 1788, \"value\": 102561}, \"77986\": {\"frequency\": 2417, \"value\": 77986}, \"2211\": {\"frequency\": 2438, \"value\": 2211}, \"54982\": {\"frequency\": 3726, \"value\": 54982}, \"82972\": {\"frequency\": 1895, \"value\": 82972}, \"51372\": {\"frequency\": 2617, \"value\": 51372}, \"57517\": {\"frequency\": 2280, \"value\": 57517}, \"114376\": {\"frequency\": 2110, \"value\": 114376}, \"26193\": {\"frequency\": 6248, \"value\": 26193}, \"39095\": {\"frequency\": 7600, \"value\": 39095}, \"32953\": {\"frequency\": 1953, \"value\": 32953}, \"112826\": {\"frequency\": 2763, \"value\": 112826}, \"104635\": {\"frequency\": 2417, \"value\": 104635}, \"72394\": {\"frequency\": 1781, \"value\": 72394}, \"116926\": {\"frequency\": 3419, \"value\": 116926}, \"34848\": {\"frequency\": 5568, \"value\": 34848}, \"88258\": {\"frequency\": 1986, \"value\": 88258}, \"78020\": {\"frequency\": 1981, \"value\": 78020}, \"131446\": {\"frequency\": 3930, \"value\": 131446}, \"135367\": {\"frequency\": 2687, \"value\": 135367}, \"86050\": {\"frequency\": 1745, \"value\": 86050}, \"164046\": {\"frequency\": 3246, \"value\": 164046}, \"53456\": {\"frequency\": 2687, \"value\": 53456}, \"102609\": {\"frequency\": 2202, \"value\": 102609}, \"144419\": {\"frequency\": 2180, \"value\": 144419}, \"24163\": {\"frequency\": 2431, \"value\": 24163}, \"107214\": {\"frequency\": 2334, \"value\": 107214}, \"84182\": {\"frequency\": 1966, \"value\": 84182}, \"215\": {\"frequency\": 2376, \"value\": 215}, \"78432\": {\"frequency\": 2425, \"value\": 78432}, \"37082\": {\"frequency\": 2675, \"value\": 37082}, \"21199\": {\"frequency\": 1881, \"value\": 21199}, \"25978\": {\"frequency\": 5971, \"value\": 25978}, \"95269\": {\"frequency\": 1817, \"value\": 95269}, \"12513\": {\"frequency\": 8417, \"value\": 12513}, \"100578\": {\"frequency\": 2255, \"value\": 100578}, \"156369\": {\"frequency\": 4386, \"value\": 156369}, \"178410\": {\"frequency\": 3174, \"value\": 178410}, \"33006\": {\"frequency\": 9464, \"value\": 33006}, \"73967\": {\"frequency\": 6884, \"value\": 73967}, \"167976\": {\"frequency\": 4094, \"value\": 167976}, \"44676\": {\"frequency\": 2198, \"value\": 44676}, \"143604\": {\"frequency\": 9211, \"value\": 143604}, \"88105\": {\"frequency\": 2146, \"value\": 88105}, \"69882\": {\"frequency\": 2646, \"value\": 69882}, \"88316\": {\"frequency\": 2099, \"value\": 88316}, \"77274\": {\"frequency\": 2104, \"value\": 77274}, \"20737\": {\"frequency\": 18513, \"value\": 20737}, \"28930\": {\"frequency\": 3152, \"value\": 28930}, \"220203\": {\"frequency\": 2001, \"value\": 220203}, \"13443\": {\"frequency\": 2723, \"value\": 13443}, \"84229\": {\"frequency\": 1770, \"value\": 84229}, \"156013\": {\"frequency\": 1898, \"value\": 156013}, \"69895\": {\"frequency\": 2147, \"value\": 69895}, \"98569\": {\"frequency\": 1961, \"value\": 98569}, \"63757\": {\"frequency\": 1745, \"value\": 63757}, \"190736\": {\"frequency\": 3297, \"value\": 190736}, \"141699\": {\"frequency\": 1873, \"value\": 141699}, \"44078\": {\"frequency\": 2004, \"value\": 44078}, \"194844\": {\"frequency\": 4134, \"value\": 194844}, \"114968\": {\"frequency\": 2456, \"value\": 114968}, \"55578\": {\"frequency\": 2041, \"value\": 55578}, \"121116\": {\"frequency\": 6093, \"value\": 121116}, \"139552\": {\"frequency\": 4562, \"value\": 139552}, \"10531\": {\"frequency\": 3041, \"value\": 10531}, \"6437\": {\"frequency\": 9603, \"value\": 6437}, \"35118\": {\"frequency\": 2895, \"value\": 35118}, \"117041\": {\"frequency\": 12968, \"value\": 117041}, \"209971\": {\"frequency\": 2055, \"value\": 209971}, \"110900\": {\"frequency\": 1765, \"value\": 110900}, \"123190\": {\"frequency\": 2440, \"value\": 123190}, \"102713\": {\"frequency\": 2015, \"value\": 102713}, \"49466\": {\"frequency\": 2277, \"value\": 49466}, \"114238\": {\"frequency\": 1911, \"value\": 114238}, \"8510\": {\"frequency\": 2330, \"value\": 8510}, \"37184\": {\"frequency\": 5695, \"value\": 37184}, \"102721\": {\"frequency\": 3201, \"value\": 102721}, \"117059\": {\"frequency\": 3870, \"value\": 117059}, \"117061\": {\"frequency\": 2070, \"value\": 117061}, \"114457\": {\"frequency\": 2436, \"value\": 114457}, \"106823\": {\"frequency\": 2297, \"value\": 106823}, \"147784\": {\"frequency\": 2898, \"value\": 147784}, \"41292\": {\"frequency\": 2674, \"value\": 41292}, \"112973\": {\"frequency\": 2293, \"value\": 112973}, \"57679\": {\"frequency\": 2654, \"value\": 57679}, \"192848\": {\"frequency\": 2509, \"value\": 192848}, \"104785\": {\"frequency\": 2520, \"value\": 104785}, \"217431\": {\"frequency\": 2519, \"value\": 217431}, \"2393\": {\"frequency\": 4030, \"value\": 2393}, \"143706\": {\"frequency\": 7634, \"value\": 143706}, \"132860\": {\"frequency\": 6760, \"value\": 132860}, \"209245\": {\"frequency\": 7078, \"value\": 209245}, \"12638\": {\"frequency\": 2252, \"value\": 12638}, \"102751\": {\"frequency\": 2561, \"value\": 102751}, \"194912\": {\"frequency\": 4547, \"value\": 194912}, \"34192\": {\"frequency\": 2134, \"value\": 34192}, \"100709\": {\"frequency\": 1739, \"value\": 100709}, \"199016\": {\"frequency\": 3913, \"value\": 199016}, \"36583\": {\"frequency\": 5916, \"value\": 36583}, \"178540\": {\"frequency\": 3416, \"value\": 178540}, \"174445\": {\"frequency\": 1902, \"value\": 174445}, \"213358\": {\"frequency\": 7039, \"value\": 213358}, \"98673\": {\"frequency\": 2110, \"value\": 98673}, \"207218\": {\"frequency\": 1831, \"value\": 207218}, \"74099\": {\"frequency\": 4539, \"value\": 74099}, \"121205\": {\"frequency\": 5049, \"value\": 121205}, \"98678\": {\"frequency\": 10444, \"value\": 98678}, \"127351\": {\"frequency\": 2137, \"value\": 127351}, \"170360\": {\"frequency\": 2005, \"value\": 170360}, \"182649\": {\"frequency\": 2189, \"value\": 182649}, \"96635\": {\"frequency\": 4057, \"value\": 96635}, \"1429\": {\"frequency\": 3421, \"value\": 1429}, \"33155\": {\"frequency\": 2138, \"value\": 33155}, \"10628\": {\"frequency\": 3186, \"value\": 10628}, \"61830\": {\"frequency\": 2128, \"value\": 61830}, \"92077\": {\"frequency\": 2559, \"value\": 92077}, \"394\": {\"frequency\": 2666, \"value\": 394}, \"11671\": {\"frequency\": 1698, \"value\": 11671}, \"31116\": {\"frequency\": 28372, \"value\": 31116}, \"37262\": {\"frequency\": 2546, \"value\": 37262}, \"43407\": {\"frequency\": 4553, \"value\": 43407}, \"73112\": {\"frequency\": 1687, \"value\": 73112}, \"8598\": {\"frequency\": 2285, \"value\": 8598}, \"96663\": {\"frequency\": 10971, \"value\": 96663}, \"133531\": {\"frequency\": 1655, \"value\": 133531}, \"117149\": {\"frequency\": 2182, \"value\": 117149}, \"63902\": {\"frequency\": 3689, \"value\": 63902}, \"82331\": {\"frequency\": 2471, \"value\": 82331}, \"205223\": {\"frequency\": 2809, \"value\": 205223}, \"189325\": {\"frequency\": 2674, \"value\": 189325}, \"86442\": {\"frequency\": 5333, \"value\": 86442}, \"26695\": {\"frequency\": 2685, \"value\": 26695}, \"217516\": {\"frequency\": 4599, \"value\": 217516}, \"106925\": {\"frequency\": 2667, \"value\": 106925}, \"47534\": {\"frequency\": 4020, \"value\": 47534}, \"129458\": {\"frequency\": 2359, \"value\": 129458}, \"84403\": {\"frequency\": 2028, \"value\": 84403}, \"160731\": {\"frequency\": 4749, \"value\": 160731}, \"25013\": {\"frequency\": 3341, \"value\": 25013}, \"115127\": {\"frequency\": 2845, \"value\": 115127}, \"116127\": {\"frequency\": 1779, \"value\": 116127}, \"33216\": {\"frequency\": 16243, \"value\": 33216}, \"113089\": {\"frequency\": 2008, \"value\": 113089}, \"80322\": {\"frequency\": 3981, \"value\": 80322}, \"154053\": {\"frequency\": 2183, \"value\": 154053}, \"55458\": {\"frequency\": 2849, \"value\": 55458}, \"74184\": {\"frequency\": 3414, \"value\": 74184}, \"49609\": {\"frequency\": 2128, \"value\": 49609}, \"133879\": {\"frequency\": 1950, \"value\": 133879}, \"133582\": {\"frequency\": 1795, \"value\": 133582}, \"74829\": {\"frequency\": 7033, \"value\": 74829}, \"115152\": {\"frequency\": 2114, \"value\": 115152}, \"90577\": {\"frequency\": 2412, \"value\": 90577}, \"466\": {\"frequency\": 2638, \"value\": 466}, \"20949\": {\"frequency\": 2305, \"value\": 20949}, \"2518\": {\"frequency\": 2014, \"value\": 2518}, \"185081\": {\"frequency\": 2308, \"value\": 185081}, \"102309\": {\"frequency\": 2317, \"value\": 102309}, \"109019\": {\"frequency\": 2420, \"value\": 109019}, \"215517\": {\"frequency\": 1881, \"value\": 215517}, \"130815\": {\"frequency\": 10174, \"value\": 130815}, \"121312\": {\"frequency\": 1957, \"value\": 121312}, \"106977\": {\"frequency\": 4555, \"value\": 106977}, \"59874\": {\"frequency\": 2671, \"value\": 59874}, \"483\": {\"frequency\": 6279, \"value\": 483}, \"158180\": {\"frequency\": 1747, \"value\": 158180}, \"45541\": {\"frequency\": 1804, \"value\": 45541}, \"180712\": {\"frequency\": 3419, \"value\": 180712}, \"49641\": {\"frequency\": 2032, \"value\": 49641}, \"26531\": {\"frequency\": 2311, \"value\": 26531}, \"104944\": {\"frequency\": 2660, \"value\": 104944}, \"41460\": {\"frequency\": 4439, \"value\": 41460}, \"63989\": {\"frequency\": 2618, \"value\": 63989}, \"39414\": {\"frequency\": 2728, \"value\": 39414}, \"100855\": {\"frequency\": 8088, \"value\": 100855}, \"25083\": {\"frequency\": 9705, \"value\": 25083}, \"47612\": {\"frequency\": 2731, \"value\": 47612}, \"90622\": {\"frequency\": 5144, \"value\": 90622}, \"125439\": {\"frequency\": 2097, \"value\": 125439}, \"66048\": {\"frequency\": 1946, \"value\": 66048}, \"92673\": {\"frequency\": 4245, \"value\": 92673}, \"31234\": {\"frequency\": 3233, \"value\": 31234}, \"34219\": {\"frequency\": 5657, \"value\": 34219}, \"150020\": {\"frequency\": 7798, \"value\": 150020}, \"113157\": {\"frequency\": 8729, \"value\": 113157}, \"98822\": {\"frequency\": 2413, \"value\": 98822}, \"68103\": {\"frequency\": 2433, \"value\": 68103}, \"164363\": {\"frequency\": 2367, \"value\": 164363}, \"10766\": {\"frequency\": 1905, \"value\": 10766}, \"22957\": {\"frequency\": 1793, \"value\": 22957}, \"45584\": {\"frequency\": 2939, \"value\": 45584}, \"74257\": {\"frequency\": 4106, \"value\": 74257}, \"64018\": {\"frequency\": 2005, \"value\": 64018}, \"41492\": {\"frequency\": 7645, \"value\": 41492}, \"184855\": {\"frequency\": 2459, \"value\": 184855}, \"47641\": {\"frequency\": 2239, \"value\": 47641}, \"127514\": {\"frequency\": 5311, \"value\": 127514}, \"96796\": {\"frequency\": 11254, \"value\": 96796}, \"74270\": {\"frequency\": 2387, \"value\": 74270}, \"25119\": {\"frequency\": 2612, \"value\": 25119}, \"186920\": {\"frequency\": 2544, \"value\": 186920}, \"33321\": {\"frequency\": 1919, \"value\": 33321}, \"48463\": {\"frequency\": 5435, \"value\": 48463}, \"68140\": {\"frequency\": 2754, \"value\": 68140}, \"12845\": {\"frequency\": 1855, \"value\": 12845}, \"75511\": {\"frequency\": 1942, \"value\": 75511}, \"31280\": {\"frequency\": 1985, \"value\": 31280}, \"176904\": {\"frequency\": 4890, \"value\": 176904}, \"7682\": {\"frequency\": 2075, \"value\": 7682}, \"32863\": {\"frequency\": 1877, \"value\": 32863}, \"111166\": {\"frequency\": 2600, \"value\": 111166}, \"219711\": {\"frequency\": 5100, \"value\": 219711}, \"109120\": {\"frequency\": 3139, \"value\": 109120}, \"22319\": {\"frequency\": 21386, \"value\": 22319}, \"131654\": {\"frequency\": 2144, \"value\": 131654}, \"51783\": {\"frequency\": 3055, \"value\": 51783}, \"191054\": {\"frequency\": 2416, \"value\": 191054}, \"80463\": {\"frequency\": 5775, \"value\": 80463}, \"129616\": {\"frequency\": 1859, \"value\": 129616}, \"131669\": {\"frequency\": 5018, \"value\": 131669}, \"197206\": {\"frequency\": 2497, \"value\": 197206}, \"127341\": {\"frequency\": 4452, \"value\": 127341}, \"29274\": {\"frequency\": 3060, \"value\": 29274}, \"156252\": {\"frequency\": 2473, \"value\": 156252}, \"80478\": {\"frequency\": 1750, \"value\": 80478}, \"19040\": {\"frequency\": 2139, \"value\": 19040}, \"97040\": {\"frequency\": 1881, \"value\": 97040}, \"78434\": {\"frequency\": 2242, \"value\": 78434}, \"86627\": {\"frequency\": 2195, \"value\": 86627}, \"123492\": {\"frequency\": 2390, \"value\": 123492}, \"141959\": {\"frequency\": 2925, \"value\": 141959}, \"176744\": {\"frequency\": 4994, \"value\": 176744}, \"113261\": {\"frequency\": 3882, \"value\": 113261}, \"26414\": {\"frequency\": 1799, \"value\": 26414}, \"94833\": {\"frequency\": 3424, \"value\": 94833}, \"33394\": {\"frequency\": 3755, \"value\": 33394}, \"109673\": {\"frequency\": 3597, \"value\": 109673}, \"52187\": {\"frequency\": 2192, \"value\": 52187}, \"4732\": {\"frequency\": 3925, \"value\": 4732}, \"121469\": {\"frequency\": 5208, \"value\": 121469}, \"154239\": {\"frequency\": 2074, \"value\": 154239}, \"141952\": {\"frequency\": 3096, \"value\": 141952}, \"148099\": {\"frequency\": 2962, \"value\": 148099}, \"21127\": {\"frequency\": 2074, \"value\": 21127}, \"135816\": {\"frequency\": 2514, \"value\": 135816}, \"68716\": {\"frequency\": 4016, \"value\": 68716}, \"152202\": {\"frequency\": 3219, \"value\": 152202}, \"101003\": {\"frequency\": 5455, \"value\": 101003}, \"62095\": {\"frequency\": 1809, \"value\": 62095}, \"78616\": {\"frequency\": 2077, \"value\": 78616}, \"28099\": {\"frequency\": 2370, \"value\": 28099}, \"91063\": {\"frequency\": 2177, \"value\": 91063}, \"84630\": {\"frequency\": 2674, \"value\": 84630}, \"119447\": {\"frequency\": 4188, \"value\": 119447}, \"187034\": {\"frequency\": 2455, \"value\": 187034}, \"121499\": {\"frequency\": 2781, \"value\": 121499}, \"41628\": {\"frequency\": 2863, \"value\": 41628}, \"72349\": {\"frequency\": 1809, \"value\": 72349}, \"86688\": {\"frequency\": 1969, \"value\": 86688}, \"96930\": {\"frequency\": 3373, \"value\": 96930}, \"15131\": {\"frequency\": 4382, \"value\": 15131}, \"174757\": {\"frequency\": 2051, \"value\": 174757}, \"196494\": {\"frequency\": 1758, \"value\": 196494}, \"173852\": {\"frequency\": 2136, \"value\": 173852}, \"148140\": {\"frequency\": 3525, \"value\": 148140}, \"196502\": {\"frequency\": 4590, \"value\": 196502}, \"86703\": {\"frequency\": 2281, \"value\": 86703}, \"96944\": {\"frequency\": 2560, \"value\": 96944}, \"195250\": {\"frequency\": 2841, \"value\": 195250}, \"168631\": {\"frequency\": 2468, \"value\": 168631}, \"65218\": {\"frequency\": 4363, \"value\": 65218}, \"107295\": {\"frequency\": 3004, \"value\": 107295}, \"6844\": {\"frequency\": 1887, \"value\": 6844}, \"127093\": {\"frequency\": 2691, \"value\": 127093}, \"193216\": {\"frequency\": 7225, \"value\": 193216}, \"219841\": {\"frequency\": 2157, \"value\": 219841}, \"43715\": {\"frequency\": 5489, \"value\": 43715}, \"195268\": {\"frequency\": 5712, \"value\": 195268}, \"84677\": {\"frequency\": 1910, \"value\": 84677}, \"56006\": {\"frequency\": 2235, \"value\": 56006}, \"155084\": {\"frequency\": 4313, \"value\": 155084}, \"94922\": {\"frequency\": 2099, \"value\": 94922}, \"84859\": {\"frequency\": 2410, \"value\": 84859}, \"176930\": {\"frequency\": 3867, \"value\": 176930}, \"146126\": {\"frequency\": 2098, \"value\": 146126}, \"131791\": {\"frequency\": 8742, \"value\": 131791}, \"720\": {\"frequency\": 2351, \"value\": 720}, \"64209\": {\"frequency\": 2116, \"value\": 64209}, \"104977\": {\"frequency\": 3205, \"value\": 104977}, \"117461\": {\"frequency\": 2572, \"value\": 117461}, \"18505\": {\"frequency\": 2679, \"value\": 18505}, \"117463\": {\"frequency\": 2129, \"value\": 117463}, \"101080\": {\"frequency\": 2722, \"value\": 101080}, \"6880\": {\"frequency\": 3079, \"value\": 6880}, \"96993\": {\"frequency\": 1760, \"value\": 96993}, \"154345\": {\"frequency\": 3975, \"value\": 154345}, \"94953\": {\"frequency\": 2636, \"value\": 94953}, \"76524\": {\"frequency\": 5274, \"value\": 76524}, \"37330\": {\"frequency\": 2591, \"value\": 37330}, \"168687\": {\"frequency\": 3662, \"value\": 168687}, \"49905\": {\"frequency\": 2086, \"value\": 49905}, \"13043\": {\"frequency\": 2072, \"value\": 13043}, \"56053\": {\"frequency\": 1875, \"value\": 56053}, \"76535\": {\"frequency\": 1768, \"value\": 76535}, \"78585\": {\"frequency\": 2166, \"value\": 78585}, \"41724\": {\"frequency\": 2321, \"value\": 41724}, \"767\": {\"frequency\": 3419, \"value\": 767}, \"64257\": {\"frequency\": 3861, \"value\": 64257}, \"105220\": {\"frequency\": 2144, \"value\": 105220}, \"185095\": {\"frequency\": 4386, \"value\": 185095}, \"21256\": {\"frequency\": 3584, \"value\": 21256}, \"121609\": {\"frequency\": 3893, \"value\": 121609}, \"195344\": {\"frequency\": 2300, \"value\": 195344}, \"33553\": {\"frequency\": 2238, \"value\": 33553}, \"107283\": {\"frequency\": 1891, \"value\": 107283}, \"6932\": {\"frequency\": 4464, \"value\": 6932}, \"94997\": {\"frequency\": 4891, \"value\": 94997}, \"33558\": {\"frequency\": 1809, \"value\": 33558}, \"115480\": {\"frequency\": 2566, \"value\": 115480}, \"131867\": {\"frequency\": 5235, \"value\": 131867}, \"23325\": {\"frequency\": 3205, \"value\": 23325}, \"19231\": {\"frequency\": 2223, \"value\": 19231}, \"72481\": {\"frequency\": 6861, \"value\": 72481}, \"4898\": {\"frequency\": 2086, \"value\": 4898}, \"2852\": {\"frequency\": 2673, \"value\": 2852}, \"11961\": {\"frequency\": 2182, \"value\": 11961}, \"41772\": {\"frequency\": 1963, \"value\": 41772}, \"103213\": {\"frequency\": 1707, \"value\": 103213}, \"101843\": {\"frequency\": 1851, \"value\": 101843}, \"152029\": {\"frequency\": 5106, \"value\": 152029}, \"86832\": {\"frequency\": 4100, \"value\": 86832}, \"90931\": {\"frequency\": 1819, \"value\": 90931}, \"56116\": {\"frequency\": 2227, \"value\": 56116}, \"82742\": {\"frequency\": 2760, \"value\": 82742}, \"202543\": {\"frequency\": 4817, \"value\": 202543}, \"76596\": {\"frequency\": 5116, \"value\": 76596}, \"43836\": {\"frequency\": 4270, \"value\": 43836}, \"831\": {\"frequency\": 1983, \"value\": 831}, \"47936\": {\"frequency\": 2428, \"value\": 47936}, \"27457\": {\"frequency\": 1867, \"value\": 27457}, \"97411\": {\"frequency\": 2082, \"value\": 97411}, \"123702\": {\"frequency\": 5604, \"value\": 123702}, \"25414\": {\"frequency\": 3579, \"value\": 25414}, \"4937\": {\"frequency\": 1978, \"value\": 4937}, \"131915\": {\"frequency\": 8858, \"value\": 131915}, \"88546\": {\"frequency\": 2396, \"value\": 88546}, \"12235\": {\"frequency\": 1842, \"value\": 12235}, \"118544\": {\"frequency\": 4021, \"value\": 118544}, \"140113\": {\"frequency\": 3341, \"value\": 140113}, \"88478\": {\"frequency\": 2016, \"value\": 88478}, \"97111\": {\"frequency\": 9313, \"value\": 97111}, \"131928\": {\"frequency\": 1977, \"value\": 131928}, \"133977\": {\"frequency\": 2920, \"value\": 133977}, \"107355\": {\"frequency\": 2060, \"value\": 107355}, \"7006\": {\"frequency\": 5848, \"value\": 7006}, \"62303\": {\"frequency\": 2438, \"value\": 62303}, \"133985\": {\"frequency\": 4112, \"value\": 133985}, \"82787\": {\"frequency\": 1885, \"value\": 82787}, \"50023\": {\"frequency\": 1843, \"value\": 50023}, \"5962\": {\"frequency\": 6555, \"value\": 5962}, \"13259\": {\"frequency\": 1763, \"value\": 13259}, \"17266\": {\"frequency\": 2021, \"value\": 17266}, \"187256\": {\"frequency\": 2482, \"value\": 187256}, \"74617\": {\"frequency\": 4699, \"value\": 74617}, \"103291\": {\"frequency\": 1688, \"value\": 103291}, \"40541\": {\"frequency\": 2103, \"value\": 40541}, \"39811\": {\"frequency\": 1768, \"value\": 39811}, \"205702\": {\"frequency\": 3165, \"value\": 205702}, \"39816\": {\"frequency\": 1743, \"value\": 39816}, \"31625\": {\"frequency\": 7828, \"value\": 31625}, \"907\": {\"frequency\": 7542, \"value\": 907}, \"82828\": {\"frequency\": 2727, \"value\": 82828}, \"66445\": {\"frequency\": 2657, \"value\": 66445}, \"17761\": {\"frequency\": 2849, \"value\": 17761}, \"2200\": {\"frequency\": 2518, \"value\": 2200}, \"2963\": {\"frequency\": 2222, \"value\": 2963}, \"111510\": {\"frequency\": 2732, \"value\": 111510}, \"15258\": {\"frequency\": 1865, \"value\": 15258}, \"220059\": {\"frequency\": 2288, \"value\": 220059}, \"43610\": {\"frequency\": 2246, \"value\": 43610}, \"93681\": {\"frequency\": 7552, \"value\": 93681}, \"45992\": {\"frequency\": 8949, \"value\": 45992}, \"13228\": {\"frequency\": 2228, \"value\": 13228}, \"33710\": {\"frequency\": 2464, \"value\": 33710}, \"78767\": {\"frequency\": 2000, \"value\": 78767}, \"36857\": {\"frequency\": 2586, \"value\": 36857}, \"76725\": {\"frequency\": 2303, \"value\": 76725}, \"25526\": {\"frequency\": 2184, \"value\": 25526}, \"205751\": {\"frequency\": 2109, \"value\": 205751}, \"156148\": {\"frequency\": 33389, \"value\": 156148}, \"146363\": {\"frequency\": 1825, \"value\": 146363}, \"80829\": {\"frequency\": 2419, \"value\": 80829}, \"23486\": {\"frequency\": 3766, \"value\": 23486}, \"213951\": {\"frequency\": 1733, \"value\": 213951}, \"203712\": {\"frequency\": 4128, \"value\": 203712}, \"40881\": {\"frequency\": 2342, \"value\": 40881}, \"99266\": {\"frequency\": 3269, \"value\": 99266}, \"125771\": {\"frequency\": 1779, \"value\": 125771}, \"41925\": {\"frequency\": 2666, \"value\": 41925}, \"216006\": {\"frequency\": 3826, \"value\": 216006}, \"3015\": {\"frequency\": 3151, \"value\": 3015}, \"86777\": {\"frequency\": 4164, \"value\": 86777}, \"108914\": {\"frequency\": 2202, \"value\": 108914}, \"16546\": {\"frequency\": 4408, \"value\": 16546}, \"68561\": {\"frequency\": 1861, \"value\": 68561}, \"41938\": {\"frequency\": 2355, \"value\": 41938}, \"173219\": {\"frequency\": 2676, \"value\": 173219}, \"56278\": {\"frequency\": 2396, \"value\": 56278}, \"66521\": {\"frequency\": 2223, \"value\": 66521}, \"68570\": {\"frequency\": 4618, \"value\": 68570}, \"27611\": {\"frequency\": 3101, \"value\": 27611}, \"42490\": {\"frequency\": 3799, \"value\": 42490}, \"185310\": {\"frequency\": 4354, \"value\": 185310}, \"162783\": {\"frequency\": 6653, \"value\": 162783}, \"213984\": {\"frequency\": 3150, \"value\": 213984}, \"62433\": {\"frequency\": 3537, \"value\": 62433}, \"7138\": {\"frequency\": 2741, \"value\": 7138}, \"12795\": {\"frequency\": 4757, \"value\": 12795}, \"46052\": {\"frequency\": 2286, \"value\": 46052}, \"21478\": {\"frequency\": 3089, \"value\": 21478}, \"63996\": {\"frequency\": 2275, \"value\": 63996}, \"87018\": {\"frequency\": 1857, \"value\": 87018}, \"78827\": {\"frequency\": 2261, \"value\": 78827}, \"70641\": {\"frequency\": 3207, \"value\": 70641}, \"3059\": {\"frequency\": 2125, \"value\": 3059}, \"93172\": {\"frequency\": 10584, \"value\": 93172}, \"109557\": {\"frequency\": 1891, \"value\": 109557}, \"17400\": {\"frequency\": 3142, \"value\": 17400}, \"21497\": {\"frequency\": 4488, \"value\": 21497}, \"189371\": {\"frequency\": 1983, \"value\": 189371}, \"188927\": {\"frequency\": 2063, \"value\": 188927}, \"38058\": {\"frequency\": 2356, \"value\": 38058}, \"54270\": {\"frequency\": 2088, \"value\": 54270}, \"58367\": {\"frequency\": 2693, \"value\": 58367}, \"11265\": {\"frequency\": 4334, \"value\": 11265}, \"82946\": {\"frequency\": 2032, \"value\": 82946}, \"121859\": {\"frequency\": 23755, \"value\": 121859}, \"1029\": {\"frequency\": 3618, \"value\": 1029}, \"51895\": {\"frequency\": 3391, \"value\": 51895}, \"215553\": {\"frequency\": 4016, \"value\": 215553}, \"101384\": {\"frequency\": 6831, \"value\": 101384}, \"171180\": {\"frequency\": 2941, \"value\": 171180}, \"58380\": {\"frequency\": 3089, \"value\": 58380}, \"109581\": {\"frequency\": 3066, \"value\": 109581}, \"193550\": {\"frequency\": 4073, \"value\": 193550}, \"39085\": {\"frequency\": 1907, \"value\": 39085}, \"78864\": {\"frequency\": 1886, \"value\": 78864}, \"5976\": {\"frequency\": 1941, \"value\": 5976}, \"82962\": {\"frequency\": 4540, \"value\": 82962}, \"56339\": {\"frequency\": 3744, \"value\": 56339}, \"115732\": {\"frequency\": 4243, \"value\": 115732}, \"89112\": {\"frequency\": 2993, \"value\": 89112}, \"187417\": {\"frequency\": 1700, \"value\": 187417}, \"158746\": {\"frequency\": 5191, \"value\": 158746}, \"58395\": {\"frequency\": 2074, \"value\": 58395}, \"87068\": {\"frequency\": 2652, \"value\": 87068}, \"3105\": {\"frequency\": 1823, \"value\": 3105}, \"121890\": {\"frequency\": 2447, \"value\": 121890}, \"97315\": {\"frequency\": 6689, \"value\": 97315}, \"70692\": {\"frequency\": 5514, \"value\": 70692}, \"29733\": {\"frequency\": 1732, \"value\": 29733}, \"50216\": {\"frequency\": 4253, \"value\": 50216}, \"117780\": {\"frequency\": 3732, \"value\": 117780}, \"134187\": {\"frequency\": 4369, \"value\": 134187}, \"44077\": {\"frequency\": 4210, \"value\": 44077}, \"15406\": {\"frequency\": 8260, \"value\": 15406}, \"44893\": {\"frequency\": 1901, \"value\": 44893}, \"44081\": {\"frequency\": 1779, \"value\": 44081}, \"7219\": {\"frequency\": 4686, \"value\": 7219}, \"70708\": {\"frequency\": 2001, \"value\": 70708}, \"168918\": {\"frequency\": 1739, \"value\": 168918}, \"3132\": {\"frequency\": 6661, \"value\": 3132}, \"93246\": {\"frequency\": 3516, \"value\": 93246}, \"199743\": {\"frequency\": 2459, \"value\": 199743}, \"40067\": {\"frequency\": 1839, \"value\": 40067}, \"177334\": {\"frequency\": 1927, \"value\": 177334}, \"130120\": {\"frequency\": 3656, \"value\": 130120}, \"72777\": {\"frequency\": 3388, \"value\": 72777}, \"7242\": {\"frequency\": 2463, \"value\": 7242}, \"113740\": {\"frequency\": 2980, \"value\": 113740}, \"56397\": {\"frequency\": 4032, \"value\": 56397}, \"19535\": {\"frequency\": 3844, \"value\": 19535}, \"27728\": {\"frequency\": 3455, \"value\": 27728}, \"93265\": {\"frequency\": 2867, \"value\": 93265}, \"109650\": {\"frequency\": 2421, \"value\": 109650}, \"1550\": {\"frequency\": 2574, \"value\": 1550}, \"96329\": {\"frequency\": 4987, \"value\": 96329}, \"143725\": {\"frequency\": 1802, \"value\": 143725}, \"5209\": {\"frequency\": 1970, \"value\": 5209}, \"189531\": {\"frequency\": 2067, \"value\": 189531}, \"191581\": {\"frequency\": 1895, \"value\": 191581}, \"126047\": {\"frequency\": 3773, \"value\": 126047}, \"156176\": {\"frequency\": 2336, \"value\": 156176}, \"97383\": {\"frequency\": 2299, \"value\": 97383}, \"58473\": {\"frequency\": 2149, \"value\": 58473}, \"205930\": {\"frequency\": 10811, \"value\": 205930}, \"54380\": {\"frequency\": 4719, \"value\": 54380}, \"168845\": {\"frequency\": 1962, \"value\": 168845}, \"72815\": {\"frequency\": 1954, \"value\": 72815}, \"76913\": {\"frequency\": 1788, \"value\": 76913}, \"175218\": {\"frequency\": 6248, \"value\": 175218}, \"83062\": {\"frequency\": 4315, \"value\": 83062}, \"64633\": {\"frequency\": 2011, \"value\": 64633}, \"132688\": {\"frequency\": 2359, \"value\": 132688}, \"31867\": {\"frequency\": 2074, \"value\": 31867}, \"31869\": {\"frequency\": 3432, \"value\": 31869}, \"54398\": {\"frequency\": 1952, \"value\": 54398}, \"177685\": {\"frequency\": 3638, \"value\": 177685}, \"9345\": {\"frequency\": 3636, \"value\": 9345}, \"113794\": {\"frequency\": 4672, \"value\": 113794}, \"25731\": {\"frequency\": 5596, \"value\": 25731}, \"181381\": {\"frequency\": 2909, \"value\": 181381}, \"128135\": {\"frequency\": 2829, \"value\": 128135}, \"62603\": {\"frequency\": 1995, \"value\": 62603}, \"105618\": {\"frequency\": 2689, \"value\": 105618}, \"99476\": {\"frequency\": 4475, \"value\": 99476}, \"193687\": {\"frequency\": 23663, \"value\": 193687}, \"152728\": {\"frequency\": 1975, \"value\": 152728}, \"83097\": {\"frequency\": 1994, \"value\": 83097}, \"119962\": {\"frequency\": 6219, \"value\": 119962}, \"38085\": {\"frequency\": 2515, \"value\": 38085}, \"21667\": {\"frequency\": 2734, \"value\": 21667}, \"52391\": {\"frequency\": 4556, \"value\": 52391}, \"33960\": {\"frequency\": 4578, \"value\": 33960}, \"201897\": {\"frequency\": 11003, \"value\": 201897}, \"27818\": {\"frequency\": 1959, \"value\": 27818}, \"51399\": {\"frequency\": 4039, \"value\": 51399}, \"74924\": {\"frequency\": 2727, \"value\": 74924}, \"130222\": {\"frequency\": 1776, \"value\": 130222}, \"181424\": {\"frequency\": 1953, \"value\": 181424}, \"31944\": {\"frequency\": 3775, \"value\": 31944}, \"122037\": {\"frequency\": 7373, \"value\": 122037}, \"76982\": {\"frequency\": 2337, \"value\": 76982}, \"137963\": {\"frequency\": 5855, \"value\": 137963}, \"120269\": {\"frequency\": 3664, \"value\": 120269}, \"9759\": {\"frequency\": 2485, \"value\": 9759}, \"105660\": {\"frequency\": 4162, \"value\": 105660}, \"26485\": {\"frequency\": 3250, \"value\": 26485}, \"185538\": {\"frequency\": 2275, \"value\": 185538}, \"72901\": {\"frequency\": 5265, \"value\": 72901}, \"79046\": {\"frequency\": 3293, \"value\": 79046}, \"134344\": {\"frequency\": 1956, \"value\": 134344}, \"93385\": {\"frequency\": 4751, \"value\": 93385}, \"81099\": {\"frequency\": 1880, \"value\": 81099}, \"74958\": {\"frequency\": 11715, \"value\": 74958}, \"88269\": {\"frequency\": 4272, \"value\": 88269}, \"26488\": {\"frequency\": 2828, \"value\": 26488}, \"77010\": {\"frequency\": 2429, \"value\": 77010}, \"103636\": {\"frequency\": 3087, \"value\": 103636}, \"95174\": {\"frequency\": 3817, \"value\": 95174}, \"111834\": {\"frequency\": 2082, \"value\": 111834}, \"58575\": {\"frequency\": 1996, \"value\": 58575}, \"162707\": {\"frequency\": 18224, \"value\": 162707}, \"126173\": {\"frequency\": 2369, \"value\": 126173}, \"98925\": {\"frequency\": 4102, \"value\": 98925}, \"181472\": {\"frequency\": 3447, \"value\": 181472}, \"140729\": {\"frequency\": 5082, \"value\": 140729}, \"66787\": {\"frequency\": 3228, \"value\": 66787}, \"11492\": {\"frequency\": 2335, \"value\": 11492}, \"132325\": {\"frequency\": 1948, \"value\": 132325}, \"91366\": {\"frequency\": 3648, \"value\": 91366}, \"50408\": {\"frequency\": 13449, \"value\": 50408}, \"38122\": {\"frequency\": 2242, \"value\": 38122}, \"106023\": {\"frequency\": 2304, \"value\": 106023}, \"77036\": {\"frequency\": 5051, \"value\": 77036}, \"89298\": {\"frequency\": 2998, \"value\": 89298}, \"12788\": {\"frequency\": 4008, \"value\": 12788}, \"91375\": {\"frequency\": 4175, \"value\": 91375}, \"122096\": {\"frequency\": 1962, \"value\": 122096}, \"72946\": {\"frequency\": 5158, \"value\": 72946}, \"23795\": {\"frequency\": 6025, \"value\": 23795}, \"111862\": {\"frequency\": 7942, \"value\": 111862}, \"97527\": {\"frequency\": 2019, \"value\": 97527}, \"105720\": {\"frequency\": 2477, \"value\": 105720}, \"38100\": {\"frequency\": 1891, \"value\": 38100}, \"99580\": {\"frequency\": 1718, \"value\": 99580}, \"13565\": {\"frequency\": 2181, \"value\": 13565}, \"152830\": {\"frequency\": 5042, \"value\": 152830}, \"107776\": {\"frequency\": 10675, \"value\": 107776}, \"113921\": {\"frequency\": 3213, \"value\": 113921}, \"134406\": {\"frequency\": 3198, \"value\": 134406}, \"140553\": {\"frequency\": 2146, \"value\": 140553}, \"173322\": {\"frequency\": 2761, \"value\": 173322}, \"3248\": {\"frequency\": 4122, \"value\": 3248}, \"44301\": {\"frequency\": 2305, \"value\": 44301}, \"29966\": {\"frequency\": 2050, \"value\": 29966}, \"109101\": {\"frequency\": 7515, \"value\": 109101}, \"64785\": {\"frequency\": 2468, \"value\": 64785}, \"93458\": {\"frequency\": 7294, \"value\": 93458}, \"9727\": {\"frequency\": 3346, \"value\": 9727}, \"163100\": {\"frequency\": 4509, \"value\": 163100}, \"66778\": {\"frequency\": 2327, \"value\": 66778}, \"77086\": {\"frequency\": 2239, \"value\": 77086}, \"46367\": {\"frequency\": 1701, \"value\": 46367}, \"80432\": {\"frequency\": 1808, \"value\": 80432}, \"68827\": {\"frequency\": 4226, \"value\": 68827}, \"128293\": {\"frequency\": 3372, \"value\": 128293}, \"36134\": {\"frequency\": 4642, \"value\": 36134}, \"46378\": {\"frequency\": 1946, \"value\": 46378}, \"137095\": {\"frequency\": 1792, \"value\": 137095}, \"132889\": {\"frequency\": 2456, \"value\": 132889}, \"91698\": {\"frequency\": 2878, \"value\": 91698}, \"117981\": {\"frequency\": 11628, \"value\": 117981}, \"27528\": {\"frequency\": 5812, \"value\": 27528}, \"118066\": {\"frequency\": 3730, \"value\": 118066}, \"36151\": {\"frequency\": 4133, \"value\": 36151}, \"204088\": {\"frequency\": 2280, \"value\": 204088}, \"30009\": {\"frequency\": 2316, \"value\": 30009}, \"128314\": {\"frequency\": 2010, \"value\": 128314}, \"27967\": {\"frequency\": 1842, \"value\": 27967}, \"83264\": {\"frequency\": 1783, \"value\": 83264}, \"15530\": {\"frequency\": 6011, \"value\": 15530}, \"173384\": {\"frequency\": 5371, \"value\": 173384}, \"83273\": {\"frequency\": 2484, \"value\": 83273}, \"204106\": {\"frequency\": 2818, \"value\": 204106}, \"30030\": {\"frequency\": 11329, \"value\": 30030}, \"30031\": {\"frequency\": 2329, \"value\": 30031}, \"120144\": {\"frequency\": 2052, \"value\": 120144}, \"19795\": {\"frequency\": 2140, \"value\": 19795}, \"128340\": {\"frequency\": 2048, \"value\": 128340}, \"27989\": {\"frequency\": 2980, \"value\": 27989}, \"101718\": {\"frequency\": 2692, \"value\": 101718}, \"75097\": {\"frequency\": 2232, \"value\": 75097}, \"150874\": {\"frequency\": 2135, \"value\": 150874}, \"84879\": {\"frequency\": 2656, \"value\": 84879}, \"3301\": {\"frequency\": 2253, \"value\": 3301}, \"132449\": {\"frequency\": 5589, \"value\": 132449}, \"44262\": {\"frequency\": 6793, \"value\": 44262}, \"114577\": {\"frequency\": 4244, \"value\": 114577}, \"120169\": {\"frequency\": 7773, \"value\": 120169}, \"16754\": {\"frequency\": 2710, \"value\": 16754}, \"9587\": {\"frequency\": 3235, \"value\": 9587}, \"19006\": {\"frequency\": 6780, \"value\": 19006}, \"97654\": {\"frequency\": 1897, \"value\": 97654}, \"97655\": {\"frequency\": 5686, \"value\": 97655}, \"58166\": {\"frequency\": 3221, \"value\": 58166}, \"29848\": {\"frequency\": 1989, \"value\": 29848}, \"155003\": {\"frequency\": 3050, \"value\": 155003}, \"130428\": {\"frequency\": 1937, \"value\": 130428}, \"68989\": {\"frequency\": 16601, \"value\": 68989}, \"208257\": {\"frequency\": 3089, \"value\": 208257}, \"71042\": {\"frequency\": 2953, \"value\": 71042}, \"89477\": {\"frequency\": 2763, \"value\": 89477}, \"50566\": {\"frequency\": 2426, \"value\": 50566}, \"165255\": {\"frequency\": 3325, \"value\": 165255}, \"118153\": {\"frequency\": 3594, \"value\": 118153}, \"171408\": {\"frequency\": 1788, \"value\": 171408}, \"73107\": {\"frequency\": 4640, \"value\": 73107}, \"36244\": {\"frequency\": 3313, \"value\": 36244}, \"44437\": {\"frequency\": 2731, \"value\": 44437}, \"216471\": {\"frequency\": 1845, \"value\": 216471}, \"48536\": {\"frequency\": 1920, \"value\": 48536}, \"85407\": {\"frequency\": 5157, \"value\": 85407}, \"189768\": {\"frequency\": 1797, \"value\": 189768}, \"75169\": {\"frequency\": 8251, \"value\": 75169}, \"40355\": {\"frequency\": 2808, \"value\": 40355}, \"33125\": {\"frequency\": 2792, \"value\": 33125}, \"107942\": {\"frequency\": 3813, \"value\": 107942}, \"69873\": {\"frequency\": 1759, \"value\": 69873}, \"134568\": {\"frequency\": 2848, \"value\": 134568}, \"173483\": {\"frequency\": 2979, \"value\": 173483}, \"112044\": {\"frequency\": 2410, \"value\": 112044}, \"132526\": {\"frequency\": 2045, \"value\": 132526}, \"208304\": {\"frequency\": 11602, \"value\": 208304}, \"9652\": {\"frequency\": 3246, \"value\": 9652}, \"112056\": {\"frequency\": 5215, \"value\": 112056}, \"40377\": {\"frequency\": 2583, \"value\": 40377}, \"67003\": {\"frequency\": 8039, \"value\": 67003}, \"97023\": {\"frequency\": 4961, \"value\": 97023}, \"35647\": {\"frequency\": 7384, \"value\": 35647}, \"79299\": {\"frequency\": 1736, \"value\": 79299}, \"77252\": {\"frequency\": 3910, \"value\": 77252}, \"89543\": {\"frequency\": 6470, \"value\": 89543}, \"21960\": {\"frequency\": 2049, \"value\": 21960}, \"65100\": {\"frequency\": 3244, \"value\": 65100}, \"89548\": {\"frequency\": 9543, \"value\": 89548}, \"164251\": {\"frequency\": 2263, \"value\": 164251}, \"40399\": {\"frequency\": 2837, \"value\": 40399}, \"9680\": {\"frequency\": 10566, \"value\": 9680}, \"115641\": {\"frequency\": 1869, \"value\": 115641}, \"56787\": {\"frequency\": 2517, \"value\": 56787}, \"165332\": {\"frequency\": 2790, \"value\": 165332}, \"30166\": {\"frequency\": 2039, \"value\": 30166}, \"120279\": {\"frequency\": 1917, \"value\": 120279}, \"21976\": {\"frequency\": 3228, \"value\": 21976}, \"69082\": {\"frequency\": 2260, \"value\": 69082}, \"107998\": {\"frequency\": 2566, \"value\": 107998}, \"169516\": {\"frequency\": 2618, \"value\": 169516}, \"210400\": {\"frequency\": 2106, \"value\": 210400}, \"143952\": {\"frequency\": 1848, \"value\": 143952}, \"62946\": {\"frequency\": 3567, \"value\": 62946}, \"11747\": {\"frequency\": 1779, \"value\": 11747}, \"26084\": {\"frequency\": 12874, \"value\": 26084}, \"34277\": {\"frequency\": 2541, \"value\": 34277}, \"85478\": {\"frequency\": 3791, \"value\": 85478}, \"54759\": {\"frequency\": 11252, \"value\": 54759}, \"148968\": {\"frequency\": 2420, \"value\": 148968}, \"113916\": {\"frequency\": 1934, \"value\": 113916}, \"125121\": {\"frequency\": 2371, \"value\": 125121}, \"58862\": {\"frequency\": 3193, \"value\": 58862}, \"58621\": {\"frequency\": 3038, \"value\": 58621}, \"89584\": {\"frequency\": 2368, \"value\": 89584}, \"7665\": {\"frequency\": 1942, \"value\": 7665}, \"97782\": {\"frequency\": 2302, \"value\": 97782}, \"79354\": {\"frequency\": 3692, \"value\": 79354}, \"7679\": {\"frequency\": 5577, \"value\": 7679}, \"50688\": {\"frequency\": 3412, \"value\": 50688}, \"65026\": {\"frequency\": 1937, \"value\": 65026}, \"63257\": {\"frequency\": 1860, \"value\": 63257}, \"103946\": {\"frequency\": 1755, \"value\": 103946}, \"208471\": {\"frequency\": 1772, \"value\": 208471}, \"144908\": {\"frequency\": 4395, \"value\": 144908}, \"37122\": {\"frequency\": 3318, \"value\": 37122}, \"122382\": {\"frequency\": 10655, \"value\": 122382}, \"1965\": {\"frequency\": 1874, \"value\": 1965}, \"74670\": {\"frequency\": 2881, \"value\": 74670}, \"127032\": {\"frequency\": 2090, \"value\": 127032}, \"34328\": {\"frequency\": 9480, \"value\": 34328}, \"1561\": {\"frequency\": 6014, \"value\": 1561}, \"32284\": {\"frequency\": 1990, \"value\": 32284}, \"216605\": {\"frequency\": 3466, \"value\": 216605}, \"88325\": {\"frequency\": 2228, \"value\": 88325}, \"173600\": {\"frequency\": 4234, \"value\": 173600}, \"13857\": {\"frequency\": 3979, \"value\": 13857}, \"5670\": {\"frequency\": 5227, \"value\": 5670}, \"1575\": {\"frequency\": 3250, \"value\": 1575}, \"7724\": {\"frequency\": 11670, \"value\": 7724}, \"120365\": {\"frequency\": 2374, \"value\": 120365}, \"5678\": {\"frequency\": 2015, \"value\": 5678}, \"95791\": {\"frequency\": 2178, \"value\": 95791}, \"119434\": {\"frequency\": 3519, \"value\": 119434}, \"118322\": {\"frequency\": 5521, \"value\": 118322}, \"79413\": {\"frequency\": 2106, \"value\": 79413}, \"40220\": {\"frequency\": 3655, \"value\": 40220}, \"60983\": {\"frequency\": 16181, \"value\": 60983}, \"3644\": {\"frequency\": 1965, \"value\": 3644}, \"81470\": {\"frequency\": 6183, \"value\": 81470}, \"183872\": {\"frequency\": 3329, \"value\": 183872}, \"73281\": {\"frequency\": 3151, \"value\": 73281}, \"208459\": {\"frequency\": 2184, \"value\": 208459}, \"65092\": {\"frequency\": 1994, \"value\": 65092}, \"7749\": {\"frequency\": 4361, \"value\": 7749}, \"149421\": {\"frequency\": 8119, \"value\": 149421}, \"13895\": {\"frequency\": 3597, \"value\": 13895}, \"132680\": {\"frequency\": 2847, \"value\": 132680}, \"159305\": {\"frequency\": 4100, \"value\": 159305}, \"79434\": {\"frequency\": 2591, \"value\": 79434}, \"101963\": {\"frequency\": 5136, \"value\": 101963}, \"104012\": {\"frequency\": 2322, \"value\": 104012}, \"138830\": {\"frequency\": 5314, \"value\": 138830}, \"1616\": {\"frequency\": 2275, \"value\": 1616}, \"175521\": {\"frequency\": 1856, \"value\": 175521}, \"167507\": {\"frequency\": 2059, \"value\": 167507}, \"22101\": {\"frequency\": 2206, \"value\": 22101}, \"63063\": {\"frequency\": 5592, \"value\": 63063}, \"126552\": {\"frequency\": 2004, \"value\": 126552}, \"81498\": {\"frequency\": 2870, \"value\": 81498}, \"113542\": {\"frequency\": 4915, \"value\": 113542}, \"46687\": {\"frequency\": 4741, \"value\": 46687}, \"5051\": {\"frequency\": 2987, \"value\": 5051}, \"151142\": {\"frequency\": 2008, \"value\": 151142}, \"34406\": {\"frequency\": 2497, \"value\": 34406}, \"47761\": {\"frequency\": 1844, \"value\": 47761}, \"83563\": {\"frequency\": 2189, \"value\": 83563}, \"99951\": {\"frequency\": 4052, \"value\": 99951}, \"46704\": {\"frequency\": 2150, \"value\": 46704}, \"157297\": {\"frequency\": 2000, \"value\": 157297}, \"104382\": {\"frequency\": 1738, \"value\": 104382}, \"5753\": {\"frequency\": 1851, \"value\": 5753}, \"26174\": {\"frequency\": 2756, \"value\": 26174}, \"34428\": {\"frequency\": 1793, \"value\": 34428}, \"38526\": {\"frequency\": 1956, \"value\": 38526}, \"9855\": {\"frequency\": 2486, \"value\": 9855}, \"328\": {\"frequency\": 10613, \"value\": 328}, \"36482\": {\"frequency\": 2549, \"value\": 36482}, \"122500\": {\"frequency\": 2540, \"value\": 122500}, \"61064\": {\"frequency\": 1982, \"value\": 61064}, \"11913\": {\"frequency\": 2767, \"value\": 11913}, \"151178\": {\"frequency\": 5351, \"value\": 151178}, \"20108\": {\"frequency\": 3633, \"value\": 20108}, \"97218\": {\"frequency\": 1759, \"value\": 97218}, \"107873\": {\"frequency\": 2787, \"value\": 107873}, \"83601\": {\"frequency\": 10166, \"value\": 83601}, \"69268\": {\"frequency\": 1919, \"value\": 69268}, \"192149\": {\"frequency\": 2086, \"value\": 192149}, \"140950\": {\"frequency\": 3252, \"value\": 140950}, \"38551\": {\"frequency\": 3601, \"value\": 38551}, \"183960\": {\"frequency\": 5368, \"value\": 183960}, \"26267\": {\"frequency\": 1995, \"value\": 26267}, \"54349\": {\"frequency\": 2339, \"value\": 54349}, \"9888\": {\"frequency\": 1849, \"value\": 9888}, \"81570\": {\"frequency\": 2254, \"value\": 81570}, \"198308\": {\"frequency\": 3882, \"value\": 198308}, \"170950\": {\"frequency\": 3569, \"value\": 170950}, \"26225\": {\"frequency\": 2553, \"value\": 26225}, \"24860\": {\"frequency\": 1780, \"value\": 24860}, \"40618\": {\"frequency\": 1782, \"value\": 40618}, \"76402\": {\"frequency\": 3475, \"value\": 76402}, \"211736\": {\"frequency\": 6782, \"value\": 211736}, \"116400\": {\"frequency\": 2062, \"value\": 116400}, \"110261\": {\"frequency\": 6634, \"value\": 110261}, \"93874\": {\"frequency\": 2095, \"value\": 93874}, \"134835\": {\"frequency\": 1787, \"value\": 134835}, \"118240\": {\"frequency\": 1986, \"value\": 118240}, \"179895\": {\"frequency\": 2341, \"value\": 179895}, \"1721\": {\"frequency\": 12986, \"value\": 1721}, \"114362\": {\"frequency\": 3869, \"value\": 114362}, \"214567\": {\"frequency\": 2185, \"value\": 214567}, \"30400\": {\"frequency\": 2991, \"value\": 30400}, \"95937\": {\"frequency\": 2520, \"value\": 95937}, \"16066\": {\"frequency\": 4094, \"value\": 16066}, \"93891\": {\"frequency\": 8835, \"value\": 93891}, \"22214\": {\"frequency\": 2185, \"value\": 22214}, \"99555\": {\"frequency\": 1800, \"value\": 99555}, \"97992\": {\"frequency\": 5718, \"value\": 97992}, \"110283\": {\"frequency\": 3398, \"value\": 110283}, \"28298\": {\"frequency\": 1738, \"value\": 28298}, \"48545\": {\"frequency\": 2243, \"value\": 48545}, \"186068\": {\"frequency\": 3354, \"value\": 186068}, \"156908\": {\"frequency\": 4150, \"value\": 156908}, \"23040\": {\"frequency\": 2588, \"value\": 23040}, \"50904\": {\"frequency\": 2708, \"value\": 50904}, \"216793\": {\"frequency\": 5071, \"value\": 216793}, \"63197\": {\"frequency\": 4008, \"value\": 63197}, \"180504\": {\"frequency\": 13484, \"value\": 180504}, \"38181\": {\"frequency\": 2209, \"value\": 38181}, \"110203\": {\"frequency\": 2261, \"value\": 110203}, \"61157\": {\"frequency\": 10001, \"value\": 61157}, \"24294\": {\"frequency\": 6711, \"value\": 24294}, \"173799\": {\"frequency\": 2731, \"value\": 173799}, \"177897\": {\"frequency\": 1946, \"value\": 177897}, \"30448\": {\"frequency\": 1875, \"value\": 30448}, \"114417\": {\"frequency\": 2568, \"value\": 114417}, \"136946\": {\"frequency\": 2448, \"value\": 136946}, \"155380\": {\"frequency\": 11403, \"value\": 155380}, \"24309\": {\"frequency\": 7054, \"value\": 24309}, \"69366\": {\"frequency\": 4046, \"value\": 69366}, \"110327\": {\"frequency\": 3998, \"value\": 110327}, \"38648\": {\"frequency\": 4328, \"value\": 38648}, \"71636\": {\"frequency\": 21278, \"value\": 71636}, \"102138\": {\"frequency\": 2745, \"value\": 102138}, \"63228\": {\"frequency\": 3657, \"value\": 63228}, \"75050\": {\"frequency\": 2166, \"value\": 75050}, \"89855\": {\"frequency\": 20705, \"value\": 89855}, \"140246\": {\"frequency\": 2304, \"value\": 140246}, \"89863\": {\"frequency\": 2214, \"value\": 89863}, \"102153\": {\"frequency\": 4020, \"value\": 102153}, \"45015\": {\"frequency\": 2029, \"value\": 45015}, \"112396\": {\"frequency\": 2773, \"value\": 112396}, \"202509\": {\"frequency\": 3996, \"value\": 202509}, \"145007\": {\"frequency\": 2906, \"value\": 145007}, \"132880\": {\"frequency\": 3367, \"value\": 132880}, \"206613\": {\"frequency\": 3546, \"value\": 206613}, \"64473\": {\"frequency\": 3407, \"value\": 64473}, \"208516\": {\"frequency\": 5088, \"value\": 208516}, \"146735\": {\"frequency\": 2991, \"value\": 146735}, \"7964\": {\"frequency\": 2302, \"value\": 7964}, \"20253\": {\"frequency\": 1925, \"value\": 20253}, \"34590\": {\"frequency\": 1669, \"value\": 34590}, \"120611\": {\"frequency\": 2649, \"value\": 120611}, \"22308\": {\"frequency\": 1942, \"value\": 22308}, \"61221\": {\"frequency\": 1784, \"value\": 61221}, \"71462\": {\"frequency\": 2924, \"value\": 71462}, \"7975\": {\"frequency\": 2366, \"value\": 7975}, \"37773\": {\"frequency\": 2716, \"value\": 37773}, \"77611\": {\"frequency\": 2031, \"value\": 77611}, \"194348\": {\"frequency\": 2188, \"value\": 194348}, \"83250\": {\"frequency\": 1739, \"value\": 83250}, \"159534\": {\"frequency\": 2553, \"value\": 159534}, \"80005\": {\"frequency\": 1802, \"value\": 80005}, \"132912\": {\"frequency\": 2311, \"value\": 132912}, \"124552\": {\"frequency\": 1860, \"value\": 124552}, \"42804\": {\"frequency\": 2723, \"value\": 42804}, \"142302\": {\"frequency\": 1838, \"value\": 142302}, \"65334\": {\"frequency\": 2055, \"value\": 65334}, \"22327\": {\"frequency\": 8215, \"value\": 22327}, \"30520\": {\"frequency\": 2812, \"value\": 30520}, \"67388\": {\"frequency\": 3402, \"value\": 67388}, \"83773\": {\"frequency\": 23123, \"value\": 83773}, \"40297\": {\"frequency\": 1828, \"value\": 40297}, \"67393\": {\"frequency\": 1896, \"value\": 67393}, \"104401\": {\"frequency\": 5400, \"value\": 104401}, \"6795\": {\"frequency\": 2226, \"value\": 6795}, \"159560\": {\"frequency\": 2004, \"value\": 159560}, \"96074\": {\"frequency\": 2332, \"value\": 96074}, \"12107\": {\"frequency\": 4120, \"value\": 12107}, \"47117\": {\"frequency\": 2265, \"value\": 47117}, \"26445\": {\"frequency\": 2364, \"value\": 26445}, \"12110\": {\"frequency\": 2826, \"value\": 12110}, \"208719\": {\"frequency\": 2384, \"value\": 208719}, \"83793\": {\"frequency\": 1668, \"value\": 83793}, \"209891\": {\"frequency\": 1828, \"value\": 209891}, \"115675\": {\"frequency\": 2960, \"value\": 115675}, \"75608\": {\"frequency\": 2131, \"value\": 75608}, \"214874\": {\"frequency\": 3361, \"value\": 214874}, \"106232\": {\"frequency\": 2111, \"value\": 106232}, \"40799\": {\"frequency\": 2962, \"value\": 40799}, \"8035\": {\"frequency\": 3818, \"value\": 8035}, \"165732\": {\"frequency\": 2318, \"value\": 165732}, \"85862\": {\"frequency\": 3507, \"value\": 85862}, \"54929\": {\"frequency\": 8518, \"value\": 54929}, \"207885\": {\"frequency\": 2894, \"value\": 207885}, \"110441\": {\"frequency\": 2356, \"value\": 110441}, \"110442\": {\"frequency\": 3538, \"value\": 110442}, \"100203\": {\"frequency\": 4334, \"value\": 100203}, \"208748\": {\"frequency\": 13463, \"value\": 208748}, \"216941\": {\"frequency\": 3026, \"value\": 216941}, \"11861\": {\"frequency\": 3398, \"value\": 11861}, \"18287\": {\"frequency\": 5359, \"value\": 18287}, \"92016\": {\"frequency\": 4267, \"value\": 92016}, \"151411\": {\"frequency\": 3747, \"value\": 151411}, \"12148\": {\"frequency\": 2130, \"value\": 12148}, \"67445\": {\"frequency\": 1935, \"value\": 67445}, \"48346\": {\"frequency\": 1816, \"value\": 48346}, \"113642\": {\"frequency\": 2416, \"value\": 113642}, \"118658\": {\"frequency\": 1740, \"value\": 118658}, \"38787\": {\"frequency\": 2603, \"value\": 38787}, \"83846\": {\"frequency\": 3094, \"value\": 83846}, \"102279\": {\"frequency\": 1695, \"value\": 102279}, \"87945\": {\"frequency\": 2948, \"value\": 87945}, \"49038\": {\"frequency\": 2123, \"value\": 49038}, \"210831\": {\"frequency\": 5541, \"value\": 210831}, \"110473\": {\"frequency\": 2419, \"value\": 110473}, \"133009\": {\"frequency\": 1801, \"value\": 133009}, \"71570\": {\"frequency\": 9691, \"value\": 71570}, \"1347\": {\"frequency\": 3148, \"value\": 1347}, \"6036\": {\"frequency\": 11617, \"value\": 6036}, \"57238\": {\"frequency\": 3347, \"value\": 57238}, \"122775\": {\"frequency\": 2226, \"value\": 122775}, \"102297\": {\"frequency\": 3386, \"value\": 102297}, \"130970\": {\"frequency\": 5939, \"value\": 130970}, \"118687\": {\"frequency\": 2759, \"value\": 118687}, \"52891\": {\"frequency\": 3593, \"value\": 52891}, \"10148\": {\"frequency\": 12453, \"value\": 10148}, \"94117\": {\"frequency\": 4776, \"value\": 94117}, \"26534\": {\"frequency\": 2597, \"value\": 26534}, \"79784\": {\"frequency\": 2180, \"value\": 79784}, \"51868\": {\"frequency\": 2710, \"value\": 51868}, \"20397\": {\"frequency\": 1802, \"value\": 20397}, \"92078\": {\"frequency\": 5031, \"value\": 92078}, \"85936\": {\"frequency\": 1939, \"value\": 85936}, \"47025\": {\"frequency\": 3211, \"value\": 47025}, \"14258\": {\"frequency\": 11069, \"value\": 14258}, \"135161\": {\"frequency\": 7362, \"value\": 135161}, \"22856\": {\"frequency\": 2491, \"value\": 22856}, \"114613\": {\"frequency\": 6427, \"value\": 114613}, \"71606\": {\"frequency\": 2945, \"value\": 71606}, \"38839\": {\"frequency\": 2022, \"value\": 38839}, \"102328\": {\"frequency\": 13286, \"value\": 102328}, \"36793\": {\"frequency\": 4919, \"value\": 36793}, \"1978\": {\"frequency\": 2130, \"value\": 1978}, \"53122\": {\"frequency\": 3101, \"value\": 53122}, \"159680\": {\"frequency\": 9271, \"value\": 159680}, \"108497\": {\"frequency\": 2702, \"value\": 108497}, \"104387\": {\"frequency\": 2542, \"value\": 104387}, \"84765\": {\"frequency\": 2074, \"value\": 84765}, \"200645\": {\"frequency\": 1724, \"value\": 200645}, \"55238\": {\"frequency\": 2740, \"value\": 55238}, \"32711\": {\"frequency\": 3726, \"value\": 32711}, \"74263\": {\"frequency\": 3067, \"value\": 74263}, \"122827\": {\"frequency\": 4199, \"value\": 122827}, \"126924\": {\"frequency\": 6297, \"value\": 126924}, \"26274\": {\"frequency\": 3141, \"value\": 26274}, \"179192\": {\"frequency\": 15611, \"value\": 179192}, \"38868\": {\"frequency\": 2409, \"value\": 38868}, \"210903\": {\"frequency\": 3306, \"value\": 210903}, \"208856\": {\"frequency\": 4176, \"value\": 208856}, \"147383\": {\"frequency\": 3910, \"value\": 147383}, \"79835\": {\"frequency\": 2270, \"value\": 79835}, \"176092\": {\"frequency\": 1880, \"value\": 176092}, \"74746\": {\"frequency\": 2450, \"value\": 74746}, \"79839\": {\"frequency\": 2968, \"value\": 79839}, \"59363\": {\"frequency\": 3276, \"value\": 59363}, \"75519\": {\"frequency\": 3550, \"value\": 75519}, \"88038\": {\"frequency\": 2021, \"value\": 88038}, \"126956\": {\"frequency\": 1856, \"value\": 126956}, \"65854\": {\"frequency\": 4554, \"value\": 65854}, \"16369\": {\"frequency\": 2254, \"value\": 16369}, \"124915\": {\"frequency\": 3044, \"value\": 124915}, \"20468\": {\"frequency\": 2138, \"value\": 20468}, \"149161\": {\"frequency\": 2897, \"value\": 149161}, \"194553\": {\"frequency\": 14366, \"value\": 194553}, \"162809\": {\"frequency\": 1844, \"value\": 162809}, \"126293\": {\"frequency\": 8289, \"value\": 126293}}, \"mean\": 101364.44333421248}, \"user_id\": {\"std\": 38762.105972973535, \"complete\": true, \"min\": 1.0, \"max\": 135359.0, \"quantile\": [1.0, 1223.0, 2659.0, 4075.0, 5341.0, 6960.0, 8262.0, 9831.0, 11187.0, 12546.0, 14205.0, 15738.0, 15738.0, 17618.0, 19488.0, 20672.0, 22359.0, 23956.0, 25272.0, 26776.0, 27895.0, 28997.0, 31237.0, 32314.0, 33467.0, 34650.0, 36076.0, 37612.0, 38970.0, 40491.0, 41865.0, 43147.0, 44454.0, 45861.0, 47103.0, 48396.0, 50029.0, 51632.0, 51632.0, 53303.0, 55422.0, 56182.0, 57710.0, 58791.0, 60016.0, 61064.0, 63162.0, 64232.0, 65350.0, 66379.0, 67928.0, 69269.0, 70712.0, 72114.0, 73399.0, 74514.0, 75801.0, 76897.0, 78203.0, 79471.0, 80672.0, 82272.0, 83929.0, 85408.0, 86915.0, 87689.0, 88462.0, 89789.0, 90859.0, 92247.0, 94444.0, 95510.0, 96729.0, 97921.0, 99070.0, 101025.0, 102349.0, 103799.0, 105210.0, 106532.0, 107856.0, 109166.0, 110540.0, 111973.0, 113478.0, 114410.0, 116004.0, 117544.0, 119263.0, 120801.0, 121713.0, 123309.0, 124673.0, 125982.0, 127135.0, 128802.0, 129836.0, 130850.0, 131976.0, 134288.0, 135359.0], \"median\": 67928.0, \"numeric\": true, \"num_unique\": 135585, \"num_undefined\": 0, \"var\": 1502500859.4600308, \"progress\": 1.0, \"size\": 17359346, \"frequent_items\": {\"55297\": {\"frequency\": 5228, \"value\": 55297}, \"74411\": {\"frequency\": 10440, \"value\": 74411}, \"124929\": {\"frequency\": 1754, \"value\": 124929}, \"9\": {\"frequency\": 3521, \"value\": 9}, \"129367\": {\"frequency\": 1572, \"value\": 129367}, \"55309\": {\"frequency\": 2116, \"value\": 55309}, \"34831\": {\"frequency\": 1812, \"value\": 34831}, \"43030\": {\"frequency\": 7140, \"value\": 43030}, \"40983\": {\"frequency\": 2651, \"value\": 40983}, \"75801\": {\"frequency\": 6007, \"value\": 75801}, \"47135\": {\"frequency\": 4206, \"value\": 47135}, \"24611\": {\"frequency\": 2191, \"value\": 24611}, \"116061\": {\"frequency\": 4076, \"value\": 116061}, \"116784\": {\"frequency\": 6799, \"value\": 116784}, \"7162\": {\"frequency\": 2928, \"value\": 7162}, \"122930\": {\"frequency\": 1695, \"value\": 122930}, \"81972\": {\"frequency\": 2623, \"value\": 81972}, \"26677\": {\"frequency\": 2051, \"value\": 26677}, \"92231\": {\"frequency\": 7388, \"value\": 92231}, \"57416\": {\"frequency\": 3393, \"value\": 57416}, \"98378\": {\"frequency\": 5593, \"value\": 98378}, \"75852\": {\"frequency\": 1852, \"value\": 75852}, \"88143\": {\"frequency\": 1869, \"value\": 88143}, \"77361\": {\"frequency\": 2378, \"value\": 77361}, \"92247\": {\"frequency\": 2233, \"value\": 92247}, \"102415\": {\"frequency\": 1877, \"value\": 102415}, \"90204\": {\"frequency\": 4354, \"value\": 90204}, \"99003\": {\"frequency\": 3617, \"value\": 99003}, \"18534\": {\"frequency\": 3085, \"value\": 18534}, \"121873\": {\"frequency\": 4378, \"value\": 121873}, \"135281\": {\"frequency\": 5882, \"value\": 135281}, \"68969\": {\"frequency\": 2352, \"value\": 68969}, \"63609\": {\"frequency\": 2763, \"value\": 63609}, \"114810\": {\"frequency\": 6508, \"value\": 114810}, \"86139\": {\"frequency\": 2848, \"value\": 86139}, \"30850\": {\"frequency\": 6352, \"value\": 30850}, \"43141\": {\"frequency\": 3027, \"value\": 43141}, \"134\": {\"frequency\": 5632, \"value\": 134}, \"28810\": {\"frequency\": 2215, \"value\": 28810}, \"43147\": {\"frequency\": 9028, \"value\": 43147}, \"28817\": {\"frequency\": 1674, \"value\": 28817}, \"61587\": {\"frequency\": 4010, \"value\": 61587}, \"133268\": {\"frequency\": 4734, \"value\": 133268}, \"26990\": {\"frequency\": 2236, \"value\": 26990}, \"133145\": {\"frequency\": 2916, \"value\": 133145}, \"2200\": {\"frequency\": 2034, \"value\": 2200}, \"90820\": {\"frequency\": 2189, \"value\": 90820}, \"90268\": {\"frequency\": 1908, \"value\": 90268}, \"102561\": {\"frequency\": 2637, \"value\": 102561}, \"123985\": {\"frequency\": 4841, \"value\": 123985}, \"90280\": {\"frequency\": 25042, \"value\": 90280}, \"59565\": {\"frequency\": 1813, \"value\": 59565}, \"120520\": {\"frequency\": 5899, \"value\": 120520}, \"10422\": {\"frequency\": 7176, \"value\": 10422}, \"96969\": {\"frequency\": 2016, \"value\": 96969}, \"106684\": {\"frequency\": 2007, \"value\": 106684}, \"9930\": {\"frequency\": 2701, \"value\": 9930}, \"22901\": {\"frequency\": 6128, \"value\": 22901}, \"20672\": {\"frequency\": 3303, \"value\": 20672}, \"71873\": {\"frequency\": 10210, \"value\": 71873}, \"127171\": {\"frequency\": 2118, \"value\": 127171}, \"28869\": {\"frequency\": 2893, \"value\": 28869}, \"73420\": {\"frequency\": 2833, \"value\": 73420}, \"59596\": {\"frequency\": 8512, \"value\": 59596}, \"63693\": {\"frequency\": 6527, \"value\": 63693}, \"59598\": {\"frequency\": 3312, \"value\": 59598}, \"47315\": {\"frequency\": 2739, \"value\": 47315}, \"53460\": {\"frequency\": 1859, \"value\": 53460}, \"129237\": {\"frequency\": 7432, \"value\": 129237}, \"10617\": {\"frequency\": 2871, \"value\": 10617}, \"104664\": {\"frequency\": 3575, \"value\": 104664}, \"59609\": {\"frequency\": 2189, \"value\": 59609}, \"90332\": {\"frequency\": 2692, \"value\": 90332}, \"720\": {\"frequency\": 3051, \"value\": 720}, \"80098\": {\"frequency\": 4948, \"value\": 80098}, \"53480\": {\"frequency\": 1719, \"value\": 53480}, \"73084\": {\"frequency\": 7004, \"value\": 73084}, \"14573\": {\"frequency\": 2064, \"value\": 14573}, \"100596\": {\"frequency\": 2975, \"value\": 100596}, \"106743\": {\"frequency\": 2243, \"value\": 106743}, \"2296\": {\"frequency\": 4804, \"value\": 2296}, \"251\": {\"frequency\": 2700, \"value\": 251}, \"2304\": {\"frequency\": 2558, \"value\": 2304}, \"96516\": {\"frequency\": 1777, \"value\": 96516}, \"100737\": {\"frequency\": 3523, \"value\": 100737}, \"104712\": {\"frequency\": 8076, \"value\": 104712}, \"110862\": {\"frequency\": 3077, \"value\": 110862}, \"16656\": {\"frequency\": 4311, \"value\": 16656}, \"110866\": {\"frequency\": 1699, \"value\": 110866}, \"121114\": {\"frequency\": 14187, \"value\": 121114}, \"31003\": {\"frequency\": 3724, \"value\": 31003}, \"74013\": {\"frequency\": 3800, \"value\": 74013}, \"31007\": {\"frequency\": 4306, \"value\": 31007}, \"120880\": {\"frequency\": 1742, \"value\": 120880}, \"114979\": {\"frequency\": 4859, \"value\": 114979}, \"33060\": {\"frequency\": 2188, \"value\": 33060}, \"127270\": {\"frequency\": 2667, \"value\": 127270}, \"116444\": {\"frequency\": 1980, \"value\": 116444}, \"102701\": {\"frequency\": 4230, \"value\": 102701}, \"33070\": {\"frequency\": 2064, \"value\": 33070}, \"57650\": {\"frequency\": 1909, \"value\": 57650}, \"28584\": {\"frequency\": 7341, \"value\": 28584}, \"98280\": {\"frequency\": 2175, \"value\": 98280}, \"70708\": {\"frequency\": 2995, \"value\": 70708}, \"100667\": {\"frequency\": 5908, \"value\": 100667}, \"43330\": {\"frequency\": 2083, \"value\": 43330}, \"76099\": {\"frequency\": 3875, \"value\": 76099}, \"110916\": {\"frequency\": 3267, \"value\": 110916}, \"325\": {\"frequency\": 2135, \"value\": 325}, \"49478\": {\"frequency\": 2749, \"value\": 49478}, \"94535\": {\"frequency\": 5770, \"value\": 94535}, \"126991\": {\"frequency\": 4016, \"value\": 126991}, \"125257\": {\"frequency\": 1630, \"value\": 125257}, \"74061\": {\"frequency\": 8140, \"value\": 74061}, \"12623\": {\"frequency\": 1970, \"value\": 12623}, \"110929\": {\"frequency\": 2166, \"value\": 110929}, \"20818\": {\"frequency\": 2130, \"value\": 20818}, \"67923\": {\"frequency\": 2804, \"value\": 67923}, \"57685\": {\"frequency\": 3310, \"value\": 57685}, \"92503\": {\"frequency\": 3531, \"value\": 92503}, \"12634\": {\"frequency\": 2715, \"value\": 12634}, \"82272\": {\"frequency\": 11860, \"value\": 82272}, \"55650\": {\"frequency\": 7772, \"value\": 55650}, \"84323\": {\"frequency\": 2046, \"value\": 84323}, \"53605\": {\"frequency\": 1777, \"value\": 53605}, \"94566\": {\"frequency\": 2113, \"value\": 94566}, \"119144\": {\"frequency\": 2156, \"value\": 119144}, \"364\": {\"frequency\": 2009, \"value\": 364}, \"29038\": {\"frequency\": 4049, \"value\": 29038}, \"131439\": {\"frequency\": 6881, \"value\": 131439}, \"76179\": {\"frequency\": 4016, \"value\": 76179}, \"24949\": {\"frequency\": 5537, \"value\": 24949}, \"76153\": {\"frequency\": 8236, \"value\": 76153}, \"61818\": {\"frequency\": 2386, \"value\": 61818}, \"78203\": {\"frequency\": 7345, \"value\": 78203}, \"119165\": {\"frequency\": 3038, \"value\": 119165}, \"76158\": {\"frequency\": 2290, \"value\": 76158}, \"14721\": {\"frequency\": 2043, \"value\": 14721}, \"82313\": {\"frequency\": 2331, \"value\": 82313}, \"70031\": {\"frequency\": 2160, \"value\": 70031}, \"96656\": {\"frequency\": 3951, \"value\": 96656}, \"67987\": {\"frequency\": 1851, \"value\": 67987}, \"125335\": {\"frequency\": 2400, \"value\": 125335}, \"84376\": {\"frequency\": 1730, \"value\": 84376}, \"47516\": {\"frequency\": 4002, \"value\": 47516}, \"76189\": {\"frequency\": 4358, \"value\": 76189}, \"6558\": {\"frequency\": 1966, \"value\": 6558}, \"86431\": {\"frequency\": 7677, \"value\": 86431}, \"70056\": {\"frequency\": 3745, \"value\": 70056}, \"90524\": {\"frequency\": 4475, \"value\": 90524}, \"130802\": {\"frequency\": 5746, \"value\": 130802}, \"127406\": {\"frequency\": 1666, \"value\": 127406}, \"29103\": {\"frequency\": 2437, \"value\": 29103}, \"51632\": {\"frequency\": 3903, \"value\": 51632}, \"135240\": {\"frequency\": 2016, \"value\": 135240}, \"90526\": {\"frequency\": 2322, \"value\": 90526}, \"82369\": {\"frequency\": 3403, \"value\": 82369}, \"68035\": {\"frequency\": 3508, \"value\": 68035}, \"6605\": {\"frequency\": 3040, \"value\": 6605}, \"133582\": {\"frequency\": 3270, \"value\": 133582}, \"82383\": {\"frequency\": 2249, \"value\": 82383}, \"115152\": {\"frequency\": 3608, \"value\": 115152}, \"86010\": {\"frequency\": 4527, \"value\": 86010}, \"25044\": {\"frequency\": 3239, \"value\": 25044}, \"20949\": {\"frequency\": 2225, \"value\": 20949}, \"129494\": {\"frequency\": 2984, \"value\": 129494}, \"25047\": {\"frequency\": 3448, \"value\": 25047}, \"133199\": {\"frequency\": 6510, \"value\": 133199}, \"102877\": {\"frequency\": 1756, \"value\": 102877}, \"41439\": {\"frequency\": 1973, \"value\": 41439}, \"10720\": {\"frequency\": 10941, \"value\": 10720}, \"127458\": {\"frequency\": 5893, \"value\": 127458}, \"57827\": {\"frequency\": 2614, \"value\": 57827}, \"96743\": {\"frequency\": 1969, \"value\": 96743}, \"121323\": {\"frequency\": 2236, \"value\": 121323}, \"72172\": {\"frequency\": 3077, \"value\": 72172}, \"59889\": {\"frequency\": 1891, \"value\": 59889}, \"45555\": {\"frequency\": 1805, \"value\": 45555}, \"115113\": {\"frequency\": 3126, \"value\": 115113}, \"6651\": {\"frequency\": 5260, \"value\": 6651}, \"49664\": {\"frequency\": 3253, \"value\": 49664}, \"84482\": {\"frequency\": 1886, \"value\": 84482}, \"117252\": {\"frequency\": 8166, \"value\": 117252}, \"116427\": {\"frequency\": 1906, \"value\": 116427}, \"72205\": {\"frequency\": 2035, \"value\": 72205}, \"82446\": {\"frequency\": 3506, \"value\": 82446}, \"4627\": {\"frequency\": 2453, \"value\": 4627}, \"74270\": {\"frequency\": 4108, \"value\": 74270}, \"43781\": {\"frequency\": 4028, \"value\": 43781}, \"129568\": {\"frequency\": 2966, \"value\": 129568}, \"64034\": {\"frequency\": 1625, \"value\": 64034}, \"12836\": {\"frequency\": 5000, \"value\": 12836}, \"104997\": {\"frequency\": 2525, \"value\": 104997}, \"119900\": {\"frequency\": 2286, \"value\": 119900}, \"51755\": {\"frequency\": 2822, \"value\": 51755}, \"88625\": {\"frequency\": 2330, \"value\": 88625}, \"47672\": {\"frequency\": 2906, \"value\": 47672}, \"4667\": {\"frequency\": 5968, \"value\": 4667}, \"35393\": {\"frequency\": 2087, \"value\": 35393}, \"31302\": {\"frequency\": 3204, \"value\": 31302}, \"4679\": {\"frequency\": 2449, \"value\": 4679}, \"62025\": {\"frequency\": 3829, \"value\": 62025}, \"131658\": {\"frequency\": 2204, \"value\": 131658}, \"57931\": {\"frequency\": 1813, \"value\": 57931}, \"129612\": {\"frequency\": 2685, \"value\": 129612}, \"79331\": {\"frequency\": 2917, \"value\": 79331}, \"107092\": {\"frequency\": 3017, \"value\": 107092}, \"88664\": {\"frequency\": 1835, \"value\": 88664}, \"88665\": {\"frequency\": 4363, \"value\": 88665}, \"29274\": {\"frequency\": 2040, \"value\": 29274}, \"57947\": {\"frequency\": 3015, \"value\": 57947}, \"33375\": {\"frequency\": 2113, \"value\": 33375}, \"6754\": {\"frequency\": 2710, \"value\": 6754}, \"86627\": {\"frequency\": 2262, \"value\": 86627}, \"6756\": {\"frequency\": 2230, \"value\": 6756}, \"66158\": {\"frequency\": 13939, \"value\": 66158}, \"113264\": {\"frequency\": 3903, \"value\": 113264}, \"33394\": {\"frequency\": 2863, \"value\": 33394}, \"70259\": {\"frequency\": 2226, \"value\": 70259}, \"68212\": {\"frequency\": 2047, \"value\": 68212}, \"125557\": {\"frequency\": 3902, \"value\": 125557}, \"53879\": {\"frequency\": 1901, \"value\": 53879}, \"55931\": {\"frequency\": 3109, \"value\": 55931}, \"19068\": {\"frequency\": 3386, \"value\": 19068}, \"70269\": {\"frequency\": 2579, \"value\": 70269}, \"45697\": {\"frequency\": 2084, \"value\": 45697}, \"39555\": {\"frequency\": 9320, \"value\": 39555}, \"88710\": {\"frequency\": 2178, \"value\": 88710}, \"119434\": {\"frequency\": 3774, \"value\": 119434}, \"14988\": {\"frequency\": 1934, \"value\": 14988}, \"94861\": {\"frequency\": 2805, \"value\": 94861}, \"62099\": {\"frequency\": 2595, \"value\": 62099}, \"51860\": {\"frequency\": 2958, \"value\": 51860}, \"125589\": {\"frequency\": 3207, \"value\": 125589}, \"74398\": {\"frequency\": 1968, \"value\": 74398}, \"60063\": {\"frequency\": 3144, \"value\": 60063}, \"53920\": {\"frequency\": 1743, \"value\": 53920}, \"80545\": {\"frequency\": 3632, \"value\": 80545}, \"86691\": {\"frequency\": 1787, \"value\": 86691}, \"19108\": {\"frequency\": 1814, \"value\": 19108}, \"64169\": {\"frequency\": 1731, \"value\": 64169}, \"94891\": {\"frequency\": 2383, \"value\": 94891}, \"70324\": {\"frequency\": 1855, \"value\": 70324}, \"17078\": {\"frequency\": 2268, \"value\": 17078}, \"33467\": {\"frequency\": 2828, \"value\": 33467}, \"60096\": {\"frequency\": 2029, \"value\": 60096}, \"8897\": {\"frequency\": 3077, \"value\": 8897}, \"83403\": {\"frequency\": 2334, \"value\": 83403}, \"27332\": {\"frequency\": 15872, \"value\": 27332}, \"124022\": {\"frequency\": 2044, \"value\": 124022}, \"45768\": {\"frequency\": 3277, \"value\": 45768}, \"62153\": {\"frequency\": 2603, \"value\": 62153}, \"41674\": {\"frequency\": 5640, \"value\": 41674}, \"41675\": {\"frequency\": 5901, \"value\": 41675}, \"45772\": {\"frequency\": 5012, \"value\": 45772}, \"35533\": {\"frequency\": 5201, \"value\": 35533}, \"19150\": {\"frequency\": 1619, \"value\": 19150}, \"15056\": {\"frequency\": 4888, \"value\": 15056}, \"43729\": {\"frequency\": 2237, \"value\": 43729}, \"121556\": {\"frequency\": 7939, \"value\": 121556}, \"76503\": {\"frequency\": 8179, \"value\": 76503}, \"129753\": {\"frequency\": 7954, \"value\": 129753}, \"10978\": {\"frequency\": 2468, \"value\": 10978}, \"47844\": {\"frequency\": 1824, \"value\": 47844}, \"107238\": {\"frequency\": 6154, \"value\": 107238}, \"115431\": {\"frequency\": 1610, \"value\": 115431}, \"68332\": {\"frequency\": 2764, \"value\": 68332}, \"60359\": {\"frequency\": 3027, \"value\": 60359}, \"72433\": {\"frequency\": 1805, \"value\": 72433}, \"113395\": {\"frequency\": 5878, \"value\": 113395}, \"56052\": {\"frequency\": 1640, \"value\": 56052}, \"757\": {\"frequency\": 2552, \"value\": 757}, \"105210\": {\"frequency\": 2671, \"value\": 105210}, \"56061\": {\"frequency\": 1940, \"value\": 56061}, \"105214\": {\"frequency\": 1935, \"value\": 105214}, \"109311\": {\"frequency\": 2725, \"value\": 109311}, \"66304\": {\"frequency\": 2279, \"value\": 66304}, \"21253\": {\"frequency\": 1716, \"value\": 21253}, \"76550\": {\"frequency\": 1899, \"value\": 76550}, \"77954\": {\"frequency\": 3207, \"value\": 77954}, \"52013\": {\"frequency\": 4089, \"value\": 52013}, \"84752\": {\"frequency\": 16667, \"value\": 84752}, \"74514\": {\"frequency\": 2288, \"value\": 74514}, \"101507\": {\"frequency\": 3782, \"value\": 101507}, \"37654\": {\"frequency\": 3943, \"value\": 37654}, \"62357\": {\"frequency\": 1663, \"value\": 62357}, \"64286\": {\"frequency\": 2733, \"value\": 64286}, \"109346\": {\"frequency\": 3805, \"value\": 109346}, \"66344\": {\"frequency\": 3773, \"value\": 66344}, \"4906\": {\"frequency\": 2637, \"value\": 4906}, \"60205\": {\"frequency\": 3830, \"value\": 60205}, \"56114\": {\"frequency\": 2349, \"value\": 56114}, \"95028\": {\"frequency\": 4442, \"value\": 95028}, \"92981\": {\"frequency\": 1740, \"value\": 92981}, \"33591\": {\"frequency\": 3107, \"value\": 33591}, \"62264\": {\"frequency\": 2013, \"value\": 62264}, \"14815\": {\"frequency\": 2282, \"value\": 14815}, \"103232\": {\"frequency\": 2395, \"value\": 103232}, \"68417\": {\"frequency\": 1737, \"value\": 68417}, \"123714\": {\"frequency\": 3530, \"value\": 123714}, \"2886\": {\"frequency\": 2060, \"value\": 2886}, \"66376\": {\"frequency\": 1529, \"value\": 66376}, \"15180\": {\"frequency\": 6697, \"value\": 15180}, \"29518\": {\"frequency\": 1518, \"value\": 29518}, \"99152\": {\"frequency\": 1482, \"value\": 99152}, \"9041\": {\"frequency\": 2246, \"value\": 9041}, \"88915\": {\"frequency\": 2768, \"value\": 88915}, \"13145\": {\"frequency\": 4424, \"value\": 13145}, \"35674\": {\"frequency\": 3147, \"value\": 35674}, \"13148\": {\"frequency\": 1915, \"value\": 13148}, \"64351\": {\"frequency\": 4912, \"value\": 64351}, \"109414\": {\"frequency\": 2172, \"value\": 109414}, \"37735\": {\"frequency\": 2772, \"value\": 37735}, \"21352\": {\"frequency\": 4112, \"value\": 21352}, \"879\": {\"frequency\": 1814, \"value\": 879}, \"76658\": {\"frequency\": 2568, \"value\": 76658}, \"39796\": {\"frequency\": 1872, \"value\": 39796}, \"56182\": {\"frequency\": 2306, \"value\": 56182}, \"123600\": {\"frequency\": 2292, \"value\": 123600}, \"33662\": {\"frequency\": 2859, \"value\": 33662}, \"52707\": {\"frequency\": 4058, \"value\": 52707}, \"31620\": {\"frequency\": 1875, \"value\": 31620}, \"119685\": {\"frequency\": 1843, \"value\": 119685}, \"60295\": {\"frequency\": 5365, \"value\": 60295}, \"131976\": {\"frequency\": 17487, \"value\": 131976}, \"115596\": {\"frequency\": 1749, \"value\": 115596}, \"80783\": {\"frequency\": 4334, \"value\": 80783}, \"84120\": {\"frequency\": 2170, \"value\": 84120}, \"15253\": {\"frequency\": 2319, \"value\": 15253}, \"130201\": {\"frequency\": 1474, \"value\": 130201}, \"27546\": {\"frequency\": 3737, \"value\": 27546}, \"78756\": {\"frequency\": 6462, \"value\": 78756}, \"117669\": {\"frequency\": 1763, \"value\": 117669}, \"80806\": {\"frequency\": 1849, \"value\": 80806}, \"2983\": {\"frequency\": 2219, \"value\": 2983}, \"15272\": {\"frequency\": 3180, \"value\": 15272}, \"86957\": {\"frequency\": 2786, \"value\": 86957}, \"123823\": {\"frequency\": 7279, \"value\": 123823}, \"35760\": {\"frequency\": 4976, \"value\": 35760}, \"93105\": {\"frequency\": 1779, \"value\": 93105}, \"101298\": {\"frequency\": 4050, \"value\": 101298}, \"11187\": {\"frequency\": 1823, \"value\": 11187}, \"115636\": {\"frequency\": 2046, \"value\": 115636}, \"64438\": {\"frequency\": 5856, \"value\": 64438}, \"37816\": {\"frequency\": 1967, \"value\": 37816}, \"117698\": {\"frequency\": 2781, \"value\": 117698}, \"66503\": {\"frequency\": 6472, \"value\": 66503}, \"25545\": {\"frequency\": 5080, \"value\": 25545}, \"130695\": {\"frequency\": 2185, \"value\": 130695}, \"86990\": {\"frequency\": 2566, \"value\": 86990}, \"61261\": {\"frequency\": 2379, \"value\": 61261}, \"15523\": {\"frequency\": 3506, \"value\": 15523}, \"37710\": {\"frequency\": 3166, \"value\": 37710}, \"97239\": {\"frequency\": 1522, \"value\": 97239}, \"3039\": {\"frequency\": 2148, \"value\": 3039}, \"56289\": {\"frequency\": 2158, \"value\": 56289}, \"50148\": {\"frequency\": 2975, \"value\": 50148}, \"5097\": {\"frequency\": 1993, \"value\": 5097}, \"29677\": {\"frequency\": 5036, \"value\": 29677}, \"131923\": {\"frequency\": 3748, \"value\": 131923}, \"23541\": {\"frequency\": 3213, \"value\": 23541}, \"1017\": {\"frequency\": 2336, \"value\": 1017}, \"19450\": {\"frequency\": 2065, \"value\": 19450}, \"108031\": {\"frequency\": 2966, \"value\": 108031}, \"31742\": {\"frequency\": 2525, \"value\": 31742}, \"15360\": {\"frequency\": 5011, \"value\": 15360}, \"11265\": {\"frequency\": 3106, \"value\": 11265}, \"95236\": {\"frequency\": 2649, \"value\": 95236}, \"5128\": {\"frequency\": 2026, \"value\": 5128}, \"100525\": {\"frequency\": 4786, \"value\": 100525}, \"62480\": {\"frequency\": 2316, \"value\": 62480}, \"29713\": {\"frequency\": 2779, \"value\": 29713}, \"39954\": {\"frequency\": 5811, \"value\": 39954}, \"35859\": {\"frequency\": 2521, \"value\": 35859}, \"66580\": {\"frequency\": 2808, \"value\": 66580}, \"64534\": {\"frequency\": 5029, \"value\": 64534}, \"52248\": {\"frequency\": 1704, \"value\": 52248}, \"17435\": {\"frequency\": 1748, \"value\": 17435}, \"72737\": {\"frequency\": 3399, \"value\": 72737}, \"33827\": {\"frequency\": 2149, \"value\": 33827}, \"56356\": {\"frequency\": 3127, \"value\": 56356}, \"11301\": {\"frequency\": 6369, \"value\": 11301}, \"66598\": {\"frequency\": 1856, \"value\": 66598}, \"25640\": {\"frequency\": 4649, \"value\": 25640}, \"46122\": {\"frequency\": 11927, \"value\": 46122}, \"121900\": {\"frequency\": 1906, \"value\": 121900}, \"99375\": {\"frequency\": 1525, \"value\": 99375}, \"103011\": {\"frequency\": 2810, \"value\": 103011}, \"31796\": {\"frequency\": 2346, \"value\": 31796}, \"58422\": {\"frequency\": 3083, \"value\": 58422}, \"52283\": {\"frequency\": 6358, \"value\": 52283}, \"19517\": {\"frequency\": 2329, \"value\": 19517}, \"5184\": {\"frequency\": 3349, \"value\": 5184}, \"117825\": {\"frequency\": 1685, \"value\": 117825}, \"97347\": {\"frequency\": 2762, \"value\": 97347}, \"19526\": {\"frequency\": 5889, \"value\": 19526}, \"130119\": {\"frequency\": 2391, \"value\": 130119}, \"111697\": {\"frequency\": 2612, \"value\": 111697}, \"33874\": {\"frequency\": 3865, \"value\": 33874}, \"113750\": {\"frequency\": 1932, \"value\": 113750}, \"87129\": {\"frequency\": 3100, \"value\": 87129}, \"29786\": {\"frequency\": 1577, \"value\": 29786}, \"40028\": {\"frequency\": 3193, \"value\": 40028}, \"48115\": {\"frequency\": 2391, \"value\": 48115}, \"13410\": {\"frequency\": 2337, \"value\": 13410}, \"93285\": {\"frequency\": 4004, \"value\": 93285}, \"97383\": {\"frequency\": 2846, \"value\": 97383}, \"115816\": {\"frequency\": 2529, \"value\": 115816}, \"33639\": {\"frequency\": 19908, \"value\": 33639}, \"115820\": {\"frequency\": 2598, \"value\": 115820}, \"35951\": {\"frequency\": 3185, \"value\": 35951}, \"64625\": {\"frequency\": 1949, \"value\": 64625}, \"107635\": {\"frequency\": 2246, \"value\": 107635}, \"64630\": {\"frequency\": 1698, \"value\": 64630}, \"117879\": {\"frequency\": 3221, \"value\": 117879}, \"131792\": {\"frequency\": 3111, \"value\": 131792}, \"95357\": {\"frequency\": 5030, \"value\": 95357}, \"68739\": {\"frequency\": 4787, \"value\": 68739}, \"121989\": {\"frequency\": 5820, \"value\": 121989}, \"74886\": {\"frequency\": 3287, \"value\": 74886}, \"70798\": {\"frequency\": 4559, \"value\": 70798}, \"19599\": {\"frequency\": 2307, \"value\": 19599}, \"42134\": {\"frequency\": 3166, \"value\": 42134}, \"50327\": {\"frequency\": 2534, \"value\": 50327}, \"105624\": {\"frequency\": 1846, \"value\": 105624}, \"101529\": {\"frequency\": 1687, \"value\": 101529}, \"17566\": {\"frequency\": 3366, \"value\": 17566}, \"21667\": {\"frequency\": 2239, \"value\": 21667}, \"115879\": {\"frequency\": 1956, \"value\": 115879}, \"117929\": {\"frequency\": 2251, \"value\": 117929}, \"109738\": {\"frequency\": 3326, \"value\": 109738}, \"101550\": {\"frequency\": 2382, \"value\": 101550}, \"27824\": {\"frequency\": 5404, \"value\": 27824}, \"25777\": {\"frequency\": 3182, \"value\": 25777}, \"109747\": {\"frequency\": 5664, \"value\": 109747}, \"101562\": {\"frequency\": 3430, \"value\": 101562}, \"94751\": {\"frequency\": 3418, \"value\": 94751}, \"19644\": {\"frequency\": 3526, \"value\": 19644}, \"109762\": {\"frequency\": 2029, \"value\": 109762}, \"44163\": {\"frequency\": 1834, \"value\": 44163}, \"19318\": {\"frequency\": 2376, \"value\": 19318}, \"58567\": {\"frequency\": 2177, \"value\": 58567}, \"90316\": {\"frequency\": 2137, \"value\": 90316}, \"64718\": {\"frequency\": 3538, \"value\": 64718}, \"128211\": {\"frequency\": 1704, \"value\": 128211}, \"38100\": {\"frequency\": 3813, \"value\": 38100}, \"56533\": {\"frequency\": 2238, \"value\": 56533}, \"38108\": {\"frequency\": 5254, \"value\": 38108}, \"42180\": {\"frequency\": 6601, \"value\": 42180}, \"15583\": {\"frequency\": 1699, \"value\": 15583}, \"33792\": {\"frequency\": 3099, \"value\": 33792}, \"66787\": {\"frequency\": 3084, \"value\": 66787}, \"15590\": {\"frequency\": 2411, \"value\": 15590}, \"37756\": {\"frequency\": 1527, \"value\": 37756}, \"25838\": {\"frequency\": 1634, \"value\": 25838}, \"122096\": {\"frequency\": 9356, \"value\": 122096}, \"48369\": {\"frequency\": 13095, \"value\": 48369}, \"126196\": {\"frequency\": 1599, \"value\": 126196}, \"68854\": {\"frequency\": 4113, \"value\": 68854}, \"7415\": {\"frequency\": 1889, \"value\": 7415}, \"51412\": {\"frequency\": 11080, \"value\": 51412}, \"50841\": {\"frequency\": 3478, \"value\": 50841}, \"130943\": {\"frequency\": 2543, \"value\": 130943}, \"128253\": {\"frequency\": 1778, \"value\": 128253}, \"32000\": {\"frequency\": 9695, \"value\": 32000}, \"58629\": {\"frequency\": 1912, \"value\": 58629}, \"7431\": {\"frequency\": 1859, \"value\": 7431}, \"82764\": {\"frequency\": 5692, \"value\": 82764}, \"58634\": {\"frequency\": 2901, \"value\": 58634}, \"58635\": {\"frequency\": 2763, \"value\": 58635}, \"17678\": {\"frequency\": 1879, \"value\": 17678}, \"117544\": {\"frequency\": 1935, \"value\": 117544}, \"95506\": {\"frequency\": 2097, \"value\": 95506}, \"34067\": {\"frequency\": 1937, \"value\": 34067}, \"56601\": {\"frequency\": 1654, \"value\": 56601}, \"64795\": {\"frequency\": 1907, \"value\": 64795}, \"103708\": {\"frequency\": 4595, \"value\": 103708}, \"118045\": {\"frequency\": 3120, \"value\": 118045}, \"44318\": {\"frequency\": 3164, \"value\": 44318}, \"106373\": {\"frequency\": 3815, \"value\": 106373}, \"15648\": {\"frequency\": 7860, \"value\": 15648}, \"63025\": {\"frequency\": 2516, \"value\": 63025}, \"72583\": {\"frequency\": 2444, \"value\": 72583}, \"107826\": {\"frequency\": 3494, \"value\": 107826}, \"77363\": {\"frequency\": 2070, \"value\": 77363}, \"126260\": {\"frequency\": 1778, \"value\": 126260}, \"17630\": {\"frequency\": 2157, \"value\": 17630}, \"122167\": {\"frequency\": 1908, \"value\": 122167}, \"36156\": {\"frequency\": 1947, \"value\": 36156}, \"109792\": {\"frequency\": 5101, \"value\": 109792}, \"7490\": {\"frequency\": 3131, \"value\": 7490}, \"5443\": {\"frequency\": 1979, \"value\": 5443}, \"38214\": {\"frequency\": 2729, \"value\": 38214}, \"87949\": {\"frequency\": 7040, \"value\": 87949}, \"120139\": {\"frequency\": 2672, \"value\": 120139}, \"27981\": {\"frequency\": 3931, \"value\": 27981}, \"21839\": {\"frequency\": 3509, \"value\": 21839}, \"64848\": {\"frequency\": 1672, \"value\": 64848}, \"78392\": {\"frequency\": 5447, \"value\": 78392}, \"99667\": {\"frequency\": 2492, \"value\": 99667}, \"60757\": {\"frequency\": 2900, \"value\": 60757}, \"1369\": {\"frequency\": 2030, \"value\": 1369}, \"8867\": {\"frequency\": 5722, \"value\": 8867}, \"27997\": {\"frequency\": 2773, \"value\": 27997}, \"93537\": {\"frequency\": 2452, \"value\": 93537}, \"78979\": {\"frequency\": 2992, \"value\": 78979}, \"133691\": {\"frequency\": 2435, \"value\": 133691}, \"93540\": {\"frequency\": 2014, \"value\": 93540}, \"17768\": {\"frequency\": 1595, \"value\": 17768}, \"40297\": {\"frequency\": 1631, \"value\": 40297}, \"60781\": {\"frequency\": 2042, \"value\": 60781}, \"43214\": {\"frequency\": 4526, \"value\": 43214}, \"120182\": {\"frequency\": 6596, \"value\": 120182}, \"128748\": {\"frequency\": 1547, \"value\": 128748}, \"103801\": {\"frequency\": 3306, \"value\": 103801}, \"19836\": {\"frequency\": 7572, \"value\": 19836}, \"97661\": {\"frequency\": 1591, \"value\": 97661}, \"2965\": {\"frequency\": 4805, \"value\": 2965}, \"36003\": {\"frequency\": 1827, \"value\": 36003}, \"89474\": {\"frequency\": 15278, \"value\": 89474}, \"105863\": {\"frequency\": 2000, \"value\": 105863}, \"124297\": {\"frequency\": 1899, \"value\": 124297}, \"3468\": {\"frequency\": 2389, \"value\": 3468}, \"58765\": {\"frequency\": 18199, \"value\": 58765}, \"128339\": {\"frequency\": 2717, \"value\": 128339}, \"54675\": {\"frequency\": 2549, \"value\": 54675}, \"11674\": {\"frequency\": 2407, \"value\": 11674}, \"87451\": {\"frequency\": 4716, \"value\": 87451}, \"134725\": {\"frequency\": 1563, \"value\": 134725}, \"130464\": {\"frequency\": 5053, \"value\": 130464}, \"28066\": {\"frequency\": 1934, \"value\": 28066}, \"87462\": {\"frequency\": 2079, \"value\": 87462}, \"116135\": {\"frequency\": 3421, \"value\": 116135}, \"48553\": {\"frequency\": 5083, \"value\": 48553}, \"32172\": {\"frequency\": 3750, \"value\": 32172}, \"116141\": {\"frequency\": 1813, \"value\": 116141}, \"132526\": {\"frequency\": 1834, \"value\": 132526}, \"58801\": {\"frequency\": 5887, \"value\": 58801}, \"108446\": {\"frequency\": 2515, \"value\": 108446}, \"36278\": {\"frequency\": 4329, \"value\": 36278}, \"129609\": {\"frequency\": 1718, \"value\": 129609}, \"91578\": {\"frequency\": 4736, \"value\": 91578}, \"71099\": {\"frequency\": 7138, \"value\": 71099}, \"87485\": {\"frequency\": 5215, \"value\": 87485}, \"26048\": {\"frequency\": 5657, \"value\": 26048}, \"130635\": {\"frequency\": 1550, \"value\": 130635}, \"58822\": {\"frequency\": 3611, \"value\": 58822}, \"34248\": {\"frequency\": 2072, \"value\": 34248}, \"52683\": {\"frequency\": 2088, \"value\": 52683}, \"116174\": {\"frequency\": 6574, \"value\": 116174}, \"101729\": {\"frequency\": 2960, \"value\": 101729}, \"69075\": {\"frequency\": 5544, \"value\": 69075}, \"89556\": {\"frequency\": 2313, \"value\": 89556}, \"132567\": {\"frequency\": 1534, \"value\": 132567}, \"56792\": {\"frequency\": 21454, \"value\": 56792}, \"124377\": {\"frequency\": 3981, \"value\": 124377}, \"134621\": {\"frequency\": 3926, \"value\": 134621}, \"56798\": {\"frequency\": 2770, \"value\": 56798}, \"116192\": {\"frequency\": 3426, \"value\": 116192}, \"127227\": {\"frequency\": 18199, \"value\": 127227}, \"1508\": {\"frequency\": 5885, \"value\": 1508}, \"71141\": {\"frequency\": 1861, \"value\": 71141}, \"126439\": {\"frequency\": 2500, \"value\": 126439}, \"56815\": {\"frequency\": 1890, \"value\": 56815}, \"85488\": {\"frequency\": 1906, \"value\": 85488}, \"17905\": {\"frequency\": 2060, \"value\": 17905}, \"101321\": {\"frequency\": 5279, \"value\": 101321}, \"26101\": {\"frequency\": 1698, \"value\": 26101}, \"75254\": {\"frequency\": 6761, \"value\": 75254}, \"48505\": {\"frequency\": 1966, \"value\": 48505}, \"5628\": {\"frequency\": 2779, \"value\": 5628}, \"42493\": {\"frequency\": 7287, \"value\": 42493}, \"93695\": {\"frequency\": 1738, \"value\": 93695}, \"87553\": {\"frequency\": 3365, \"value\": 87553}, \"80863\": {\"frequency\": 1793, \"value\": 80863}, \"99848\": {\"frequency\": 4586, \"value\": 99848}, \"63405\": {\"frequency\": 2339, \"value\": 63405}, \"116235\": {\"frequency\": 2910, \"value\": 116235}, \"7692\": {\"frequency\": 5214, \"value\": 7692}, \"28173\": {\"frequency\": 2561, \"value\": 28173}, \"93710\": {\"frequency\": 1738, \"value\": 93710}, \"36367\": {\"frequency\": 2333, \"value\": 36367}, \"95048\": {\"frequency\": 1581, \"value\": 95048}, \"126481\": {\"frequency\": 2731, \"value\": 126481}, \"44563\": {\"frequency\": 2477, \"value\": 44563}, \"110108\": {\"frequency\": 2226, \"value\": 110108}, \"130309\": {\"frequency\": 2916, \"value\": 130309}, \"32288\": {\"frequency\": 2426, \"value\": 32288}, \"48674\": {\"frequency\": 2077, \"value\": 48674}, \"73257\": {\"frequency\": 1761, \"value\": 73257}, \"46344\": {\"frequency\": 3754, \"value\": 46344}, \"89651\": {\"frequency\": 1783, \"value\": 89651}, \"132663\": {\"frequency\": 1725, \"value\": 132663}, \"32314\": {\"frequency\": 2601, \"value\": 32314}, \"6751\": {\"frequency\": 2158, \"value\": 6751}, \"97860\": {\"frequency\": 1498, \"value\": 97860}, \"60997\": {\"frequency\": 4276, \"value\": 60997}, \"95459\": {\"frequency\": 1508, \"value\": 95459}, \"22091\": {\"frequency\": 2552, \"value\": 22091}, \"40524\": {\"frequency\": 2256, \"value\": 40524}, \"44621\": {\"frequency\": 2792, \"value\": 44621}, \"63059\": {\"frequency\": 3822, \"value\": 63059}, \"63060\": {\"frequency\": 3823, \"value\": 63060}, \"63062\": {\"frequency\": 3478, \"value\": 63062}, \"32346\": {\"frequency\": 3889, \"value\": 32346}, \"69213\": {\"frequency\": 1814, \"value\": 69213}, \"43280\": {\"frequency\": 4230, \"value\": 43280}, \"28258\": {\"frequency\": 4640, \"value\": 28258}, \"89701\": {\"frequency\": 4444, \"value\": 89701}, \"112230\": {\"frequency\": 2215, \"value\": 112230}, \"85608\": {\"frequency\": 1850, \"value\": 85608}, \"104041\": {\"frequency\": 1872, \"value\": 104041}, \"101994\": {\"frequency\": 2450, \"value\": 101994}, \"42603\": {\"frequency\": 2987, \"value\": 42603}, \"97904\": {\"frequency\": 2860, \"value\": 97904}, \"134760\": {\"frequency\": 1715, \"value\": 134760}, \"5395\": {\"frequency\": 2085, \"value\": 5395}, \"52855\": {\"frequency\": 3719, \"value\": 52855}, \"97912\": {\"frequency\": 1994, \"value\": 97912}, \"104057\": {\"frequency\": 7952, \"value\": 104057}, \"46716\": {\"frequency\": 4893, \"value\": 46716}, \"85632\": {\"frequency\": 15373, \"value\": 85632}, \"106114\": {\"frequency\": 2549, \"value\": 106114}, \"77443\": {\"frequency\": 10763, \"value\": 77443}, \"22149\": {\"frequency\": 2159, \"value\": 22149}, \"63111\": {\"frequency\": 2892, \"value\": 63111}, \"61064\": {\"frequency\": 4008, \"value\": 61064}, \"89738\": {\"frequency\": 2157, \"value\": 89738}, \"16014\": {\"frequency\": 2551, \"value\": 16014}, \"81552\": {\"frequency\": 8950, \"value\": 81552}, \"67217\": {\"frequency\": 12539, \"value\": 67217}, \"89746\": {\"frequency\": 2117, \"value\": 89746}, \"54499\": {\"frequency\": 7619, \"value\": 54499}, \"114331\": {\"frequency\": 1839, \"value\": 114331}, \"1695\": {\"frequency\": 1887, \"value\": 1695}, \"77473\": {\"frequency\": 3095, \"value\": 77473}, \"12571\": {\"frequency\": 2932, \"value\": 12571}, \"130728\": {\"frequency\": 2648, \"value\": 130728}, \"20137\": {\"frequency\": 1606, \"value\": 20137}, \"7111\": {\"frequency\": 3983, \"value\": 7111}, \"132780\": {\"frequency\": 2733, \"value\": 132780}, \"44717\": {\"frequency\": 4451, \"value\": 44717}, \"124593\": {\"frequency\": 1740, \"value\": 124593}, \"74355\": {\"frequency\": 2084, \"value\": 74355}, \"39815\": {\"frequency\": 2436, \"value\": 39815}, \"93877\": {\"frequency\": 1691, \"value\": 93877}, \"89033\": {\"frequency\": 16450, \"value\": 89033}, \"89789\": {\"frequency\": 3631, \"value\": 89789}, \"118330\": {\"frequency\": 3113, \"value\": 118330}, \"130757\": {\"frequency\": 4446, \"value\": 130757}, \"120519\": {\"frequency\": 4949, \"value\": 120519}, \"3784\": {\"frequency\": 3094, \"value\": 3784}, \"132160\": {\"frequency\": 6943, \"value\": 132160}, \"20171\": {\"frequency\": 1758, \"value\": 20171}, \"89735\": {\"frequency\": 7385, \"value\": 89735}, \"46694\": {\"frequency\": 2768, \"value\": 46694}, \"30416\": {\"frequency\": 2745, \"value\": 30416}, \"1745\": {\"frequency\": 3362, \"value\": 1745}, \"19979\": {\"frequency\": 1904, \"value\": 19979}, \"70606\": {\"frequency\": 1861, \"value\": 70606}, \"106105\": {\"frequency\": 4582, \"value\": 106105}, \"34520\": {\"frequency\": 3794, \"value\": 34520}, \"38620\": {\"frequency\": 2136, \"value\": 38620}, \"124639\": {\"frequency\": 1523, \"value\": 124639}, \"63440\": {\"frequency\": 4333, \"value\": 63440}, \"30436\": {\"frequency\": 2191, \"value\": 30436}, \"120556\": {\"frequency\": 5656, \"value\": 120556}, \"72960\": {\"frequency\": 4222, \"value\": 72960}, \"14064\": {\"frequency\": 5560, \"value\": 14064}, \"3826\": {\"frequency\": 4740, \"value\": 3826}, \"67539\": {\"frequency\": 1915, \"value\": 67539}, \"98038\": {\"frequency\": 6292, \"value\": 98038}, \"85372\": {\"frequency\": 13767, \"value\": 85372}, \"50942\": {\"frequency\": 1641, \"value\": 50942}, \"75524\": {\"frequency\": 3671, \"value\": 75524}, \"132055\": {\"frequency\": 2046, \"value\": 132055}, \"75533\": {\"frequency\": 2387, \"value\": 75533}, \"102159\": {\"frequency\": 3206, \"value\": 102159}, \"112401\": {\"frequency\": 3044, \"value\": 112401}, \"120599\": {\"frequency\": 4295, \"value\": 120599}, \"14105\": {\"frequency\": 2780, \"value\": 14105}, \"108318\": {\"frequency\": 17755, \"value\": 108318}, \"26401\": {\"frequency\": 1730, \"value\": 26401}, \"46161\": {\"frequency\": 3813, \"value\": 46161}, \"69255\": {\"frequency\": 2401, \"value\": 69255}, \"76082\": {\"frequency\": 18071, \"value\": 76082}, \"22321\": {\"frequency\": 3020, \"value\": 22321}, \"70144\": {\"frequency\": 3532, \"value\": 70144}, \"10036\": {\"frequency\": 2783, \"value\": 10036}, \"81717\": {\"frequency\": 2614, \"value\": 81717}, \"7991\": {\"frequency\": 1874, \"value\": 7991}, \"46904\": {\"frequency\": 2465, \"value\": 46904}, \"10043\": {\"frequency\": 1862, \"value\": 10043}, \"63293\": {\"frequency\": 5045, \"value\": 63293}, \"67393\": {\"frequency\": 3922, \"value\": 67393}, \"34631\": {\"frequency\": 3796, \"value\": 34631}, \"6796\": {\"frequency\": 3651, \"value\": 6796}, \"89933\": {\"frequency\": 1901, \"value\": 89933}, \"61262\": {\"frequency\": 8233, \"value\": 61262}, \"24402\": {\"frequency\": 10577, \"value\": 24402}, \"112467\": {\"frequency\": 2341, \"value\": 112467}, \"48982\": {\"frequency\": 2277, \"value\": 48982}, \"102232\": {\"frequency\": 2835, \"value\": 102232}, \"78820\": {\"frequency\": 13659, \"value\": 78820}, \"12124\": {\"frequency\": 2921, \"value\": 12124}, \"91997\": {\"frequency\": 1782, \"value\": 91997}, \"68872\": {\"frequency\": 1782, \"value\": 68872}, \"96095\": {\"frequency\": 3727, \"value\": 96095}, \"128864\": {\"frequency\": 5109, \"value\": 128864}, \"110437\": {\"frequency\": 2880, \"value\": 110437}, \"65384\": {\"frequency\": 3170, \"value\": 65384}, \"83817\": {\"frequency\": 2564, \"value\": 83817}, \"87914\": {\"frequency\": 12739, \"value\": 87914}, \"124781\": {\"frequency\": 3412, \"value\": 124781}, \"63343\": {\"frequency\": 2493, \"value\": 63343}, \"96112\": {\"frequency\": 1781, \"value\": 96112}, \"3953\": {\"frequency\": 2255, \"value\": 3953}, \"79732\": {\"frequency\": 2049, \"value\": 79732}, \"108521\": {\"frequency\": 2092, \"value\": 108521}, \"133727\": {\"frequency\": 1508, \"value\": 133727}, \"105694\": {\"frequency\": 2027, \"value\": 105694}, \"67100\": {\"frequency\": 1535, \"value\": 67100}, \"98175\": {\"frequency\": 2092, \"value\": 98175}, \"108416\": {\"frequency\": 3539, \"value\": 108416}, \"12165\": {\"frequency\": 2685, \"value\": 12165}, \"36685\": {\"frequency\": 3454, \"value\": 36685}, \"30018\": {\"frequency\": 2282, \"value\": 30018}, \"130029\": {\"frequency\": 5288, \"value\": 130029}, \"8080\": {\"frequency\": 5375, \"value\": 8080}, \"77713\": {\"frequency\": 5922, \"value\": 77713}, \"21887\": {\"frequency\": 2508, \"value\": 21887}, \"40855\": {\"frequency\": 3279, \"value\": 40855}, \"122782\": {\"frequency\": 10356, \"value\": 122782}, \"40863\": {\"frequency\": 2056, \"value\": 40863}, \"16288\": {\"frequency\": 1799, \"value\": 16288}, \"32680\": {\"frequency\": 2095, \"value\": 32680}, \"126890\": {\"frequency\": 1679, \"value\": 126890}, \"32684\": {\"frequency\": 1524, \"value\": 32684}, \"55213\": {\"frequency\": 1781, \"value\": 55213}, \"134138\": {\"frequency\": 2693, \"value\": 134138}, \"65459\": {\"frequency\": 3771, \"value\": 65459}, \"26550\": {\"frequency\": 1979, \"value\": 26550}, \"40888\": {\"frequency\": 2157, \"value\": 40888}, \"72351\": {\"frequency\": 18416, \"value\": 72351}, \"94141\": {\"frequency\": 1636, \"value\": 94141}, \"42944\": {\"frequency\": 5534, \"value\": 42944}, \"61382\": {\"frequency\": 1798, \"value\": 61382}, \"130721\": {\"frequency\": 3268, \"value\": 130721}, \"75723\": {\"frequency\": 6130, \"value\": 75723}, \"116685\": {\"frequency\": 1811, \"value\": 116685}, \"112590\": {\"frequency\": 3315, \"value\": 112590}, \"32077\": {\"frequency\": 3278, \"value\": 32077}, \"34768\": {\"frequency\": 3681, \"value\": 34768}, \"108497\": {\"frequency\": 3850, \"value\": 108497}, \"55250\": {\"frequency\": 3928, \"value\": 55250}, \"675\": {\"frequency\": 1838, \"value\": 675}, \"83926\": {\"frequency\": 4741, \"value\": 83926}, \"66212\": {\"frequency\": 1621, \"value\": 66212}, \"59354\": {\"frequency\": 1776, \"value\": 59354}, \"74746\": {\"frequency\": 4390, \"value\": 74746}, \"85983\": {\"frequency\": 5228, \"value\": 85983}, \"73040\": {\"frequency\": 7250, \"value\": 73040}, \"22499\": {\"frequency\": 12707, \"value\": 22499}, \"51173\": {\"frequency\": 2823, \"value\": 51173}, \"14310\": {\"frequency\": 7443, \"value\": 14310}, \"128999\": {\"frequency\": 2121, \"value\": 128999}, \"61416\": {\"frequency\": 2420, \"value\": 61416}, \"38889\": {\"frequency\": 2238, \"value\": 38889}, \"8171\": {\"frequency\": 4421, \"value\": 8171}, \"114670\": {\"frequency\": 2449, \"value\": 114670}, \"83955\": {\"frequency\": 1884, \"value\": 83955}, \"47092\": {\"frequency\": 11156, \"value\": 47092}, \"98302\": {\"frequency\": 1855, \"value\": 98302}, \"122870\": {\"frequency\": 2691, \"value\": 122870}, \"45047\": {\"frequency\": 4806, \"value\": 45047}, \"83962\": {\"frequency\": 1775, \"value\": 83962}, \"55291\": {\"frequency\": 7581, \"value\": 55291}, \"61436\": {\"frequency\": 18810, \"value\": 61436}, \"4094\": {\"frequency\": 5835, \"value\": 4094}, \"55295\": {\"frequency\": 2308, \"value\": 55295}}, \"mean\": 67872.92245848477}}, \"selected_variable\": {\"name\": [\"sf\"], \"descriptives\": {\"rows\": 17359346, \"columns\": 3}, \"view_component\": \"Summary\", \"view_file\": \"sframe\", \"view_params\": {\"y\": null, \"x\": null, \"columns\": [\"user_id\", \"profile_id\", \"rating\"], \"view\": null}, \"view_components\": [\"Summary\", \"Table\", \"Bar Chart\", \"BoxWhisker Plot\", \"Line Chart\", \"Scatter Plot\", \"Heat Map\", \"Plots\"], \"type\": \"SFrame\", \"columns\": [{\"dtype\": \"int\", \"name\": \"user_id\"}, {\"dtype\": \"int\", \"name\": \"profile_id\"}, {\"dtype\": \"int\", \"name\": \"rating\"}], \"column_identifiers\": [\"rating\", \"profile_id\", \"user_id\"]}, \"columns\": [{\"dtype\": \"int\", \"name\": \"user_id\"}, {\"dtype\": \"int\", \"name\": \"profile_id\"}, {\"dtype\": \"int\", \"name\": \"rating\"}]}, e);\n",
       "                });\n",
       "            })();\n",
       "        "
      ]
     },
     "metadata": {},
     "output_type": "display_data"
    }
   ],
   "source": [
    "# Read Data\n",
    "# Store data in a subdirectory called Data. Then the path doesn't need to change for everyone\n",
    "# Note the data is not part of the github repo.\n",
    "\n",
    "train_file = './data/ratings.dat'\n",
    "train_gender = './data/gender.dat'\n",
    "sf = gl.SFrame.read_csv(train_file, header=False, delimiter=',', verbose=False)\n",
    "sf.rename({'X1':'user_id', 'X2':'profile_id', 'X3':'rating'}).show()\n"
   ]
  },
  {
   "cell_type": "code",
   "execution_count": null,
   "metadata": {
    "collapsed": true
   },
   "outputs": [],
   "source": [
    "# blank - to use"
   ]
  },
  {
   "cell_type": "code",
   "execution_count": 6,
   "metadata": {
    "collapsed": false
   },
   "outputs": [
    {
     "data": {
      "text/html": [
       "<pre>Recsys training: model = popularity</pre>"
      ],
      "text/plain": [
       "Recsys training: model = popularity"
      ]
     },
     "metadata": {},
     "output_type": "display_data"
    },
    {
     "data": {
      "text/html": [
       "<pre>Warning: Column 'rating' ignored.</pre>"
      ],
      "text/plain": [
       "Warning: Column 'rating' ignored."
      ]
     },
     "metadata": {},
     "output_type": "display_data"
    },
    {
     "data": {
      "text/html": [
       "<pre>    To use this column as the target, set target = \"rating\" and use a method that allows the use of a target.</pre>"
      ],
      "text/plain": [
       "    To use this column as the target, set target = \"rating\" and use a method that allows the use of a target."
      ]
     },
     "metadata": {},
     "output_type": "display_data"
    },
    {
     "data": {
      "text/html": [
       "<pre>Preparing data set.</pre>"
      ],
      "text/plain": [
       "Preparing data set."
      ]
     },
     "metadata": {},
     "output_type": "display_data"
    },
    {
     "data": {
      "text/html": [
       "<pre>    Data has 13889616 observations with 135359 users and 162537 items.</pre>"
      ],
      "text/plain": [
       "    Data has 13889616 observations with 135359 users and 162537 items."
      ]
     },
     "metadata": {},
     "output_type": "display_data"
    },
    {
     "data": {
      "text/html": [
       "<pre>    Data prepared in: 12.1404s</pre>"
      ],
      "text/plain": [
       "    Data prepared in: 12.1404s"
      ]
     },
     "metadata": {},
     "output_type": "display_data"
    },
    {
     "data": {
      "text/html": [
       "<pre>13889616 observations to process; with 162537 unique items.</pre>"
      ],
      "text/plain": [
       "13889616 observations to process; with 162537 unique items."
      ]
     },
     "metadata": {},
     "output_type": "display_data"
    }
   ],
   "source": [
    "# Split the data to training and test\n",
    "(train_set, test_set) = sf.random_split(0.8, seed=1)\n",
    "\n",
    "# create recommender, choosing a profile recommendation for each user.\n",
    "popularity_model = gl.popularity_recommender.create(train_set, 'user_id', 'profile_id')"
   ]
  },
  {
   "cell_type": "code",
   "execution_count": 7,
   "metadata": {
    "collapsed": false,
    "scrolled": false
   },
   "outputs": [
    {
     "data": {
      "text/html": [
       "<pre>Recsys training: model = item_similarity</pre>"
      ],
      "text/plain": [
       "Recsys training: model = item_similarity"
      ]
     },
     "metadata": {},
     "output_type": "display_data"
    },
    {
     "data": {
      "text/html": [
       "<pre>Warning: Column 'rating' ignored.</pre>"
      ],
      "text/plain": [
       "Warning: Column 'rating' ignored."
      ]
     },
     "metadata": {},
     "output_type": "display_data"
    },
    {
     "data": {
      "text/html": [
       "<pre>    To use this column as the target, set target = \"rating\" and use a method that allows the use of a target.</pre>"
      ],
      "text/plain": [
       "    To use this column as the target, set target = \"rating\" and use a method that allows the use of a target."
      ]
     },
     "metadata": {},
     "output_type": "display_data"
    },
    {
     "data": {
      "text/html": [
       "<pre>Preparing data set.</pre>"
      ],
      "text/plain": [
       "Preparing data set."
      ]
     },
     "metadata": {},
     "output_type": "display_data"
    },
    {
     "data": {
      "text/html": [
       "<pre>    Data has 13889616 observations with 135359 users and 162537 items.</pre>"
      ],
      "text/plain": [
       "    Data has 13889616 observations with 135359 users and 162537 items."
      ]
     },
     "metadata": {},
     "output_type": "display_data"
    },
    {
     "data": {
      "text/html": [
       "<pre>    Data prepared in: 10.4726s</pre>"
      ],
      "text/plain": [
       "    Data prepared in: 10.4726s"
      ]
     },
     "metadata": {},
     "output_type": "display_data"
    },
    {
     "data": {
      "text/html": [
       "<pre>Training model from provided data.</pre>"
      ],
      "text/plain": [
       "Training model from provided data."
      ]
     },
     "metadata": {},
     "output_type": "display_data"
    },
    {
     "data": {
      "text/html": [
       "<pre>Gathering per-item and per-user statistics.</pre>"
      ],
      "text/plain": [
       "Gathering per-item and per-user statistics."
      ]
     },
     "metadata": {},
     "output_type": "display_data"
    },
    {
     "data": {
      "text/html": [
       "<pre>+--------------------------------+------------+</pre>"
      ],
      "text/plain": [
       "+--------------------------------+------------+"
      ]
     },
     "metadata": {},
     "output_type": "display_data"
    },
    {
     "data": {
      "text/html": [
       "<pre>| Elapsed Time (Item Statistics) | % Complete |</pre>"
      ],
      "text/plain": [
       "| Elapsed Time (Item Statistics) | % Complete |"
      ]
     },
     "metadata": {},
     "output_type": "display_data"
    },
    {
     "data": {
      "text/html": [
       "<pre>+--------------------------------+------------+</pre>"
      ],
      "text/plain": [
       "+--------------------------------+------------+"
      ]
     },
     "metadata": {},
     "output_type": "display_data"
    },
    {
     "data": {
      "text/html": [
       "<pre>| 0us                            | 0.5        |</pre>"
      ],
      "text/plain": [
       "| 0us                            | 0.5        |"
      ]
     },
     "metadata": {},
     "output_type": "display_data"
    },
    {
     "data": {
      "text/html": [
       "<pre>| 255.97ms                       | 100        |</pre>"
      ],
      "text/plain": [
       "| 255.97ms                       | 100        |"
      ]
     },
     "metadata": {},
     "output_type": "display_data"
    },
    {
     "data": {
      "text/html": [
       "<pre>+--------------------------------+------------+</pre>"
      ],
      "text/plain": [
       "+--------------------------------+------------+"
      ]
     },
     "metadata": {},
     "output_type": "display_data"
    },
    {
     "data": {
      "text/html": [
       "<pre>Setting up lookup tables.</pre>"
      ],
      "text/plain": [
       "Setting up lookup tables."
      ]
     },
     "metadata": {},
     "output_type": "display_data"
    },
    {
     "data": {
      "text/html": [
       "<pre>Processing the 162 most common items by brute force search.</pre>"
      ],
      "text/plain": [
       "Processing the 162 most common items by brute force search."
      ]
     },
     "metadata": {},
     "output_type": "display_data"
    },
    {
     "data": {
      "text/html": [
       "<pre>Transposing user-item lists for use in nearest neighbor search.</pre>"
      ],
      "text/plain": [
       "Transposing user-item lists for use in nearest neighbor search."
      ]
     },
     "metadata": {},
     "output_type": "display_data"
    },
    {
     "data": {
      "text/html": [
       "<pre>+------------------------------------+------------+</pre>"
      ],
      "text/plain": [
       "+------------------------------------+------------+"
      ]
     },
     "metadata": {},
     "output_type": "display_data"
    },
    {
     "data": {
      "text/html": [
       "<pre>| Elapsed Time (Data Transposition)) | % Complete |</pre>"
      ],
      "text/plain": [
       "| Elapsed Time (Data Transposition)) | % Complete |"
      ]
     },
     "metadata": {},
     "output_type": "display_data"
    },
    {
     "data": {
      "text/html": [
       "<pre>+------------------------------------+------------+</pre>"
      ],
      "text/plain": [
       "+------------------------------------+------------+"
      ]
     },
     "metadata": {},
     "output_type": "display_data"
    },
    {
     "data": {
      "text/html": [
       "<pre>| 110.293ms                          | 0          |</pre>"
      ],
      "text/plain": [
       "| 110.293ms                          | 0          |"
      ]
     },
     "metadata": {},
     "output_type": "display_data"
    },
    {
     "data": {
      "text/html": [
       "<pre>| 1.16s                              | 100        |</pre>"
      ],
      "text/plain": [
       "| 1.16s                              | 100        |"
      ]
     },
     "metadata": {},
     "output_type": "display_data"
    },
    {
     "data": {
      "text/html": [
       "<pre>+------------------------------------+------------+</pre>"
      ],
      "text/plain": [
       "+------------------------------------+------------+"
      ]
     },
     "metadata": {},
     "output_type": "display_data"
    },
    {
     "data": {
      "text/html": [
       "<pre>+-------------------------------------+------------------+-----------------+</pre>"
      ],
      "text/plain": [
       "+-------------------------------------+------------------+-----------------+"
      ]
     },
     "metadata": {},
     "output_type": "display_data"
    },
    {
     "data": {
      "text/html": [
       "<pre>| Elapsed Time (Constructing Lookups) | Total % Complete | Items Processed |</pre>"
      ],
      "text/plain": [
       "| Elapsed Time (Constructing Lookups) | Total % Complete | Items Processed |"
      ]
     },
     "metadata": {},
     "output_type": "display_data"
    },
    {
     "data": {
      "text/html": [
       "<pre>+-------------------------------------+------------------+-----------------+</pre>"
      ],
      "text/plain": [
       "+-------------------------------------+------------------+-----------------+"
      ]
     },
     "metadata": {},
     "output_type": "display_data"
    },
    {
     "data": {
      "text/html": [
       "<pre>| 1.63s                               | 0                | 0               |</pre>"
      ],
      "text/plain": [
       "| 1.63s                               | 0                | 0               |"
      ]
     },
     "metadata": {},
     "output_type": "display_data"
    },
    {
     "data": {
      "text/html": [
       "<pre>| 2.64s                               | 0                | 83              |</pre>"
      ],
      "text/plain": [
       "| 2.64s                               | 0                | 83              |"
      ]
     },
     "metadata": {},
     "output_type": "display_data"
    },
    {
     "data": {
      "text/html": [
       "<pre>| 3.65s                               | 0                | 120             |</pre>"
      ],
      "text/plain": [
       "| 3.65s                               | 0                | 120             |"
      ]
     },
     "metadata": {},
     "output_type": "display_data"
    },
    {
     "data": {
      "text/html": [
       "<pre>| 4.65s                               | 0                | 128             |</pre>"
      ],
      "text/plain": [
       "| 4.65s                               | 0                | 128             |"
      ]
     },
     "metadata": {},
     "output_type": "display_data"
    },
    {
     "data": {
      "text/html": [
       "<pre>| 5.65s                               | 0                | 132             |</pre>"
      ],
      "text/plain": [
       "| 5.65s                               | 0                | 132             |"
      ]
     },
     "metadata": {},
     "output_type": "display_data"
    },
    {
     "data": {
      "text/html": [
       "<pre>| 6.66s                               | 0                | 138             |</pre>"
      ],
      "text/plain": [
       "| 6.66s                               | 0                | 138             |"
      ]
     },
     "metadata": {},
     "output_type": "display_data"
    },
    {
     "data": {
      "text/html": [
       "<pre>| 7.66s                               | 0                | 148             |</pre>"
      ],
      "text/plain": [
       "| 7.66s                               | 0                | 148             |"
      ]
     },
     "metadata": {},
     "output_type": "display_data"
    },
    {
     "data": {
      "text/html": [
       "<pre>+-------------------------------------+------------------+-----------------+</pre>"
      ],
      "text/plain": [
       "+-------------------------------------+------------------+-----------------+"
      ]
     },
     "metadata": {},
     "output_type": "display_data"
    },
    {
     "data": {
      "text/html": [
       "<pre>Processing data in 13 passes using dense lookup tables.</pre>"
      ],
      "text/plain": [
       "Processing data in 13 passes using dense lookup tables."
      ]
     },
     "metadata": {},
     "output_type": "display_data"
    },
    {
     "data": {
      "text/html": [
       "<pre>+-------------------------------------+------------------+-----------------+</pre>"
      ],
      "text/plain": [
       "+-------------------------------------+------------------+-----------------+"
      ]
     },
     "metadata": {},
     "output_type": "display_data"
    },
    {
     "data": {
      "text/html": [
       "<pre>| Elapsed Time (Constructing Lookups) | Total % Complete | Items Processed |</pre>"
      ],
      "text/plain": [
       "| Elapsed Time (Constructing Lookups) | Total % Complete | Items Processed |"
      ]
     },
     "metadata": {},
     "output_type": "display_data"
    },
    {
     "data": {
      "text/html": [
       "<pre>+-------------------------------------+------------------+-----------------+</pre>"
      ],
      "text/plain": [
       "+-------------------------------------+------------------+-----------------+"
      ]
     },
     "metadata": {},
     "output_type": "display_data"
    },
    {
     "data": {
      "text/html": [
       "<pre>| 35.66s                              | 0                | 162             |</pre>"
      ],
      "text/plain": [
       "| 35.66s                              | 0                | 162             |"
      ]
     },
     "metadata": {},
     "output_type": "display_data"
    },
    {
     "data": {
      "text/html": [
       "<pre>| 37.97s                              | 0.5              | 1041            |</pre>"
      ],
      "text/plain": [
       "| 37.97s                              | 0.5              | 1041            |"
      ]
     },
     "metadata": {},
     "output_type": "display_data"
    },
    {
     "data": {
      "text/html": [
       "<pre>| 38.97s                              | 0.75             | 1459            |</pre>"
      ],
      "text/plain": [
       "| 38.97s                              | 0.75             | 1459            |"
      ]
     },
     "metadata": {},
     "output_type": "display_data"
    },
    {
     "data": {
      "text/html": [
       "<pre>| 39.99s                              | 1                | 2010            |</pre>"
      ],
      "text/plain": [
       "| 39.99s                              | 1                | 2010            |"
      ]
     },
     "metadata": {},
     "output_type": "display_data"
    },
    {
     "data": {
      "text/html": [
       "<pre>| 40.98s                              | 1.25             | 2302            |</pre>"
      ],
      "text/plain": [
       "| 40.98s                              | 1.25             | 2302            |"
      ]
     },
     "metadata": {},
     "output_type": "display_data"
    },
    {
     "data": {
      "text/html": [
       "<pre>| 41.98s                              | 1.75             | 2878            |</pre>"
      ],
      "text/plain": [
       "| 41.98s                              | 1.75             | 2878            |"
      ]
     },
     "metadata": {},
     "output_type": "display_data"
    },
    {
     "data": {
      "text/html": [
       "<pre>| 43.00s                              | 2                | 3509            |</pre>"
      ],
      "text/plain": [
       "| 43.00s                              | 2                | 3509            |"
      ]
     },
     "metadata": {},
     "output_type": "display_data"
    },
    {
     "data": {
      "text/html": [
       "<pre>| 43.99s                              | 2.25             | 3928            |</pre>"
      ],
      "text/plain": [
       "| 43.99s                              | 2.25             | 3928            |"
      ]
     },
     "metadata": {},
     "output_type": "display_data"
    },
    {
     "data": {
      "text/html": [
       "<pre>| 44.99s                              | 2.75             | 4538            |</pre>"
      ],
      "text/plain": [
       "| 44.99s                              | 2.75             | 4538            |"
      ]
     },
     "metadata": {},
     "output_type": "display_data"
    },
    {
     "data": {
      "text/html": [
       "<pre>| 46.01s                              | 2.75             | 4852            |</pre>"
      ],
      "text/plain": [
       "| 46.01s                              | 2.75             | 4852            |"
      ]
     },
     "metadata": {},
     "output_type": "display_data"
    },
    {
     "data": {
      "text/html": [
       "<pre>| 47.00s                              | 3                | 5123            |</pre>"
      ],
      "text/plain": [
       "| 47.00s                              | 3                | 5123            |"
      ]
     },
     "metadata": {},
     "output_type": "display_data"
    },
    {
     "data": {
      "text/html": [
       "<pre>| 48.00s                              | 3.25             | 5570            |</pre>"
      ],
      "text/plain": [
       "| 48.00s                              | 3.25             | 5570            |"
      ]
     },
     "metadata": {},
     "output_type": "display_data"
    },
    {
     "data": {
      "text/html": [
       "<pre>| 49.01s                              | 3.5              | 6046            |</pre>"
      ],
      "text/plain": [
       "| 49.01s                              | 3.5              | 6046            |"
      ]
     },
     "metadata": {},
     "output_type": "display_data"
    },
    {
     "data": {
      "text/html": [
       "<pre>| 50.01s                              | 4                | 6506            |</pre>"
      ],
      "text/plain": [
       "| 50.01s                              | 4                | 6506            |"
      ]
     },
     "metadata": {},
     "output_type": "display_data"
    },
    {
     "data": {
      "text/html": [
       "<pre>| 51.01s                              | 4.25             | 7249            |</pre>"
      ],
      "text/plain": [
       "| 51.01s                              | 4.25             | 7249            |"
      ]
     },
     "metadata": {},
     "output_type": "display_data"
    },
    {
     "data": {
      "text/html": [
       "<pre>| 52.02s                              | 4.75             | 7913            |</pre>"
      ],
      "text/plain": [
       "| 52.02s                              | 4.75             | 7913            |"
      ]
     },
     "metadata": {},
     "output_type": "display_data"
    },
    {
     "data": {
      "text/html": [
       "<pre>| 53.02s                              | 5.25             | 8760            |</pre>"
      ],
      "text/plain": [
       "| 53.02s                              | 5.25             | 8760            |"
      ]
     },
     "metadata": {},
     "output_type": "display_data"
    },
    {
     "data": {
      "text/html": [
       "<pre>| 54.02s                              | 5.75             | 9488            |</pre>"
      ],
      "text/plain": [
       "| 54.02s                              | 5.75             | 9488            |"
      ]
     },
     "metadata": {},
     "output_type": "display_data"
    },
    {
     "data": {
      "text/html": [
       "<pre>| 55.03s                              | 6.25             | 10257           |</pre>"
      ],
      "text/plain": [
       "| 55.03s                              | 6.25             | 10257           |"
      ]
     },
     "metadata": {},
     "output_type": "display_data"
    },
    {
     "data": {
      "text/html": [
       "<pre>| 56.03s                              | 6.5              | 10812           |</pre>"
      ],
      "text/plain": [
       "| 56.03s                              | 6.5              | 10812           |"
      ]
     },
     "metadata": {},
     "output_type": "display_data"
    },
    {
     "data": {
      "text/html": [
       "<pre>| 57.04s                              | 6.75             | 11307           |</pre>"
      ],
      "text/plain": [
       "| 57.04s                              | 6.75             | 11307           |"
      ]
     },
     "metadata": {},
     "output_type": "display_data"
    },
    {
     "data": {
      "text/html": [
       "<pre>| 58.04s                              | 7                | 11761           |</pre>"
      ],
      "text/plain": [
       "| 58.04s                              | 7                | 11761           |"
      ]
     },
     "metadata": {},
     "output_type": "display_data"
    },
    {
     "data": {
      "text/html": [
       "<pre>| 59.04s                              | 7.5              | 12451           |</pre>"
      ],
      "text/plain": [
       "| 59.04s                              | 7.5              | 12451           |"
      ]
     },
     "metadata": {},
     "output_type": "display_data"
    },
    {
     "data": {
      "text/html": [
       "<pre>| 1m 29s                              | 7.75             | 12639           |</pre>"
      ],
      "text/plain": [
       "| 1m 29s                              | 7.75             | 12639           |"
      ]
     },
     "metadata": {},
     "output_type": "display_data"
    },
    {
     "data": {
      "text/html": [
       "<pre>| 1m 30s                              | 8.25             | 13526           |</pre>"
      ],
      "text/plain": [
       "| 1m 30s                              | 8.25             | 13526           |"
      ]
     },
     "metadata": {},
     "output_type": "display_data"
    },
    {
     "data": {
      "text/html": [
       "<pre>| 1m 31s                              | 8.75             | 14444           |</pre>"
      ],
      "text/plain": [
       "| 1m 31s                              | 8.75             | 14444           |"
      ]
     },
     "metadata": {},
     "output_type": "display_data"
    },
    {
     "data": {
      "text/html": [
       "<pre>| 1m 32s                              | 9.25             | 15365           |</pre>"
      ],
      "text/plain": [
       "| 1m 32s                              | 9.25             | 15365           |"
      ]
     },
     "metadata": {},
     "output_type": "display_data"
    },
    {
     "data": {
      "text/html": [
       "<pre>| 1m 33s                              | 10               | 16351           |</pre>"
      ],
      "text/plain": [
       "| 1m 33s                              | 10               | 16351           |"
      ]
     },
     "metadata": {},
     "output_type": "display_data"
    },
    {
     "data": {
      "text/html": [
       "<pre>| 1m 34s                              | 10.5             | 17355           |</pre>"
      ],
      "text/plain": [
       "| 1m 34s                              | 10.5             | 17355           |"
      ]
     },
     "metadata": {},
     "output_type": "display_data"
    },
    {
     "data": {
      "text/html": [
       "<pre>| 1m 35s                              | 11.25            | 18305           |</pre>"
      ],
      "text/plain": [
       "| 1m 35s                              | 11.25            | 18305           |"
      ]
     },
     "metadata": {},
     "output_type": "display_data"
    },
    {
     "data": {
      "text/html": [
       "<pre>| 1m 36s                              | 11.75            | 19167           |</pre>"
      ],
      "text/plain": [
       "| 1m 36s                              | 11.75            | 19167           |"
      ]
     },
     "metadata": {},
     "output_type": "display_data"
    },
    {
     "data": {
      "text/html": [
       "<pre>| 1m 37s                              | 12.25            | 20149           |</pre>"
      ],
      "text/plain": [
       "| 1m 37s                              | 12.25            | 20149           |"
      ]
     },
     "metadata": {},
     "output_type": "display_data"
    },
    {
     "data": {
      "text/html": [
       "<pre>| 1m 38s                              | 13               | 21289           |</pre>"
      ],
      "text/plain": [
       "| 1m 38s                              | 13               | 21289           |"
      ]
     },
     "metadata": {},
     "output_type": "display_data"
    },
    {
     "data": {
      "text/html": [
       "<pre>| 1m 39s                              | 13.75            | 22360           |</pre>"
      ],
      "text/plain": [
       "| 1m 39s                              | 13.75            | 22360           |"
      ]
     },
     "metadata": {},
     "output_type": "display_data"
    },
    {
     "data": {
      "text/html": [
       "<pre>| 1m 40s                              | 14.25            | 23254           |</pre>"
      ],
      "text/plain": [
       "| 1m 40s                              | 14.25            | 23254           |"
      ]
     },
     "metadata": {},
     "output_type": "display_data"
    },
    {
     "data": {
      "text/html": [
       "<pre>| 1m 41s                              | 14.75            | 24170           |</pre>"
      ],
      "text/plain": [
       "| 1m 41s                              | 14.75            | 24170           |"
      ]
     },
     "metadata": {},
     "output_type": "display_data"
    },
    {
     "data": {
      "text/html": [
       "<pre>| 1m 42s                              | 15.25            | 25113           |</pre>"
      ],
      "text/plain": [
       "| 1m 42s                              | 15.25            | 25113           |"
      ]
     },
     "metadata": {},
     "output_type": "display_data"
    },
    {
     "data": {
      "text/html": [
       "<pre>| 2m 12s                              | 15.25            | 25116           |</pre>"
      ],
      "text/plain": [
       "| 2m 12s                              | 15.25            | 25116           |"
      ]
     },
     "metadata": {},
     "output_type": "display_data"
    },
    {
     "data": {
      "text/html": [
       "<pre>| 2m 13s                              | 16.25            | 26527           |</pre>"
      ],
      "text/plain": [
       "| 2m 13s                              | 16.25            | 26527           |"
      ]
     },
     "metadata": {},
     "output_type": "display_data"
    },
    {
     "data": {
      "text/html": [
       "<pre>| 2m 14s                              | 17               | 28019           |</pre>"
      ],
      "text/plain": [
       "| 2m 14s                              | 17               | 28019           |"
      ]
     },
     "metadata": {},
     "output_type": "display_data"
    },
    {
     "data": {
      "text/html": [
       "<pre>| 2m 15s                              | 18               | 29496           |</pre>"
      ],
      "text/plain": [
       "| 2m 15s                              | 18               | 29496           |"
      ]
     },
     "metadata": {},
     "output_type": "display_data"
    },
    {
     "data": {
      "text/html": [
       "<pre>| 2m 16s                              | 19               | 30892           |</pre>"
      ],
      "text/plain": [
       "| 2m 16s                              | 19               | 30892           |"
      ]
     },
     "metadata": {},
     "output_type": "display_data"
    },
    {
     "data": {
      "text/html": [
       "<pre>| 2m 17s                              | 19.75            | 32174           |</pre>"
      ],
      "text/plain": [
       "| 2m 17s                              | 19.75            | 32174           |"
      ]
     },
     "metadata": {},
     "output_type": "display_data"
    },
    {
     "data": {
      "text/html": [
       "<pre>| 2m 18s                              | 20.75            | 33888           |</pre>"
      ],
      "text/plain": [
       "| 2m 18s                              | 20.75            | 33888           |"
      ]
     },
     "metadata": {},
     "output_type": "display_data"
    },
    {
     "data": {
      "text/html": [
       "<pre>| 2m 19s                              | 21.75            | 35379           |</pre>"
      ],
      "text/plain": [
       "| 2m 19s                              | 21.75            | 35379           |"
      ]
     },
     "metadata": {},
     "output_type": "display_data"
    },
    {
     "data": {
      "text/html": [
       "<pre>| 2m 20s                              | 22.5             | 36660           |</pre>"
      ],
      "text/plain": [
       "| 2m 20s                              | 22.5             | 36660           |"
      ]
     },
     "metadata": {},
     "output_type": "display_data"
    },
    {
     "data": {
      "text/html": [
       "<pre>| 2m 47s                              | 23               | 37594           |</pre>"
      ],
      "text/plain": [
       "| 2m 47s                              | 23               | 37594           |"
      ]
     },
     "metadata": {},
     "output_type": "display_data"
    },
    {
     "data": {
      "text/html": [
       "<pre>| 2m 48s                              | 24.25            | 39511           |</pre>"
      ],
      "text/plain": [
       "| 2m 48s                              | 24.25            | 39511           |"
      ]
     },
     "metadata": {},
     "output_type": "display_data"
    },
    {
     "data": {
      "text/html": [
       "<pre>| 2m 49s                              | 25.5             | 41516           |</pre>"
      ],
      "text/plain": [
       "| 2m 49s                              | 25.5             | 41516           |"
      ]
     },
     "metadata": {},
     "output_type": "display_data"
    },
    {
     "data": {
      "text/html": [
       "<pre>| 2m 50s                              | 26.5             | 43316           |</pre>"
      ],
      "text/plain": [
       "| 2m 50s                              | 26.5             | 43316           |"
      ]
     },
     "metadata": {},
     "output_type": "display_data"
    },
    {
     "data": {
      "text/html": [
       "<pre>| 2m 51s                              | 27.75            | 45288           |</pre>"
      ],
      "text/plain": [
       "| 2m 51s                              | 27.75            | 45288           |"
      ]
     },
     "metadata": {},
     "output_type": "display_data"
    },
    {
     "data": {
      "text/html": [
       "<pre>| 2m 52s                              | 29.25            | 47794           |</pre>"
      ],
      "text/plain": [
       "| 2m 52s                              | 29.25            | 47794           |"
      ]
     },
     "metadata": {},
     "output_type": "display_data"
    },
    {
     "data": {
      "text/html": [
       "<pre>| 2m 53s                              | 30.5             | 49738           |</pre>"
      ],
      "text/plain": [
       "| 2m 53s                              | 30.5             | 49738           |"
      ]
     },
     "metadata": {},
     "output_type": "display_data"
    },
    {
     "data": {
      "text/html": [
       "<pre>| 3m 20s                              | 30.75            | 50071           |</pre>"
      ],
      "text/plain": [
       "| 3m 20s                              | 30.75            | 50071           |"
      ]
     },
     "metadata": {},
     "output_type": "display_data"
    },
    {
     "data": {
      "text/html": [
       "<pre>| 3m 21s                              | 32.5             | 52868           |</pre>"
      ],
      "text/plain": [
       "| 3m 21s                              | 32.5             | 52868           |"
      ]
     },
     "metadata": {},
     "output_type": "display_data"
    },
    {
     "data": {
      "text/html": [
       "<pre>| 3m 22s                              | 34               | 55361           |</pre>"
      ],
      "text/plain": [
       "| 3m 22s                              | 34               | 55361           |"
      ]
     },
     "metadata": {},
     "output_type": "display_data"
    },
    {
     "data": {
      "text/html": [
       "<pre>| 3m 23s                              | 35.5             | 57893           |</pre>"
      ],
      "text/plain": [
       "| 3m 23s                              | 35.5             | 57893           |"
      ]
     },
     "metadata": {},
     "output_type": "display_data"
    },
    {
     "data": {
      "text/html": [
       "<pre>| 3m 24s                              | 37.25            | 60867           |</pre>"
      ],
      "text/plain": [
       "| 3m 24s                              | 37.25            | 60867           |"
      ]
     },
     "metadata": {},
     "output_type": "display_data"
    },
    {
     "data": {
      "text/html": [
       "<pre>| 3m 52s                              | 38.25            | 62549           |</pre>"
      ],
      "text/plain": [
       "| 3m 52s                              | 38.25            | 62549           |"
      ]
     },
     "metadata": {},
     "output_type": "display_data"
    },
    {
     "data": {
      "text/html": [
       "<pre>| 3m 53s                              | 40.75            | 66423           |</pre>"
      ],
      "text/plain": [
       "| 3m 53s                              | 40.75            | 66423           |"
      ]
     },
     "metadata": {},
     "output_type": "display_data"
    },
    {
     "data": {
      "text/html": [
       "<pre>| 3m 54s                              | 43               | 70099           |</pre>"
      ],
      "text/plain": [
       "| 3m 54s                              | 43               | 70099           |"
      ]
     },
     "metadata": {},
     "output_type": "display_data"
    },
    {
     "data": {
      "text/html": [
       "<pre>| 3m 55s                              | 45.25            | 73745           |</pre>"
      ],
      "text/plain": [
       "| 3m 55s                              | 45.25            | 73745           |"
      ]
     },
     "metadata": {},
     "output_type": "display_data"
    },
    {
     "data": {
      "text/html": [
       "<pre>| 4m 21s                              | 46               | 75026           |</pre>"
      ],
      "text/plain": [
       "| 4m 21s                              | 46               | 75026           |"
      ]
     },
     "metadata": {},
     "output_type": "display_data"
    },
    {
     "data": {
      "text/html": [
       "<pre>| 4m 22s                              | 49.25            | 80130           |</pre>"
      ],
      "text/plain": [
       "| 4m 22s                              | 49.25            | 80130           |"
      ]
     },
     "metadata": {},
     "output_type": "display_data"
    },
    {
     "data": {
      "text/html": [
       "<pre>| 4m 23s                              | 52.25            | 85245           |</pre>"
      ],
      "text/plain": [
       "| 4m 23s                              | 52.25            | 85245           |"
      ]
     },
     "metadata": {},
     "output_type": "display_data"
    },
    {
     "data": {
      "text/html": [
       "<pre>| 4m 52s                              | 53.75            | 87504           |</pre>"
      ],
      "text/plain": [
       "| 4m 52s                              | 53.75            | 87504           |"
      ]
     },
     "metadata": {},
     "output_type": "display_data"
    },
    {
     "data": {
      "text/html": [
       "<pre>| 4m 53s                              | 58               | 94278           |</pre>"
      ],
      "text/plain": [
       "| 4m 53s                              | 58               | 94278           |"
      ]
     },
     "metadata": {},
     "output_type": "display_data"
    },
    {
     "data": {
      "text/html": [
       "<pre>| 4m 54s                              | 61.5             | 99978           |</pre>"
      ],
      "text/plain": [
       "| 4m 54s                              | 61.5             | 99978           |"
      ]
     },
     "metadata": {},
     "output_type": "display_data"
    },
    {
     "data": {
      "text/html": [
       "<pre>| 5m 22s                              | 61.5             | 99981           |</pre>"
      ],
      "text/plain": [
       "| 5m 22s                              | 61.5             | 99981           |"
      ]
     },
     "metadata": {},
     "output_type": "display_data"
    },
    {
     "data": {
      "text/html": [
       "<pre>| 5m 23s                              | 67.25            | 109637          |</pre>"
      ],
      "text/plain": [
       "| 5m 23s                              | 67.25            | 109637          |"
      ]
     },
     "metadata": {},
     "output_type": "display_data"
    },
    {
     "data": {
      "text/html": [
       "<pre>| 5m 54s                              | 69               | 112459          |</pre>"
      ],
      "text/plain": [
       "| 5m 54s                              | 69               | 112459          |"
      ]
     },
     "metadata": {},
     "output_type": "display_data"
    },
    {
     "data": {
      "text/html": [
       "<pre>| 5m 55s                              | 76.5             | 124556          |</pre>"
      ],
      "text/plain": [
       "| 5m 55s                              | 76.5             | 124556          |"
      ]
     },
     "metadata": {},
     "output_type": "display_data"
    },
    {
     "data": {
      "text/html": [
       "<pre>| 6m 23s                              | 76.75            | 124936          |</pre>"
      ],
      "text/plain": [
       "| 6m 23s                              | 76.75            | 124936          |"
      ]
     },
     "metadata": {},
     "output_type": "display_data"
    },
    {
     "data": {
      "text/html": [
       "<pre>| 6m 51s                              | 84.5             | 137414          |</pre>"
      ],
      "text/plain": [
       "| 6m 51s                              | 84.5             | 137414          |"
      ]
     },
     "metadata": {},
     "output_type": "display_data"
    },
    {
     "data": {
      "text/html": [
       "<pre>| 7m 14s                              | 92               | 149891          |</pre>"
      ],
      "text/plain": [
       "| 7m 14s                              | 92               | 149891          |"
      ]
     },
     "metadata": {},
     "output_type": "display_data"
    },
    {
     "data": {
      "text/html": [
       "<pre>| 7m 21s                              | 100              | 162537          |</pre>"
      ],
      "text/plain": [
       "| 7m 21s                              | 100              | 162537          |"
      ]
     },
     "metadata": {},
     "output_type": "display_data"
    },
    {
     "data": {
      "text/html": [
       "<pre>+-------------------------------------+------------------+-----------------+</pre>"
      ],
      "text/plain": [
       "+-------------------------------------+------------------+-----------------+"
      ]
     },
     "metadata": {},
     "output_type": "display_data"
    },
    {
     "data": {
      "text/html": [
       "<pre>Finalizing lookup tables.</pre>"
      ],
      "text/plain": [
       "Finalizing lookup tables."
      ]
     },
     "metadata": {},
     "output_type": "display_data"
    },
    {
     "data": {
      "text/html": [
       "<pre>Generating candidate set for working with new users.</pre>"
      ],
      "text/plain": [
       "Generating candidate set for working with new users."
      ]
     },
     "metadata": {},
     "output_type": "display_data"
    },
    {
     "data": {
      "text/html": [
       "<pre>Finished training in 446.926s</pre>"
      ],
      "text/plain": [
       "Finished training in 446.926s"
      ]
     },
     "metadata": {},
     "output_type": "display_data"
    }
   ],
   "source": [
    "item_sim_model = gl.item_similarity_recommender.create(train_set, 'user_id', 'profile_id')\n"
   ]
  },
  {
   "cell_type": "code",
   "execution_count": null,
   "metadata": {
    "collapsed": true
   },
   "outputs": [],
   "source": []
  },
  {
   "cell_type": "markdown",
   "metadata": {},
   "source": [
    "## Interpretation\n"
   ]
  },
  {
   "cell_type": "code",
   "execution_count": null,
   "metadata": {
    "collapsed": true
   },
   "outputs": [],
   "source": [
    "# compare results\n",
    "result = gl.recommender.util.compare_models(test_set, [popularity_model, item_sim_model],\n",
    "                                            user_sample=.1, skip_set=train_set)"
   ]
  },
  {
   "cell_type": "code",
   "execution_count": null,
   "metadata": {
    "collapsed": true
   },
   "outputs": [],
   "source": [
    "# blank\n"
   ]
  },
  {
   "cell_type": "markdown",
   "metadata": {},
   "source": [
    "## Conclusion"
   ]
  },
  {
   "cell_type": "code",
   "execution_count": null,
   "metadata": {
    "collapsed": true
   },
   "outputs": [],
   "source": []
  }
 ],
 "metadata": {
  "kernelspec": {
   "display_name": "Python 2",
   "language": "python",
   "name": "python2"
  },
  "language_info": {
   "codemirror_mode": {
    "name": "ipython",
    "version": 2
   },
   "file_extension": ".py",
   "mimetype": "text/x-python",
   "name": "python",
   "nbconvert_exporter": "python",
   "pygments_lexer": "ipython2",
   "version": "2.7.11"
  }
 },
 "nbformat": 4,
 "nbformat_minor": 0
}
