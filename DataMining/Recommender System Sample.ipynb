{
 "cells": [
  {
   "cell_type": "markdown",
   "metadata": {},
   "source": [
    "## Data Mining - MSDS 7331 - Thurs 6:30, Summer 2016\n",
    "Team 3: Sal Melendez, Rahn Lieberman, Thomas Rogers\n",
    "\n",
    "Github page: https://github.com/RahnL/DataScience-SMU/tree/master/DataMining"
   ]
  },
  {
   "cell_type": "markdown",
   "metadata": {},
   "source": [
    "### Overview\n",
    "\n",
    "Our team chose to pursue collaborative filtering to build a custom recommendation system (Option C), using Amazon Instant Video recommendation data (http://jmcauley.ucsd.edu/data/amazon/)."
   ]
  },
  {
   "cell_type": "markdown",
   "metadata": {},
   "source": [
    "#### Business Understanding\n",
    "\n",
    "In the world of digital commerce, engagement equates to revenue and personalization ensures “stickiness”. Amazon understood these concepts before most and leveraged data science to enable mass personalization on a scale not previously possible through their recommender system. The distinction between mass marketing and personalized marketing is best measured by effectiveness. Mass marketing feels intrusive and often consists of tactics that are “pushed” to potential consumers. The flipside of the push is a “pull” which is a similarly motivated message, but through personalization almost feels helpful.\n",
    "\n",
    "An effective and scalable recommendation system is a competitive differentiator in many different markets. Consider that at its core, Amazon is a fairly simple marketplace with buyers and sellers. What makes Amazon powerful, beyond the breadth of offerings available, is that it brings insight to both sides of the buying and selling equation, with its recommendation system. \n",
    "\n",
    "Understanding the importance of recommender systems in digital commerce requires a bit of context. It may be that an algorithm exists to perfectly recommend a product to a person at the right place at the right time, but without elements like an effective user interface or without consideration for the user experience, that recommendation never makes it to the site visitor. "
   ]
  },
  {
   "cell_type": "markdown",
   "metadata": {},
   "source": [
    "#### Data Understanding\n",
    "\n",
    "The data for this effort is taken from product reviews and metadata from Amazon, including 142.8 million reviews spanning from May of 1996 to July of 2014. Our analysis focuses specifically on Amazon Instant Video reviews and contains the following variables of the following types:\n",
    "- asin – this is a unique variable defined by Amazon as, “A 10-character alphanumeric unique identifier assigned by Amazon.com and its partners for product identification within the Amazon organization.”\n",
    "- helpful – this is a 1 x 2 matrix of numeric values, indicating whether the review was found helpful by a person viewing it. (thoughts here?)\n",
    "- overall – this numeric value scales from 0 to 5 in whole increments.\n",
    "- reviewText – this alpha-numeric value consists of free-form text from users writing whatever they think may be helpful as a narrative review.\n",
    "- reviewTime – this variable consists of MM DD, YYYY and represents the date the review was made\n",
    "- reviewerID – this unique identifier is a 14-character alpha-numeric used to identify the person providing the review\n",
    "- reviewerName – this alphanumeric variable is user-defined and is the name that appears as the reviewer in the web application\n",
    "- summary – this alphanumeric text represents a sample of the reviewText variable\n",
    "- unixReviewTime – this ten-digit variable represents the time a review was given, in a standard format"
   ]
  },
  {
   "cell_type": "markdown",
   "metadata": {},
   "source": [
    "#### Import the data\n",
    "\n",
    "Below we set everything up by importing the data and looking at the first few records to validate what we expect to see in it.\n",
    "Instead of pulling the dataset from the web, we have a local copy of it."
   ]
  },
  {
   "cell_type": "code",
   "execution_count": 21,
   "metadata": {
    "collapsed": false
   },
   "outputs": [],
   "source": [
    "import graphlab as gl\n",
    "import pandas\n",
    "# set canvas to show sframes and sgraphs in ipython notebook\n",
    "gl.canvas.set_target('ipynb')\n",
    "import matplotlib.pyplot as plt\n",
    "%matplotlib inline\n",
    "\n",
    "\n",
    "# some Global settings\n",
    "# so we are standard across any recommenders that we build.\n",
    "\n",
    "# specify how many users to look up, so we don't need to look up everyone.\n",
    "# This is the number k, in the documentation.\n",
    "number_users = 5\n",
    "\n",
    "# specify how many reviews to consider.\n",
    "number_reviews = 10"
   ]
  },
  {
   "cell_type": "code",
   "execution_count": 22,
   "metadata": {
    "collapsed": false,
    "scrolled": false
   },
   "outputs": [
    {
     "data": {
      "text/html": [
       "<pre>Finished parsing file C:\\Users\\rahnl\\OneDrive\\Documents\\GitHub\\DataScience-SMU\\DataMining\\data\\Amazon_Instant_Video_5.json</pre>"
      ],
      "text/plain": [
       "Finished parsing file C:\\Users\\rahnl\\OneDrive\\Documents\\GitHub\\DataScience-SMU\\DataMining\\data\\Amazon_Instant_Video_5.json"
      ]
     },
     "metadata": {},
     "output_type": "display_data"
    },
    {
     "data": {
      "text/html": [
       "<pre>Parsing completed. Parsed 100 lines in 1.12961 secs.</pre>"
      ],
      "text/plain": [
       "Parsing completed. Parsed 100 lines in 1.12961 secs."
      ]
     },
     "metadata": {},
     "output_type": "display_data"
    },
    {
     "name": "stdout",
     "output_type": "stream",
     "text": [
      "------------------------------------------------------\n",
      "Inferred types from first 100 line(s) of file as \n",
      "column_type_hints=[dict]\n",
      "If parsing fails due to incorrect types, you can correct\n",
      "the inferred type list above and pass it to read_csv in\n",
      "the column_type_hints argument\n",
      "------------------------------------------------------\n"
     ]
    },
    {
     "data": {
      "text/html": [
       "<pre>Finished parsing file C:\\Users\\rahnl\\OneDrive\\Documents\\GitHub\\DataScience-SMU\\DataMining\\data\\Amazon_Instant_Video_5.json</pre>"
      ],
      "text/plain": [
       "Finished parsing file C:\\Users\\rahnl\\OneDrive\\Documents\\GitHub\\DataScience-SMU\\DataMining\\data\\Amazon_Instant_Video_5.json"
      ]
     },
     "metadata": {},
     "output_type": "display_data"
    },
    {
     "data": {
      "text/html": [
       "<pre>Parsing completed. Parsed 37126 lines in 0.500282 secs.</pre>"
      ],
      "text/plain": [
       "Parsing completed. Parsed 37126 lines in 0.500282 secs."
      ]
     },
     "metadata": {},
     "output_type": "display_data"
    },
    {
     "data": {
      "text/html": [
       "<div style=\"max-height:1000px;max-width:1500px;overflow:auto;\"><table frame=\"box\" rules=\"cols\">\n",
       "    <tr>\n",
       "        <th style=\"padding-left: 1em; padding-right: 1em; text-align: center\">asin</th>\n",
       "        <th style=\"padding-left: 1em; padding-right: 1em; text-align: center\">helpful</th>\n",
       "        <th style=\"padding-left: 1em; padding-right: 1em; text-align: center\">overall</th>\n",
       "        <th style=\"padding-left: 1em; padding-right: 1em; text-align: center\">reviewText</th>\n",
       "        <th style=\"padding-left: 1em; padding-right: 1em; text-align: center\">reviewTime</th>\n",
       "        <th style=\"padding-left: 1em; padding-right: 1em; text-align: center\">reviewerID</th>\n",
       "    </tr>\n",
       "    <tr>\n",
       "        <td style=\"padding-left: 1em; padding-right: 1em; text-align: center; vertical-align: top\">B000H00VBQ</td>\n",
       "        <td style=\"padding-left: 1em; padding-right: 1em; text-align: center; vertical-align: top\">[0, 0]</td>\n",
       "        <td style=\"padding-left: 1em; padding-right: 1em; text-align: center; vertical-align: top\">2.0</td>\n",
       "        <td style=\"padding-left: 1em; padding-right: 1em; text-align: center; vertical-align: top\">I had big expectations<br>because I love English ...</td>\n",
       "        <td style=\"padding-left: 1em; padding-right: 1em; text-align: center; vertical-align: top\">05 3, 2014</td>\n",
       "        <td style=\"padding-left: 1em; padding-right: 1em; text-align: center; vertical-align: top\">A11N155CW1UV02</td>\n",
       "    </tr>\n",
       "    <tr>\n",
       "        <td style=\"padding-left: 1em; padding-right: 1em; text-align: center; vertical-align: top\">B000H00VBQ</td>\n",
       "        <td style=\"padding-left: 1em; padding-right: 1em; text-align: center; vertical-align: top\">[0, 0]</td>\n",
       "        <td style=\"padding-left: 1em; padding-right: 1em; text-align: center; vertical-align: top\">5.0</td>\n",
       "        <td style=\"padding-left: 1em; padding-right: 1em; text-align: center; vertical-align: top\">I highly recommend this<br>series. It is a must for ...</td>\n",
       "        <td style=\"padding-left: 1em; padding-right: 1em; text-align: center; vertical-align: top\">09 3, 2012</td>\n",
       "        <td style=\"padding-left: 1em; padding-right: 1em; text-align: center; vertical-align: top\">A3BC8O2KCL29V2</td>\n",
       "    </tr>\n",
       "    <tr>\n",
       "        <td style=\"padding-left: 1em; padding-right: 1em; text-align: center; vertical-align: top\">B000H00VBQ</td>\n",
       "        <td style=\"padding-left: 1em; padding-right: 1em; text-align: center; vertical-align: top\">[0, 1]</td>\n",
       "        <td style=\"padding-left: 1em; padding-right: 1em; text-align: center; vertical-align: top\">1.0</td>\n",
       "        <td style=\"padding-left: 1em; padding-right: 1em; text-align: center; vertical-align: top\">This one is a real<br>snoozer. Don't believe ...</td>\n",
       "        <td style=\"padding-left: 1em; padding-right: 1em; text-align: center; vertical-align: top\">10 16, 2013</td>\n",
       "        <td style=\"padding-left: 1em; padding-right: 1em; text-align: center; vertical-align: top\">A60D5HQFOTSOM</td>\n",
       "    </tr>\n",
       "    <tr>\n",
       "        <td style=\"padding-left: 1em; padding-right: 1em; text-align: center; vertical-align: top\">B000H00VBQ</td>\n",
       "        <td style=\"padding-left: 1em; padding-right: 1em; text-align: center; vertical-align: top\">[0, 0]</td>\n",
       "        <td style=\"padding-left: 1em; padding-right: 1em; text-align: center; vertical-align: top\">4.0</td>\n",
       "        <td style=\"padding-left: 1em; padding-right: 1em; text-align: center; vertical-align: top\">Mysteries are<br>interesting.  The ten ...</td>\n",
       "        <td style=\"padding-left: 1em; padding-right: 1em; text-align: center; vertical-align: top\">10 30, 2013</td>\n",
       "        <td style=\"padding-left: 1em; padding-right: 1em; text-align: center; vertical-align: top\">A1RJPIGRSNX4PW</td>\n",
       "    </tr>\n",
       "    <tr>\n",
       "        <td style=\"padding-left: 1em; padding-right: 1em; text-align: center; vertical-align: top\">B000H00VBQ</td>\n",
       "        <td style=\"padding-left: 1em; padding-right: 1em; text-align: center; vertical-align: top\">[1, 1]</td>\n",
       "        <td style=\"padding-left: 1em; padding-right: 1em; text-align: center; vertical-align: top\">5.0</td>\n",
       "        <td style=\"padding-left: 1em; padding-right: 1em; text-align: center; vertical-align: top\">This show always is<br>excellent, as far as ...</td>\n",
       "        <td style=\"padding-left: 1em; padding-right: 1em; text-align: center; vertical-align: top\">02 11, 2009</td>\n",
       "        <td style=\"padding-left: 1em; padding-right: 1em; text-align: center; vertical-align: top\">A16XRPF40679KG</td>\n",
       "    </tr>\n",
       "    <tr>\n",
       "        <td style=\"padding-left: 1em; padding-right: 1em; text-align: center; vertical-align: top\">B000H00VBQ</td>\n",
       "        <td style=\"padding-left: 1em; padding-right: 1em; text-align: center; vertical-align: top\">[12, 12]</td>\n",
       "        <td style=\"padding-left: 1em; padding-right: 1em; text-align: center; vertical-align: top\">5.0</td>\n",
       "        <td style=\"padding-left: 1em; padding-right: 1em; text-align: center; vertical-align: top\">I discovered this series<br>quite by accident. Ha ...</td>\n",
       "        <td style=\"padding-left: 1em; padding-right: 1em; text-align: center; vertical-align: top\">10 11, 2011</td>\n",
       "        <td style=\"padding-left: 1em; padding-right: 1em; text-align: center; vertical-align: top\">A1POFVVXUZR3IQ</td>\n",
       "    </tr>\n",
       "    <tr>\n",
       "        <td style=\"padding-left: 1em; padding-right: 1em; text-align: center; vertical-align: top\">B000H0X79O</td>\n",
       "        <td style=\"padding-left: 1em; padding-right: 1em; text-align: center; vertical-align: top\">[0, 0]</td>\n",
       "        <td style=\"padding-left: 1em; padding-right: 1em; text-align: center; vertical-align: top\">3.0</td>\n",
       "        <td style=\"padding-left: 1em; padding-right: 1em; text-align: center; vertical-align: top\">It beats watching a blank<br>screen. However, I just ...</td>\n",
       "        <td style=\"padding-left: 1em; padding-right: 1em; text-align: center; vertical-align: top\">10 15, 2013</td>\n",
       "        <td style=\"padding-left: 1em; padding-right: 1em; text-align: center; vertical-align: top\">A1PG2VV4W1WRPL</td>\n",
       "    </tr>\n",
       "    <tr>\n",
       "        <td style=\"padding-left: 1em; padding-right: 1em; text-align: center; vertical-align: top\">B000H0X79O</td>\n",
       "        <td style=\"padding-left: 1em; padding-right: 1em; text-align: center; vertical-align: top\">[0, 0]</td>\n",
       "        <td style=\"padding-left: 1em; padding-right: 1em; text-align: center; vertical-align: top\">3.0</td>\n",
       "        <td style=\"padding-left: 1em; padding-right: 1em; text-align: center; vertical-align: top\">There are many episodes<br>in this series, so I ...</td>\n",
       "        <td style=\"padding-left: 1em; padding-right: 1em; text-align: center; vertical-align: top\">12 29, 2013</td>\n",
       "        <td style=\"padding-left: 1em; padding-right: 1em; text-align: center; vertical-align: top\">ATASGS8HZHGIB</td>\n",
       "    </tr>\n",
       "    <tr>\n",
       "        <td style=\"padding-left: 1em; padding-right: 1em; text-align: center; vertical-align: top\">B000H0X79O</td>\n",
       "        <td style=\"padding-left: 1em; padding-right: 1em; text-align: center; vertical-align: top\">[0, 0]</td>\n",
       "        <td style=\"padding-left: 1em; padding-right: 1em; text-align: center; vertical-align: top\">5.0</td>\n",
       "        <td style=\"padding-left: 1em; padding-right: 1em; text-align: center; vertical-align: top\">This is the best of the<br>best comedy Stand-up. ...</td>\n",
       "        <td style=\"padding-left: 1em; padding-right: 1em; text-align: center; vertical-align: top\">02 26, 2014</td>\n",
       "        <td style=\"padding-left: 1em; padding-right: 1em; text-align: center; vertical-align: top\">A3RXD7Z44T9DHW</td>\n",
       "    </tr>\n",
       "    <tr>\n",
       "        <td style=\"padding-left: 1em; padding-right: 1em; text-align: center; vertical-align: top\">B000H0X79O</td>\n",
       "        <td style=\"padding-left: 1em; padding-right: 1em; text-align: center; vertical-align: top\">[0, 0]</td>\n",
       "        <td style=\"padding-left: 1em; padding-right: 1em; text-align: center; vertical-align: top\">3.0</td>\n",
       "        <td style=\"padding-left: 1em; padding-right: 1em; text-align: center; vertical-align: top\">Not bad.  Didn't know any<br>of the comedians but ...</td>\n",
       "        <td style=\"padding-left: 1em; padding-right: 1em; text-align: center; vertical-align: top\">04 2, 2014</td>\n",
       "        <td style=\"padding-left: 1em; padding-right: 1em; text-align: center; vertical-align: top\">AUX8EUBNTHIIU</td>\n",
       "    </tr>\n",
       "</table>\n",
       "<table frame=\"box\" rules=\"cols\">\n",
       "    <tr>\n",
       "        <th style=\"padding-left: 1em; padding-right: 1em; text-align: center\">reviewerName</th>\n",
       "        <th style=\"padding-left: 1em; padding-right: 1em; text-align: center\">summary</th>\n",
       "        <th style=\"padding-left: 1em; padding-right: 1em; text-align: center\">unixReviewTime</th>\n",
       "    </tr>\n",
       "    <tr>\n",
       "        <td style=\"padding-left: 1em; padding-right: 1em; text-align: center; vertical-align: top\">AdrianaM</td>\n",
       "        <td style=\"padding-left: 1em; padding-right: 1em; text-align: center; vertical-align: top\">A little bit boring for<br>me ...</td>\n",
       "        <td style=\"padding-left: 1em; padding-right: 1em; text-align: center; vertical-align: top\">1399075200</td>\n",
       "    </tr>\n",
       "    <tr>\n",
       "        <td style=\"padding-left: 1em; padding-right: 1em; text-align: center; vertical-align: top\">Carol T</td>\n",
       "        <td style=\"padding-left: 1em; padding-right: 1em; text-align: center; vertical-align: top\">Excellent Grown Up TV</td>\n",
       "        <td style=\"padding-left: 1em; padding-right: 1em; text-align: center; vertical-align: top\">1346630400</td>\n",
       "    </tr>\n",
       "    <tr>\n",
       "        <td style=\"padding-left: 1em; padding-right: 1em; text-align: center; vertical-align: top\">Daniel Cooper<br>\"dancoopermedia\" ...</td>\n",
       "        <td style=\"padding-left: 1em; padding-right: 1em; text-align: center; vertical-align: top\">Way too boring for me</td>\n",
       "        <td style=\"padding-left: 1em; padding-right: 1em; text-align: center; vertical-align: top\">1381881600</td>\n",
       "    </tr>\n",
       "    <tr>\n",
       "        <td style=\"padding-left: 1em; padding-right: 1em; text-align: center; vertical-align: top\">J. Kaplan \"JJ\"</td>\n",
       "        <td style=\"padding-left: 1em; padding-right: 1em; text-align: center; vertical-align: top\">Robson Green is<br>mesmerizing ...</td>\n",
       "        <td style=\"padding-left: 1em; padding-right: 1em; text-align: center; vertical-align: top\">1383091200</td>\n",
       "    </tr>\n",
       "    <tr>\n",
       "        <td style=\"padding-left: 1em; padding-right: 1em; text-align: center; vertical-align: top\">Michael Dobey</td>\n",
       "        <td style=\"padding-left: 1em; padding-right: 1em; text-align: center; vertical-align: top\">Robson green and great<br>writing ...</td>\n",
       "        <td style=\"padding-left: 1em; padding-right: 1em; text-align: center; vertical-align: top\">1234310400</td>\n",
       "    </tr>\n",
       "    <tr>\n",
       "        <td style=\"padding-left: 1em; padding-right: 1em; text-align: center; vertical-align: top\">Z Hayes</td>\n",
       "        <td style=\"padding-left: 1em; padding-right: 1em; text-align: center; vertical-align: top\">I purchased the series<br>via streaming and loved ...</td>\n",
       "        <td style=\"padding-left: 1em; padding-right: 1em; text-align: center; vertical-align: top\">1318291200</td>\n",
       "    </tr>\n",
       "    <tr>\n",
       "        <td style=\"padding-left: 1em; padding-right: 1em; text-align: center; vertical-align: top\">Jimmy C. Saunders \"Papa<br>Smurf\" ...</td>\n",
       "        <td style=\"padding-left: 1em; padding-right: 1em; text-align: center; vertical-align: top\">It takes up your time.</td>\n",
       "        <td style=\"padding-left: 1em; padding-right: 1em; text-align: center; vertical-align: top\">1381795200</td>\n",
       "    </tr>\n",
       "    <tr>\n",
       "        <td style=\"padding-left: 1em; padding-right: 1em; text-align: center; vertical-align: top\">JohnnyC</td>\n",
       "        <td style=\"padding-left: 1em; padding-right: 1em; text-align: center; vertical-align: top\">A reasonable way to kill<br>a few minutes ...</td>\n",
       "        <td style=\"padding-left: 1em; padding-right: 1em; text-align: center; vertical-align: top\">1388275200</td>\n",
       "    </tr>\n",
       "    <tr>\n",
       "        <td style=\"padding-left: 1em; padding-right: 1em; text-align: center; vertical-align: top\">Kansas</td>\n",
       "        <td style=\"padding-left: 1em; padding-right: 1em; text-align: center; vertical-align: top\">kansas001</td>\n",
       "        <td style=\"padding-left: 1em; padding-right: 1em; text-align: center; vertical-align: top\">1393372800</td>\n",
       "    </tr>\n",
       "    <tr>\n",
       "        <td style=\"padding-left: 1em; padding-right: 1em; text-align: center; vertical-align: top\">Louis V. Borsellino</td>\n",
       "        <td style=\"padding-left: 1em; padding-right: 1em; text-align: center; vertical-align: top\">Entertaining Comedy</td>\n",
       "        <td style=\"padding-left: 1em; padding-right: 1em; text-align: center; vertical-align: top\">1396396800</td>\n",
       "    </tr>\n",
       "</table>\n",
       "[10 rows x 9 columns]<br/>\n",
       "</div>"
      ],
      "text/plain": [
       "Columns:\n",
       "\tasin\tstr\n",
       "\thelpful\tlist\n",
       "\toverall\tfloat\n",
       "\treviewText\tstr\n",
       "\treviewTime\tstr\n",
       "\treviewerID\tstr\n",
       "\treviewerName\tstr\n",
       "\tsummary\tstr\n",
       "\tunixReviewTime\tint\n",
       "\n",
       "Rows: 10\n",
       "\n",
       "Data:\n",
       "+------------+----------+---------+-------------------------------+-------------+\n",
       "|    asin    | helpful  | overall |           reviewText          |  reviewTime |\n",
       "+------------+----------+---------+-------------------------------+-------------+\n",
       "| B000H00VBQ |  [0, 0]  |   2.0   | I had big expectations bec... |  05 3, 2014 |\n",
       "| B000H00VBQ |  [0, 0]  |   5.0   | I highly recommend this se... |  09 3, 2012 |\n",
       "| B000H00VBQ |  [0, 1]  |   1.0   | This one is a real snoozer... | 10 16, 2013 |\n",
       "| B000H00VBQ |  [0, 0]  |   4.0   | Mysteries are interesting.... | 10 30, 2013 |\n",
       "| B000H00VBQ |  [1, 1]  |   5.0   | This show always is excell... | 02 11, 2009 |\n",
       "| B000H00VBQ | [12, 12] |   5.0   | I discovered this series q... | 10 11, 2011 |\n",
       "| B000H0X79O |  [0, 0]  |   3.0   | It beats watching a blank ... | 10 15, 2013 |\n",
       "| B000H0X79O |  [0, 0]  |   3.0   | There are many episodes in... | 12 29, 2013 |\n",
       "| B000H0X79O |  [0, 0]  |   5.0   | This is the best of the be... | 02 26, 2014 |\n",
       "| B000H0X79O |  [0, 0]  |   3.0   | Not bad.  Didn't know any ... |  04 2, 2014 |\n",
       "+------------+----------+---------+-------------------------------+-------------+\n",
       "+----------------+--------------------------------+\n",
       "|   reviewerID   |          reviewerName          |\n",
       "+----------------+--------------------------------+\n",
       "| A11N155CW1UV02 |            AdrianaM            |\n",
       "| A3BC8O2KCL29V2 |            Carol T             |\n",
       "| A60D5HQFOTSOM  | Daniel Cooper \"dancoopermedia\" |\n",
       "| A1RJPIGRSNX4PW |         J. Kaplan \"JJ\"         |\n",
       "| A16XRPF40679KG |         Michael Dobey          |\n",
       "| A1POFVVXUZR3IQ |            Z Hayes             |\n",
       "| A1PG2VV4W1WRPL | Jimmy C. Saunders \"Papa Smurf\" |\n",
       "| ATASGS8HZHGIB  |            JohnnyC             |\n",
       "| A3RXD7Z44T9DHW |             Kansas             |\n",
       "| AUX8EUBNTHIIU  |      Louis V. Borsellino       |\n",
       "+----------------+--------------------------------+\n",
       "+--------------------------------+----------------+\n",
       "|            summary             | unixReviewTime |\n",
       "+--------------------------------+----------------+\n",
       "|   A little bit boring for me   |   1399075200   |\n",
       "|     Excellent Grown Up TV      |   1346630400   |\n",
       "|     Way too boring for me      |   1381881600   |\n",
       "|  Robson Green is mesmerizing   |   1383091200   |\n",
       "| Robson green and great writing |   1234310400   |\n",
       "| I purchased the series via...  |   1318291200   |\n",
       "|     It takes up your time.     |   1381795200   |\n",
       "| A reasonable way to kill a...  |   1388275200   |\n",
       "|           kansas001            |   1393372800   |\n",
       "|      Entertaining Comedy       |   1396396800   |\n",
       "+--------------------------------+----------------+\n",
       "[10 rows x 9 columns]"
      ]
     },
     "execution_count": 22,
     "metadata": {},
     "output_type": "execute_result"
    }
   ],
   "source": [
    "# Load the data.  It's already been downloaded from the site listed above\n",
    "# amazonfile = 'C:/Users/trogers/Documents/GitHub/DataScience-SMU/DataMining/data/Amazon_Instant_Video_5.json'\n",
    "amazonfile = './data/Amazon_Instant_Video_5.json'\n",
    "sf = gl.SFrame.read_json(amazonfile,orient='lines')\n",
    "sf.head()"
   ]
  },
  {
   "cell_type": "markdown",
   "metadata": {
    "collapsed": false
   },
   "source": [
    "---\n",
    "\n",
    "The table above is showing the fields in the dataset.  The three primary variables we are interested in is the ASIN, rating, and reviewer.\n",
    "\n",
    "The reviewer is the person who just watched a particular video, identified by the ASIN.  Based on the video, we want to recommend other videos (ASIN's) based on what other people have watchined who have also seen the just-viewed data, and have rated the other videos high."
   ]
  },
  {
   "cell_type": "markdown",
   "metadata": {},
   "source": [
    "#### Data Quality\n",
    "\n",
    "The basic descriptive statistics below demonstrate that there are no missing values, duplicate data or outliers. The data is clean and nothing needs fixing. Interesting to note that the average overall rating is a 4.2, that seems high and raises a question, do people only rate movies if they enjoy them?"
   ]
  },
  {
   "cell_type": "code",
   "execution_count": 23,
   "metadata": {
    "collapsed": false
   },
   "outputs": [
    {
     "data": {
      "text/plain": [
       "4.209529709637443"
      ]
     },
     "execution_count": 23,
     "metadata": {},
     "output_type": "execute_result"
    }
   ],
   "source": [
    "sf['overall'].mean()"
   ]
  },
  {
   "cell_type": "code",
   "execution_count": 24,
   "metadata": {
    "collapsed": false
   },
   "outputs": [
    {
     "data": {
      "text/plain": [
       "1.1185346025400438"
      ]
     },
     "execution_count": 24,
     "metadata": {},
     "output_type": "execute_result"
    }
   ],
   "source": [
    "sf['overall'].std()"
   ]
  },
  {
   "cell_type": "markdown",
   "metadata": {},
   "source": [
    "### Data Visualization\n",
    "\n",
    "This section does some visualization of the initital data, in order to explore it a bit, and see what we're working with from a different perspective.\n"
   ]
  },
  {
   "cell_type": "code",
   "execution_count": 25,
   "metadata": {
    "collapsed": false
   },
   "outputs": [],
   "source": [
    "# Reading the JSON file into pandas for analysis and visualization\n",
    "\n",
    "import matplotlib.pyplot as plt\n",
    "import pandas as pd\n",
    "pd.options.display.mpl_style = 'default'\n",
    "with open(amazonfile, 'rb') as f:\n",
    "    data = f.readlines()\n",
    "\n",
    "# remove the trailing \"\\n\" from each line\n",
    "data = map(lambda x: x.rstrip(), data)\n",
    "\n",
    "# each element of 'data' is an individual JSON object.\n",
    "# i want to convert it into an *array* of JSON objects\n",
    "# which, in and of itself, is one large JSON object\n",
    "# basically... add square brackets to the beginning\n",
    "# and end, and have all the individual business JSON objects\n",
    "# separated by a comma\n",
    "data_json_str = \"[\" + ','.join(data) + \"]\"\n",
    "\n",
    "# now, load it into pandas\n",
    "data_df = pd.read_json(data_json_str)"
   ]
  },
  {
   "cell_type": "markdown",
   "metadata": {},
   "source": [
    "---\n",
    "\n",
    "The graph below shows a histogram of the review ratings."
   ]
  },
  {
   "cell_type": "code",
   "execution_count": 26,
   "metadata": {
    "collapsed": false
   },
   "outputs": [
    {
     "data": {
      "text/plain": [
       "array([[<matplotlib.axes._subplots.AxesSubplot object at 0x0000000016294E48>]], dtype=object)"
      ]
     },
     "execution_count": 26,
     "metadata": {},
     "output_type": "execute_result"
    },
    {
     "data": {
      "image/png": "[encoded data removed]",
      "text/plain": [
       "<matplotlib.figure.Figure at 0x16358358>"
      ]
     },
     "metadata": {},
     "output_type": "display_data"
    }
   ],
   "source": [
    "pd.options.display.mpl_style = 'default'\n",
    "data_df.hist('overall')"
   ]
  },
  {
   "cell_type": "markdown",
   "metadata": {},
   "source": [
    "The majority of them are rating a 5.0, which is a little puzzling.  \n"
   ]
  },
  {
   "cell_type": "code",
   "execution_count": 27,
   "metadata": {
    "collapsed": false
   },
   "outputs": [
    {
     "data": {
      "text/html": [
       "<div>\n",
       "<table border=\"1\" class=\"dataframe\">\n",
       "  <thead>\n",
       "    <tr style=\"text-align: right;\">\n",
       "      <th></th>\n",
       "      <th>overall</th>\n",
       "      <th>unixReviewTime</th>\n",
       "    </tr>\n",
       "    <tr>\n",
       "      <th>asin</th>\n",
       "      <th></th>\n",
       "      <th></th>\n",
       "    </tr>\n",
       "  </thead>\n",
       "  <tbody>\n",
       "    <tr>\n",
       "      <th>B00A1ZV2KG</th>\n",
       "      <td>5.000000</td>\n",
       "      <td>1.393114e+09</td>\n",
       "    </tr>\n",
       "    <tr>\n",
       "      <th>B00D6MQ6ZM</th>\n",
       "      <td>5.000000</td>\n",
       "      <td>1.390522e+09</td>\n",
       "    </tr>\n",
       "    <tr>\n",
       "      <th>B00DI2NTK0</th>\n",
       "      <td>5.000000</td>\n",
       "      <td>1.379318e+09</td>\n",
       "    </tr>\n",
       "    <tr>\n",
       "      <th>B00332YHLU</th>\n",
       "      <td>5.000000</td>\n",
       "      <td>1.388252e+09</td>\n",
       "    </tr>\n",
       "    <tr>\n",
       "      <th>B004SKQHYQ</th>\n",
       "      <td>5.000000</td>\n",
       "      <td>1.356964e+09</td>\n",
       "    </tr>\n",
       "    <tr>\n",
       "      <th>B009DNVLH6</th>\n",
       "      <td>5.000000</td>\n",
       "      <td>1.387567e+09</td>\n",
       "    </tr>\n",
       "    <tr>\n",
       "      <th>B003336P1Y</th>\n",
       "      <td>5.000000</td>\n",
       "      <td>1.378401e+09</td>\n",
       "    </tr>\n",
       "    <tr>\n",
       "      <th>B00B09HOGI</th>\n",
       "      <td>5.000000</td>\n",
       "      <td>1.381647e+09</td>\n",
       "    </tr>\n",
       "    <tr>\n",
       "      <th>B009KZYJ62</th>\n",
       "      <td>5.000000</td>\n",
       "      <td>1.385320e+09</td>\n",
       "    </tr>\n",
       "    <tr>\n",
       "      <th>B004E2BY8W</th>\n",
       "      <td>5.000000</td>\n",
       "      <td>1.393960e+09</td>\n",
       "    </tr>\n",
       "    <tr>\n",
       "      <th>B009L46WWQ</th>\n",
       "      <td>5.000000</td>\n",
       "      <td>1.367626e+09</td>\n",
       "    </tr>\n",
       "    <tr>\n",
       "      <th>B004CD4J44</th>\n",
       "      <td>5.000000</td>\n",
       "      <td>1.394755e+09</td>\n",
       "    </tr>\n",
       "    <tr>\n",
       "      <th>B00EC82O8M</th>\n",
       "      <td>5.000000</td>\n",
       "      <td>1.394617e+09</td>\n",
       "    </tr>\n",
       "    <tr>\n",
       "      <th>B003AI2E8K</th>\n",
       "      <td>5.000000</td>\n",
       "      <td>1.385128e+09</td>\n",
       "    </tr>\n",
       "    <tr>\n",
       "      <th>B004BHISOI</th>\n",
       "      <td>5.000000</td>\n",
       "      <td>1.387528e+09</td>\n",
       "    </tr>\n",
       "    <tr>\n",
       "      <th>B004BHGDYK</th>\n",
       "      <td>5.000000</td>\n",
       "      <td>1.380559e+09</td>\n",
       "    </tr>\n",
       "    <tr>\n",
       "      <th>B00AYU5ULA</th>\n",
       "      <td>5.000000</td>\n",
       "      <td>1.373950e+09</td>\n",
       "    </tr>\n",
       "    <tr>\n",
       "      <th>B002T33I64</th>\n",
       "      <td>5.000000</td>\n",
       "      <td>1.390925e+09</td>\n",
       "    </tr>\n",
       "    <tr>\n",
       "      <th>B003BYDUPY</th>\n",
       "      <td>5.000000</td>\n",
       "      <td>1.384696e+09</td>\n",
       "    </tr>\n",
       "    <tr>\n",
       "      <th>B000UERE3M</th>\n",
       "      <td>5.000000</td>\n",
       "      <td>1.303784e+09</td>\n",
       "    </tr>\n",
       "    <tr>\n",
       "      <th>B004AUIJ04</th>\n",
       "      <td>5.000000</td>\n",
       "      <td>1.393667e+09</td>\n",
       "    </tr>\n",
       "    <tr>\n",
       "      <th>B000ULZLYY</th>\n",
       "      <td>5.000000</td>\n",
       "      <td>1.347470e+09</td>\n",
       "    </tr>\n",
       "    <tr>\n",
       "      <th>B003DZ3AJ2</th>\n",
       "      <td>5.000000</td>\n",
       "      <td>1.378166e+09</td>\n",
       "    </tr>\n",
       "    <tr>\n",
       "      <th>B003FGNS9Q</th>\n",
       "      <td>5.000000</td>\n",
       "      <td>1.375018e+09</td>\n",
       "    </tr>\n",
       "    <tr>\n",
       "      <th>B0047L75W4</th>\n",
       "      <td>5.000000</td>\n",
       "      <td>1.325664e+09</td>\n",
       "    </tr>\n",
       "    <tr>\n",
       "      <th>B00EDG3GQ2</th>\n",
       "      <td>5.000000</td>\n",
       "      <td>1.392307e+09</td>\n",
       "    </tr>\n",
       "    <tr>\n",
       "      <th>B009PNW4LG</th>\n",
       "      <td>5.000000</td>\n",
       "      <td>1.388232e+09</td>\n",
       "    </tr>\n",
       "    <tr>\n",
       "      <th>B00APE00ZG</th>\n",
       "      <td>5.000000</td>\n",
       "      <td>1.375868e+09</td>\n",
       "    </tr>\n",
       "    <tr>\n",
       "      <th>B0041GKKNG</th>\n",
       "      <td>5.000000</td>\n",
       "      <td>1.374638e+09</td>\n",
       "    </tr>\n",
       "    <tr>\n",
       "      <th>B003QH7E94</th>\n",
       "      <td>5.000000</td>\n",
       "      <td>1.383187e+09</td>\n",
       "    </tr>\n",
       "    <tr>\n",
       "      <th>...</th>\n",
       "      <td>...</td>\n",
       "      <td>...</td>\n",
       "    </tr>\n",
       "    <tr>\n",
       "      <th>B00CBRH4YU</th>\n",
       "      <td>2.333333</td>\n",
       "      <td>1.377120e+09</td>\n",
       "    </tr>\n",
       "    <tr>\n",
       "      <th>B00K2PN9JM</th>\n",
       "      <td>2.333333</td>\n",
       "      <td>1.402013e+09</td>\n",
       "    </tr>\n",
       "    <tr>\n",
       "      <th>B00CW8CTWU</th>\n",
       "      <td>2.333333</td>\n",
       "      <td>1.384877e+09</td>\n",
       "    </tr>\n",
       "    <tr>\n",
       "      <th>B00AWMR6DA</th>\n",
       "      <td>2.300000</td>\n",
       "      <td>1.388664e+09</td>\n",
       "    </tr>\n",
       "    <tr>\n",
       "      <th>B002YJN6KQ</th>\n",
       "      <td>2.250000</td>\n",
       "      <td>1.380154e+09</td>\n",
       "    </tr>\n",
       "    <tr>\n",
       "      <th>B00IPQAQGE</th>\n",
       "      <td>2.200000</td>\n",
       "      <td>1.396414e+09</td>\n",
       "    </tr>\n",
       "    <tr>\n",
       "      <th>B00AAA8JSK</th>\n",
       "      <td>2.200000</td>\n",
       "      <td>1.379566e+09</td>\n",
       "    </tr>\n",
       "    <tr>\n",
       "      <th>B00742GOP2</th>\n",
       "      <td>2.200000</td>\n",
       "      <td>1.354527e+09</td>\n",
       "    </tr>\n",
       "    <tr>\n",
       "      <th>B004LXIPAO</th>\n",
       "      <td>2.166667</td>\n",
       "      <td>1.367798e+09</td>\n",
       "    </tr>\n",
       "    <tr>\n",
       "      <th>B005FYL60E</th>\n",
       "      <td>2.166667</td>\n",
       "      <td>1.357070e+09</td>\n",
       "    </tr>\n",
       "    <tr>\n",
       "      <th>B002JJC6E8</th>\n",
       "      <td>2.142857</td>\n",
       "      <td>1.333127e+09</td>\n",
       "    </tr>\n",
       "    <tr>\n",
       "      <th>B00DM0UX2A</th>\n",
       "      <td>2.142857</td>\n",
       "      <td>1.392176e+09</td>\n",
       "    </tr>\n",
       "    <tr>\n",
       "      <th>B00LBVQW3Q</th>\n",
       "      <td>2.125000</td>\n",
       "      <td>1.405102e+09</td>\n",
       "    </tr>\n",
       "    <tr>\n",
       "      <th>B00ETKEFQ2</th>\n",
       "      <td>2.111111</td>\n",
       "      <td>1.386000e+09</td>\n",
       "    </tr>\n",
       "    <tr>\n",
       "      <th>B00EAI9R1Q</th>\n",
       "      <td>2.066667</td>\n",
       "      <td>1.390084e+09</td>\n",
       "    </tr>\n",
       "    <tr>\n",
       "      <th>B009CPIQQE</th>\n",
       "      <td>2.000000</td>\n",
       "      <td>1.367038e+09</td>\n",
       "    </tr>\n",
       "    <tr>\n",
       "      <th>B009XOJQF4</th>\n",
       "      <td>2.000000</td>\n",
       "      <td>1.394565e+09</td>\n",
       "    </tr>\n",
       "    <tr>\n",
       "      <th>B006RXPUQ8</th>\n",
       "      <td>2.000000</td>\n",
       "      <td>1.364221e+09</td>\n",
       "    </tr>\n",
       "    <tr>\n",
       "      <th>B0084RZPPQ</th>\n",
       "      <td>2.000000</td>\n",
       "      <td>1.382906e+09</td>\n",
       "    </tr>\n",
       "    <tr>\n",
       "      <th>B009LG31R8</th>\n",
       "      <td>2.000000</td>\n",
       "      <td>1.371842e+09</td>\n",
       "    </tr>\n",
       "    <tr>\n",
       "      <th>B00FEBZ6XG</th>\n",
       "      <td>2.000000</td>\n",
       "      <td>1.392457e+09</td>\n",
       "    </tr>\n",
       "    <tr>\n",
       "      <th>B0080SSSJ4</th>\n",
       "      <td>1.857143</td>\n",
       "      <td>1.384313e+09</td>\n",
       "    </tr>\n",
       "    <tr>\n",
       "      <th>B00CU71AY6</th>\n",
       "      <td>1.842105</td>\n",
       "      <td>1.386806e+09</td>\n",
       "    </tr>\n",
       "    <tr>\n",
       "      <th>B00DYQC59G</th>\n",
       "      <td>1.833333</td>\n",
       "      <td>1.385986e+09</td>\n",
       "    </tr>\n",
       "    <tr>\n",
       "      <th>B00FW5WBW8</th>\n",
       "      <td>1.833333</td>\n",
       "      <td>1.391270e+09</td>\n",
       "    </tr>\n",
       "    <tr>\n",
       "      <th>B00978LMCG</th>\n",
       "      <td>1.625000</td>\n",
       "      <td>1.380413e+09</td>\n",
       "    </tr>\n",
       "    <tr>\n",
       "      <th>B009N452XY</th>\n",
       "      <td>1.600000</td>\n",
       "      <td>1.387774e+09</td>\n",
       "    </tr>\n",
       "    <tr>\n",
       "      <th>B003ECUGHI</th>\n",
       "      <td>1.400000</td>\n",
       "      <td>1.385338e+09</td>\n",
       "    </tr>\n",
       "    <tr>\n",
       "      <th>B007OKD3GC</th>\n",
       "      <td>1.200000</td>\n",
       "      <td>1.352748e+09</td>\n",
       "    </tr>\n",
       "    <tr>\n",
       "      <th>B00F55HZB2</th>\n",
       "      <td>1.000000</td>\n",
       "      <td>1.385309e+09</td>\n",
       "    </tr>\n",
       "  </tbody>\n",
       "</table>\n",
       "<p>1685 rows × 2 columns</p>\n",
       "</div>"
      ],
      "text/plain": [
       "             overall  unixReviewTime\n",
       "asin                                \n",
       "B00A1ZV2KG  5.000000    1.393114e+09\n",
       "B00D6MQ6ZM  5.000000    1.390522e+09\n",
       "B00DI2NTK0  5.000000    1.379318e+09\n",
       "B00332YHLU  5.000000    1.388252e+09\n",
       "B004SKQHYQ  5.000000    1.356964e+09\n",
       "B009DNVLH6  5.000000    1.387567e+09\n",
       "B003336P1Y  5.000000    1.378401e+09\n",
       "B00B09HOGI  5.000000    1.381647e+09\n",
       "B009KZYJ62  5.000000    1.385320e+09\n",
       "B004E2BY8W  5.000000    1.393960e+09\n",
       "B009L46WWQ  5.000000    1.367626e+09\n",
       "B004CD4J44  5.000000    1.394755e+09\n",
       "B00EC82O8M  5.000000    1.394617e+09\n",
       "B003AI2E8K  5.000000    1.385128e+09\n",
       "B004BHISOI  5.000000    1.387528e+09\n",
       "B004BHGDYK  5.000000    1.380559e+09\n",
       "B00AYU5ULA  5.000000    1.373950e+09\n",
       "B002T33I64  5.000000    1.390925e+09\n",
       "B003BYDUPY  5.000000    1.384696e+09\n",
       "B000UERE3M  5.000000    1.303784e+09\n",
       "B004AUIJ04  5.000000    1.393667e+09\n",
       "B000ULZLYY  5.000000    1.347470e+09\n",
       "B003DZ3AJ2  5.000000    1.378166e+09\n",
       "B003FGNS9Q  5.000000    1.375018e+09\n",
       "B0047L75W4  5.000000    1.325664e+09\n",
       "B00EDG3GQ2  5.000000    1.392307e+09\n",
       "B009PNW4LG  5.000000    1.388232e+09\n",
       "B00APE00ZG  5.000000    1.375868e+09\n",
       "B0041GKKNG  5.000000    1.374638e+09\n",
       "B003QH7E94  5.000000    1.383187e+09\n",
       "...              ...             ...\n",
       "B00CBRH4YU  2.333333    1.377120e+09\n",
       "B00K2PN9JM  2.333333    1.402013e+09\n",
       "B00CW8CTWU  2.333333    1.384877e+09\n",
       "B00AWMR6DA  2.300000    1.388664e+09\n",
       "B002YJN6KQ  2.250000    1.380154e+09\n",
       "B00IPQAQGE  2.200000    1.396414e+09\n",
       "B00AAA8JSK  2.200000    1.379566e+09\n",
       "B00742GOP2  2.200000    1.354527e+09\n",
       "B004LXIPAO  2.166667    1.367798e+09\n",
       "B005FYL60E  2.166667    1.357070e+09\n",
       "B002JJC6E8  2.142857    1.333127e+09\n",
       "B00DM0UX2A  2.142857    1.392176e+09\n",
       "B00LBVQW3Q  2.125000    1.405102e+09\n",
       "B00ETKEFQ2  2.111111    1.386000e+09\n",
       "B00EAI9R1Q  2.066667    1.390084e+09\n",
       "B009CPIQQE  2.000000    1.367038e+09\n",
       "B009XOJQF4  2.000000    1.394565e+09\n",
       "B006RXPUQ8  2.000000    1.364221e+09\n",
       "B0084RZPPQ  2.000000    1.382906e+09\n",
       "B009LG31R8  2.000000    1.371842e+09\n",
       "B00FEBZ6XG  2.000000    1.392457e+09\n",
       "B0080SSSJ4  1.857143    1.384313e+09\n",
       "B00CU71AY6  1.842105    1.386806e+09\n",
       "B00DYQC59G  1.833333    1.385986e+09\n",
       "B00FW5WBW8  1.833333    1.391270e+09\n",
       "B00978LMCG  1.625000    1.380413e+09\n",
       "B009N452XY  1.600000    1.387774e+09\n",
       "B003ECUGHI  1.400000    1.385338e+09\n",
       "B007OKD3GC  1.200000    1.352748e+09\n",
       "B00F55HZB2  1.000000    1.385309e+09\n",
       "\n",
       "[1685 rows x 2 columns]"
      ]
     },
     "execution_count": 27,
     "metadata": {},
     "output_type": "execute_result"
    }
   ],
   "source": [
    "asingrouped = data_df.groupby('asin').mean()\n",
    "asingrouped.sort_values(by='overall',ascending=False)"
   ]
  },
  {
   "cell_type": "markdown",
   "metadata": {},
   "source": [
    "##### Build the model\n",
    "\n",
    "We randomly split our data into a training (80%) and test (20%) sets."
   ]
  },
  {
   "cell_type": "code",
   "execution_count": 28,
   "metadata": {
    "collapsed": false
   },
   "outputs": [],
   "source": [
    "(train_set, test_set) = sf.random_split(0.8, seed=1)"
   ]
  },
  {
   "cell_type": "markdown",
   "metadata": {},
   "source": [
    "First, we'll create a popularity model, which is based just off the ratings field in the file."
   ]
  },
  {
   "cell_type": "code",
   "execution_count": 29,
   "metadata": {
    "collapsed": false,
    "scrolled": false
   },
   "outputs": [
    {
     "data": {
      "text/html": [
       "<pre>Recsys training: model = popularity</pre>"
      ],
      "text/plain": [
       "Recsys training: model = popularity"
      ]
     },
     "metadata": {},
     "output_type": "display_data"
    },
    {
     "data": {
      "text/html": [
       "<pre>Warning: Ignoring columns helpful, reviewText, reviewTime, reviewerName, summary, unixReviewTime;</pre>"
      ],
      "text/plain": [
       "Warning: Ignoring columns helpful, reviewText, reviewTime, reviewerName, summary, unixReviewTime;"
      ]
     },
     "metadata": {},
     "output_type": "display_data"
    },
    {
     "data": {
      "text/html": [
       "<pre>    To use these columns in scoring predictions, use a model that allows the use of additional features.</pre>"
      ],
      "text/plain": [
       "    To use these columns in scoring predictions, use a model that allows the use of additional features."
      ]
     },
     "metadata": {},
     "output_type": "display_data"
    },
    {
     "data": {
      "text/html": [
       "<pre>Preparing data set.</pre>"
      ],
      "text/plain": [
       "Preparing data set."
      ]
     },
     "metadata": {},
     "output_type": "display_data"
    },
    {
     "data": {
      "text/html": [
       "<pre>    Data has 29707 observations with 5130 users and 1685 items.</pre>"
      ],
      "text/plain": [
       "    Data has 29707 observations with 5130 users and 1685 items."
      ]
     },
     "metadata": {},
     "output_type": "display_data"
    },
    {
     "data": {
      "text/html": [
       "<pre>    Data prepared in: 0.052138s</pre>"
      ],
      "text/plain": [
       "    Data prepared in: 0.052138s"
      ]
     },
     "metadata": {},
     "output_type": "display_data"
    },
    {
     "data": {
      "text/html": [
       "<pre>29707 observations to process; with 1685 unique items.</pre>"
      ],
      "text/plain": [
       "29707 observations to process; with 1685 unique items."
      ]
     },
     "metadata": {},
     "output_type": "display_data"
    }
   ],
   "source": [
    "# remember \"overall\" is the rating field.\n",
    "\n",
    "popularity_model = gl.popularity_recommender.create(train_set, user_id='reviewerID', item_id='asin',\n",
    "                                                    target='overall', \n",
    "                                                    user_data=None, \n",
    "                                                    item_data=None,\n",
    "                                                    random_seed=0,\n",
    "                                                    verbose=True)"
   ]
  },
  {
   "cell_type": "markdown",
   "metadata": {},
   "source": [
    "---\n",
    "Using the popularity model, lets looks at the first few recommendations, and evaluate for ourselves if they look good. \n",
    "\n",
    "The popularity model is a good baseline recommender to use to compare against other recommenders, to see how they do against each other. This creates recommendations based on how often something is seen in the training set, and is good for sparse data or where a specific user may not be specified.\n",
    "\n",
    "\n",
    "*** Note that you can look up ASIN's on Amazon using a special URL format, or typing it into the search button.  For this sample, we didn't create an account that would allow us to auto-look these up in code.  The look up is done by hand. *"
   ]
  },
  {
   "cell_type": "code",
   "execution_count": 31,
   "metadata": {
    "collapsed": false
   },
   "outputs": [
    {
     "data": {
      "text/html": [
       "<div style=\"max-height:1000px;max-width:1500px;overflow:auto;\"><table frame=\"box\" rules=\"cols\">\n",
       "    <tr>\n",
       "        <th style=\"padding-left: 1em; padding-right: 1em; text-align: center\">reviewerID</th>\n",
       "        <th style=\"padding-left: 1em; padding-right: 1em; text-align: center\">asin</th>\n",
       "        <th style=\"padding-left: 1em; padding-right: 1em; text-align: center\">score</th>\n",
       "        <th style=\"padding-left: 1em; padding-right: 1em; text-align: center\">rank</th>\n",
       "    </tr>\n",
       "    <tr>\n",
       "        <td style=\"padding-left: 1em; padding-right: 1em; text-align: center; vertical-align: top\">1</td>\n",
       "        <td style=\"padding-left: 1em; padding-right: 1em; text-align: center; vertical-align: top\">B003336P1Y</td>\n",
       "        <td style=\"padding-left: 1em; padding-right: 1em; text-align: center; vertical-align: top\">5.0</td>\n",
       "        <td style=\"padding-left: 1em; padding-right: 1em; text-align: center; vertical-align: top\">1</td>\n",
       "    </tr>\n",
       "    <tr>\n",
       "        <td style=\"padding-left: 1em; padding-right: 1em; text-align: center; vertical-align: top\">1</td>\n",
       "        <td style=\"padding-left: 1em; padding-right: 1em; text-align: center; vertical-align: top\">B00332YHLU</td>\n",
       "        <td style=\"padding-left: 1em; padding-right: 1em; text-align: center; vertical-align: top\">5.0</td>\n",
       "        <td style=\"padding-left: 1em; padding-right: 1em; text-align: center; vertical-align: top\">2</td>\n",
       "    </tr>\n",
       "    <tr>\n",
       "        <td style=\"padding-left: 1em; padding-right: 1em; text-align: center; vertical-align: top\">1</td>\n",
       "        <td style=\"padding-left: 1em; padding-right: 1em; text-align: center; vertical-align: top\">B002T33I64</td>\n",
       "        <td style=\"padding-left: 1em; padding-right: 1em; text-align: center; vertical-align: top\">5.0</td>\n",
       "        <td style=\"padding-left: 1em; padding-right: 1em; text-align: center; vertical-align: top\">3</td>\n",
       "    </tr>\n",
       "    <tr>\n",
       "        <td style=\"padding-left: 1em; padding-right: 1em; text-align: center; vertical-align: top\">1</td>\n",
       "        <td style=\"padding-left: 1em; padding-right: 1em; text-align: center; vertical-align: top\">B001NJO76U</td>\n",
       "        <td style=\"padding-left: 1em; padding-right: 1em; text-align: center; vertical-align: top\">5.0</td>\n",
       "        <td style=\"padding-left: 1em; padding-right: 1em; text-align: center; vertical-align: top\">4</td>\n",
       "    </tr>\n",
       "    <tr>\n",
       "        <td style=\"padding-left: 1em; padding-right: 1em; text-align: center; vertical-align: top\">1</td>\n",
       "        <td style=\"padding-left: 1em; padding-right: 1em; text-align: center; vertical-align: top\">B001I8O2MK</td>\n",
       "        <td style=\"padding-left: 1em; padding-right: 1em; text-align: center; vertical-align: top\">5.0</td>\n",
       "        <td style=\"padding-left: 1em; padding-right: 1em; text-align: center; vertical-align: top\">5</td>\n",
       "    </tr>\n",
       "    <tr>\n",
       "        <td style=\"padding-left: 1em; padding-right: 1em; text-align: center; vertical-align: top\">1</td>\n",
       "        <td style=\"padding-left: 1em; padding-right: 1em; text-align: center; vertical-align: top\">B001ATJQB4</td>\n",
       "        <td style=\"padding-left: 1em; padding-right: 1em; text-align: center; vertical-align: top\">5.0</td>\n",
       "        <td style=\"padding-left: 1em; padding-right: 1em; text-align: center; vertical-align: top\">6</td>\n",
       "    </tr>\n",
       "    <tr>\n",
       "        <td style=\"padding-left: 1em; padding-right: 1em; text-align: center; vertical-align: top\">1</td>\n",
       "        <td style=\"padding-left: 1em; padding-right: 1em; text-align: center; vertical-align: top\">B000VU2STU</td>\n",
       "        <td style=\"padding-left: 1em; padding-right: 1em; text-align: center; vertical-align: top\">5.0</td>\n",
       "        <td style=\"padding-left: 1em; padding-right: 1em; text-align: center; vertical-align: top\">7</td>\n",
       "    </tr>\n",
       "    <tr>\n",
       "        <td style=\"padding-left: 1em; padding-right: 1em; text-align: center; vertical-align: top\">1</td>\n",
       "        <td style=\"padding-left: 1em; padding-right: 1em; text-align: center; vertical-align: top\">B000ULZLYY</td>\n",
       "        <td style=\"padding-left: 1em; padding-right: 1em; text-align: center; vertical-align: top\">5.0</td>\n",
       "        <td style=\"padding-left: 1em; padding-right: 1em; text-align: center; vertical-align: top\">8</td>\n",
       "    </tr>\n",
       "    <tr>\n",
       "        <td style=\"padding-left: 1em; padding-right: 1em; text-align: center; vertical-align: top\">1</td>\n",
       "        <td style=\"padding-left: 1em; padding-right: 1em; text-align: center; vertical-align: top\">B000UERE3M</td>\n",
       "        <td style=\"padding-left: 1em; padding-right: 1em; text-align: center; vertical-align: top\">5.0</td>\n",
       "        <td style=\"padding-left: 1em; padding-right: 1em; text-align: center; vertical-align: top\">9</td>\n",
       "    </tr>\n",
       "    <tr>\n",
       "        <td style=\"padding-left: 1em; padding-right: 1em; text-align: center; vertical-align: top\">1</td>\n",
       "        <td style=\"padding-left: 1em; padding-right: 1em; text-align: center; vertical-align: top\">B000IKP5AM</td>\n",
       "        <td style=\"padding-left: 1em; padding-right: 1em; text-align: center; vertical-align: top\">5.0</td>\n",
       "        <td style=\"padding-left: 1em; padding-right: 1em; text-align: center; vertical-align: top\">10</td>\n",
       "    </tr>\n",
       "</table>\n",
       "[40 rows x 4 columns]<br/>Note: Only the head of the SFrame is printed.<br/>You can use print_rows(num_rows=m, num_columns=n) to print more rows and columns.\n",
       "</div>"
      ],
      "text/plain": [
       "Columns:\n",
       "\treviewerID\tstr\n",
       "\tasin\tstr\n",
       "\tscore\tfloat\n",
       "\trank\tint\n",
       "\n",
       "Rows: 40\n",
       "\n",
       "Data:\n",
       "+------------+------------+-------+------+\n",
       "| reviewerID |    asin    | score | rank |\n",
       "+------------+------------+-------+------+\n",
       "|     1      | B003336P1Y |  5.0  |  1   |\n",
       "|     1      | B00332YHLU |  5.0  |  2   |\n",
       "|     1      | B002T33I64 |  5.0  |  3   |\n",
       "|     1      | B001NJO76U |  5.0  |  4   |\n",
       "|     1      | B001I8O2MK |  5.0  |  5   |\n",
       "|     1      | B001ATJQB4 |  5.0  |  6   |\n",
       "|     1      | B000VU2STU |  5.0  |  7   |\n",
       "|     1      | B000ULZLYY |  5.0  |  8   |\n",
       "|     1      | B000UERE3M |  5.0  |  9   |\n",
       "|     1      | B000IKP5AM |  5.0  |  10  |\n",
       "+------------+------------+-------+------+\n",
       "[40 rows x 4 columns]\n",
       "Note: Only the head of the SFrame is printed.\n",
       "You can use print_rows(num_rows=m, num_columns=n) to print more rows and columns."
      ]
     },
     "execution_count": 31,
     "metadata": {},
     "output_type": "execute_result"
    }
   ],
   "source": [
    "popularity_model.recommend(users=range(1,number_users),k=number_reviews)"
   ]
  },
  {
   "cell_type": "markdown",
   "metadata": {},
   "source": [
    "---\n",
    "\n",
    "1. https://www.amazon.com/exec/obidos/ASIN/B003336P1Y : Curious George (Season 3)\n",
    "2. https://www.amazon.com/exec/obidos/ASIN/B00332YHLU : Curious George (Season 2)\n",
    "3. https://www.amazon.com/exec/obidos/ASIN/B002T33I64 : Sesame Street (Season 36)\n",
    "4. https://www.amazon.com/exec/obidos/ASIN/B001NJO76U : Dirty Jobs (Season 1)\n",
    "5. https://www.amazon.com/exec/obidos/ASIN/B001I8O2MK : ER (Season 15)\n",
    "\n",
    "For the first 3, these seem reasonable.  A kid watching a show would want to watch more of the same, or a another kids show.\n"
   ]
  },
  {
   "cell_type": "markdown",
   "metadata": {
    "collapsed": false
   },
   "source": [
    "---\n",
    "##### Collaborative filtering\n",
    "\n",
    "Next, lets create a collaborative filter.  This will make predictions based on other users activities, such as people who watch Curious George also watch Sesame Street.\n",
    "\n",
    "For similarity type, we can chose between three type:\n",
    "* **Jaccard:**  This is typically used in boolean decisions, not ratings.\n",
    "* **Cosine:** \n",
    "* **Pearson:**\n",
    "\n"
   ]
  },
  {
   "cell_type": "code",
   "execution_count": 35,
   "metadata": {
    "collapsed": false
   },
   "outputs": [
    {
     "data": {
      "text/html": [
       "<pre>Recsys training: model = item_similarity</pre>"
      ],
      "text/plain": [
       "Recsys training: model = item_similarity"
      ]
     },
     "metadata": {},
     "output_type": "display_data"
    },
    {
     "data": {
      "text/html": [
       "<pre>Warning: Ignoring columns helpful, reviewText, reviewTime, reviewerName, summary, unixReviewTime;</pre>"
      ],
      "text/plain": [
       "Warning: Ignoring columns helpful, reviewText, reviewTime, reviewerName, summary, unixReviewTime;"
      ]
     },
     "metadata": {},
     "output_type": "display_data"
    },
    {
     "data": {
      "text/html": [
       "<pre>    To use these columns in scoring predictions, use a model that allows the use of additional features.</pre>"
      ],
      "text/plain": [
       "    To use these columns in scoring predictions, use a model that allows the use of additional features."
      ]
     },
     "metadata": {},
     "output_type": "display_data"
    },
    {
     "data": {
      "text/html": [
       "<pre>Preparing data set.</pre>"
      ],
      "text/plain": [
       "Preparing data set."
      ]
     },
     "metadata": {},
     "output_type": "display_data"
    },
    {
     "data": {
      "text/html": [
       "<pre>    Data has 29707 observations with 5130 users and 1685 items.</pre>"
      ],
      "text/plain": [
       "    Data has 29707 observations with 5130 users and 1685 items."
      ]
     },
     "metadata": {},
     "output_type": "display_data"
    },
    {
     "data": {
      "text/html": [
       "<pre>    Data prepared in: 0.054699s</pre>"
      ],
      "text/plain": [
       "    Data prepared in: 0.054699s"
      ]
     },
     "metadata": {},
     "output_type": "display_data"
    },
    {
     "data": {
      "text/html": [
       "<pre>Training model from provided data.</pre>"
      ],
      "text/plain": [
       "Training model from provided data."
      ]
     },
     "metadata": {},
     "output_type": "display_data"
    },
    {
     "data": {
      "text/html": [
       "<pre>Gathering per-item and per-user statistics.</pre>"
      ],
      "text/plain": [
       "Gathering per-item and per-user statistics."
      ]
     },
     "metadata": {},
     "output_type": "display_data"
    },
    {
     "data": {
      "text/html": [
       "<pre>+--------------------------------+------------+</pre>"
      ],
      "text/plain": [
       "+--------------------------------+------------+"
      ]
     },
     "metadata": {},
     "output_type": "display_data"
    },
    {
     "data": {
      "text/html": [
       "<pre>| Elapsed Time (Item Statistics) | % Complete |</pre>"
      ],
      "text/plain": [
       "| Elapsed Time (Item Statistics) | % Complete |"
      ]
     },
     "metadata": {},
     "output_type": "display_data"
    },
    {
     "data": {
      "text/html": [
       "<pre>+--------------------------------+------------+</pre>"
      ],
      "text/plain": [
       "+--------------------------------+------------+"
      ]
     },
     "metadata": {},
     "output_type": "display_data"
    },
    {
     "data": {
      "text/html": [
       "<pre>| 2.009ms                        | 58.25      |</pre>"
      ],
      "text/plain": [
       "| 2.009ms                        | 58.25      |"
      ]
     },
     "metadata": {},
     "output_type": "display_data"
    },
    {
     "data": {
      "text/html": [
       "<pre>| 3.014ms                        | 100        |</pre>"
      ],
      "text/plain": [
       "| 3.014ms                        | 100        |"
      ]
     },
     "metadata": {},
     "output_type": "display_data"
    },
    {
     "data": {
      "text/html": [
       "<pre>+--------------------------------+------------+</pre>"
      ],
      "text/plain": [
       "+--------------------------------+------------+"
      ]
     },
     "metadata": {},
     "output_type": "display_data"
    },
    {
     "data": {
      "text/html": [
       "<pre>Setting up lookup tables.</pre>"
      ],
      "text/plain": [
       "Setting up lookup tables."
      ]
     },
     "metadata": {},
     "output_type": "display_data"
    },
    {
     "data": {
      "text/html": [
       "<pre>Processing data in one pass using dense lookup tables.</pre>"
      ],
      "text/plain": [
       "Processing data in one pass using dense lookup tables."
      ]
     },
     "metadata": {},
     "output_type": "display_data"
    },
    {
     "data": {
      "text/html": [
       "<pre>+-------------------------------------+------------------+-----------------+</pre>"
      ],
      "text/plain": [
       "+-------------------------------------+------------------+-----------------+"
      ]
     },
     "metadata": {},
     "output_type": "display_data"
    },
    {
     "data": {
      "text/html": [
       "<pre>| Elapsed Time (Constructing Lookups) | Total % Complete | Items Processed |</pre>"
      ],
      "text/plain": [
       "| Elapsed Time (Constructing Lookups) | Total % Complete | Items Processed |"
      ]
     },
     "metadata": {},
     "output_type": "display_data"
    },
    {
     "data": {
      "text/html": [
       "<pre>+-------------------------------------+------------------+-----------------+</pre>"
      ],
      "text/plain": [
       "+-------------------------------------+------------------+-----------------+"
      ]
     },
     "metadata": {},
     "output_type": "display_data"
    },
    {
     "data": {
      "text/html": [
       "<pre>| 199.157ms                           | 0                | 1               |</pre>"
      ],
      "text/plain": [
       "| 199.157ms                           | 0                | 1               |"
      ]
     },
     "metadata": {},
     "output_type": "display_data"
    },
    {
     "data": {
      "text/html": [
       "<pre>| 251.799ms                           | 100              | 1685            |</pre>"
      ],
      "text/plain": [
       "| 251.799ms                           | 100              | 1685            |"
      ]
     },
     "metadata": {},
     "output_type": "display_data"
    },
    {
     "data": {
      "text/html": [
       "<pre>+-------------------------------------+------------------+-----------------+</pre>"
      ],
      "text/plain": [
       "+-------------------------------------+------------------+-----------------+"
      ]
     },
     "metadata": {},
     "output_type": "display_data"
    },
    {
     "data": {
      "text/html": [
       "<pre>Finalizing lookup tables.</pre>"
      ],
      "text/plain": [
       "Finalizing lookup tables."
      ]
     },
     "metadata": {},
     "output_type": "display_data"
    },
    {
     "data": {
      "text/html": [
       "<pre>Generating candidate set for working with new users.</pre>"
      ],
      "text/plain": [
       "Generating candidate set for working with new users."
      ]
     },
     "metadata": {},
     "output_type": "display_data"
    },
    {
     "data": {
      "text/html": [
       "<pre>Finished training in 0.295918s</pre>"
      ],
      "text/plain": [
       "Finished training in 0.295918s"
      ]
     },
     "metadata": {},
     "output_type": "display_data"
    }
   ],
   "source": [
    "item_sim_model = gl.item_similarity_recommender.create(train_set, \n",
    "                                                       user_id='reviewerID', \n",
    "                                                       item_id='asin',\n",
    "                                                       target='overall',\n",
    "                                                       similarity_type='pearson'\n",
    "                                                      )\n",
    "\n"
   ]
  },
  {
   "cell_type": "markdown",
   "metadata": {
    "collapsed": true
   },
   "source": [
    "--- \n",
    "And again, a simple sanity check:\n"
   ]
  },
  {
   "cell_type": "code",
   "execution_count": 34,
   "metadata": {
    "collapsed": false
   },
   "outputs": [
    {
     "data": {
      "text/html": [
       "<div style=\"max-height:1000px;max-width:1500px;overflow:auto;\"><table frame=\"box\" rules=\"cols\">\n",
       "    <tr>\n",
       "        <th style=\"padding-left: 1em; padding-right: 1em; text-align: center\">reviewerID</th>\n",
       "        <th style=\"padding-left: 1em; padding-right: 1em; text-align: center\">asin</th>\n",
       "        <th style=\"padding-left: 1em; padding-right: 1em; text-align: center\">score</th>\n",
       "        <th style=\"padding-left: 1em; padding-right: 1em; text-align: center\">rank</th>\n",
       "    </tr>\n",
       "    <tr>\n",
       "        <td style=\"padding-left: 1em; padding-right: 1em; text-align: center; vertical-align: top\">1</td>\n",
       "        <td style=\"padding-left: 1em; padding-right: 1em; text-align: center; vertical-align: top\">B00I3MNGCG</td>\n",
       "        <td style=\"padding-left: 1em; padding-right: 1em; text-align: center; vertical-align: top\">0.0350060808659</td>\n",
       "        <td style=\"padding-left: 1em; padding-right: 1em; text-align: center; vertical-align: top\">1</td>\n",
       "    </tr>\n",
       "    <tr>\n",
       "        <td style=\"padding-left: 1em; padding-right: 1em; text-align: center; vertical-align: top\">1</td>\n",
       "        <td style=\"padding-left: 1em; padding-right: 1em; text-align: center; vertical-align: top\">B00CDBR1P6</td>\n",
       "        <td style=\"padding-left: 1em; padding-right: 1em; text-align: center; vertical-align: top\">0.0338644742966</td>\n",
       "        <td style=\"padding-left: 1em; padding-right: 1em; text-align: center; vertical-align: top\">2</td>\n",
       "    </tr>\n",
       "    <tr>\n",
       "        <td style=\"padding-left: 1em; padding-right: 1em; text-align: center; vertical-align: top\">1</td>\n",
       "        <td style=\"padding-left: 1em; padding-right: 1em; text-align: center; vertical-align: top\">B00I3MPDP4</td>\n",
       "        <td style=\"padding-left: 1em; padding-right: 1em; text-align: center; vertical-align: top\">0.033683552742</td>\n",
       "        <td style=\"padding-left: 1em; padding-right: 1em; text-align: center; vertical-align: top\">3</td>\n",
       "    </tr>\n",
       "    <tr>\n",
       "        <td style=\"padding-left: 1em; padding-right: 1em; text-align: center; vertical-align: top\">1</td>\n",
       "        <td style=\"padding-left: 1em; padding-right: 1em; text-align: center; vertical-align: top\">B00I3MNVBW</td>\n",
       "        <td style=\"padding-left: 1em; padding-right: 1em; text-align: center; vertical-align: top\">0.0330168366432</td>\n",
       "        <td style=\"padding-left: 1em; padding-right: 1em; text-align: center; vertical-align: top\">4</td>\n",
       "    </tr>\n",
       "    <tr>\n",
       "        <td style=\"padding-left: 1em; padding-right: 1em; text-align: center; vertical-align: top\">1</td>\n",
       "        <td style=\"padding-left: 1em; padding-right: 1em; text-align: center; vertical-align: top\">B00I3MMTS8</td>\n",
       "        <td style=\"padding-left: 1em; padding-right: 1em; text-align: center; vertical-align: top\">0.031788932085</td>\n",
       "        <td style=\"padding-left: 1em; padding-right: 1em; text-align: center; vertical-align: top\">5</td>\n",
       "    </tr>\n",
       "    <tr>\n",
       "        <td style=\"padding-left: 1em; padding-right: 1em; text-align: center; vertical-align: top\">1</td>\n",
       "        <td style=\"padding-left: 1em; padding-right: 1em; text-align: center; vertical-align: top\">B00CDBTQCW</td>\n",
       "        <td style=\"padding-left: 1em; padding-right: 1em; text-align: center; vertical-align: top\">0.0315881764889</td>\n",
       "        <td style=\"padding-left: 1em; padding-right: 1em; text-align: center; vertical-align: top\">6</td>\n",
       "    </tr>\n",
       "    <tr>\n",
       "        <td style=\"padding-left: 1em; padding-right: 1em; text-align: center; vertical-align: top\">1</td>\n",
       "        <td style=\"padding-left: 1em; padding-right: 1em; text-align: center; vertical-align: top\">B00CBNOD0W</td>\n",
       "        <td style=\"padding-left: 1em; padding-right: 1em; text-align: center; vertical-align: top\">0.0305130386353</td>\n",
       "        <td style=\"padding-left: 1em; padding-right: 1em; text-align: center; vertical-align: top\">7</td>\n",
       "    </tr>\n",
       "    <tr>\n",
       "        <td style=\"padding-left: 1em; padding-right: 1em; text-align: center; vertical-align: top\">1</td>\n",
       "        <td style=\"padding-left: 1em; padding-right: 1em; text-align: center; vertical-align: top\">B00CBNOBYU</td>\n",
       "        <td style=\"padding-left: 1em; padding-right: 1em; text-align: center; vertical-align: top\">0.0296063923836</td>\n",
       "        <td style=\"padding-left: 1em; padding-right: 1em; text-align: center; vertical-align: top\">8</td>\n",
       "    </tr>\n",
       "    <tr>\n",
       "        <td style=\"padding-left: 1em; padding-right: 1em; text-align: center; vertical-align: top\">1</td>\n",
       "        <td style=\"padding-left: 1em; padding-right: 1em; text-align: center; vertical-align: top\">B00APE00H4</td>\n",
       "        <td style=\"padding-left: 1em; padding-right: 1em; text-align: center; vertical-align: top\">0.0280364501476</td>\n",
       "        <td style=\"padding-left: 1em; padding-right: 1em; text-align: center; vertical-align: top\">9</td>\n",
       "    </tr>\n",
       "    <tr>\n",
       "        <td style=\"padding-left: 1em; padding-right: 1em; text-align: center; vertical-align: top\">1</td>\n",
       "        <td style=\"padding-left: 1em; padding-right: 1em; text-align: center; vertical-align: top\">B00CDBQNZU</td>\n",
       "        <td style=\"padding-left: 1em; padding-right: 1em; text-align: center; vertical-align: top\">0.0270222604275</td>\n",
       "        <td style=\"padding-left: 1em; padding-right: 1em; text-align: center; vertical-align: top\">10</td>\n",
       "    </tr>\n",
       "</table>\n",
       "[40 rows x 4 columns]<br/>Note: Only the head of the SFrame is printed.<br/>You can use print_rows(num_rows=m, num_columns=n) to print more rows and columns.\n",
       "</div>"
      ],
      "text/plain": [
       "Columns:\n",
       "\treviewerID\tstr\n",
       "\tasin\tstr\n",
       "\tscore\tfloat\n",
       "\trank\tint\n",
       "\n",
       "Rows: 40\n",
       "\n",
       "Data:\n",
       "+------------+------------+-----------------+------+\n",
       "| reviewerID |    asin    |      score      | rank |\n",
       "+------------+------------+-----------------+------+\n",
       "|     1      | B00I3MNGCG | 0.0350060808659 |  1   |\n",
       "|     1      | B00CDBR1P6 | 0.0338644742966 |  2   |\n",
       "|     1      | B00I3MPDP4 |  0.033683552742 |  3   |\n",
       "|     1      | B00I3MNVBW | 0.0330168366432 |  4   |\n",
       "|     1      | B00I3MMTS8 |  0.031788932085 |  5   |\n",
       "|     1      | B00CDBTQCW | 0.0315881764889 |  6   |\n",
       "|     1      | B00CBNOD0W | 0.0305130386353 |  7   |\n",
       "|     1      | B00CBNOBYU | 0.0296063923836 |  8   |\n",
       "|     1      | B00APE00H4 | 0.0280364501476 |  9   |\n",
       "|     1      | B00CDBQNZU | 0.0270222604275 |  10  |\n",
       "+------------+------------+-----------------+------+\n",
       "[40 rows x 4 columns]\n",
       "Note: Only the head of the SFrame is printed.\n",
       "You can use print_rows(num_rows=m, num_columns=n) to print more rows and columns."
      ]
     },
     "execution_count": 34,
     "metadata": {},
     "output_type": "execute_result"
    }
   ],
   "source": [
    "item_sim_model.recommend(users=range(1,number_users),k=number_reviews)\n"
   ]
  },
  {
   "cell_type": "markdown",
   "metadata": {},
   "source": [
    "---\n",
    "1. https://www.amazon.com/exec/obidos/ASIN/B00I3MPDP4 : Bosch (Season 1)\n",
    "2. https://www.amazon.com/exec/obidos/ASIN/B00I3MNGCG : Mozart in the Jungle (Season 1)\n",
    "3. https://www.amazon.com/exec/obidos/ASIN/B00I3MMTS8 : Transparent (Season 1)\n",
    "4. https://www.amazon.com/exec/obidos/ASIN/B00I3MNVBW : The Rebels (Season 1)\n",
    "5. https://www.amazon.com/exec/obidos/ASIN/B00C6C96UK : Kill Zombies\n",
    "\n",
    "While this is a bit of a random assortment, it seems like a reasonable set of things to recommend.  The first 4 are drama's, and the comedy movie.\n"
   ]
  },
  {
   "cell_type": "markdown",
   "metadata": {},
   "source": [
    "Next, we will compare the two models to each other, and see how they do."
   ]
  },
  {
   "cell_type": "code",
   "execution_count": null,
   "metadata": {
    "collapsed": false
   },
   "outputs": [],
   "source": [
    "result = gl.recommender.util.compare_models(test_set, [popularity_model, item_sim_model],\n",
    "                                            user_sample=.1, skip_set=train_set)"
   ]
  },
  {
   "cell_type": "code",
   "execution_count": null,
   "metadata": {
    "collapsed": false
   },
   "outputs": [],
   "source": [
    "\n",
    "K = 10\n",
    "users = gl.SArray(sf['reviewerID'].unique().head(100))\n",
    "\n",
    "recs = item_sim_model.recommend(users=users, k=K)\n",
    "recs.head()"
   ]
  },
  {
   "cell_type": "code",
   "execution_count": null,
   "metadata": {
    "collapsed": false
   },
   "outputs": [],
   "source": [
    "from IPython.display import display\n",
    "from IPython.display import Image\n",
    "\n",
    "gl.canvas.set_target('ipynb')\n",
    "\n",
    "item_item = gl.recommender.item_similarity_recommender.create(train_set, \n",
    "                                  user_id=\"reviewerID\", \n",
    "                                  item_id=\"asin\", \n",
    "                                  target=\"overall\",\n",
    "                                  only_top_k=number_users,\n",
    "                                  similarity_type=\"cosine\")\n",
    "\n",
    "rmse_results = item_item.evaluate(test_set)"
   ]
  },
  {
   "cell_type": "code",
   "execution_count": null,
   "metadata": {
    "collapsed": false
   },
   "outputs": [],
   "source": [
    "print rmse_results.viewkeys()\n",
    "print rmse_results['rmse_by_item']"
   ]
  },
  {
   "cell_type": "code",
   "execution_count": null,
   "metadata": {
    "collapsed": false
   },
   "outputs": [],
   "source": [
    "\n",
    "rmse_results['rmse_by_user']"
   ]
  },
  {
   "cell_type": "markdown",
   "metadata": {},
   "source": [
    "#### Deployment\n",
    "\n",
    "\n",
    "*** Be critical of your performance and tell the reader how you current model might be usable by other parties. Did you achieve your goals? If not, can you reign in the utility of your modeling? • How useful is your model for interested parties (i.e., the companies or organizations that might want to use it)? • How would your deploy your model for interested parties?  • What other data should be collected?  • How often would the model need to be updated, etc.? *"
   ]
  },
  {
   "cell_type": "markdown",
   "metadata": {},
   "source": [
    "One thing missing in our data is any personal information about the reviewers, and information about the videos, such as genre, producers, actors, etc.\n",
    "This information would be helpful to make the recommendations more personal.  That is, if we knew someones age, we could target based on recommendations by others with a same age group.  If we know someone likes watching British cooking shows, we could use that as a basis.\n"
   ]
  },
  {
   "cell_type": "markdown",
   "metadata": {},
   "source": [
    "For a full-scale deployment, we would need to add in the lookup to Amazon, so show the video names instead of having to look it up manually.\n",
    "\n",
    "It would also be good to be able to identify the particular user/reviewer, and look up the recommendations for that person.  That, in-fact, would be the end result for a production system."
   ]
  },
  {
   "cell_type": "markdown",
   "metadata": {
    "collapsed": true
   },
   "source": [
    "####  References:\n",
    "* https://github.com/turi-code/tutorials/blob/master/notebooks/recsys_rank_10K_song.ipynb\n",
    "* https://github.com/turi-code/tutorials/blob/master/notebooks/five_line_recommender.ipynb\n",
    "\n",
    "Dataset:\n",
    "\n",
    "Image-based recommendations on styles and substitutes\n",
    "J. McAuley, C. Targett, J. Shi, A. van den Hengel\n",
    "SIGIR, 2015\n",
    "\n",
    "Inferring networks of substitutable and complementary products\n",
    "J. McAuley, R. Pandey, J. Leskovec\n",
    "Knowledge Discovery and Data Mining, 2015\n",
    "\n",
    "http://jmcauley.ucsd.edu/data/amazon/"
   ]
  },
  {
   "cell_type": "code",
   "execution_count": null,
   "metadata": {
    "collapsed": true
   },
   "outputs": [],
   "source": []
  }
 ],
 "metadata": {
  "kernelspec": {
   "display_name": "Python 2",
   "language": "python",
   "name": "python2"
  },
  "language_info": {
   "codemirror_mode": {
    "name": "ipython",
    "version": 2
   },
   "file_extension": ".py",
   "mimetype": "text/x-python",
   "name": "python",
   "nbconvert_exporter": "python",
   "pygments_lexer": "ipython2",
   "version": "2.7.11"
  }
 },
 "nbformat": 4,
 "nbformat_minor": 0
}
