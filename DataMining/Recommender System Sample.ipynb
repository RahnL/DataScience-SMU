{
 "cells": [
  {
   "cell_type": "markdown",
   "metadata": {},
   "source": [
    "## Data Mining - MSDS 7331 - Thurs 6:30, Summer 2016\n",
    "Team 3: Sal Melendez, Rahn Lieberman, Thomas Rogers\n",
    "\n",
    "Github page: https://github.com/RahnL/DataScience-SMU/tree/master/DataMining"
   ]
  },
  {
   "cell_type": "markdown",
   "metadata": {},
   "source": [
    "### Overview\n",
    "\n",
    "Our team chose to pursue collaborative filtering to build a custom recommendation system (Option C), using Amazon Instant Video recommendation data (http://jmcauley.ucsd.edu/data/amazon/)."
   ]
  },
  {
   "cell_type": "markdown",
   "metadata": {},
   "source": [
    "#### Business Understanding\n",
    "\n",
    "In the world of digital commerce, engagement equates to revenue and personalization ensures “stickiness”. Amazon understood these concepts before most and leveraged data science to enable mass personalization on a scale not previously possible through their recommender system. The distinction between mass marketing and personalized marketing is best measured by effectiveness. Mass marketing feels intrusive and often consists of tactics that are “pushed” to potential consumers. The flipside of the push is a “pull” which is a similarly motivated message, but through personalization almost feels helpful.\n",
    "\n",
    "An effective and scalable recommendation system is a competitive differentiator in many different markets. Consider that at its core, Amazon is a fairly simple marketplace with buyers and sellers. What makes Amazon powerful, beyond the breadth of offerings available, is that it brings insight to both sides of the buying and selling equation, with its recommendation system. \n",
    "\n",
    "Understanding the importance of recommender systems in digital commerce requires a bit of context. It may be that an algorithm exists to perfectly recommend a product to a person at the right place at the right time, but without elements like an effective user interface or without consideration for the user experience, that recommendation never makes it to the site visitor. "
   ]
  },
  {
   "cell_type": "markdown",
   "metadata": {},
   "source": [
    "#### Data Understanding\n",
    "\n",
    "The data for this effort is taken from product reviews and metadata from Amazon, including 142.8 million reviews spanning from May of 1996 to July of 2014. Our analysis focuses specifically on Amazon Instant Video reviews and contains the following variables of the following types:\n",
    "- asin – this is a unique variable defined by Amazon as, “A 10-character alphanumeric unique identifier assigned by Amazon.com and its partners for product identification within the Amazon organization.”\n",
    "- helpful – this is a 1 x 2 matrix of numeric values, indicating whether the review was found helpful by a person viewing it. For example, [3 12] indicates 3 out of 12 people found it helpful.\n",
    "- overall – this numeric value scales from 1 to 5 in whole increments.\n",
    "- reviewText – this alpha-numeric value consists of free-form text from users writing whatever they think may be helpful as a narrative review.\n",
    "- reviewTime – this variable consists of MM DD, YYYY and represents the date the review was made\n",
    "- reviewerID – this unique identifier is a 14-character alpha-numeric used to identify the person providing the review\n",
    "- reviewerName – this alphanumeric variable is user-defined and is the name that appears as the reviewer in the web application\n",
    "- summary – this alphanumeric text represents a sample of the reviewText variable\n",
    "- unixReviewTime – this ten-digit variable represents the time a review was given, in a standard format"
   ]
  },
  {
   "cell_type": "markdown",
   "metadata": {},
   "source": [
    "### Data Preparation and Initialization\n",
    "\n",
    "Below we set everything up by importing the data and looking at the first few records to validate what we expect to see in it.\n",
    "Instead of pulling the dataset from the web, we have a local copy of it."
   ]
  },
  {
   "cell_type": "code",
   "execution_count": 1,
   "metadata": {
    "collapsed": false
   },
   "outputs": [],
   "source": [
    "import graphlab as gl\n",
    "import pandas\n",
    "# set canvas to show sframes and sgraphs in ipython notebook\n",
    "gl.canvas.set_target('ipynb')\n",
    "import matplotlib.pyplot as plt\n",
    "%matplotlib inline\n",
    "\n",
    "\n",
    "# some Global settings\n",
    "# so we are standard across any recommenders that we build.\n",
    "\n",
    "# specify how many users to look up, so we don't need to look up everyone.\n",
    "# This is the number k, in the documentation.\n",
    "number_users = 5\n",
    "\n",
    "# specify how many reviews to consider.\n",
    "number_reviews = 10"
   ]
  },
  {
   "cell_type": "code",
   "execution_count": 20,
   "metadata": {
    "collapsed": false,
    "scrolled": false
   },
   "outputs": [
    {
     "data": {
      "text/html": [
       "<pre>Finished parsing file C:\\Users\\rahnl\\OneDrive\\Documents\\GitHub\\DataScience-SMU\\DataMining\\data\\Amazon_Instant_Video_5.json</pre>"
      ],
      "text/plain": [
       "Finished parsing file C:\\Users\\rahnl\\OneDrive\\Documents\\GitHub\\DataScience-SMU\\DataMining\\data\\Amazon_Instant_Video_5.json"
      ]
     },
     "metadata": {},
     "output_type": "display_data"
    },
    {
     "data": {
      "text/html": [
       "<pre>Parsing completed. Parsed 100 lines in 0.362596 secs.</pre>"
      ],
      "text/plain": [
       "Parsing completed. Parsed 100 lines in 0.362596 secs."
      ]
     },
     "metadata": {},
     "output_type": "display_data"
    },
    {
     "name": "stdout",
     "output_type": "stream",
     "text": [
      "------------------------------------------------------\n",
      "Inferred types from first 100 line(s) of file as \n",
      "column_type_hints=[dict]\n",
      "If parsing fails due to incorrect types, you can correct\n",
      "the inferred type list above and pass it to read_csv in\n",
      "the column_type_hints argument\n",
      "------------------------------------------------------\n"
     ]
    },
    {
     "data": {
      "text/html": [
       "<pre>Finished parsing file C:\\Users\\rahnl\\OneDrive\\Documents\\GitHub\\DataScience-SMU\\DataMining\\data\\Amazon_Instant_Video_5.json</pre>"
      ],
      "text/plain": [
       "Finished parsing file C:\\Users\\rahnl\\OneDrive\\Documents\\GitHub\\DataScience-SMU\\DataMining\\data\\Amazon_Instant_Video_5.json"
      ]
     },
     "metadata": {},
     "output_type": "display_data"
    },
    {
     "data": {
      "text/html": [
       "<pre>Parsing completed. Parsed 37126 lines in 0.500589 secs.</pre>"
      ],
      "text/plain": [
       "Parsing completed. Parsed 37126 lines in 0.500589 secs."
      ]
     },
     "metadata": {},
     "output_type": "display_data"
    }
   ],
   "source": [
    "# Load the data.  It's already been downloaded from the site listed above\n",
    "# amazonfile = 'C:/Users/trogers/Documents/GitHub/DataScience-SMU/DataMining/data/Amazon_Instant_Video_5.json'\n",
    "amazonfile = './data/Amazon_Instant_Video_5.json'\n",
    "sf = gl.SFrame.read_json(amazonfile,orient='lines')\n"
   ]
  },
  {
   "cell_type": "code",
   "execution_count": 24,
   "metadata": {
    "collapsed": false
   },
   "outputs": [
    {
     "data": {
      "text/html": [
       "<div style=\"max-height:1000px;max-width:1500px;overflow:auto;\"><table frame=\"box\" rules=\"cols\">\n",
       "    <tr>\n",
       "        <th style=\"padding-left: 1em; padding-right: 1em; text-align: center\">asin</th>\n",
       "        <th style=\"padding-left: 1em; padding-right: 1em; text-align: center\">helpful</th>\n",
       "        <th style=\"padding-left: 1em; padding-right: 1em; text-align: center\">overall</th>\n",
       "        <th style=\"padding-left: 1em; padding-right: 1em; text-align: center\">reviewText</th>\n",
       "        <th style=\"padding-left: 1em; padding-right: 1em; text-align: center\">reviewTime</th>\n",
       "        <th style=\"padding-left: 1em; padding-right: 1em; text-align: center\">reviewerID</th>\n",
       "    </tr>\n",
       "    <tr>\n",
       "        <td style=\"padding-left: 1em; padding-right: 1em; text-align: center; vertical-align: top\">B000H00VBQ</td>\n",
       "        <td style=\"padding-left: 1em; padding-right: 1em; text-align: center; vertical-align: top\">[0, 0]</td>\n",
       "        <td style=\"padding-left: 1em; padding-right: 1em; text-align: center; vertical-align: top\">2.0</td>\n",
       "        <td style=\"padding-left: 1em; padding-right: 1em; text-align: center; vertical-align: top\">I had big expectations<br>because I love English ...</td>\n",
       "        <td style=\"padding-left: 1em; padding-right: 1em; text-align: center; vertical-align: top\">05 3, 2014</td>\n",
       "        <td style=\"padding-left: 1em; padding-right: 1em; text-align: center; vertical-align: top\">A11N155CW1UV02</td>\n",
       "    </tr>\n",
       "    <tr>\n",
       "        <td style=\"padding-left: 1em; padding-right: 1em; text-align: center; vertical-align: top\">B000H00VBQ</td>\n",
       "        <td style=\"padding-left: 1em; padding-right: 1em; text-align: center; vertical-align: top\">[0, 0]</td>\n",
       "        <td style=\"padding-left: 1em; padding-right: 1em; text-align: center; vertical-align: top\">5.0</td>\n",
       "        <td style=\"padding-left: 1em; padding-right: 1em; text-align: center; vertical-align: top\">I highly recommend this<br>series. It is a must for ...</td>\n",
       "        <td style=\"padding-left: 1em; padding-right: 1em; text-align: center; vertical-align: top\">09 3, 2012</td>\n",
       "        <td style=\"padding-left: 1em; padding-right: 1em; text-align: center; vertical-align: top\">A3BC8O2KCL29V2</td>\n",
       "    </tr>\n",
       "    <tr>\n",
       "        <td style=\"padding-left: 1em; padding-right: 1em; text-align: center; vertical-align: top\">B000H00VBQ</td>\n",
       "        <td style=\"padding-left: 1em; padding-right: 1em; text-align: center; vertical-align: top\">[0, 1]</td>\n",
       "        <td style=\"padding-left: 1em; padding-right: 1em; text-align: center; vertical-align: top\">1.0</td>\n",
       "        <td style=\"padding-left: 1em; padding-right: 1em; text-align: center; vertical-align: top\">This one is a real<br>snoozer. Don't believe ...</td>\n",
       "        <td style=\"padding-left: 1em; padding-right: 1em; text-align: center; vertical-align: top\">10 16, 2013</td>\n",
       "        <td style=\"padding-left: 1em; padding-right: 1em; text-align: center; vertical-align: top\">A60D5HQFOTSOM</td>\n",
       "    </tr>\n",
       "    <tr>\n",
       "        <td style=\"padding-left: 1em; padding-right: 1em; text-align: center; vertical-align: top\">B000H00VBQ</td>\n",
       "        <td style=\"padding-left: 1em; padding-right: 1em; text-align: center; vertical-align: top\">[0, 0]</td>\n",
       "        <td style=\"padding-left: 1em; padding-right: 1em; text-align: center; vertical-align: top\">4.0</td>\n",
       "        <td style=\"padding-left: 1em; padding-right: 1em; text-align: center; vertical-align: top\">Mysteries are<br>interesting.  The ten ...</td>\n",
       "        <td style=\"padding-left: 1em; padding-right: 1em; text-align: center; vertical-align: top\">10 30, 2013</td>\n",
       "        <td style=\"padding-left: 1em; padding-right: 1em; text-align: center; vertical-align: top\">A1RJPIGRSNX4PW</td>\n",
       "    </tr>\n",
       "    <tr>\n",
       "        <td style=\"padding-left: 1em; padding-right: 1em; text-align: center; vertical-align: top\">B000H00VBQ</td>\n",
       "        <td style=\"padding-left: 1em; padding-right: 1em; text-align: center; vertical-align: top\">[1, 1]</td>\n",
       "        <td style=\"padding-left: 1em; padding-right: 1em; text-align: center; vertical-align: top\">5.0</td>\n",
       "        <td style=\"padding-left: 1em; padding-right: 1em; text-align: center; vertical-align: top\">This show always is<br>excellent, as far as ...</td>\n",
       "        <td style=\"padding-left: 1em; padding-right: 1em; text-align: center; vertical-align: top\">02 11, 2009</td>\n",
       "        <td style=\"padding-left: 1em; padding-right: 1em; text-align: center; vertical-align: top\">A16XRPF40679KG</td>\n",
       "    </tr>\n",
       "</table>\n",
       "<table frame=\"box\" rules=\"cols\">\n",
       "    <tr>\n",
       "        <th style=\"padding-left: 1em; padding-right: 1em; text-align: center\">reviewerName</th>\n",
       "        <th style=\"padding-left: 1em; padding-right: 1em; text-align: center\">summary</th>\n",
       "        <th style=\"padding-left: 1em; padding-right: 1em; text-align: center\">unixReviewTime</th>\n",
       "    </tr>\n",
       "    <tr>\n",
       "        <td style=\"padding-left: 1em; padding-right: 1em; text-align: center; vertical-align: top\">AdrianaM</td>\n",
       "        <td style=\"padding-left: 1em; padding-right: 1em; text-align: center; vertical-align: top\">A little bit boring for<br>me ...</td>\n",
       "        <td style=\"padding-left: 1em; padding-right: 1em; text-align: center; vertical-align: top\">1399075200</td>\n",
       "    </tr>\n",
       "    <tr>\n",
       "        <td style=\"padding-left: 1em; padding-right: 1em; text-align: center; vertical-align: top\">Carol T</td>\n",
       "        <td style=\"padding-left: 1em; padding-right: 1em; text-align: center; vertical-align: top\">Excellent Grown Up TV</td>\n",
       "        <td style=\"padding-left: 1em; padding-right: 1em; text-align: center; vertical-align: top\">1346630400</td>\n",
       "    </tr>\n",
       "    <tr>\n",
       "        <td style=\"padding-left: 1em; padding-right: 1em; text-align: center; vertical-align: top\">Daniel Cooper<br>\"dancoopermedia\" ...</td>\n",
       "        <td style=\"padding-left: 1em; padding-right: 1em; text-align: center; vertical-align: top\">Way too boring for me</td>\n",
       "        <td style=\"padding-left: 1em; padding-right: 1em; text-align: center; vertical-align: top\">1381881600</td>\n",
       "    </tr>\n",
       "    <tr>\n",
       "        <td style=\"padding-left: 1em; padding-right: 1em; text-align: center; vertical-align: top\">J. Kaplan \"JJ\"</td>\n",
       "        <td style=\"padding-left: 1em; padding-right: 1em; text-align: center; vertical-align: top\">Robson Green is<br>mesmerizing ...</td>\n",
       "        <td style=\"padding-left: 1em; padding-right: 1em; text-align: center; vertical-align: top\">1383091200</td>\n",
       "    </tr>\n",
       "    <tr>\n",
       "        <td style=\"padding-left: 1em; padding-right: 1em; text-align: center; vertical-align: top\">Michael Dobey</td>\n",
       "        <td style=\"padding-left: 1em; padding-right: 1em; text-align: center; vertical-align: top\">Robson green and great<br>writing ...</td>\n",
       "        <td style=\"padding-left: 1em; padding-right: 1em; text-align: center; vertical-align: top\">1234310400</td>\n",
       "    </tr>\n",
       "</table>\n",
       "[5 rows x 9 columns]<br/>\n",
       "</div>"
      ],
      "text/plain": [
       "Columns:\n",
       "\tasin\tstr\n",
       "\thelpful\tlist\n",
       "\toverall\tfloat\n",
       "\treviewText\tstr\n",
       "\treviewTime\tstr\n",
       "\treviewerID\tstr\n",
       "\treviewerName\tstr\n",
       "\tsummary\tstr\n",
       "\tunixReviewTime\tint\n",
       "\n",
       "Rows: 5\n",
       "\n",
       "Data:\n",
       "+------------+---------+---------+-------------------------------+-------------+\n",
       "|    asin    | helpful | overall |           reviewText          |  reviewTime |\n",
       "+------------+---------+---------+-------------------------------+-------------+\n",
       "| B000H00VBQ |  [0, 0] |   2.0   | I had big expectations bec... |  05 3, 2014 |\n",
       "| B000H00VBQ |  [0, 0] |   5.0   | I highly recommend this se... |  09 3, 2012 |\n",
       "| B000H00VBQ |  [0, 1] |   1.0   | This one is a real snoozer... | 10 16, 2013 |\n",
       "| B000H00VBQ |  [0, 0] |   4.0   | Mysteries are interesting.... | 10 30, 2013 |\n",
       "| B000H00VBQ |  [1, 1] |   5.0   | This show always is excell... | 02 11, 2009 |\n",
       "+------------+---------+---------+-------------------------------+-------------+\n",
       "+----------------+--------------------------------+\n",
       "|   reviewerID   |          reviewerName          |\n",
       "+----------------+--------------------------------+\n",
       "| A11N155CW1UV02 |            AdrianaM            |\n",
       "| A3BC8O2KCL29V2 |            Carol T             |\n",
       "| A60D5HQFOTSOM  | Daniel Cooper \"dancoopermedia\" |\n",
       "| A1RJPIGRSNX4PW |         J. Kaplan \"JJ\"         |\n",
       "| A16XRPF40679KG |         Michael Dobey          |\n",
       "+----------------+--------------------------------+\n",
       "+--------------------------------+----------------+\n",
       "|            summary             | unixReviewTime |\n",
       "+--------------------------------+----------------+\n",
       "|   A little bit boring for me   |   1399075200   |\n",
       "|     Excellent Grown Up TV      |   1346630400   |\n",
       "|     Way too boring for me      |   1381881600   |\n",
       "|  Robson Green is mesmerizing   |   1383091200   |\n",
       "| Robson green and great writing |   1234310400   |\n",
       "+--------------------------------+----------------+\n",
       "[5 rows x 9 columns]"
      ]
     },
     "execution_count": 24,
     "metadata": {},
     "output_type": "execute_result"
    }
   ],
   "source": [
    "# Look at first several records\n",
    "sf.head(number_users)"
   ]
  },
  {
   "cell_type": "markdown",
   "metadata": {
    "collapsed": false
   },
   "source": [
    "---\n",
    "\n",
    "The table above is showing the fields in the dataset.  The three primary variables we are interested in is the ASIN, rating, and reviewer.\n",
    "\n",
    "The reviewer is the person who just watched a particular video, identified by the ASIN.  Based on the video, we want to recommend other videos (ASIN's) based on what other people have watchined who have also seen the just-viewed data, and have rated the other videos high.\n",
    "\n",
    "We expect duplicate (ASIN, Overall) because the videos are watched by mutliple users, and they may give the same ratings to the movie.  The data should be unique for each reviewer (ASIN, Overall, ReviewerID), since a person won't rate a move multiple times."
   ]
  },
  {
   "cell_type": "markdown",
   "metadata": {},
   "source": [
    "#### Data Quality\n",
    "\n",
    "The basic descriptive statistics below demonstrate that there are no missing values, duplicate data or outliers. The data is clean and nothing needs fixing. Interesting to note that the average overall rating is a 4.2, that seems high and raises a question, do people only rate movies if they enjoy them?"
   ]
  },
  {
   "cell_type": "code",
   "execution_count": 28,
   "metadata": {
    "collapsed": false
   },
   "outputs": [
    {
     "data": {
      "text/plain": [
       "(1.0, 5.0)"
      ]
     },
     "execution_count": 28,
     "metadata": {},
     "output_type": "execute_result"
    }
   ],
   "source": [
    "# Validate range of ratings\n",
    "sf['overall'].min() , sf['overall'].max()"
   ]
  },
  {
   "cell_type": "code",
   "execution_count": 3,
   "metadata": {
    "collapsed": false
   },
   "outputs": [
    {
     "data": {
      "text/plain": [
       "4.209529709637443"
      ]
     },
     "execution_count": 3,
     "metadata": {},
     "output_type": "execute_result"
    }
   ],
   "source": [
    "sf['overall'].mean()"
   ]
  },
  {
   "cell_type": "code",
   "execution_count": 4,
   "metadata": {
    "collapsed": false
   },
   "outputs": [
    {
     "data": {
      "text/plain": [
       "1.1185346025400438"
      ]
     },
     "execution_count": 4,
     "metadata": {},
     "output_type": "execute_result"
    }
   ],
   "source": [
    "sf['overall'].std()"
   ]
  },
  {
   "cell_type": "markdown",
   "metadata": {},
   "source": [
    "### Data Visualization\n",
    "\n",
    "This section does some visualization of the initital data, in order to explore it a bit, and see what we're working with from a different perspective.\n"
   ]
  },
  {
   "cell_type": "code",
   "execution_count": 5,
   "metadata": {
    "collapsed": false
   },
   "outputs": [
    {
     "name": "stderr",
     "output_type": "stream",
     "text": [
      "C:\\Users\\rahnl\\Anaconda2\\lib\\site-packages\\IPython\\core\\interactiveshell.py:2885: FutureWarning: \n",
      "mpl_style had been deprecated and will be removed in a future version.\n",
      "Use `matplotlib.pyplot.style.use` instead.\n",
      "\n",
      "  exec(code_obj, self.user_global_ns, self.user_ns)\n"
     ]
    }
   ],
   "source": [
    "# Reading the JSON file into pandas for analysis and visualization\n",
    "\n",
    "import matplotlib.pyplot as plt\n",
    "import pandas as pd\n",
    "pd.options.display.mpl_style = 'default'\n",
    "with open(amazonfile, 'rb') as f:\n",
    "    data = f.readlines()\n",
    "\n",
    "# remove the trailing \"\\n\" from each line\n",
    "data = map(lambda x: x.rstrip(), data)\n",
    "\n",
    "# each element of 'data' is an individual JSON object.\n",
    "# i want to convert it into an *array* of JSON objects\n",
    "# which, in and of itself, is one large JSON object\n",
    "# basically... add square brackets to the beginning\n",
    "# and end, and have all the individual business JSON objects\n",
    "# separated by a comma\n",
    "data_json_str = \"[\" + ','.join(data) + \"]\"\n",
    "\n",
    "# now, load it into pandas\n",
    "data_df = pd.read_json(data_json_str)"
   ]
  },
  {
   "cell_type": "code",
   "execution_count": 34,
   "metadata": {
    "collapsed": false
   },
   "outputs": [
    {
     "name": "stdout",
     "output_type": "stream",
     "text": [
      "<class 'pandas.core.frame.DataFrame'>\n",
      "RangeIndex: 37126 entries, 0 to 37125\n",
      "Data columns (total 9 columns):\n",
      "asin              37126 non-null object\n",
      "helpful           37126 non-null object\n",
      "overall           37126 non-null int64\n",
      "reviewText        37126 non-null object\n",
      "reviewTime        37126 non-null object\n",
      "reviewerID        37126 non-null object\n",
      "reviewerName      36797 non-null object\n",
      "summary           37126 non-null object\n",
      "unixReviewTime    37126 non-null int64\n",
      "dtypes: int64(2), object(7)\n",
      "memory usage: 2.5+ MB\n"
     ]
    }
   ],
   "source": [
    "# Checking that all fields have vale.\n",
    "data_df.info()"
   ]
  },
  {
   "cell_type": "markdown",
   "metadata": {},
   "source": [
    "---\n",
    "\n",
    "The graph below shows a histogram of the review ratings."
   ]
  },
  {
   "cell_type": "code",
   "execution_count": 31,
   "metadata": {
    "collapsed": false
   },
   "outputs": [
    {
     "data": {
      "text/plain": [
       "array([[<matplotlib.axes._subplots.AxesSubplot object at 0x0000000015E35EF0>]], dtype=object)"
      ]
     },
     "execution_count": 31,
     "metadata": {},
     "output_type": "execute_result"
    },
    {
     "data": {
      "image/png": "[encoded data removed]",
      "text/plain": [
       "<matplotlib.figure.Figure at 0x317fd6d8>"
      ]
     },
     "metadata": {},
     "output_type": "display_data"
    }
   ],
   "source": [
    "pd.options.display.mpl_style = 'default'\n",
    "\n",
    "data_df.hist('overall')"
   ]
  },
  {
   "cell_type": "markdown",
   "metadata": {},
   "source": [
    "---\n",
    "The majority of them are rating a 5.0.  From our understanding of the business, the reason is because people tend to write reviews of things they have feelings about.  If a person is neutral about something, they're not going to spend time with a review.\n",
    "\n",
    "The histogram also shows that the ratings are all between 1 and 5, to confirm we don't have strange data floating around.\n",
    "\n",
    "Next, lets also look at the top reviewed videos\n"
   ]
  },
  {
   "cell_type": "code",
   "execution_count": 51,
   "metadata": {
    "collapsed": false
   },
   "outputs": [
    {
     "data": {
      "text/plain": [
       "<matplotlib.text.Text at 0x378b4128>"
      ]
     },
     "execution_count": 51,
     "metadata": {},
     "output_type": "execute_result"
    },
    {
     "data": {
      "image/png": "[encoded data removed]",
      "text/plain": [
       "<matplotlib.figure.Figure at 0x29058be0>"
      ]
     },
     "metadata": {},
     "output_type": "display_data"
    }
   ],
   "source": [
    "# Plot the top 15 most rated videos\n",
    "plt.figure(figsize=(7,7))  # size is arbitrary, to make it fit on page.\n",
    "data_df['asin'].value_counts()[:15].sort_values().plot(kind='barh',\n",
    "                                                            title='Top 15 Most Rated Videos',\n",
    "                                                            color='g',\n",
    "                                                            grid=True)\n",
    "plt.xlabel('Count')"
   ]
  },
  {
   "cell_type": "code",
   "execution_count": 53,
   "metadata": {
    "collapsed": false
   },
   "outputs": [
    {
     "data": {
      "text/plain": [
       "B00I3MPDP4    455\n",
       "B00DAHSVYC    444\n",
       "B00I3MMN4I    417\n",
       "B00APE00H4    384\n",
       "B00CDBTQCW    358\n",
       "B00I3MNGCG    341\n",
       "B00I3MNVBW    322\n",
       "B00B8P8O9K    313\n",
       "B00I3MMTS8    306\n",
       "B00CDBR1P6    288\n",
       "B009FZFONO    273\n",
       "B006Z48TZS    262\n",
       "B004MWZLYC    242\n",
       "B005544TRQ    230\n",
       "B008QTTGGG    223\n",
       "Name: asin, dtype: int64"
      ]
     },
     "execution_count": 53,
     "metadata": {},
     "output_type": "execute_result"
    }
   ],
   "source": [
    "# The ASIN's from the above graph, in descending order.\n",
    "data_df['asin'].value_counts()[:15].sort_values(ascending=False)\n",
    "\n",
    "# B00I3MPDP4 = Bosch, season 1."
   ]
  },
  {
   "cell_type": "code",
   "execution_count": 35,
   "metadata": {
    "collapsed": false
   },
   "outputs": [],
   "source": [
    "# asingrouped = data_df.groupby('asin').mean()\n",
    "# asingrouped.sort_values(by='overall',ascending=False)"
   ]
  },
  {
   "cell_type": "markdown",
   "metadata": {},
   "source": [
    "#### Build the model\n",
    "\n",
    "We randomly split our data into a training (80%) and test (20%) sets."
   ]
  },
  {
   "cell_type": "code",
   "execution_count": 8,
   "metadata": {
    "collapsed": false
   },
   "outputs": [],
   "source": [
    "(train_set, test_set) = sf.random_split(0.8, seed=1)"
   ]
  },
  {
   "cell_type": "markdown",
   "metadata": {},
   "source": [
    "First, we'll create a popularity model, which is based just off the ratings field in the file.  \n",
    "\n",
    "This will be our baseline to look at, and in the business sense, it's randomly assigning recommendations bases on it being a highly rated item.  This may be what would be seen on a homepage if someone isn't logged in, so there's no context about what to show them. "
   ]
  },
  {
   "cell_type": "code",
   "execution_count": 9,
   "metadata": {
    "collapsed": false,
    "scrolled": false
   },
   "outputs": [
    {
     "data": {
      "text/html": [
       "<pre>Recsys training: model = popularity</pre>"
      ],
      "text/plain": [
       "Recsys training: model = popularity"
      ]
     },
     "metadata": {},
     "output_type": "display_data"
    },
    {
     "data": {
      "text/html": [
       "<pre>Warning: Ignoring columns helpful, reviewText, reviewTime, reviewerName, summary, unixReviewTime;</pre>"
      ],
      "text/plain": [
       "Warning: Ignoring columns helpful, reviewText, reviewTime, reviewerName, summary, unixReviewTime;"
      ]
     },
     "metadata": {},
     "output_type": "display_data"
    },
    {
     "data": {
      "text/html": [
       "<pre>    To use these columns in scoring predictions, use a model that allows the use of additional features.</pre>"
      ],
      "text/plain": [
       "    To use these columns in scoring predictions, use a model that allows the use of additional features."
      ]
     },
     "metadata": {},
     "output_type": "display_data"
    },
    {
     "data": {
      "text/html": [
       "<pre>Preparing data set.</pre>"
      ],
      "text/plain": [
       "Preparing data set."
      ]
     },
     "metadata": {},
     "output_type": "display_data"
    },
    {
     "data": {
      "text/html": [
       "<pre>    Data has 29707 observations with 5130 users and 1685 items.</pre>"
      ],
      "text/plain": [
       "    Data has 29707 observations with 5130 users and 1685 items."
      ]
     },
     "metadata": {},
     "output_type": "display_data"
    },
    {
     "data": {
      "text/html": [
       "<pre>    Data prepared in: 0.155286s</pre>"
      ],
      "text/plain": [
       "    Data prepared in: 0.155286s"
      ]
     },
     "metadata": {},
     "output_type": "display_data"
    },
    {
     "data": {
      "text/html": [
       "<pre>29707 observations to process; with 1685 unique items.</pre>"
      ],
      "text/plain": [
       "29707 observations to process; with 1685 unique items."
      ]
     },
     "metadata": {},
     "output_type": "display_data"
    }
   ],
   "source": [
    "# remember \"overall\" is the rating field.\n",
    "\n",
    "popularity_model = gl.popularity_recommender.create(train_set, user_id='reviewerID', item_id='asin',\n",
    "                                                    target='overall', \n",
    "                                                    user_data=None, \n",
    "                                                    item_data=None,\n",
    "                                                    random_seed=0,\n",
    "                                                    verbose=True)"
   ]
  },
  {
   "cell_type": "markdown",
   "metadata": {},
   "source": [
    "---\n",
    "Using the popularity model, lets looks at the first few recommendations, and evaluate for ourselves if they look good. \n",
    "\n",
    "The popularity model is a good baseline recommender to use to compare against other recommenders, to see how they do against each other. This creates recommendations based on how often something is seen in the training set, and is good for sparse data or where a specific user may not be specified.\n",
    "\n",
    "\n",
    "*** Note that you can look up ASIN's on Amazon using a special URL format, or typing it into the search button.  For this sample, we didn't create an account that would allow us to auto-look these up in code.  The look up is done by hand. *"
   ]
  },
  {
   "cell_type": "code",
   "execution_count": 29,
   "metadata": {
    "collapsed": false
   },
   "outputs": [
    {
     "data": {
      "text/html": [
       "<div style=\"max-height:1000px;max-width:1500px;overflow:auto;\"><table frame=\"box\" rules=\"cols\">\n",
       "    <tr>\n",
       "        <th style=\"padding-left: 1em; padding-right: 1em; text-align: center\">reviewerID</th>\n",
       "        <th style=\"padding-left: 1em; padding-right: 1em; text-align: center\">asin</th>\n",
       "        <th style=\"padding-left: 1em; padding-right: 1em; text-align: center\">score</th>\n",
       "        <th style=\"padding-left: 1em; padding-right: 1em; text-align: center\">rank</th>\n",
       "    </tr>\n",
       "    <tr>\n",
       "        <td style=\"padding-left: 1em; padding-right: 1em; text-align: center; vertical-align: top\">1</td>\n",
       "        <td style=\"padding-left: 1em; padding-right: 1em; text-align: center; vertical-align: top\">B001ATJQB4</td>\n",
       "        <td style=\"padding-left: 1em; padding-right: 1em; text-align: center; vertical-align: top\">5.0</td>\n",
       "        <td style=\"padding-left: 1em; padding-right: 1em; text-align: center; vertical-align: top\">1</td>\n",
       "    </tr>\n",
       "    <tr>\n",
       "        <td style=\"padding-left: 1em; padding-right: 1em; text-align: center; vertical-align: top\">1</td>\n",
       "        <td style=\"padding-left: 1em; padding-right: 1em; text-align: center; vertical-align: top\">B000VU2STU</td>\n",
       "        <td style=\"padding-left: 1em; padding-right: 1em; text-align: center; vertical-align: top\">5.0</td>\n",
       "        <td style=\"padding-left: 1em; padding-right: 1em; text-align: center; vertical-align: top\">2</td>\n",
       "    </tr>\n",
       "    <tr>\n",
       "        <td style=\"padding-left: 1em; padding-right: 1em; text-align: center; vertical-align: top\">1</td>\n",
       "        <td style=\"padding-left: 1em; padding-right: 1em; text-align: center; vertical-align: top\">B000ULZLYY</td>\n",
       "        <td style=\"padding-left: 1em; padding-right: 1em; text-align: center; vertical-align: top\">5.0</td>\n",
       "        <td style=\"padding-left: 1em; padding-right: 1em; text-align: center; vertical-align: top\">3</td>\n",
       "    </tr>\n",
       "    <tr>\n",
       "        <td style=\"padding-left: 1em; padding-right: 1em; text-align: center; vertical-align: top\">1</td>\n",
       "        <td style=\"padding-left: 1em; padding-right: 1em; text-align: center; vertical-align: top\">B000UERE3M</td>\n",
       "        <td style=\"padding-left: 1em; padding-right: 1em; text-align: center; vertical-align: top\">5.0</td>\n",
       "        <td style=\"padding-left: 1em; padding-right: 1em; text-align: center; vertical-align: top\">4</td>\n",
       "    </tr>\n",
       "    <tr>\n",
       "        <td style=\"padding-left: 1em; padding-right: 1em; text-align: center; vertical-align: top\">1</td>\n",
       "        <td style=\"padding-left: 1em; padding-right: 1em; text-align: center; vertical-align: top\">B000IKP5AM</td>\n",
       "        <td style=\"padding-left: 1em; padding-right: 1em; text-align: center; vertical-align: top\">5.0</td>\n",
       "        <td style=\"padding-left: 1em; padding-right: 1em; text-align: center; vertical-align: top\">5</td>\n",
       "    </tr>\n",
       "    <tr>\n",
       "        <td style=\"padding-left: 1em; padding-right: 1em; text-align: center; vertical-align: top\">2</td>\n",
       "        <td style=\"padding-left: 1em; padding-right: 1em; text-align: center; vertical-align: top\">B001ATJQB4</td>\n",
       "        <td style=\"padding-left: 1em; padding-right: 1em; text-align: center; vertical-align: top\">5.0</td>\n",
       "        <td style=\"padding-left: 1em; padding-right: 1em; text-align: center; vertical-align: top\">1</td>\n",
       "    </tr>\n",
       "    <tr>\n",
       "        <td style=\"padding-left: 1em; padding-right: 1em; text-align: center; vertical-align: top\">2</td>\n",
       "        <td style=\"padding-left: 1em; padding-right: 1em; text-align: center; vertical-align: top\">B000VU2STU</td>\n",
       "        <td style=\"padding-left: 1em; padding-right: 1em; text-align: center; vertical-align: top\">5.0</td>\n",
       "        <td style=\"padding-left: 1em; padding-right: 1em; text-align: center; vertical-align: top\">2</td>\n",
       "    </tr>\n",
       "    <tr>\n",
       "        <td style=\"padding-left: 1em; padding-right: 1em; text-align: center; vertical-align: top\">2</td>\n",
       "        <td style=\"padding-left: 1em; padding-right: 1em; text-align: center; vertical-align: top\">B000ULZLYY</td>\n",
       "        <td style=\"padding-left: 1em; padding-right: 1em; text-align: center; vertical-align: top\">5.0</td>\n",
       "        <td style=\"padding-left: 1em; padding-right: 1em; text-align: center; vertical-align: top\">3</td>\n",
       "    </tr>\n",
       "    <tr>\n",
       "        <td style=\"padding-left: 1em; padding-right: 1em; text-align: center; vertical-align: top\">2</td>\n",
       "        <td style=\"padding-left: 1em; padding-right: 1em; text-align: center; vertical-align: top\">B000UERE3M</td>\n",
       "        <td style=\"padding-left: 1em; padding-right: 1em; text-align: center; vertical-align: top\">5.0</td>\n",
       "        <td style=\"padding-left: 1em; padding-right: 1em; text-align: center; vertical-align: top\">4</td>\n",
       "    </tr>\n",
       "    <tr>\n",
       "        <td style=\"padding-left: 1em; padding-right: 1em; text-align: center; vertical-align: top\">2</td>\n",
       "        <td style=\"padding-left: 1em; padding-right: 1em; text-align: center; vertical-align: top\">B000IKP5AM</td>\n",
       "        <td style=\"padding-left: 1em; padding-right: 1em; text-align: center; vertical-align: top\">5.0</td>\n",
       "        <td style=\"padding-left: 1em; padding-right: 1em; text-align: center; vertical-align: top\">5</td>\n",
       "    </tr>\n",
       "</table>\n",
       "[20 rows x 4 columns]<br/>Note: Only the head of the SFrame is printed.<br/>You can use print_rows(num_rows=m, num_columns=n) to print more rows and columns.\n",
       "</div>"
      ],
      "text/plain": [
       "Columns:\n",
       "\treviewerID\tstr\n",
       "\tasin\tstr\n",
       "\tscore\tfloat\n",
       "\trank\tint\n",
       "\n",
       "Rows: 20\n",
       "\n",
       "Data:\n",
       "+------------+------------+-------+------+\n",
       "| reviewerID |    asin    | score | rank |\n",
       "+------------+------------+-------+------+\n",
       "|     1      | B001ATJQB4 |  5.0  |  1   |\n",
       "|     1      | B000VU2STU |  5.0  |  2   |\n",
       "|     1      | B000ULZLYY |  5.0  |  3   |\n",
       "|     1      | B000UERE3M |  5.0  |  4   |\n",
       "|     1      | B000IKP5AM |  5.0  |  5   |\n",
       "|     2      | B001ATJQB4 |  5.0  |  1   |\n",
       "|     2      | B000VU2STU |  5.0  |  2   |\n",
       "|     2      | B000ULZLYY |  5.0  |  3   |\n",
       "|     2      | B000UERE3M |  5.0  |  4   |\n",
       "|     2      | B000IKP5AM |  5.0  |  5   |\n",
       "+------------+------------+-------+------+\n",
       "[20 rows x 4 columns]\n",
       "Note: Only the head of the SFrame is printed.\n",
       "You can use print_rows(num_rows=m, num_columns=n) to print more rows and columns."
      ]
     },
     "execution_count": 29,
     "metadata": {},
     "output_type": "execute_result"
    }
   ],
   "source": [
    "popularity_model.recommend(users=range(1,number_users),k=5)"
   ]
  },
  {
   "cell_type": "markdown",
   "metadata": {},
   "source": [
    "---\n",
    "(Note this is what came up as top 5 for one run. Since there is some randomness to the ratings, this may change from run to run.)\n",
    "\n",
    "1. https://www.amazon.com/exec/obidos/ASIN/B003336P1Y : Curious George (Season 3)\n",
    "2. https://www.amazon.com/exec/obidos/ASIN/B00332YHLU : Curious George (Season 2)\n",
    "3. https://www.amazon.com/exec/obidos/ASIN/B002T33I64 : Sesame Street (Season 36)\n",
    "4. https://www.amazon.com/exec/obidos/ASIN/B001NJO76U : Dirty Jobs (Season 1)\n",
    "5. https://www.amazon.com/exec/obidos/ASIN/B001I8O2MK : ER (Season 15)\n",
    "\n",
    "For the first 3, these seem reasonable.  A kid watching a show would want to watch more of the same, or a another kids show.\n"
   ]
  },
  {
   "cell_type": "markdown",
   "metadata": {},
   "source": [
    "Also, in order to evaluate this, lets try looking at recommendations for a specific video, say the most highly rated one from above."
   ]
  },
  {
   "cell_type": "code",
   "execution_count": 66,
   "metadata": {
    "collapsed": false
   },
   "outputs": [
    {
     "data": {
      "text/html": [
       "<div style=\"max-height:1000px;max-width:1500px;overflow:auto;\"><table frame=\"box\" rules=\"cols\">\n",
       "    <tr>\n",
       "        <th style=\"padding-left: 1em; padding-right: 1em; text-align: center\">asin</th>\n",
       "        <th style=\"padding-left: 1em; padding-right: 1em; text-align: center\">similar</th>\n",
       "        <th style=\"padding-left: 1em; padding-right: 1em; text-align: center\">score</th>\n",
       "        <th style=\"padding-left: 1em; padding-right: 1em; text-align: center\">rank</th>\n",
       "    </tr>\n",
       "    <tr>\n",
       "        <td style=\"padding-left: 1em; padding-right: 1em; text-align: center; vertical-align: top\">B00I3MPDP4</td>\n",
       "        <td style=\"padding-left: 1em; padding-right: 1em; text-align: center; vertical-align: top\">B00JBNX59U</td>\n",
       "        <td style=\"padding-left: 1em; padding-right: 1em; text-align: center; vertical-align: top\">0.999999044975</td>\n",
       "        <td style=\"padding-left: 1em; padding-right: 1em; text-align: center; vertical-align: top\">1</td>\n",
       "    </tr>\n",
       "    <tr>\n",
       "        <td style=\"padding-left: 1em; padding-right: 1em; text-align: center; vertical-align: top\">B00I3MPDP4</td>\n",
       "        <td style=\"padding-left: 1em; padding-right: 1em; text-align: center; vertical-align: top\">B002SDOI14</td>\n",
       "        <td style=\"padding-left: 1em; padding-right: 1em; text-align: center; vertical-align: top\">0.999997552125</td>\n",
       "        <td style=\"padding-left: 1em; padding-right: 1em; text-align: center; vertical-align: top\">2</td>\n",
       "    </tr>\n",
       "    <tr>\n",
       "        <td style=\"padding-left: 1em; padding-right: 1em; text-align: center; vertical-align: top\">B00I3MPDP4</td>\n",
       "        <td style=\"padding-left: 1em; padding-right: 1em; text-align: center; vertical-align: top\">B001R68VPC</td>\n",
       "        <td style=\"padding-left: 1em; padding-right: 1em; text-align: center; vertical-align: top\">0.999995564132</td>\n",
       "        <td style=\"padding-left: 1em; padding-right: 1em; text-align: center; vertical-align: top\">3</td>\n",
       "    </tr>\n",
       "    <tr>\n",
       "        <td style=\"padding-left: 1em; padding-right: 1em; text-align: center; vertical-align: top\">B00I3MPDP4</td>\n",
       "        <td style=\"padding-left: 1em; padding-right: 1em; text-align: center; vertical-align: top\">B001CMQH5M</td>\n",
       "        <td style=\"padding-left: 1em; padding-right: 1em; text-align: center; vertical-align: top\">0.999995564132</td>\n",
       "        <td style=\"padding-left: 1em; padding-right: 1em; text-align: center; vertical-align: top\">4</td>\n",
       "    </tr>\n",
       "    <tr>\n",
       "        <td style=\"padding-left: 1em; padding-right: 1em; text-align: center; vertical-align: top\">B00I3MPDP4</td>\n",
       "        <td style=\"padding-left: 1em; padding-right: 1em; text-align: center; vertical-align: top\">B000MVI8HO</td>\n",
       "        <td style=\"padding-left: 1em; padding-right: 1em; text-align: center; vertical-align: top\">0.999995564132</td>\n",
       "        <td style=\"padding-left: 1em; padding-right: 1em; text-align: center; vertical-align: top\">5</td>\n",
       "    </tr>\n",
       "</table>\n",
       "[5 rows x 4 columns]<br/>\n",
       "</div>"
      ],
      "text/plain": [
       "Columns:\n",
       "\tasin\tstr\n",
       "\tsimilar\tstr\n",
       "\tscore\tfloat\n",
       "\trank\tint\n",
       "\n",
       "Rows: 5\n",
       "\n",
       "Data:\n",
       "+------------+------------+----------------+------+\n",
       "|    asin    |  similar   |     score      | rank |\n",
       "+------------+------------+----------------+------+\n",
       "| B00I3MPDP4 | B00JBNX59U | 0.999999044975 |  1   |\n",
       "| B00I3MPDP4 | B002SDOI14 | 0.999997552125 |  2   |\n",
       "| B00I3MPDP4 | B001R68VPC | 0.999995564132 |  3   |\n",
       "| B00I3MPDP4 | B001CMQH5M | 0.999995564132 |  4   |\n",
       "| B00I3MPDP4 | B000MVI8HO | 0.999995564132 |  5   |\n",
       "+------------+------------+----------------+------+\n",
       "[5 rows x 4 columns]"
      ]
     },
     "execution_count": 66,
     "metadata": {},
     "output_type": "execute_result"
    }
   ],
   "source": [
    "recommendation_top1 = popularity_model.get_similar_items(items=['B00I3MPDP4'], k=5)\n",
    "recommendation_top1"
   ]
  },
  {
   "cell_type": "markdown",
   "metadata": {
    "collapsed": false
   },
   "source": [
    "---\n",
    "##### Collaborative filtering\n",
    "\n",
    "Next, lets create a collaborative filter.  This will make predictions based on other users activities, such as people who watch Curious George also watch Sesame Street.\n",
    "\n",
    "For similarity type, we can chose between three type:\n",
    "* **Jaccard:**  This is typically used in boolean decisions, not ratings.\n",
    "* **Cosine:** \n",
    "* **Pearson:**\n",
    "\n"
   ]
  },
  {
   "cell_type": "code",
   "execution_count": 11,
   "metadata": {
    "collapsed": false
   },
   "outputs": [
    {
     "data": {
      "text/html": [
       "<pre>Recsys training: model = item_similarity</pre>"
      ],
      "text/plain": [
       "Recsys training: model = item_similarity"
      ]
     },
     "metadata": {},
     "output_type": "display_data"
    },
    {
     "data": {
      "text/html": [
       "<pre>Warning: Ignoring columns helpful, reviewText, reviewTime, reviewerName, summary, unixReviewTime;</pre>"
      ],
      "text/plain": [
       "Warning: Ignoring columns helpful, reviewText, reviewTime, reviewerName, summary, unixReviewTime;"
      ]
     },
     "metadata": {},
     "output_type": "display_data"
    },
    {
     "data": {
      "text/html": [
       "<pre>    To use these columns in scoring predictions, use a model that allows the use of additional features.</pre>"
      ],
      "text/plain": [
       "    To use these columns in scoring predictions, use a model that allows the use of additional features."
      ]
     },
     "metadata": {},
     "output_type": "display_data"
    },
    {
     "data": {
      "text/html": [
       "<pre>Preparing data set.</pre>"
      ],
      "text/plain": [
       "Preparing data set."
      ]
     },
     "metadata": {},
     "output_type": "display_data"
    },
    {
     "data": {
      "text/html": [
       "<pre>    Data has 29707 observations with 5130 users and 1685 items.</pre>"
      ],
      "text/plain": [
       "    Data has 29707 observations with 5130 users and 1685 items."
      ]
     },
     "metadata": {},
     "output_type": "display_data"
    },
    {
     "data": {
      "text/html": [
       "<pre>    Data prepared in: 0.073199s</pre>"
      ],
      "text/plain": [
       "    Data prepared in: 0.073199s"
      ]
     },
     "metadata": {},
     "output_type": "display_data"
    },
    {
     "data": {
      "text/html": [
       "<pre>Training model from provided data.</pre>"
      ],
      "text/plain": [
       "Training model from provided data."
      ]
     },
     "metadata": {},
     "output_type": "display_data"
    },
    {
     "data": {
      "text/html": [
       "<pre>Gathering per-item and per-user statistics.</pre>"
      ],
      "text/plain": [
       "Gathering per-item and per-user statistics."
      ]
     },
     "metadata": {},
     "output_type": "display_data"
    },
    {
     "data": {
      "text/html": [
       "<pre>+--------------------------------+------------+</pre>"
      ],
      "text/plain": [
       "+--------------------------------+------------+"
      ]
     },
     "metadata": {},
     "output_type": "display_data"
    },
    {
     "data": {
      "text/html": [
       "<pre>| Elapsed Time (Item Statistics) | % Complete |</pre>"
      ],
      "text/plain": [
       "| Elapsed Time (Item Statistics) | % Complete |"
      ]
     },
     "metadata": {},
     "output_type": "display_data"
    },
    {
     "data": {
      "text/html": [
       "<pre>+--------------------------------+------------+</pre>"
      ],
      "text/plain": [
       "+--------------------------------+------------+"
      ]
     },
     "metadata": {},
     "output_type": "display_data"
    },
    {
     "data": {
      "text/html": [
       "<pre>| 13.036ms                       | 58.25      |</pre>"
      ],
      "text/plain": [
       "| 13.036ms                       | 58.25      |"
      ]
     },
     "metadata": {},
     "output_type": "display_data"
    },
    {
     "data": {
      "text/html": [
       "<pre>| 24.065ms                       | 100        |</pre>"
      ],
      "text/plain": [
       "| 24.065ms                       | 100        |"
      ]
     },
     "metadata": {},
     "output_type": "display_data"
    },
    {
     "data": {
      "text/html": [
       "<pre>+--------------------------------+------------+</pre>"
      ],
      "text/plain": [
       "+--------------------------------+------------+"
      ]
     },
     "metadata": {},
     "output_type": "display_data"
    },
    {
     "data": {
      "text/html": [
       "<pre>Setting up lookup tables.</pre>"
      ],
      "text/plain": [
       "Setting up lookup tables."
      ]
     },
     "metadata": {},
     "output_type": "display_data"
    },
    {
     "data": {
      "text/html": [
       "<pre>Processing data in one pass using dense lookup tables.</pre>"
      ],
      "text/plain": [
       "Processing data in one pass using dense lookup tables."
      ]
     },
     "metadata": {},
     "output_type": "display_data"
    },
    {
     "data": {
      "text/html": [
       "<pre>+-------------------------------------+------------------+-----------------+</pre>"
      ],
      "text/plain": [
       "+-------------------------------------+------------------+-----------------+"
      ]
     },
     "metadata": {},
     "output_type": "display_data"
    },
    {
     "data": {
      "text/html": [
       "<pre>| Elapsed Time (Constructing Lookups) | Total % Complete | Items Processed |</pre>"
      ],
      "text/plain": [
       "| Elapsed Time (Constructing Lookups) | Total % Complete | Items Processed |"
      ]
     },
     "metadata": {},
     "output_type": "display_data"
    },
    {
     "data": {
      "text/html": [
       "<pre>+-------------------------------------+------------------+-----------------+</pre>"
      ],
      "text/plain": [
       "+-------------------------------------+------------------+-----------------+"
      ]
     },
     "metadata": {},
     "output_type": "display_data"
    },
    {
     "data": {
      "text/html": [
       "<pre>| 67.684ms                            | 0                | 0               |</pre>"
      ],
      "text/plain": [
       "| 67.684ms                            | 0                | 0               |"
      ]
     },
     "metadata": {},
     "output_type": "display_data"
    },
    {
     "data": {
      "text/html": [
       "<pre>| 99.772ms                            | 100              | 1685            |</pre>"
      ],
      "text/plain": [
       "| 99.772ms                            | 100              | 1685            |"
      ]
     },
     "metadata": {},
     "output_type": "display_data"
    },
    {
     "data": {
      "text/html": [
       "<pre>+-------------------------------------+------------------+-----------------+</pre>"
      ],
      "text/plain": [
       "+-------------------------------------+------------------+-----------------+"
      ]
     },
     "metadata": {},
     "output_type": "display_data"
    },
    {
     "data": {
      "text/html": [
       "<pre>Finalizing lookup tables.</pre>"
      ],
      "text/plain": [
       "Finalizing lookup tables."
      ]
     },
     "metadata": {},
     "output_type": "display_data"
    },
    {
     "data": {
      "text/html": [
       "<pre>Generating candidate set for working with new users.</pre>"
      ],
      "text/plain": [
       "Generating candidate set for working with new users."
      ]
     },
     "metadata": {},
     "output_type": "display_data"
    },
    {
     "data": {
      "text/html": [
       "<pre>Finished training in 1.14041s</pre>"
      ],
      "text/plain": [
       "Finished training in 1.14041s"
      ]
     },
     "metadata": {},
     "output_type": "display_data"
    }
   ],
   "source": [
    "item_sim_model = gl.item_similarity_recommender.create(train_set, \n",
    "                                                       user_id='reviewerID', \n",
    "                                                       item_id='asin',\n",
    "                                                       target='overall',\n",
    "                                                       similarity_type='pearson'\n",
    "                                                      )\n",
    "\n"
   ]
  },
  {
   "cell_type": "markdown",
   "metadata": {
    "collapsed": true
   },
   "source": [
    "--- \n",
    "And again, a simple sanity check:\n"
   ]
  },
  {
   "cell_type": "code",
   "execution_count": 12,
   "metadata": {
    "collapsed": false
   },
   "outputs": [
    {
     "data": {
      "text/html": [
       "<div style=\"max-height:1000px;max-width:1500px;overflow:auto;\"><table frame=\"box\" rules=\"cols\">\n",
       "    <tr>\n",
       "        <th style=\"padding-left: 1em; padding-right: 1em; text-align: center\">reviewerID</th>\n",
       "        <th style=\"padding-left: 1em; padding-right: 1em; text-align: center\">asin</th>\n",
       "        <th style=\"padding-left: 1em; padding-right: 1em; text-align: center\">score</th>\n",
       "        <th style=\"padding-left: 1em; padding-right: 1em; text-align: center\">rank</th>\n",
       "    </tr>\n",
       "    <tr>\n",
       "        <td style=\"padding-left: 1em; padding-right: 1em; text-align: center; vertical-align: top\">1</td>\n",
       "        <td style=\"padding-left: 1em; padding-right: 1em; text-align: center; vertical-align: top\">B003336P1Y</td>\n",
       "        <td style=\"padding-left: 1em; padding-right: 1em; text-align: center; vertical-align: top\">5.0</td>\n",
       "        <td style=\"padding-left: 1em; padding-right: 1em; text-align: center; vertical-align: top\">1</td>\n",
       "    </tr>\n",
       "    <tr>\n",
       "        <td style=\"padding-left: 1em; padding-right: 1em; text-align: center; vertical-align: top\">1</td>\n",
       "        <td style=\"padding-left: 1em; padding-right: 1em; text-align: center; vertical-align: top\">B00332YHLU</td>\n",
       "        <td style=\"padding-left: 1em; padding-right: 1em; text-align: center; vertical-align: top\">5.0</td>\n",
       "        <td style=\"padding-left: 1em; padding-right: 1em; text-align: center; vertical-align: top\">2</td>\n",
       "    </tr>\n",
       "    <tr>\n",
       "        <td style=\"padding-left: 1em; padding-right: 1em; text-align: center; vertical-align: top\">1</td>\n",
       "        <td style=\"padding-left: 1em; padding-right: 1em; text-align: center; vertical-align: top\">B002T33I64</td>\n",
       "        <td style=\"padding-left: 1em; padding-right: 1em; text-align: center; vertical-align: top\">5.0</td>\n",
       "        <td style=\"padding-left: 1em; padding-right: 1em; text-align: center; vertical-align: top\">3</td>\n",
       "    </tr>\n",
       "    <tr>\n",
       "        <td style=\"padding-left: 1em; padding-right: 1em; text-align: center; vertical-align: top\">1</td>\n",
       "        <td style=\"padding-left: 1em; padding-right: 1em; text-align: center; vertical-align: top\">B001NJO76U</td>\n",
       "        <td style=\"padding-left: 1em; padding-right: 1em; text-align: center; vertical-align: top\">5.0</td>\n",
       "        <td style=\"padding-left: 1em; padding-right: 1em; text-align: center; vertical-align: top\">4</td>\n",
       "    </tr>\n",
       "    <tr>\n",
       "        <td style=\"padding-left: 1em; padding-right: 1em; text-align: center; vertical-align: top\">1</td>\n",
       "        <td style=\"padding-left: 1em; padding-right: 1em; text-align: center; vertical-align: top\">B001I8O2MK</td>\n",
       "        <td style=\"padding-left: 1em; padding-right: 1em; text-align: center; vertical-align: top\">5.0</td>\n",
       "        <td style=\"padding-left: 1em; padding-right: 1em; text-align: center; vertical-align: top\">5</td>\n",
       "    </tr>\n",
       "    <tr>\n",
       "        <td style=\"padding-left: 1em; padding-right: 1em; text-align: center; vertical-align: top\">1</td>\n",
       "        <td style=\"padding-left: 1em; padding-right: 1em; text-align: center; vertical-align: top\">B001ATJQB4</td>\n",
       "        <td style=\"padding-left: 1em; padding-right: 1em; text-align: center; vertical-align: top\">5.0</td>\n",
       "        <td style=\"padding-left: 1em; padding-right: 1em; text-align: center; vertical-align: top\">6</td>\n",
       "    </tr>\n",
       "    <tr>\n",
       "        <td style=\"padding-left: 1em; padding-right: 1em; text-align: center; vertical-align: top\">1</td>\n",
       "        <td style=\"padding-left: 1em; padding-right: 1em; text-align: center; vertical-align: top\">B000VU2STU</td>\n",
       "        <td style=\"padding-left: 1em; padding-right: 1em; text-align: center; vertical-align: top\">5.0</td>\n",
       "        <td style=\"padding-left: 1em; padding-right: 1em; text-align: center; vertical-align: top\">7</td>\n",
       "    </tr>\n",
       "    <tr>\n",
       "        <td style=\"padding-left: 1em; padding-right: 1em; text-align: center; vertical-align: top\">1</td>\n",
       "        <td style=\"padding-left: 1em; padding-right: 1em; text-align: center; vertical-align: top\">B000ULZLYY</td>\n",
       "        <td style=\"padding-left: 1em; padding-right: 1em; text-align: center; vertical-align: top\">5.0</td>\n",
       "        <td style=\"padding-left: 1em; padding-right: 1em; text-align: center; vertical-align: top\">8</td>\n",
       "    </tr>\n",
       "    <tr>\n",
       "        <td style=\"padding-left: 1em; padding-right: 1em; text-align: center; vertical-align: top\">1</td>\n",
       "        <td style=\"padding-left: 1em; padding-right: 1em; text-align: center; vertical-align: top\">B000UERE3M</td>\n",
       "        <td style=\"padding-left: 1em; padding-right: 1em; text-align: center; vertical-align: top\">5.0</td>\n",
       "        <td style=\"padding-left: 1em; padding-right: 1em; text-align: center; vertical-align: top\">9</td>\n",
       "    </tr>\n",
       "    <tr>\n",
       "        <td style=\"padding-left: 1em; padding-right: 1em; text-align: center; vertical-align: top\">1</td>\n",
       "        <td style=\"padding-left: 1em; padding-right: 1em; text-align: center; vertical-align: top\">B000IKP5AM</td>\n",
       "        <td style=\"padding-left: 1em; padding-right: 1em; text-align: center; vertical-align: top\">5.0</td>\n",
       "        <td style=\"padding-left: 1em; padding-right: 1em; text-align: center; vertical-align: top\">10</td>\n",
       "    </tr>\n",
       "</table>\n",
       "[40 rows x 4 columns]<br/>Note: Only the head of the SFrame is printed.<br/>You can use print_rows(num_rows=m, num_columns=n) to print more rows and columns.\n",
       "</div>"
      ],
      "text/plain": [
       "Columns:\n",
       "\treviewerID\tstr\n",
       "\tasin\tstr\n",
       "\tscore\tfloat\n",
       "\trank\tint\n",
       "\n",
       "Rows: 40\n",
       "\n",
       "Data:\n",
       "+------------+------------+-------+------+\n",
       "| reviewerID |    asin    | score | rank |\n",
       "+------------+------------+-------+------+\n",
       "|     1      | B003336P1Y |  5.0  |  1   |\n",
       "|     1      | B00332YHLU |  5.0  |  2   |\n",
       "|     1      | B002T33I64 |  5.0  |  3   |\n",
       "|     1      | B001NJO76U |  5.0  |  4   |\n",
       "|     1      | B001I8O2MK |  5.0  |  5   |\n",
       "|     1      | B001ATJQB4 |  5.0  |  6   |\n",
       "|     1      | B000VU2STU |  5.0  |  7   |\n",
       "|     1      | B000ULZLYY |  5.0  |  8   |\n",
       "|     1      | B000UERE3M |  5.0  |  9   |\n",
       "|     1      | B000IKP5AM |  5.0  |  10  |\n",
       "+------------+------------+-------+------+\n",
       "[40 rows x 4 columns]\n",
       "Note: Only the head of the SFrame is printed.\n",
       "You can use print_rows(num_rows=m, num_columns=n) to print more rows and columns."
      ]
     },
     "execution_count": 12,
     "metadata": {},
     "output_type": "execute_result"
    }
   ],
   "source": [
    "item_sim_model.recommend(users=range(1,number_users),k=number_reviews)\n"
   ]
  },
  {
   "cell_type": "markdown",
   "metadata": {},
   "source": [
    "---\n",
    "1. https://www.amazon.com/exec/obidos/ASIN/B00I3MPDP4 : Bosch (Season 1)\n",
    "2. https://www.amazon.com/exec/obidos/ASIN/B00I3MNGCG : Mozart in the Jungle (Season 1)\n",
    "3. https://www.amazon.com/exec/obidos/ASIN/B00I3MMTS8 : Transparent (Season 1)\n",
    "4. https://www.amazon.com/exec/obidos/ASIN/B00I3MNVBW : The Rebels (Season 1)\n",
    "5. https://www.amazon.com/exec/obidos/ASIN/B00C6C96UK : Kill Zombies\n",
    "\n",
    "While this is a bit of a random assortment, it seems like a reasonable set of things to recommend.  The first 4 are drama's, and the comedy movie.\n"
   ]
  },
  {
   "cell_type": "markdown",
   "metadata": {},
   "source": [
    "Next, we will compare the two models to each other, and see how they do."
   ]
  },
  {
   "cell_type": "code",
   "execution_count": 13,
   "metadata": {
    "collapsed": false
   },
   "outputs": [
    {
     "name": "stdout",
     "output_type": "stream",
     "text": [
      "compare_models: using 388 users to estimate model performance\n",
      "PROGRESS: Evaluate model M0\n",
      "\n",
      "Precision and recall summary statistics by cutoff\n",
      "+--------+-------------------+------------------+\n",
      "| cutoff |   mean_precision  |   mean_recall    |\n",
      "+--------+-------------------+------------------+\n",
      "|   1    |  0.00257731958763 | 0.00128865979381 |\n",
      "|   2    |  0.00128865979381 | 0.00128865979381 |\n",
      "|   3    |  0.00085910652921 | 0.00128865979381 |\n",
      "|   4    |  0.00128865979381 | 0.00257731958763 |\n",
      "|   5    |  0.00103092783505 | 0.00257731958763 |\n",
      "|   6    |  0.00085910652921 | 0.00257731958763 |\n",
      "|   7    |  0.00110456553756 | 0.00343642611684 |\n",
      "|   8    | 0.000966494845361 | 0.00343642611684 |\n",
      "|   9    |  0.00085910652921 | 0.00343642611684 |\n",
      "|   10   | 0.000773195876289 | 0.00343642611684 |\n",
      "+--------+-------------------+------------------+\n",
      "[10 rows x 3 columns]\n",
      "\n",
      "('\\nOverall RMSE: ', 1.059677560656642)\n",
      "\n",
      "Per User RMSE (best)\n",
      "+----------------+-------+------+\n",
      "|   reviewerID   | count | rmse |\n",
      "+----------------+-------+------+\n",
      "| A3BW0UW0WSJD2V |   1   | 0.0  |\n",
      "+----------------+-------+------+\n",
      "[1 rows x 3 columns]\n",
      "\n",
      "\n",
      "Per User RMSE (worst)\n",
      "+----------------+-------+---------------+\n",
      "|   reviewerID   | count |      rmse     |\n",
      "+----------------+-------+---------------+\n",
      "| A31VXOF5TFB1XW |   1   | 3.71428571429 |\n",
      "+----------------+-------+---------------+\n",
      "[1 rows x 3 columns]\n",
      "\n",
      "\n",
      "Per Item RMSE (best)\n",
      "+------------+-------+------+\n",
      "|    asin    | count | rmse |\n",
      "+------------+-------+------+\n",
      "| B007C7UI8S |   1   | 0.0  |\n",
      "+------------+-------+------+\n",
      "[1 rows x 3 columns]\n",
      "\n",
      "\n",
      "Per Item RMSE (worst)\n",
      "+------------+-------+---------------+\n",
      "|    asin    | count |      rmse     |\n",
      "+------------+-------+---------------+\n",
      "| B006OU14BO |   1   | 3.71428571429 |\n",
      "+------------+-------+---------------+\n",
      "[1 rows x 3 columns]\n",
      "\n",
      "PROGRESS: Evaluate model M1\n",
      "\n",
      "Precision and recall summary statistics by cutoff\n",
      "+--------+-------------------+------------------+\n",
      "| cutoff |   mean_precision  |   mean_recall    |\n",
      "+--------+-------------------+------------------+\n",
      "|   1    |        0.0        |       0.0        |\n",
      "|   2    |        0.0        |       0.0        |\n",
      "|   3    |        0.0        |       0.0        |\n",
      "|   4    |        0.0        |       0.0        |\n",
      "|   5    |        0.0        |       0.0        |\n",
      "|   6    |        0.0        |       0.0        |\n",
      "|   7    |        0.0        |       0.0        |\n",
      "|   8    |        0.0        |       0.0        |\n",
      "|   9    |  0.00028636884307 | 0.00257731958763 |\n",
      "|   10   | 0.000257731958763 | 0.00257731958763 |\n",
      "+--------+-------------------+------------------+\n",
      "[10 rows x 3 columns]\n",
      "\n",
      "('\\nOverall RMSE: ', 1.0558912168397236)\n",
      "\n",
      "Per User RMSE (best)\n",
      "+----------------+-------+------+\n",
      "|   reviewerID   | count | rmse |\n",
      "+----------------+-------+------+\n",
      "| A3BW0UW0WSJD2V |   1   | 0.0  |\n",
      "+----------------+-------+------+\n",
      "[1 rows x 3 columns]\n",
      "\n",
      "\n",
      "Per User RMSE (worst)\n",
      "+----------------+-------+---------------+\n",
      "|   reviewerID   | count |      rmse     |\n",
      "+----------------+-------+---------------+\n",
      "| A31VXOF5TFB1XW |   1   | 3.56353004064 |\n",
      "+----------------+-------+---------------+\n",
      "[1 rows x 3 columns]\n",
      "\n",
      "\n",
      "Per Item RMSE (best)\n",
      "+------------+-------+------+\n",
      "|    asin    | count | rmse |\n",
      "+------------+-------+------+\n",
      "| B005IWN5EI |   1   | 0.0  |\n",
      "+------------+-------+------+\n",
      "[1 rows x 3 columns]\n",
      "\n",
      "\n",
      "Per Item RMSE (worst)\n",
      "+------------+-------+-------+\n",
      "|    asin    | count |  rmse |\n",
      "+------------+-------+-------+\n",
      "| B008FWHMMO |   1   | 3.625 |\n",
      "+------------+-------+-------+\n",
      "[1 rows x 3 columns]\n",
      "\n"
     ]
    }
   ],
   "source": [
    "result = gl.recommender.util.compare_models(test_set, [popularity_model, item_sim_model],\n",
    "                                            user_sample=.1, skip_set=train_set)"
   ]
  },
  {
   "cell_type": "code",
   "execution_count": 14,
   "metadata": {
    "collapsed": false
   },
   "outputs": [
    {
     "data": {
      "text/html": [
       "<div style=\"max-height:1000px;max-width:1500px;overflow:auto;\"><table frame=\"box\" rules=\"cols\">\n",
       "    <tr>\n",
       "        <th style=\"padding-left: 1em; padding-right: 1em; text-align: center\">reviewerID</th>\n",
       "        <th style=\"padding-left: 1em; padding-right: 1em; text-align: center\">asin</th>\n",
       "        <th style=\"padding-left: 1em; padding-right: 1em; text-align: center\">score</th>\n",
       "        <th style=\"padding-left: 1em; padding-right: 1em; text-align: center\">rank</th>\n",
       "    </tr>\n",
       "    <tr>\n",
       "        <td style=\"padding-left: 1em; padding-right: 1em; text-align: center; vertical-align: top\">A2PO6BB2VDMF1T</td>\n",
       "        <td style=\"padding-left: 1em; padding-right: 1em; text-align: center; vertical-align: top\">B003336P1Y</td>\n",
       "        <td style=\"padding-left: 1em; padding-right: 1em; text-align: center; vertical-align: top\">5.0</td>\n",
       "        <td style=\"padding-left: 1em; padding-right: 1em; text-align: center; vertical-align: top\">1</td>\n",
       "    </tr>\n",
       "    <tr>\n",
       "        <td style=\"padding-left: 1em; padding-right: 1em; text-align: center; vertical-align: top\">A2PO6BB2VDMF1T</td>\n",
       "        <td style=\"padding-left: 1em; padding-right: 1em; text-align: center; vertical-align: top\">B00332YHLU</td>\n",
       "        <td style=\"padding-left: 1em; padding-right: 1em; text-align: center; vertical-align: top\">5.0</td>\n",
       "        <td style=\"padding-left: 1em; padding-right: 1em; text-align: center; vertical-align: top\">2</td>\n",
       "    </tr>\n",
       "    <tr>\n",
       "        <td style=\"padding-left: 1em; padding-right: 1em; text-align: center; vertical-align: top\">A2PO6BB2VDMF1T</td>\n",
       "        <td style=\"padding-left: 1em; padding-right: 1em; text-align: center; vertical-align: top\">B002T33I64</td>\n",
       "        <td style=\"padding-left: 1em; padding-right: 1em; text-align: center; vertical-align: top\">5.0</td>\n",
       "        <td style=\"padding-left: 1em; padding-right: 1em; text-align: center; vertical-align: top\">3</td>\n",
       "    </tr>\n",
       "    <tr>\n",
       "        <td style=\"padding-left: 1em; padding-right: 1em; text-align: center; vertical-align: top\">A2PO6BB2VDMF1T</td>\n",
       "        <td style=\"padding-left: 1em; padding-right: 1em; text-align: center; vertical-align: top\">B001NJO76U</td>\n",
       "        <td style=\"padding-left: 1em; padding-right: 1em; text-align: center; vertical-align: top\">5.0</td>\n",
       "        <td style=\"padding-left: 1em; padding-right: 1em; text-align: center; vertical-align: top\">4</td>\n",
       "    </tr>\n",
       "    <tr>\n",
       "        <td style=\"padding-left: 1em; padding-right: 1em; text-align: center; vertical-align: top\">A2PO6BB2VDMF1T</td>\n",
       "        <td style=\"padding-left: 1em; padding-right: 1em; text-align: center; vertical-align: top\">B001I8O2MK</td>\n",
       "        <td style=\"padding-left: 1em; padding-right: 1em; text-align: center; vertical-align: top\">5.0</td>\n",
       "        <td style=\"padding-left: 1em; padding-right: 1em; text-align: center; vertical-align: top\">5</td>\n",
       "    </tr>\n",
       "    <tr>\n",
       "        <td style=\"padding-left: 1em; padding-right: 1em; text-align: center; vertical-align: top\">A2PO6BB2VDMF1T</td>\n",
       "        <td style=\"padding-left: 1em; padding-right: 1em; text-align: center; vertical-align: top\">B001ATJQB4</td>\n",
       "        <td style=\"padding-left: 1em; padding-right: 1em; text-align: center; vertical-align: top\">5.0</td>\n",
       "        <td style=\"padding-left: 1em; padding-right: 1em; text-align: center; vertical-align: top\">6</td>\n",
       "    </tr>\n",
       "    <tr>\n",
       "        <td style=\"padding-left: 1em; padding-right: 1em; text-align: center; vertical-align: top\">A2PO6BB2VDMF1T</td>\n",
       "        <td style=\"padding-left: 1em; padding-right: 1em; text-align: center; vertical-align: top\">B000VU2STU</td>\n",
       "        <td style=\"padding-left: 1em; padding-right: 1em; text-align: center; vertical-align: top\">5.0</td>\n",
       "        <td style=\"padding-left: 1em; padding-right: 1em; text-align: center; vertical-align: top\">7</td>\n",
       "    </tr>\n",
       "    <tr>\n",
       "        <td style=\"padding-left: 1em; padding-right: 1em; text-align: center; vertical-align: top\">A2PO6BB2VDMF1T</td>\n",
       "        <td style=\"padding-left: 1em; padding-right: 1em; text-align: center; vertical-align: top\">B000ULZLYY</td>\n",
       "        <td style=\"padding-left: 1em; padding-right: 1em; text-align: center; vertical-align: top\">5.0</td>\n",
       "        <td style=\"padding-left: 1em; padding-right: 1em; text-align: center; vertical-align: top\">8</td>\n",
       "    </tr>\n",
       "    <tr>\n",
       "        <td style=\"padding-left: 1em; padding-right: 1em; text-align: center; vertical-align: top\">A2PO6BB2VDMF1T</td>\n",
       "        <td style=\"padding-left: 1em; padding-right: 1em; text-align: center; vertical-align: top\">B000UERE3M</td>\n",
       "        <td style=\"padding-left: 1em; padding-right: 1em; text-align: center; vertical-align: top\">5.0</td>\n",
       "        <td style=\"padding-left: 1em; padding-right: 1em; text-align: center; vertical-align: top\">9</td>\n",
       "    </tr>\n",
       "    <tr>\n",
       "        <td style=\"padding-left: 1em; padding-right: 1em; text-align: center; vertical-align: top\">A2PO6BB2VDMF1T</td>\n",
       "        <td style=\"padding-left: 1em; padding-right: 1em; text-align: center; vertical-align: top\">B000IKP5AM</td>\n",
       "        <td style=\"padding-left: 1em; padding-right: 1em; text-align: center; vertical-align: top\">5.0</td>\n",
       "        <td style=\"padding-left: 1em; padding-right: 1em; text-align: center; vertical-align: top\">10</td>\n",
       "    </tr>\n",
       "</table>\n",
       "[10 rows x 4 columns]<br/>\n",
       "</div>"
      ],
      "text/plain": [
       "Columns:\n",
       "\treviewerID\tstr\n",
       "\tasin\tstr\n",
       "\tscore\tfloat\n",
       "\trank\tint\n",
       "\n",
       "Rows: 10\n",
       "\n",
       "Data:\n",
       "+----------------+------------+-------+------+\n",
       "|   reviewerID   |    asin    | score | rank |\n",
       "+----------------+------------+-------+------+\n",
       "| A2PO6BB2VDMF1T | B003336P1Y |  5.0  |  1   |\n",
       "| A2PO6BB2VDMF1T | B00332YHLU |  5.0  |  2   |\n",
       "| A2PO6BB2VDMF1T | B002T33I64 |  5.0  |  3   |\n",
       "| A2PO6BB2VDMF1T | B001NJO76U |  5.0  |  4   |\n",
       "| A2PO6BB2VDMF1T | B001I8O2MK |  5.0  |  5   |\n",
       "| A2PO6BB2VDMF1T | B001ATJQB4 |  5.0  |  6   |\n",
       "| A2PO6BB2VDMF1T | B000VU2STU |  5.0  |  7   |\n",
       "| A2PO6BB2VDMF1T | B000ULZLYY |  5.0  |  8   |\n",
       "| A2PO6BB2VDMF1T | B000UERE3M |  5.0  |  9   |\n",
       "| A2PO6BB2VDMF1T | B000IKP5AM |  5.0  |  10  |\n",
       "+----------------+------------+-------+------+\n",
       "[10 rows x 4 columns]"
      ]
     },
     "execution_count": 14,
     "metadata": {},
     "output_type": "execute_result"
    }
   ],
   "source": [
    "\n",
    "K = 10\n",
    "users = gl.SArray(sf['reviewerID'].unique().head(100))\n",
    "\n",
    "recs = item_sim_model.recommend(users=users, k=K)\n",
    "recs.head()"
   ]
  },
  {
   "cell_type": "code",
   "execution_count": 15,
   "metadata": {
    "collapsed": false
   },
   "outputs": [
    {
     "data": {
      "text/html": [
       "<pre>Recsys training: model = item_similarity</pre>"
      ],
      "text/plain": [
       "Recsys training: model = item_similarity"
      ]
     },
     "metadata": {},
     "output_type": "display_data"
    },
    {
     "data": {
      "text/html": [
       "<pre>Warning: Ignoring columns helpful, reviewText, reviewTime, reviewerName, summary, unixReviewTime;</pre>"
      ],
      "text/plain": [
       "Warning: Ignoring columns helpful, reviewText, reviewTime, reviewerName, summary, unixReviewTime;"
      ]
     },
     "metadata": {},
     "output_type": "display_data"
    },
    {
     "data": {
      "text/html": [
       "<pre>    To use these columns in scoring predictions, use a model that allows the use of additional features.</pre>"
      ],
      "text/plain": [
       "    To use these columns in scoring predictions, use a model that allows the use of additional features."
      ]
     },
     "metadata": {},
     "output_type": "display_data"
    },
    {
     "data": {
      "text/html": [
       "<pre>Preparing data set.</pre>"
      ],
      "text/plain": [
       "Preparing data set."
      ]
     },
     "metadata": {},
     "output_type": "display_data"
    },
    {
     "data": {
      "text/html": [
       "<pre>    Data has 29707 observations with 5130 users and 1685 items.</pre>"
      ],
      "text/plain": [
       "    Data has 29707 observations with 5130 users and 1685 items."
      ]
     },
     "metadata": {},
     "output_type": "display_data"
    },
    {
     "data": {
      "text/html": [
       "<pre>    Data prepared in: 0.064177s</pre>"
      ],
      "text/plain": [
       "    Data prepared in: 0.064177s"
      ]
     },
     "metadata": {},
     "output_type": "display_data"
    },
    {
     "data": {
      "text/html": [
       "<pre>Training model from provided data.</pre>"
      ],
      "text/plain": [
       "Training model from provided data."
      ]
     },
     "metadata": {},
     "output_type": "display_data"
    },
    {
     "data": {
      "text/html": [
       "<pre>Gathering per-item and per-user statistics.</pre>"
      ],
      "text/plain": [
       "Gathering per-item and per-user statistics."
      ]
     },
     "metadata": {},
     "output_type": "display_data"
    },
    {
     "data": {
      "text/html": [
       "<pre>+--------------------------------+------------+</pre>"
      ],
      "text/plain": [
       "+--------------------------------+------------+"
      ]
     },
     "metadata": {},
     "output_type": "display_data"
    },
    {
     "data": {
      "text/html": [
       "<pre>| Elapsed Time (Item Statistics) | % Complete |</pre>"
      ],
      "text/plain": [
       "| Elapsed Time (Item Statistics) | % Complete |"
      ]
     },
     "metadata": {},
     "output_type": "display_data"
    },
    {
     "data": {
      "text/html": [
       "<pre>+--------------------------------+------------+</pre>"
      ],
      "text/plain": [
       "+--------------------------------+------------+"
      ]
     },
     "metadata": {},
     "output_type": "display_data"
    },
    {
     "data": {
      "text/html": [
       "<pre>| 0us                            | 77.75      |</pre>"
      ],
      "text/plain": [
       "| 0us                            | 77.75      |"
      ]
     },
     "metadata": {},
     "output_type": "display_data"
    },
    {
     "data": {
      "text/html": [
       "<pre>| 1.004ms                        | 100        |</pre>"
      ],
      "text/plain": [
       "| 1.004ms                        | 100        |"
      ]
     },
     "metadata": {},
     "output_type": "display_data"
    },
    {
     "data": {
      "text/html": [
       "<pre>+--------------------------------+------------+</pre>"
      ],
      "text/plain": [
       "+--------------------------------+------------+"
      ]
     },
     "metadata": {},
     "output_type": "display_data"
    },
    {
     "data": {
      "text/html": [
       "<pre>Setting up lookup tables.</pre>"
      ],
      "text/plain": [
       "Setting up lookup tables."
      ]
     },
     "metadata": {},
     "output_type": "display_data"
    },
    {
     "data": {
      "text/html": [
       "<pre>Processing data in one pass using dense lookup tables.</pre>"
      ],
      "text/plain": [
       "Processing data in one pass using dense lookup tables."
      ]
     },
     "metadata": {},
     "output_type": "display_data"
    },
    {
     "data": {
      "text/html": [
       "<pre>+-------------------------------------+------------------+-----------------+</pre>"
      ],
      "text/plain": [
       "+-------------------------------------+------------------+-----------------+"
      ]
     },
     "metadata": {},
     "output_type": "display_data"
    },
    {
     "data": {
      "text/html": [
       "<pre>| Elapsed Time (Constructing Lookups) | Total % Complete | Items Processed |</pre>"
      ],
      "text/plain": [
       "| Elapsed Time (Constructing Lookups) | Total % Complete | Items Processed |"
      ]
     },
     "metadata": {},
     "output_type": "display_data"
    },
    {
     "data": {
      "text/html": [
       "<pre>+-------------------------------------+------------------+-----------------+</pre>"
      ],
      "text/plain": [
       "+-------------------------------------+------------------+-----------------+"
      ]
     },
     "metadata": {},
     "output_type": "display_data"
    },
    {
     "data": {
      "text/html": [
       "<pre>| 68.141ms                            | 0                | 0               |</pre>"
      ],
      "text/plain": [
       "| 68.141ms                            | 0                | 0               |"
      ]
     },
     "metadata": {},
     "output_type": "display_data"
    },
    {
     "data": {
      "text/html": [
       "<pre>| 101.228ms                           | 100              | 1685            |</pre>"
      ],
      "text/plain": [
       "| 101.228ms                           | 100              | 1685            |"
      ]
     },
     "metadata": {},
     "output_type": "display_data"
    },
    {
     "data": {
      "text/html": [
       "<pre>+-------------------------------------+------------------+-----------------+</pre>"
      ],
      "text/plain": [
       "+-------------------------------------+------------------+-----------------+"
      ]
     },
     "metadata": {},
     "output_type": "display_data"
    },
    {
     "data": {
      "text/html": [
       "<pre>Finalizing lookup tables.</pre>"
      ],
      "text/plain": [
       "Finalizing lookup tables."
      ]
     },
     "metadata": {},
     "output_type": "display_data"
    },
    {
     "data": {
      "text/html": [
       "<pre>Generating candidate set for working with new users.</pre>"
      ],
      "text/plain": [
       "Generating candidate set for working with new users."
      ]
     },
     "metadata": {},
     "output_type": "display_data"
    },
    {
     "data": {
      "text/html": [
       "<pre>Finished training in 0.164395s</pre>"
      ],
      "text/plain": [
       "Finished training in 0.164395s"
      ]
     },
     "metadata": {},
     "output_type": "display_data"
    },
    {
     "data": {
      "text/html": [
       "<pre>recommendations finished on 1000/3880 queries. users per second: 76716.5</pre>"
      ],
      "text/plain": [
       "recommendations finished on 1000/3880 queries. users per second: 76716.5"
      ]
     },
     "metadata": {},
     "output_type": "display_data"
    },
    {
     "data": {
      "text/html": [
       "<pre>recommendations finished on 2000/3880 queries. users per second: 79789.4</pre>"
      ],
      "text/plain": [
       "recommendations finished on 2000/3880 queries. users per second: 79789.4"
      ]
     },
     "metadata": {},
     "output_type": "display_data"
    },
    {
     "data": {
      "text/html": [
       "<pre>recommendations finished on 3000/3880 queries. users per second: 64332.1</pre>"
      ],
      "text/plain": [
       "recommendations finished on 3000/3880 queries. users per second: 64332.1"
      ]
     },
     "metadata": {},
     "output_type": "display_data"
    },
    {
     "name": "stdout",
     "output_type": "stream",
     "text": [
      "\n",
      "Precision and recall summary statistics by cutoff\n",
      "+--------+-----------------+-----------------+\n",
      "| cutoff |  mean_precision |   mean_recall   |\n",
      "+--------+-----------------+-----------------+\n",
      "|   1    |  0.137371134021 | 0.0873629363191 |\n",
      "|   2    |  0.115850515464 |  0.140872907162 |\n",
      "|   3    | 0.0955326460481 |  0.170744766402 |\n",
      "|   4    | 0.0818298969072 |  0.194446165518 |\n",
      "|   5    | 0.0713402061856 |  0.209951411275 |\n",
      "|   6    | 0.0637457044674 |  0.223581136361 |\n",
      "|   7    | 0.0578055964654 |  0.236031747033 |\n",
      "|   8    | 0.0524806701031 |  0.244432377044 |\n",
      "|   9    | 0.0484822451317 |  0.253082205757 |\n",
      "|   10   | 0.0451288659794 |  0.261750590637 |\n",
      "+--------+-----------------+-----------------+\n",
      "[10 rows x 3 columns]\n",
      "\n",
      "('\\nOverall RMSE: ', 4.249237119980557)\n",
      "\n",
      "Per User RMSE (best)\n",
      "+----------------+-------+------------------+\n",
      "|   reviewerID   | count |       rmse       |\n",
      "+----------------+-------+------------------+\n",
      "| A1HSNJH5EFKR30 |   1   | 0.00615993142128 |\n",
      "+----------------+-------+------------------+\n",
      "[1 rows x 3 columns]\n",
      "\n",
      "\n",
      "Per User RMSE (worst)\n",
      "+---------------+-------+------+\n",
      "|   reviewerID  | count | rmse |\n",
      "+---------------+-------+------+\n",
      "| AKL6E6FRY6CHB |   1   | 5.0  |\n",
      "+---------------+-------+------+\n",
      "[1 rows x 3 columns]\n",
      "\n",
      "\n",
      "Per Item RMSE (best)\n",
      "+------------+-------+----------------+\n",
      "|    asin    | count |      rmse      |\n",
      "+------------+-------+----------------+\n",
      "| B0063BGBO4 |   1   | 0.799535104207 |\n",
      "+------------+-------+----------------+\n",
      "[1 rows x 3 columns]\n",
      "\n",
      "\n",
      "Per Item RMSE (worst)\n",
      "+------------+-------+------+\n",
      "|    asin    | count | rmse |\n",
      "+------------+-------+------+\n",
      "| B00EIQJH8I |   2   | 5.0  |\n",
      "+------------+-------+------+\n",
      "[1 rows x 3 columns]\n",
      "\n"
     ]
    }
   ],
   "source": [
    "from IPython.display import display\n",
    "from IPython.display import Image\n",
    "\n",
    "gl.canvas.set_target('ipynb')\n",
    "\n",
    "item_item = gl.recommender.item_similarity_recommender.create(train_set, \n",
    "                                  user_id=\"reviewerID\", \n",
    "                                  item_id=\"asin\", \n",
    "                                  target=\"overall\",\n",
    "                                  only_top_k=number_users,\n",
    "                                  similarity_type=\"cosine\")\n",
    "\n",
    "rmse_results = item_item.evaluate(test_set)"
   ]
  },
  {
   "cell_type": "code",
   "execution_count": 16,
   "metadata": {
    "collapsed": false
   },
   "outputs": [
    {
     "name": "stdout",
     "output_type": "stream",
     "text": [
      "dict_keys(['rmse_by_user', 'precision_recall_overall', 'rmse_by_item', 'precision_recall_by_user', 'rmse_overall'])\n",
      "+------------+-------+---------------+\n",
      "|    asin    | count |      rmse     |\n",
      "+------------+-------+---------------+\n",
      "| B00H2E66H8 |   2   |      4.0      |\n",
      "| B00F2C1RPS |   10  | 4.62601340249 |\n",
      "| B002JJC6E8 |   1   |      2.0      |\n",
      "| B00CB6SU5I |   3   | 3.02650053314 |\n",
      "| B007ZU23GC |   1   |      4.0      |\n",
      "| B001QDKK3W |   15  | 4.45024402385 |\n",
      "| B0082JW05O |   1   |      2.0      |\n",
      "| B0015TFUSC |   4   | 4.28364438539 |\n",
      "| B007O2TG6Q |   4   | 4.18330013267 |\n",
      "| B00EIQJH8I |   2   |      5.0      |\n",
      "+------------+-------+---------------+\n",
      "[1470 rows x 3 columns]\n",
      "Note: Only the head of the SFrame is printed.\n",
      "You can use print_rows(num_rows=m, num_columns=n) to print more rows and columns.\n"
     ]
    }
   ],
   "source": [
    "print rmse_results.viewkeys()\n",
    "print rmse_results['rmse_by_item']"
   ]
  },
  {
   "cell_type": "code",
   "execution_count": 17,
   "metadata": {
    "collapsed": false
   },
   "outputs": [
    {
     "data": {
      "text/html": [
       "<div style=\"max-height:1000px;max-width:1500px;overflow:auto;\"><table frame=\"box\" rules=\"cols\">\n",
       "    <tr>\n",
       "        <th style=\"padding-left: 1em; padding-right: 1em; text-align: center\">reviewerID</th>\n",
       "        <th style=\"padding-left: 1em; padding-right: 1em; text-align: center\">count</th>\n",
       "        <th style=\"padding-left: 1em; padding-right: 1em; text-align: center\">rmse</th>\n",
       "    </tr>\n",
       "    <tr>\n",
       "        <td style=\"padding-left: 1em; padding-right: 1em; text-align: center; vertical-align: top\">A34D06JL7LC6MU</td>\n",
       "        <td style=\"padding-left: 1em; padding-right: 1em; text-align: center; vertical-align: top\">1</td>\n",
       "        <td style=\"padding-left: 1em; padding-right: 1em; text-align: center; vertical-align: top\">4.0</td>\n",
       "    </tr>\n",
       "    <tr>\n",
       "        <td style=\"padding-left: 1em; padding-right: 1em; text-align: center; vertical-align: top\">A2VQ08XUBNDU88</td>\n",
       "        <td style=\"padding-left: 1em; padding-right: 1em; text-align: center; vertical-align: top\">2</td>\n",
       "        <td style=\"padding-left: 1em; padding-right: 1em; text-align: center; vertical-align: top\">4.52769256907</td>\n",
       "    </tr>\n",
       "    <tr>\n",
       "        <td style=\"padding-left: 1em; padding-right: 1em; text-align: center; vertical-align: top\">A1A6ADR8JG12KQ</td>\n",
       "        <td style=\"padding-left: 1em; padding-right: 1em; text-align: center; vertical-align: top\">4</td>\n",
       "        <td style=\"padding-left: 1em; padding-right: 1em; text-align: center; vertical-align: top\">4.38662273144</td>\n",
       "    </tr>\n",
       "    <tr>\n",
       "        <td style=\"padding-left: 1em; padding-right: 1em; text-align: center; vertical-align: top\">AKL6E6FRY6CHB</td>\n",
       "        <td style=\"padding-left: 1em; padding-right: 1em; text-align: center; vertical-align: top\">1</td>\n",
       "        <td style=\"padding-left: 1em; padding-right: 1em; text-align: center; vertical-align: top\">5.0</td>\n",
       "    </tr>\n",
       "    <tr>\n",
       "        <td style=\"padding-left: 1em; padding-right: 1em; text-align: center; vertical-align: top\">A2WOH395IHGS0T</td>\n",
       "        <td style=\"padding-left: 1em; padding-right: 1em; text-align: center; vertical-align: top\">2</td>\n",
       "        <td style=\"padding-left: 1em; padding-right: 1em; text-align: center; vertical-align: top\">4.8094992798</td>\n",
       "    </tr>\n",
       "    <tr>\n",
       "        <td style=\"padding-left: 1em; padding-right: 1em; text-align: center; vertical-align: top\">A2K38LTTVICB2I</td>\n",
       "        <td style=\"padding-left: 1em; padding-right: 1em; text-align: center; vertical-align: top\">1</td>\n",
       "        <td style=\"padding-left: 1em; padding-right: 1em; text-align: center; vertical-align: top\">5.0</td>\n",
       "    </tr>\n",
       "    <tr>\n",
       "        <td style=\"padding-left: 1em; padding-right: 1em; text-align: center; vertical-align: top\">A2LNXVZ63VT91L</td>\n",
       "        <td style=\"padding-left: 1em; padding-right: 1em; text-align: center; vertical-align: top\">2</td>\n",
       "        <td style=\"padding-left: 1em; padding-right: 1em; text-align: center; vertical-align: top\">4.52769256907</td>\n",
       "    </tr>\n",
       "    <tr>\n",
       "        <td style=\"padding-left: 1em; padding-right: 1em; text-align: center; vertical-align: top\">A1X8IR1ZE3I77A</td>\n",
       "        <td style=\"padding-left: 1em; padding-right: 1em; text-align: center; vertical-align: top\">1</td>\n",
       "        <td style=\"padding-left: 1em; padding-right: 1em; text-align: center; vertical-align: top\">5.0</td>\n",
       "    </tr>\n",
       "    <tr>\n",
       "        <td style=\"padding-left: 1em; padding-right: 1em; text-align: center; vertical-align: top\">AZQJGDWARL3RR</td>\n",
       "        <td style=\"padding-left: 1em; padding-right: 1em; text-align: center; vertical-align: top\">1</td>\n",
       "        <td style=\"padding-left: 1em; padding-right: 1em; text-align: center; vertical-align: top\">1.0</td>\n",
       "    </tr>\n",
       "    <tr>\n",
       "        <td style=\"padding-left: 1em; padding-right: 1em; text-align: center; vertical-align: top\">ALI6HO0QLZZ8C</td>\n",
       "        <td style=\"padding-left: 1em; padding-right: 1em; text-align: center; vertical-align: top\">3</td>\n",
       "        <td style=\"padding-left: 1em; padding-right: 1em; text-align: center; vertical-align: top\">4.50293363449</td>\n",
       "    </tr>\n",
       "</table>\n",
       "[3880 rows x 3 columns]<br/>Note: Only the head of the SFrame is printed.<br/>You can use print_rows(num_rows=m, num_columns=n) to print more rows and columns.\n",
       "</div>"
      ],
      "text/plain": [
       "Columns:\n",
       "\treviewerID\tstr\n",
       "\tcount\tint\n",
       "\trmse\tfloat\n",
       "\n",
       "Rows: 3880\n",
       "\n",
       "Data:\n",
       "+----------------+-------+---------------+\n",
       "|   reviewerID   | count |      rmse     |\n",
       "+----------------+-------+---------------+\n",
       "| A34D06JL7LC6MU |   1   |      4.0      |\n",
       "| A2VQ08XUBNDU88 |   2   | 4.52769256907 |\n",
       "| A1A6ADR8JG12KQ |   4   | 4.38662273144 |\n",
       "| AKL6E6FRY6CHB  |   1   |      5.0      |\n",
       "| A2WOH395IHGS0T |   2   |  4.8094992798 |\n",
       "| A2K38LTTVICB2I |   1   |      5.0      |\n",
       "| A2LNXVZ63VT91L |   2   | 4.52769256907 |\n",
       "| A1X8IR1ZE3I77A |   1   |      5.0      |\n",
       "| AZQJGDWARL3RR  |   1   |      1.0      |\n",
       "| ALI6HO0QLZZ8C  |   3   | 4.50293363449 |\n",
       "+----------------+-------+---------------+\n",
       "[3880 rows x 3 columns]\n",
       "Note: Only the head of the SFrame is printed.\n",
       "You can use print_rows(num_rows=m, num_columns=n) to print more rows and columns."
      ]
     },
     "execution_count": 17,
     "metadata": {},
     "output_type": "execute_result"
    }
   ],
   "source": [
    "\n",
    "rmse_results['rmse_by_user']"
   ]
  },
  {
   "cell_type": "markdown",
   "metadata": {},
   "source": [
    "#### Deployment\n",
    "\n",
    "\n",
    "*** Be critical of your performance and tell the reader how you current model might be usable by other parties. Did you achieve your goals? If not, can you reign in the utility of your modeling? • How useful is your model for interested parties (i.e., the companies or organizations that might want to use it)? • How would your deploy your model for interested parties?  • What other data should be collected?  • How often would the model need to be updated, etc.? *"
   ]
  },
  {
   "cell_type": "markdown",
   "metadata": {},
   "source": [
    "One thing missing in our data is any personal information about the reviewers, and information about the videos, such as genre, producers, actors, etc.\n",
    "This information would be helpful to make the recommendations more personal.  That is, if we knew someones age, we could target based on recommendations by others with a same age group.  If we know someone likes watching British cooking shows, we could use that as a basis.\n"
   ]
  },
  {
   "cell_type": "markdown",
   "metadata": {},
   "source": [
    "For a full-scale deployment, we would need to add in the lookup to Amazon, so show the video names instead of having to look it up manually.\n",
    "\n",
    "It would also be good to be able to identify the particular user/reviewer, and look up the recommendations for that person.  That, in-fact, would be the end result for a production system.  To go with this, a sentiment analisys of the review may show some insights into ways to categorize items differently."
   ]
  },
  {
   "cell_type": "markdown",
   "metadata": {
    "collapsed": true
   },
   "source": [
    "####  References:\n",
    "* https://github.com/turi-code/tutorials/blob/master/notebooks/recsys_rank_10K_song.ipynb\n",
    "* https://github.com/turi-code/tutorials/blob/master/notebooks/five_line_recommender.ipynb\n",
    "\n",
    "Dataset:\n",
    "\n",
    "Image-based recommendations on styles and substitutes\n",
    "J. McAuley, C. Targett, J. Shi, A. van den Hengel\n",
    "SIGIR, 2015\n",
    "\n",
    "Inferring networks of substitutable and complementary products\n",
    "J. McAuley, R. Pandey, J. Leskovec\n",
    "Knowledge Discovery and Data Mining, 2015\n",
    "\n",
    "http://jmcauley.ucsd.edu/data/amazon/"
   ]
  },
  {
   "cell_type": "code",
   "execution_count": null,
   "metadata": {
    "collapsed": true
   },
   "outputs": [],
   "source": []
  }
 ],
 "metadata": {
  "kernelspec": {
   "display_name": "Python 2",
   "language": "python",
   "name": "python2"
  },
  "language_info": {
   "codemirror_mode": {
    "name": "ipython",
    "version": 2
   },
   "file_extension": ".py",
   "mimetype": "text/x-python",
   "name": "python",
   "nbconvert_exporter": "python",
   "pygments_lexer": "ipython2",
   "version": "2.7.11"
  }
 },
 "nbformat": 4,
 "nbformat_minor": 0
}
