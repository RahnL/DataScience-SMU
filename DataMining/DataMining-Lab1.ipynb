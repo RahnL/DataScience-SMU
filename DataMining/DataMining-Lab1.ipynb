{
 "cells": [
  {
   "cell_type": "markdown",
   "metadata": {},
   "source": [
    "Data Mining - MSDS 7331 - Thurs 6:30, Summer 2016\n",
    "Team 3 (AKA Team Super Awesome):  Sal Melendez, Rahn Lieberman, Thomas Rogers\n",
    "<hr>\n",
    "\n",
    "# Lab 1 - Visualization and Data Preprocessing\n",
    "\n",
    "## Table of Contents\n",
    "\n",
    "- [Why This Data Was Collected](#Why-This-Data-Was-Collected)\n",
    "- [Data Import / Housekeeping](#Housekeeping)\n",
    "- [Data Meaning](### Meaning-and-Type-of-Data)\n",
    "- [Data Quality](#Data-Quality)\n",
    "- [Simple Statistics](#Simple-Statistics)\n",
    "- [Visualization and Attributes](#Visualization-And-Attributes)\n",
    "- [Interesting Features](#Interesting-Features)\n",
    "- [Exceptional Work](#Exceptional-Work)\n",
    "- [References](#References)\n",
    "\n",
    "<hr>"
   ]
  },
  {
   "cell_type": "markdown",
   "metadata": {},
   "source": [
    "<hr>\n",
    "## Why This Data Was Collected\n",
    "\n",
    "Our team has selected the 2014 Behavioral Risk Factor Surveillance System data (BRFSS), from the Center for Disease Control and prevention (CDC), to attempt to understand the relationship between quality of health and a number of behavioral, demographic and environmental factors. \n",
    "\n",
    "The purpose of the BRFSS project is to survey a large population of Americans on a wide range of topics to inform policy, research and healthcare delivery. The same or similar questions are asked each year and the resulting dataset gives not only a broad, comprehensive view of health quality in the United States, but it also provides a longitudinal view on how quality of care (among other factors) is changing over time.\n",
    "\n",
    "There are 279 variables in the dataset and over 460,000 surveys completed. The sheer breadth and complexity of this data, with missing, weighted and calculated variables requires a clear and distinct question of interest and some sense of what variables might help answer the question. We have chosen to focus on one particular question in the survey as our response variable and will attempt to better understand the impact reported behaviors have on responses to that question. \n",
    "\n",
    "Our response variable becomes the answer to the following question on quality of health: \"Would you say that in general your health is: (1) excellent, (2) very good, (3) good, (4) fair, (5) poor?\" (section 1.1, column 80)\n",
    "\n",
    "We will limit the 279 variables to focus on those related to behavioral survey questions. The corresponding variables from the questions related to behavior number 30, so our dataset is roughly 450,000 rows by 30 columns. \n",
    "\n",
    "If we start now with a model-building methodology in mind and identify logistic regression as an approach, we need to transform these ordinal responses into a binary response. We’ll do so by combining the “excellent”, “very good” and “good” responses as measures of “good or better” health and the “fair” and “poor” measures as “fair and poor”.\n",
    "\n",
    "To measure success, we will know we’ve mined useful knowledge from this dataset if we’re able to translate the data into actionable insight. If the information we discover has the potential to inform policy or change individual behavior to increase health quality, we’ve been sucessful. \n",
    "\n",
    "We plan to measuring the effectiveness of a good prediction algorithm by it’s ability to classify whether someone will report good or better health or fair and poor health at a high degree of sensitivity and specificity. \n",
    "\n",
    "[Source data, reference 1](#References)\n"
   ]
  },
  {
   "cell_type": "markdown",
   "metadata": {},
   "source": [
    " [toc](#Table-Of-Contents)\n",
    "<hr>\n",
    "### Housekeeping\n",
    "Loading the data, imports, and such."
   ]
  },
  {
   "cell_type": "code",
   "execution_count": 1,
   "metadata": {
    "collapsed": false
   },
   "outputs": [
    {
     "data": {
      "text/html": [
       "<style>.container { width:80% !important; }</style>"
      ],
      "text/plain": [
       "<IPython.core.display.HTML object>"
      ]
     },
     "metadata": {},
     "output_type": "display_data"
    },
    {
     "ename": "NameError",
     "evalue": "name 'df' is not defined",
     "output_type": "error",
     "traceback": [
      "\u001b[1;31m---------------------------------------------------------------------------\u001b[0m",
      "\u001b[1;31mNameError\u001b[0m                                 Traceback (most recent call last)",
      "\u001b[1;32m<ipython-input-1-e278876752fb>\u001b[0m in \u001b[0;36m<module>\u001b[1;34m()\u001b[0m\n\u001b[0;32m      8\u001b[0m \u001b[1;32mfrom\u001b[0m \u001b[0mpandas\u001b[0m \u001b[1;32mimport\u001b[0m \u001b[0mDataFrame\u001b[0m\u001b[1;33m\u001b[0m\u001b[0m\n\u001b[0;32m      9\u001b[0m \u001b[1;33m\u001b[0m\u001b[0m\n\u001b[1;32m---> 10\u001b[1;33m \u001b[0mdf\u001b[0m\u001b[1;33m.\u001b[0m\u001b[0minfo\u001b[0m\u001b[1;33m(\u001b[0m\u001b[1;33m)\u001b[0m\u001b[1;33m\u001b[0m\u001b[0m\n\u001b[0m\u001b[0;32m     11\u001b[0m \u001b[0mdf\u001b[0m\u001b[1;33m.\u001b[0m\u001b[0mhead\u001b[0m\u001b[1;33m(\u001b[0m\u001b[1;33m)\u001b[0m\u001b[1;33m\u001b[0m\u001b[0m\n\u001b[0;32m     12\u001b[0m \u001b[1;33m\u001b[0m\u001b[0m\n",
      "\u001b[1;31mNameError\u001b[0m: name 'df' is not defined"
     ]
    }
   ],
   "source": [
    "# Change the width of the display window, since some of our cells are large.\n",
    "from IPython.core.display import display, HTML\n",
    "display(HTML(\"<style>.container { width:80% !important; }</style>\"))\n",
    "\n",
    "\n",
    "import pandas as pd\n",
    "import numpy as np\n",
    "from pandas import DataFrame\n",
    "\n",
    "df.info()\n",
    "df.head()\n",
    "\n",
    "# Note:  This is based on the full dataset. In the statistics section below, we are using \n",
    "#  the reduced dataset that only contains the columns we're interested in.\n"
   ]
  },
  {
   "cell_type": "markdown",
   "metadata": {
    "collapsed": true
   },
   "source": [
    "[toc](#Table-Of-Contents)\n",
    "<hr>\n",
    "## Meaning and Type of Data\n",
    "The data consists of 279 fields. The majority of the data is answers to the survey questions on either as a Likert scale (1 t o 5), yes/no (1 = yes, 2 = not) or a true/false (1=true, 2=false).  Almost all the fields accept either an ordinal (a \"9\", for example) or a blank value to indicate no response or answer given, very similar to whats shown below.\n",
    "\n",
    "\n",
    "For our question of interest, we are interested in the GENLTH variable.  The answers scale is:\n",
    "\n",
    "Key | 1 | 2 | 3 | 4 | 5 | 7 | 9 | Blank |\n",
    "----- | --- | --- | --- | --- | --- | --- | --- | --- |\n",
    "Value | Excellent | Very Good | Good | Fair | Poor | Don't Know | Refused | Not asked or missing\n",
    "\n",
    "\n",
    "To get a feel for the data, here are some of the other variables, with their meaning.\n",
    "\n",
    " The STATE field is a numerically coded list of all states and territories participating in the survey.\n",
    "\n",
    "Key | Value\n",
    "--- | ---\n",
    "1 | Alaska\n",
    "2 | Alabama\n",
    "3 | Arizona\n",
    "... | ...\n",
    "66 | Guam\n",
    "72 | Puerto Rico\n",
    "\n",
    "\n",
    "The number of adults in the household (measure seperately for male and female):\n",
    "\n",
    "Key | Anwer to \"number of adult [men]/[women] in household\n",
    "--- | ---\n",
    "0 | 0\n",
    "1 | 1\n",
    "2 | 2\n",
    "3 | 3\n",
    "4 | 4\n",
    "5 | 5\n",
    "6 - 99 | 6 or more\n",
    "\n",
    "As mentioned in the first section, to make the data somewhat manageable, we choose one response variable and 30 explanatory variables. The table below shows whether the variable was a response or explanatory variable, which section it belongs in, the column number, the variable name, a description of the variable and the variable data type.\n",
    "\n",
    "<table class=\"table table-bordered table-hover table-condensed\">\n",
    "<tbody><tr><td>RV or EV</td>\n",
    "<td>Section</td>\n",
    "<td>Column</td>\n",
    "<td>Variable Name</td>\n",
    "<td>Description</td>\n",
    "</tr>\n",
    "<tr><td>RV</td>\n",
    "<td>1.1</td>\n",
    "<td>80</td>\n",
    "<td>GENHLTH</td>\n",
    "<td>Would you say that in general your health is:</td>\n",
    "</tr>\n",
    "<tr><td>EV</td>\n",
    "<td>3.1</td>\n",
    "<td>87</td>\n",
    "<td>HLTHPLN1</td>\n",
    "<td>Do you have any kind of health care coverage, including health insurance, prepaid plans such as HMOs, or government plans such as Medicare, or Indian Health Service?</td>\n",
    "</tr>\n",
    "<tr><td>EV</td>\n",
    "<td>3.2</td>\n",
    "<td>88</td>\n",
    "<td>PERSDOC2</td>\n",
    "<td>Do you have one person you think of as your personal doctor or health care provider? (If &quot;No&quot; ask &quot;Is there more than one or is there no person who you think of as your personal doctor or health care provider?&quot;.)</td>\n",
    "</tr>\n",
    "<tr><td>EV</td>\n",
    "<td>3.3</td>\n",
    "<td>89</td>\n",
    "<td>MEDCOST</td>\n",
    "<td>Was there a time in the past 12 months when you needed to see a doctor but could not because of cost?</td>\n",
    "</tr>\n",
    "<tr><td>EV</td>\n",
    "<td>3.4</td>\n",
    "<td>90</td>\n",
    "<td>CHECKUP1</td>\n",
    "<td>About how long has it been since you last visited a doctor for a routine checkup? [A routine checkup is a general physical exam, not an exam for a specific injury, illness, or condition.]</td>\n",
    "</tr>\n",
    "<tr><td>EV</td>\n",
    "<td>4.1</td>\n",
    "<td>91</td>\n",
    "<td>EXERANY2</td>\n",
    "<td>During the past month, other than your regular job, did you participate in any physical activities or exercises such as running, calisthenics, golf, gardening, or walking for exercise?</td>\n",
    "</tr>\n",
    "<tr><td>EV</td>\n",
    "<td>5.1</td>\n",
    "<td>92</td>\n",
    "<td>SLEPTIM1</td>\n",
    "<td>On average, how many hours of sleep do you get in a 24-hour period?</td>\n",
    "</tr>\n",
    "<tr><td>EV</td>\n",
    "<td>6.1</td>\n",
    "<td>94</td>\n",
    "<td>CVDINFR4</td>\n",
    "<td>(Ever told) you had a heart attack, also called a myocardial infarction?<br/></td>\n",
    "</tr>\n",
    "<tr><td>EV</td>\n",
    "<td>6.2</td>\n",
    "<td>95</td>\n",
    "<td>CVDCRHD4</td>\n",
    "<td>(Ever told) you had angina or coronary heart disease?<br/></td>\n",
    "</tr>\n",
    "<tr><td>EV</td>\n",
    "<td>6.3</td>\n",
    "<td>96</td>\n",
    "<td>CVDSTRK3</td>\n",
    "<td>(Ever told) you had a stroke.<br/></td>\n",
    "</tr>\n",
    "<tr><td>EV</td>\n",
    "<td>6.4</td>\n",
    "<td>97</td>\n",
    "<td>ASTHMA3</td>\n",
    "<td>(Ever told) you had asthma?<br/></td>\n",
    "</tr>\n",
    "<tr><td>EV</td>\n",
    "<td>6.5</td>\n",
    "<td>98</td>\n",
    "<td>ASTHNOW</td>\n",
    "<td>Do you still have asthma?</td>\n",
    "</tr>\n",
    "<tr><td>EV</td>\n",
    "<td>6.6</td>\n",
    "<td>99</td>\n",
    "<td>CHCSCNCR</td>\n",
    "<td>(Ever told) you had skin cancer?</td>\n",
    "</tr>\n",
    "<tr><td>EV</td>\n",
    "<td>6.7</td>\n",
    "<td>100</td>\n",
    "<td>CHCOCNCR</td>\n",
    "<td>(Ever told) you had any other types of cancer?</td>\n",
    "</tr>\n",
    "<tr><td>EV</td>\n",
    "<td>6.8</td>\n",
    "<td>101</td>\n",
    "<td>CHCCOPD1</td>\n",
    "<td>(Ever told) you have Chronic Obstructive Pulmonary Disease or COPD, emphysema or chronic bronchitis?</td>\n",
    "</tr>\n",
    "<tr><td>EV</td>\n",
    "<td>6.9</td>\n",
    "<td>102</td>\n",
    "<td>HAVARTH3</td>\n",
    "<td>on: (Ever told) you have some form of arthritis, rheumatoid arthritis, gout, lupus, or fibromyalgia? (Arthritis diagnoses include: rheumatism, polymyalgia rheumatica; osteoarthritis (not osteporosis); tendonitis, bursitis, bunion, tennis elbow; carpal tunnel syndrome, tarsal tunnel syndrome; joint infection, etc.)</td>\n",
    "</tr>\n",
    "<tr><td>EV</td>\n",
    "<td>6.10</td>\n",
    "<td>103</td>\n",
    "<td>ADDEPEV2</td>\n",
    "<td>(Ever told) you that you have a depressive disorder, including depression, major depression, dysthymia, or minor depression?</td>\n",
    "</tr>\n",
    "<tr><td>EV</td>\n",
    "<td>6.11</td>\n",
    "<td>104</td>\n",
    "<td>CHCKIDNY</td>\n",
    "<td>(Ever told) you have kidney disease? Do NOT include kidney stones, bladder infection or incontinence.(Incontinence is not being able to control urine flow.)</td>\n",
    "</tr>\n",
    "<tr><td>EV</td>\n",
    "<td>7.1</td>\n",
    "<td>108</td>\n",
    "<td>LASTDEN3</td>\n",
    "<td>How long has it been since you last visited a dentist or a dental clinic for any reason? Include visits to dental specialists, such as orthodontists.</td>\n",
    "</tr>\n",
    "<tr><td>EV</td>\n",
    "<td>7.2</td>\n",
    "<td>109</td>\n",
    "<td>RMVTETH3</td>\n",
    "<td>How many of your permanent teeth have been removed because of tooth decay or gum disease? Include teeth lost to infection, but do not include teeth lost for other reasons, such as injury or orthodontics. (If wisdom teeth are removed because of tooth decay or gum disease, they should be included in the count for lost teeth)</td>\n",
    "</tr>\n",
    "<tr><td>EV</td>\n",
    "<td>8.24</td>\n",
    "<td>181</td>\n",
    "<td>USEEQUIP</td>\n",
    "<td>Do you now have any health problem that requires you to use special equipment, such as a cane, a wheelchair, a special bed, or a special telephone? (Include occasional use or use in certain circumstances.)</td>\n",
    "</tr>\n",
    "<tr><td>EV</td>\n",
    "<td>8.25</td>\n",
    "<td>182</td>\n",
    "<td>BLIND</td>\n",
    "<td>Are you blind or do you have serious difficulty seeing, even when wearing glasses?</td>\n",
    "</tr>\n",
    "<tr><td>EV</td>\n",
    "<td>8.26</td>\n",
    "<td>183</td>\n",
    "<td>DECIDE</td>\n",
    "<td>Because of a physical, mental, or emotional condition, do you have serious difficulty concentrating, remembering, or making decisions?</td>\n",
    "</tr>\n",
    "<tr><td>EV</td>\n",
    "<td>8.27</td>\n",
    "<td>184</td>\n",
    "<td>DIFFWALK</td>\n",
    "<td>Do you have serious difficulty walking or climbing stairs?</td>\n",
    "</tr>\n",
    "<tr><td>EV</td>\n",
    "<td>8.28</td>\n",
    "<td>185</td>\n",
    "<td>DIFFDRES</td>\n",
    "<td>Do you have difficulty dressing or bathing?</td>\n",
    "</tr>\n",
    "<tr><td>EV</td>\n",
    "<td>8.29</td>\n",
    "<td>186</td>\n",
    "<td>DIFFALON</td>\n",
    "<td>Because of a physical, mental, or emotional condition, do you have difficulty doing errands alone such as visiting a doctor’s office or shopping?</td>\n",
    "</tr>\n",
    "<tr><td>EV</td>\n",
    "<td>9.1</td>\n",
    "<td>187</td>\n",
    "<td>SMOKE100</td>\n",
    "<td>Have you smoked at least 100 cigarettes in your entire life?</td>\n",
    "</tr>\n",
    "<tr><td>EV</td>\n",
    "<td>9.2</td>\n",
    "<td>188</td>\n",
    "<td>SMOKDAY2</td>\n",
    "<td>Do you now smoke cigarettes every day, some days, or not at all?</td>\n",
    "</tr>\n",
    "<tr><td>EV</td>\n",
    "<td>9.3</td>\n",
    "<td>189</td>\n",
    "<td>STOPSMK2</td>\n",
    "<td>During the past 12 months, have you stopped smoking for one day or longer because you were trying to quit smoking?</td>\n",
    "</tr>\n",
    "<tr><td>EV</td>\n",
    "<td>9.4</td>\n",
    "<td>190</td>\n",
    "<td>LASTSMK2</td>\n",
    "<td>How long has it been since you last smoked a cigarette, even one or two puffs?</td>\n",
    "</tr>\n",
    "<tr><td>EV</td>\n",
    "<td>9.5</td>\n",
    "<td>192</td>\n",
    "<td>USENOW3</td>\n",
    "<td>Do you currently use chewing tobacco, snuff, or snus every day, some days, or not at all? (Snus (Swedish for snuff) is a moist smokeless tobacco, usually sold in small pouches that are placed under the lip against the gum.)[Snus (rhymes with ´goose´)]</td>\n",
    "</tr>\n",
    "</tbody></table>\n",
    "\n",
    "A detailed listing of all keys and values is found in the codebook. [Codebook, Reference #2](#References)"
   ]
  },
  {
   "cell_type": "markdown",
   "metadata": {},
   "source": [
    "[toc](#Table-Of-Contents)\n",
    "<hr>\n",
    "## Data Quality\n",
    "\n",
    "*Verify data quality: Explain any missing values, duplicate data, and outliers. Are those mistakes? How do you deal with these problems? Be speciﬁc. *\n",
    "\n",
    "There are a lot of missing fields in the dataset, or answers marks as \"did not answer\".  Since this data set is based on survey results, this is not unexpected since when answering a survey, a question may not be relevant (i.e.  Do you smoke? No, then the question \"how many packs a day\" is meaningless.)\n",
    "\n",
    "Of the 31 variables in our dataset, the five variables with the most missing values are found in the table below. There are not outliers that need to be accomodated, as the survey is structured in a way that doesn't allow for responses that are outside of what's expected. \n",
    "\n",
    "<table class=\"table table-bordered table-hover table-condensed\">\n",
    "<tbody><tr><td>Variable</td>\n",
    "<td>Number of Missing Values</td>\n",
    "</tr>\n",
    "<tr><td>STOPSMK2</td>\n",
    "<td>398,383</td>\n",
    "</tr>\n",
    "<tr><td>LASTSMK2</td>\n",
    "<td>336,085</td>\n",
    "</tr>\n",
    "<tr><td>ASTHNOW</td>\n",
    "<td>403,192</td>\n",
    "</tr>\n",
    "<tr><td>SMOKDAY2</td>\n",
    "<td>269,312</td>\n",
    "</tr>\n",
    "<tr><td>USENOW3  </td>\n",
    "<td>18,305</td>\n",
    "</tr>\n",
    "</tbody></table>"
   ]
  },
  {
   "cell_type": "markdown",
   "metadata": {},
   "source": [
    "[toc](#Table-Of-Contents)\n",
    "<hr>\n",
    "## Simple Statistics\n"
   ]
  },
  {
   "cell_type": "code",
   "execution_count": 14,
   "metadata": {
    "collapsed": false
   },
   "outputs": [
    {
     "data": {
      "text/plain": [
       "    GENHLTH         HLTHPLN1        PERSDOC2        MEDCOST     \n",
       " Min.   :1.000   Min.   :1.000   Min.   :1.000   Min.   :1.000  \n",
       " 1st Qu.:2.000   1st Qu.:1.000   1st Qu.:1.000   1st Qu.:2.000  \n",
       " Median :2.000   Median :1.000   Median :1.000   Median :2.000  \n",
       " Mean   :2.579   Mean   :1.108   Mean   :1.413   Mean   :1.908  \n",
       " 3rd Qu.:3.000   3rd Qu.:1.000   3rd Qu.:1.000   3rd Qu.:2.000  \n",
       " Max.   :9.000   Max.   :9.000   Max.   :9.000   Max.   :9.000  \n",
       " NA's   :4                       NA's   :1       NA's   :1      \n",
       "    CHECKUP1        EXERANY2        SLEPTIM1         CVDINFR4    \n",
       " Min.   :1.000   Min.   :1.000   Min.   : 1.000   Min.   :1.000  \n",
       " 1st Qu.:1.000   1st Qu.:1.000   1st Qu.: 6.000   1st Qu.:2.000  \n",
       " Median :1.000   Median :1.000   Median : 7.000   Median :2.000  \n",
       " Mean   :1.582   Mean   :1.271   Mean   : 8.078   Mean   :1.966  \n",
       " 3rd Qu.:2.000   3rd Qu.:1.000   3rd Qu.: 8.000   3rd Qu.:2.000  \n",
       " Max.   :9.000   Max.   :9.000   Max.   :99.000   Max.   :9.000  \n",
       " NA's   :2       NA's   :4                                       \n",
       "    CVDCRHD4        CVDSTRK3        ASTHMA3         ASTHNOW      \n",
       " Min.   :1.000   Min.   :1.000   Min.   :1.000   Min.   :1.0     \n",
       " 1st Qu.:2.000   1st Qu.:2.000   1st Qu.:2.000   1st Qu.:1.0     \n",
       " Median :2.000   Median :2.000   Median :2.000   Median :1.0     \n",
       " Mean   :1.983   Mean   :1.975   Mean   :1.885   Mean   :1.4     \n",
       " 3rd Qu.:2.000   3rd Qu.:2.000   3rd Qu.:2.000   3rd Qu.:2.0     \n",
       " Max.   :9.000   Max.   :9.000   Max.   :9.000   Max.   :9.0     \n",
       "                                                 NA's   :403192  \n",
       "    CHCSCNCR        CHCOCNCR        CHCCOPD1        HAVARTH3    \n",
       " Min.   :1.000   Min.   :1.000   Min.   :1.000   Min.   :1.000  \n",
       " 1st Qu.:2.000   1st Qu.:2.000   1st Qu.:2.000   1st Qu.:1.000  \n",
       " Median :2.000   Median :2.000   Median :2.000   Median :2.000  \n",
       " Mean   :1.924   Mean   :1.919   Mean   :1.946   Mean   :1.679  \n",
       " 3rd Qu.:2.000   3rd Qu.:2.000   3rd Qu.:2.000   3rd Qu.:2.000  \n",
       " Max.   :9.000   Max.   :9.000   Max.   :9.000   Max.   :9.000  \n",
       " NA's   :1       NA's   :2       NA's   :9       NA's   :2      \n",
       "    ADDEPEV2        CHCKIDNY        LASTDEN3        RMVTETH3    \n",
       " Min.   :1.000   Min.   :1.000   Min.   :1.000   Min.   :1.000  \n",
       " 1st Qu.:2.000   1st Qu.:2.000   1st Qu.:1.000   1st Qu.:1.000  \n",
       " Median :2.000   Median :2.000   Median :1.000   Median :3.000  \n",
       " Mean   :1.836   Mean   :1.984   Mean   :1.734   Mean   :4.736  \n",
       " 3rd Qu.:2.000   3rd Qu.:2.000   3rd Qu.:2.000   3rd Qu.:8.000  \n",
       " Max.   :9.000   Max.   :9.000   Max.   :9.000   Max.   :9.000  \n",
       " NA's   :1       NA's   :1                                      \n",
       "    USEEQUIP         BLIND           DECIDE         DIFFWALK    \n",
       " Min.   :1.000   Min.   :1.000   Min.   :1.000   Min.   :1.000  \n",
       " 1st Qu.:2.000   1st Qu.:2.000   1st Qu.:2.000   1st Qu.:2.000  \n",
       " Median :2.000   Median :2.000   Median :2.000   Median :2.000  \n",
       " Mean   :1.898   Mean   :1.974   Mean   :1.937   Mean   :1.853  \n",
       " 3rd Qu.:2.000   3rd Qu.:2.000   3rd Qu.:2.000   3rd Qu.:2.000  \n",
       " Max.   :9.000   Max.   :9.000   Max.   :9.000   Max.   :9.000  \n",
       " NA's   :14816   NA's   :15464   NA's   :16048   NA's   :16530  \n",
       "    DIFFDRES        DIFFALON        SMOKE100        SMOKDAY2     \n",
       " Min.   :1.000   Min.   :1.000   Min.   :1.000   Min.   :1.00    \n",
       " 1st Qu.:2.000   1st Qu.:2.000   1st Qu.:1.000   1st Qu.:2.00    \n",
       " Median :2.000   Median :2.000   Median :2.000   Median :3.00    \n",
       " Mean   :1.976   Mean   :1.949   Mean   :1.599   Mean   :2.43    \n",
       " 3rd Qu.:2.000   3rd Qu.:2.000   3rd Qu.:2.000   3rd Qu.:3.00    \n",
       " Max.   :9.000   Max.   :9.000   Max.   :9.000   Max.   :9.00    \n",
       " NA's   :16836   NA's   :17301   NA's   :17894   NA's   :269312  \n",
       "    STOPSMK2         LASTSMK2         USENOW3     \n",
       " Min.   :1.0      Min.   : 1.0     Min.   :1.000  \n",
       " 1st Qu.:1.0      1st Qu.: 6.0     1st Qu.:3.000  \n",
       " Median :1.0      Median : 7.0     Median :3.000  \n",
       " Mean   :1.4      Mean   : 6.7     Mean   :2.972  \n",
       " 3rd Qu.:2.0      3rd Qu.: 7.0     3rd Qu.:3.000  \n",
       " Max.   :9.0      Max.   :99.0     Max.   :9.000  \n",
       " NA's   :398383   NA's   :336085   NA's   :18305  "
      ]
     },
     "metadata": {},
     "output_type": "display_data"
    }
   ],
   "source": [
    "VOI <- read.csv(\"data/targetvariables.csv\",stringsAsFactors=F, na.strings=\"unknown\")\n",
    "summary(VOI)\n",
    "\n",
    "library(ggplot2)\n",
    "## This labeling seems necessary for R to understand the numeric values are categories. \n",
    "VOI$LASTDEN3 <- factor(VOI$LASTDEN3, levels = c(1,2,3,4,7,8,9), labels =c(\"Less than 1 year\", \"Within the past 2 years\", \"Within the past 5 years\", \n",
    "                                                                        \"5+ years\", \"Don’t know\", \"Never\", \"Refused\"))\n",
    "VOI$PERSDOC2 <- factor(VOI$PERSDOC2, levels=c(1,2,3,7,9), labels =c(\"Yes, only one\", \"More than one\", \"No\", \"Don't Know\", \"Refused\"))\n",
    "VOI$MEDCOST <- factor(VOI$MEDCOST, levels=c(1,2,7,9), labels =c(\"Yes\",\"No\",\"Don't Know\",\"Refused\"))\n",
    "VOI$BLIND <- factor(VOI$BLIND, levels=c(1,2,7,9), labels =c(\"Yes\",\"No\",\"Don't Know\",\"Refused\"))\n",
    "VOI$EXERANY2 <- factor(VOI$EXERANY2, levels=c(1,2,7,9), labels =c(\"Yes\",\"No\",\"Don't Know\",\"Refused\"))"
   ]
  },
  {
   "cell_type": "markdown",
   "metadata": {},
   "source": [
    "Our response variable is the answer to the question, \"Would you say that in general your health is: (1) excellent, (2) very good, (3) good, (4) fair, (5) poor?\" As such, we will examine the responses with a bar graph, showing the number of responses by each choice."
   ]
  },
  {
   "cell_type": "code",
   "execution_count": 70,
   "metadata": {
    "collapsed": false
   },
   "outputs": [
    {
     "data": {
      "image/png": "[encoded data removed]",
      "image/svg+xml": [
       "<?xml version=\"1.0\" encoding=\"UTF-8\"?>\n",
       "<svg xmlns=\"http://www.w3.org/2000/svg\" xmlns:xlink=\"http://www.w3.org/1999/xlink\" width=\"504pt\" height=\"504pt\" viewBox=\"0 0 504 504\" version=\"1.1\">\n",
       "<defs>\n",
       "<g>\n",
       "<symbol overflow=\"visible\" id=\"glyph0-0\">\n",
       "<path style=\"stroke:none;\" d=\"M 4.65625 0 L 3.558594 0 L 3.558594 -7 C 3.289063 -6.746094 2.941406 -6.492188 2.515625 -6.242188 C 2.085938 -5.988281 1.703125 -5.800781 1.359375 -5.675781 L 1.359375 -6.738281 C 1.972656 -7.027344 2.507813 -7.375 2.972656 -7.789063 C 3.429688 -8.195313 3.757813 -8.59375 3.949219 -8.984375 L 4.65625 -8.984375 Z M 4.65625 0 \"/>\n",
       "</symbol>\n",
       "<symbol overflow=\"visible\" id=\"glyph0-1\">\n",
       "<path style=\"stroke:none;\" d=\"M 6.292969 -1.054688 L 6.292969 0 L 0.378906 0 C 0.367188 -0.265625 0.410156 -0.519531 0.507813 -0.761719 C 0.65625 -1.164063 0.898438 -1.558594 1.230469 -1.953125 C 1.558594 -2.339844 2.035156 -2.792969 2.667969 -3.308594 C 3.636719 -4.101563 4.292969 -4.734375 4.636719 -5.203125 C 4.976563 -5.667969 5.148438 -6.105469 5.152344 -6.523438 C 5.148438 -6.957031 4.992188 -7.324219 4.683594 -7.625 C 4.371094 -7.921875 3.96875 -8.074219 3.46875 -8.074219 C 2.9375 -8.074219 2.511719 -7.914063 2.195313 -7.597656 C 1.878906 -7.277344 1.71875 -6.839844 1.714844 -6.28125 L 0.585938 -6.398438 C 0.664063 -7.238281 0.953125 -7.878906 1.457031 -8.320313 C 1.960938 -8.761719 2.640625 -8.980469 3.492188 -8.984375 C 4.347656 -8.980469 5.023438 -8.742188 5.527344 -8.269531 C 6.027344 -7.789063 6.28125 -7.199219 6.28125 -6.5 C 6.28125 -6.140625 6.207031 -5.789063 6.058594 -5.445313 C 5.910156 -5.09375 5.664063 -4.730469 5.328125 -4.351563 C 4.984375 -3.964844 4.421875 -3.441406 3.636719 -2.777344 C 2.976563 -2.222656 2.554688 -1.84375 2.367188 -1.648438 C 2.179688 -1.449219 2.023438 -1.253906 1.90625 -1.054688 Z M 6.292969 -1.054688 \"/>\n",
       "</symbol>\n",
       "<symbol overflow=\"visible\" id=\"glyph0-2\">\n",
       "<path style=\"stroke:none;\" d=\"M 0.523438 -2.363281 L 1.625 -2.507813 C 1.746094 -1.882813 1.960938 -1.433594 2.265625 -1.160156 C 2.566406 -0.886719 2.9375 -0.75 3.375 -0.75 C 3.890625 -0.75 4.324219 -0.925781 4.683594 -1.285156 C 5.035156 -1.640625 5.214844 -2.085938 5.21875 -2.617188 C 5.214844 -3.121094 5.050781 -3.539063 4.722656 -3.867188 C 4.394531 -4.195313 3.976563 -4.359375 3.46875 -4.359375 C 3.257813 -4.359375 2.996094 -4.316406 2.691406 -4.234375 L 2.8125 -5.199219 C 2.882813 -5.1875 2.941406 -5.183594 2.992188 -5.1875 C 3.457031 -5.183594 3.878906 -5.308594 4.253906 -5.554688 C 4.628906 -5.796875 4.816406 -6.171875 4.816406 -6.683594 C 4.816406 -7.085938 4.679688 -7.417969 4.40625 -7.683594 C 4.132813 -7.945313 3.78125 -8.078125 3.351563 -8.082031 C 2.921875 -8.078125 2.5625 -7.945313 2.28125 -7.675781 C 1.992188 -7.40625 1.8125 -7.003906 1.734375 -6.46875 L 0.632813 -6.664063 C 0.765625 -7.398438 1.070313 -7.96875 1.550781 -8.375 C 2.023438 -8.777344 2.617188 -8.980469 3.328125 -8.984375 C 3.8125 -8.980469 4.261719 -8.875 4.675781 -8.667969 C 5.085938 -8.457031 5.398438 -8.171875 5.617188 -7.8125 C 5.832031 -7.445313 5.941406 -7.0625 5.945313 -6.660156 C 5.941406 -6.269531 5.835938 -5.917969 5.632813 -5.601563 C 5.421875 -5.28125 5.117188 -5.027344 4.710938 -4.847656 C 5.238281 -4.722656 5.648438 -4.46875 5.941406 -4.085938 C 6.234375 -3.695313 6.378906 -3.214844 6.382813 -2.644531 C 6.378906 -1.859375 6.09375 -1.199219 5.527344 -0.65625 C 4.957031 -0.113281 4.238281 0.15625 3.367188 0.160156 C 2.582031 0.15625 1.929688 -0.0742188 1.410156 -0.542969 C 0.890625 -1.007813 0.59375 -1.613281 0.523438 -2.363281 Z M 0.523438 -2.363281 \"/>\n",
       "</symbol>\n",
       "<symbol overflow=\"visible\" id=\"glyph0-3\">\n",
       "<path style=\"stroke:none;\" d=\"M 4.039063 0 L 4.039063 -2.140625 L 0.160156 -2.140625 L 0.160156 -3.148438 L 4.242188 -8.949219 L 5.140625 -8.949219 L 5.140625 -3.148438 L 6.347656 -3.148438 L 6.347656 -2.140625 L 5.140625 -2.140625 L 5.140625 0 Z M 4.039063 -3.148438 L 4.039063 -7.183594 L 1.238281 -3.148438 Z M 4.039063 -3.148438 \"/>\n",
       "</symbol>\n",
       "<symbol overflow=\"visible\" id=\"glyph0-4\">\n",
       "<path style=\"stroke:none;\" d=\"M 0.519531 -2.34375 L 1.671875 -2.441406 C 1.753906 -1.875 1.953125 -1.453125 2.265625 -1.171875 C 2.574219 -0.890625 2.949219 -0.75 3.394531 -0.75 C 3.917969 -0.75 4.367188 -0.949219 4.734375 -1.347656 C 5.101563 -1.746094 5.285156 -2.273438 5.285156 -2.9375 C 5.285156 -3.558594 5.109375 -4.054688 4.757813 -4.417969 C 4.40625 -4.777344 3.945313 -4.957031 3.375 -4.960938 C 3.019531 -4.957031 2.699219 -4.875 2.414063 -4.71875 C 2.128906 -4.554688 1.90625 -4.347656 1.746094 -4.09375 L 0.714844 -4.230469 L 1.582031 -8.824219 L 6.03125 -8.824219 L 6.03125 -7.777344 L 2.460938 -7.777344 L 1.976563 -5.371094 C 2.507813 -5.742188 3.074219 -5.929688 3.667969 -5.933594 C 4.449219 -5.929688 5.105469 -5.660156 5.644531 -5.121094 C 6.179688 -4.578125 6.449219 -3.882813 6.453125 -3.035156 C 6.449219 -2.222656 6.214844 -1.519531 5.742188 -0.933594 C 5.167969 -0.207031 4.382813 0.152344 3.394531 0.152344 C 2.574219 0.152344 1.910156 -0.0742188 1.398438 -0.53125 C 0.882813 -0.984375 0.589844 -1.589844 0.519531 -2.34375 Z M 0.519531 -2.34375 \"/>\n",
       "</symbol>\n",
       "<symbol overflow=\"visible\" id=\"glyph0-5\">\n",
       "<path style=\"stroke:none;\" d=\"M 0.59375 -7.777344 L 0.59375 -8.832031 L 6.382813 -8.832031 L 6.382813 -7.976563 C 5.8125 -7.367188 5.25 -6.5625 4.691406 -5.558594 C 4.128906 -4.554688 3.695313 -3.523438 3.394531 -2.460938 C 3.167969 -1.710938 3.027344 -0.890625 2.972656 0 L 1.84375 0 C 1.855469 -0.703125 1.992188 -1.550781 2.257813 -2.550781 C 2.519531 -3.542969 2.898438 -4.503906 3.394531 -5.433594 C 3.886719 -6.355469 4.414063 -7.136719 4.972656 -7.777344 Z M 0.59375 -7.777344 \"/>\n",
       "</symbol>\n",
       "<symbol overflow=\"visible\" id=\"glyph0-6\">\n",
       "<path style=\"stroke:none;\" d=\"M 0.683594 -2.070313 L 1.738281 -2.167969 C 1.828125 -1.667969 2 -1.304688 2.25 -1.085938 C 2.5 -0.859375 2.824219 -0.75 3.222656 -0.75 C 3.558594 -0.75 3.851563 -0.824219 4.109375 -0.980469 C 4.359375 -1.132813 4.570313 -1.339844 4.734375 -1.601563 C 4.898438 -1.855469 5.035156 -2.207031 5.144531 -2.648438 C 5.253906 -3.085938 5.308594 -3.53125 5.308594 -3.992188 C 5.308594 -4.039063 5.304688 -4.113281 5.304688 -4.210938 C 5.078125 -3.859375 4.777344 -3.574219 4.402344 -3.359375 C 4.019531 -3.140625 3.609375 -3.035156 3.167969 -3.035156 C 2.425781 -3.035156 1.800781 -3.300781 1.289063 -3.839844 C 0.773438 -4.371094 0.515625 -5.082031 0.519531 -5.964844 C 0.515625 -6.871094 0.78125 -7.597656 1.320313 -8.152344 C 1.851563 -8.703125 2.523438 -8.980469 3.332031 -8.984375 C 3.914063 -8.980469 4.445313 -8.824219 4.929688 -8.511719 C 5.40625 -8.195313 5.773438 -7.75 6.027344 -7.171875 C 6.273438 -6.59375 6.398438 -5.753906 6.402344 -4.65625 C 6.398438 -3.511719 6.273438 -2.601563 6.027344 -1.925781 C 5.777344 -1.246094 5.410156 -0.730469 4.921875 -0.378906 C 4.429688 -0.0234375 3.855469 0.152344 3.199219 0.152344 C 2.496094 0.152344 1.921875 -0.0390625 1.480469 -0.429688 C 1.035156 -0.8125 0.769531 -1.359375 0.683594 -2.070313 Z M 5.183594 -6.019531 C 5.179688 -6.644531 5.011719 -7.144531 4.679688 -7.519531 C 4.339844 -7.886719 3.9375 -8.074219 3.46875 -8.074219 C 2.976563 -8.074219 2.550781 -7.875 2.191406 -7.476563 C 1.828125 -7.078125 1.644531 -6.558594 1.648438 -5.925781 C 1.644531 -5.351563 1.816406 -4.890625 2.164063 -4.535156 C 2.503906 -4.179688 2.929688 -4 3.4375 -4.003906 C 3.941406 -4 4.359375 -4.179688 4.691406 -4.535156 C 5.015625 -4.890625 5.179688 -5.382813 5.183594 -6.019531 Z M 5.183594 -6.019531 \"/>\n",
       "</symbol>\n",
       "<symbol overflow=\"visible\" id=\"glyph0-7\">\n",
       "<path style=\"stroke:none;\" d=\"M 2.921875 2.628906 C 2.316406 1.863281 1.804688 0.972656 1.386719 -0.0546875 C 0.964844 -1.078125 0.753906 -2.140625 0.757813 -3.242188 C 0.753906 -4.207031 0.910156 -5.136719 1.226563 -6.023438 C 1.589844 -7.054688 2.15625 -8.078125 2.921875 -9.101563 L 3.710938 -9.101563 C 3.214844 -8.25 2.890625 -7.648438 2.734375 -7.289063 C 2.484375 -6.726563 2.289063 -6.140625 2.148438 -5.53125 C 1.972656 -4.765625 1.886719 -4 1.886719 -3.234375 C 1.886719 -1.277344 2.492188 0.675781 3.710938 2.628906 Z M 2.921875 2.628906 \"/>\n",
       "</symbol>\n",
       "<symbol overflow=\"visible\" id=\"glyph0-8\">\n",
       "<path style=\"stroke:none;\" d=\"M 1.542969 2.628906 L 0.757813 2.628906 C 1.96875 0.675781 2.578125 -1.277344 2.582031 -3.234375 C 2.578125 -4 2.492188 -4.757813 2.320313 -5.511719 C 2.179688 -6.117188 1.984375 -6.703125 1.738281 -7.269531 C 1.578125 -7.632813 1.25 -8.242188 0.757813 -9.101563 L 1.542969 -9.101563 C 2.304688 -8.078125 2.871094 -7.054688 3.242188 -6.023438 C 3.550781 -5.136719 3.707031 -4.207031 3.710938 -3.242188 C 3.707031 -2.140625 3.496094 -1.078125 3.078125 -0.0546875 C 2.65625 0.972656 2.144531 1.863281 1.542969 2.628906 Z M 1.542969 2.628906 \"/>\n",
       "</symbol>\n",
       "<symbol overflow=\"visible\" id=\"glyph0-9\">\n",
       "<path style=\"stroke:none;\" d=\"\"/>\n",
       "</symbol>\n",
       "<symbol overflow=\"visible\" id=\"glyph0-10\">\n",
       "<path style=\"stroke:none;\" d=\"M 5.261719 -2.085938 L 6.398438 -1.945313 C 6.21875 -1.28125 5.886719 -0.765625 5.402344 -0.402344 C 4.917969 -0.0351563 4.296875 0.144531 3.546875 0.148438 C 2.59375 0.144531 1.84375 -0.144531 1.289063 -0.726563 C 0.734375 -1.3125 0.457031 -2.132813 0.457031 -3.1875 C 0.457031 -4.273438 0.734375 -5.117188 1.296875 -5.722656 C 1.855469 -6.324219 2.585938 -6.625 3.484375 -6.628906 C 4.347656 -6.625 5.054688 -6.332031 5.609375 -5.742188 C 6.15625 -5.152344 6.433594 -4.320313 6.433594 -3.253906 C 6.433594 -3.183594 6.429688 -3.085938 6.425781 -2.960938 L 1.59375 -2.960938 C 1.632813 -2.242188 1.832031 -1.699219 2.195313 -1.324219 C 2.558594 -0.945313 3.011719 -0.753906 3.550781 -0.757813 C 3.953125 -0.753906 4.296875 -0.859375 4.582031 -1.074219 C 4.867188 -1.28125 5.09375 -1.621094 5.261719 -2.085938 Z M 1.652344 -3.863281 L 5.273438 -3.863281 C 5.222656 -4.402344 5.082031 -4.8125 4.859375 -5.089844 C 4.503906 -5.511719 4.050781 -5.722656 3.496094 -5.726563 C 2.992188 -5.722656 2.570313 -5.554688 2.226563 -5.21875 C 1.882813 -4.878906 1.691406 -4.425781 1.652344 -3.863281 Z M 1.652344 -3.863281 \"/>\n",
       "</symbol>\n",
       "<symbol overflow=\"visible\" id=\"glyph0-11\">\n",
       "<path style=\"stroke:none;\" d=\"M 0.0898438 0 L 2.460938 -3.367188 L 0.269531 -6.480469 L 1.640625 -6.480469 L 2.636719 -4.960938 C 2.824219 -4.667969 2.972656 -4.425781 3.089844 -4.234375 C 3.261719 -4.503906 3.425781 -4.742188 3.582031 -4.949219 L 4.675781 -6.480469 L 5.988281 -6.480469 L 3.746094 -3.429688 L 6.160156 0 L 4.808594 0 L 3.480469 -2.015625 L 3.125 -2.558594 L 1.421875 0 Z M 0.0898438 0 \"/>\n",
       "</symbol>\n",
       "<symbol overflow=\"visible\" id=\"glyph0-12\">\n",
       "<path style=\"stroke:none;\" d=\"M 5.054688 -2.375 L 6.132813 -2.234375 C 6.011719 -1.484375 5.710938 -0.902344 5.226563 -0.484375 C 4.742188 -0.0625 4.144531 0.144531 3.4375 0.148438 C 2.546875 0.144531 1.832031 -0.140625 1.296875 -0.722656 C 0.753906 -1.300781 0.484375 -2.132813 0.488281 -3.214844 C 0.484375 -3.914063 0.601563 -4.527344 0.835938 -5.050781 C 1.066406 -5.574219 1.417969 -5.96875 1.894531 -6.234375 C 2.363281 -6.496094 2.878906 -6.625 3.441406 -6.628906 C 4.144531 -6.625 4.722656 -6.449219 5.167969 -6.09375 C 5.613281 -5.734375 5.898438 -5.226563 6.03125 -4.578125 L 4.960938 -4.414063 C 4.855469 -4.84375 4.675781 -5.171875 4.421875 -5.394531 C 4.160156 -5.613281 3.847656 -5.722656 3.484375 -5.726563 C 2.929688 -5.722656 2.480469 -5.523438 2.136719 -5.128906 C 1.789063 -4.730469 1.617188 -4.105469 1.617188 -3.246094 C 1.617188 -2.375 1.78125 -1.742188 2.117188 -1.347656 C 2.445313 -0.953125 2.882813 -0.753906 3.425781 -0.757813 C 3.851563 -0.753906 4.210938 -0.886719 4.503906 -1.152344 C 4.789063 -1.414063 4.972656 -1.820313 5.054688 -2.375 Z M 5.054688 -2.375 \"/>\n",
       "</symbol>\n",
       "<symbol overflow=\"visible\" id=\"glyph0-13\">\n",
       "<path style=\"stroke:none;\" d=\"M 0.800781 0 L 0.800781 -8.949219 L 1.898438 -8.949219 L 1.898438 0 Z M 0.800781 0 \"/>\n",
       "</symbol>\n",
       "<symbol overflow=\"visible\" id=\"glyph0-14\">\n",
       "<path style=\"stroke:none;\" d=\"M 0.824219 0 L 0.824219 -6.480469 L 1.8125 -6.480469 L 1.8125 -5.558594 C 2.285156 -6.269531 2.972656 -6.625 3.875 -6.628906 C 4.261719 -6.625 4.621094 -6.554688 4.953125 -6.417969 C 5.277344 -6.273438 5.523438 -6.089844 5.6875 -5.863281 C 5.847656 -5.632813 5.960938 -5.363281 6.03125 -5.054688 C 6.066406 -4.847656 6.085938 -4.492188 6.089844 -3.984375 L 6.089844 0 L 4.992188 0 L 4.992188 -3.941406 C 4.992188 -4.386719 4.949219 -4.722656 4.863281 -4.945313 C 4.777344 -5.167969 4.625 -5.34375 4.40625 -5.476563 C 4.1875 -5.605469 3.933594 -5.671875 3.644531 -5.675781 C 3.175781 -5.671875 2.769531 -5.523438 2.429688 -5.230469 C 2.089844 -4.929688 1.921875 -4.367188 1.921875 -3.539063 L 1.921875 0 Z M 0.824219 0 \"/>\n",
       "</symbol>\n",
       "<symbol overflow=\"visible\" id=\"glyph0-15\">\n",
       "<path style=\"stroke:none;\" d=\"M 3.222656 -0.984375 L 3.382813 -0.0117188 C 3.070313 0.0507813 2.792969 0.0820313 2.550781 0.0859375 C 2.148438 0.0820313 1.839844 0.0234375 1.621094 -0.101563 C 1.398438 -0.226563 1.242188 -0.394531 1.15625 -0.601563 C 1.0625 -0.804688 1.019531 -1.238281 1.023438 -1.898438 L 1.023438 -5.628906 L 0.21875 -5.628906 L 0.21875 -6.480469 L 1.023438 -6.480469 L 1.023438 -8.085938 L 2.117188 -8.746094 L 2.117188 -6.480469 L 3.222656 -6.480469 L 3.222656 -5.628906 L 2.117188 -5.628906 L 2.117188 -1.835938 C 2.113281 -1.519531 2.132813 -1.320313 2.175781 -1.230469 C 2.210938 -1.140625 2.273438 -1.070313 2.363281 -1.019531 C 2.449219 -0.964844 2.578125 -0.9375 2.742188 -0.941406 C 2.859375 -0.9375 3.019531 -0.953125 3.222656 -0.984375 Z M 3.222656 -0.984375 \"/>\n",
       "</symbol>\n",
       "<symbol overflow=\"visible\" id=\"glyph0-16\">\n",
       "<path style=\"stroke:none;\" d=\"M 1.109375 0 L 1.109375 -1.25 L 2.363281 -1.25 L 2.363281 0 C 2.359375 0.460938 2.277344 0.832031 2.117188 1.113281 C 1.953125 1.394531 1.695313 1.613281 1.34375 1.769531 L 1.039063 1.300781 C 1.265625 1.199219 1.4375 1.046875 1.550781 0.851563 C 1.65625 0.648438 1.71875 0.367188 1.734375 0 Z M 1.109375 0 \"/>\n",
       "</symbol>\n",
       "<symbol overflow=\"visible\" id=\"glyph0-17\">\n",
       "<path style=\"stroke:none;\" d=\"M 2.625 0 L 0.160156 -6.480469 L 1.320313 -6.480469 L 2.710938 -2.601563 C 2.859375 -2.179688 2.996094 -1.742188 3.125 -1.292969 C 3.21875 -1.632813 3.355469 -2.042969 3.535156 -2.527344 L 4.972656 -6.480469 L 6.101563 -6.480469 L 3.648438 0 Z M 2.625 0 \"/>\n",
       "</symbol>\n",
       "<symbol overflow=\"visible\" id=\"glyph0-18\">\n",
       "<path style=\"stroke:none;\" d=\"M 0.8125 0 L 0.8125 -6.480469 L 1.800781 -6.480469 L 1.800781 -5.5 C 2.050781 -5.957031 2.285156 -6.257813 2.5 -6.40625 C 2.710938 -6.550781 2.945313 -6.625 3.203125 -6.628906 C 3.570313 -6.625 3.945313 -6.507813 4.332031 -6.273438 L 3.953125 -5.253906 C 3.683594 -5.410156 3.414063 -5.488281 3.148438 -5.492188 C 2.90625 -5.488281 2.691406 -5.417969 2.5 -5.273438 C 2.308594 -5.128906 2.171875 -4.929688 2.09375 -4.675781 C 1.96875 -4.285156 1.910156 -3.855469 1.910156 -3.394531 L 1.910156 0 Z M 0.8125 0 \"/>\n",
       "</symbol>\n",
       "<symbol overflow=\"visible\" id=\"glyph0-19\">\n",
       "<path style=\"stroke:none;\" d=\"M 0.773438 2.496094 L 0.652344 1.464844 C 0.886719 1.527344 1.097656 1.558594 1.28125 1.5625 C 1.523438 1.558594 1.71875 1.519531 1.867188 1.441406 C 2.011719 1.359375 2.132813 1.242188 2.226563 1.097656 C 2.296875 0.984375 2.40625 0.714844 2.5625 0.28125 C 2.578125 0.21875 2.613281 0.128906 2.660156 0.0117188 L 0.203125 -6.480469 L 1.386719 -6.480469 L 2.734375 -2.726563 C 2.90625 -2.25 3.0625 -1.75 3.203125 -1.226563 C 3.328125 -1.726563 3.480469 -2.21875 3.65625 -2.703125 L 5.042969 -6.480469 L 6.140625 -6.480469 L 3.675781 0.109375 C 3.40625 0.820313 3.203125 1.3125 3.058594 1.582031 C 2.863281 1.941406 2.636719 2.203125 2.386719 2.375 C 2.128906 2.539063 1.828125 2.625 1.484375 2.628906 C 1.265625 2.625 1.03125 2.582031 0.773438 2.496094 Z M 0.773438 2.496094 \"/>\n",
       "</symbol>\n",
       "<symbol overflow=\"visible\" id=\"glyph0-20\">\n",
       "<path style=\"stroke:none;\" d=\"M 0.621094 0.539063 L 1.691406 0.695313 C 1.734375 1.023438 1.859375 1.261719 2.0625 1.414063 C 2.335938 1.617188 2.707031 1.722656 3.179688 1.722656 C 3.683594 1.722656 4.074219 1.617188 4.355469 1.414063 C 4.628906 1.207031 4.816406 0.925781 4.917969 0.5625 C 4.972656 0.335938 5 -0.132813 5 -0.847656 C 4.515625 -0.28125 3.917969 0 3.203125 0 C 2.308594 0 1.617188 -0.320313 1.132813 -0.964844 C 0.640625 -1.605469 0.398438 -2.375 0.402344 -3.277344 C 0.398438 -3.894531 0.511719 -4.464844 0.738281 -4.988281 C 0.960938 -5.507813 1.285156 -5.914063 1.710938 -6.199219 C 2.136719 -6.484375 2.636719 -6.625 3.210938 -6.628906 C 3.976563 -6.625 4.605469 -6.316406 5.101563 -5.699219 L 5.101563 -6.480469 L 6.117188 -6.480469 L 6.117188 -0.878906 C 6.117188 0.128906 6.011719 0.84375 5.808594 1.265625 C 5.597656 1.6875 5.273438 2.019531 4.832031 2.261719 C 4.382813 2.503906 3.835938 2.625 3.1875 2.628906 C 2.414063 2.625 1.789063 2.449219 1.3125 2.105469 C 0.835938 1.753906 0.605469 1.234375 0.621094 0.539063 Z M 1.53125 -3.355469 C 1.527344 -2.503906 1.699219 -1.882813 2.039063 -1.496094 C 2.375 -1.101563 2.796875 -0.90625 3.308594 -0.910156 C 3.8125 -0.90625 4.234375 -1.101563 4.578125 -1.492188 C 4.914063 -1.878906 5.085938 -2.488281 5.089844 -3.320313 C 5.085938 -4.113281 4.910156 -4.710938 4.5625 -5.113281 C 4.207031 -5.515625 3.78125 -5.71875 3.289063 -5.71875 C 2.796875 -5.71875 2.382813 -5.519531 2.042969 -5.121094 C 1.699219 -4.722656 1.527344 -4.132813 1.53125 -3.355469 Z M 1.53125 -3.355469 \"/>\n",
       "</symbol>\n",
       "<symbol overflow=\"visible\" id=\"glyph0-21\">\n",
       "<path style=\"stroke:none;\" d=\"M 0.414063 -3.242188 C 0.410156 -4.4375 0.742188 -5.328125 1.414063 -5.90625 C 1.96875 -6.386719 2.648438 -6.625 3.453125 -6.628906 C 4.34375 -6.625 5.074219 -6.332031 5.640625 -5.75 C 6.203125 -5.164063 6.484375 -4.359375 6.488281 -3.332031 C 6.484375 -2.496094 6.359375 -1.839844 6.113281 -1.363281 C 5.859375 -0.882813 5.496094 -0.511719 5.019531 -0.25 C 4.539063 0.015625 4.015625 0.144531 3.453125 0.148438 C 2.542969 0.144531 1.8125 -0.140625 1.253906 -0.722656 C 0.691406 -1.300781 0.410156 -2.140625 0.414063 -3.242188 Z M 1.542969 -3.242188 C 1.539063 -2.40625 1.722656 -1.785156 2.085938 -1.375 C 2.445313 -0.960938 2.898438 -0.753906 3.453125 -0.757813 C 3.996094 -0.753906 4.453125 -0.960938 4.816406 -1.378906 C 5.175781 -1.789063 5.355469 -2.421875 5.359375 -3.277344 C 5.355469 -4.074219 5.171875 -4.683594 4.8125 -5.097656 C 4.445313 -5.511719 3.992188 -5.71875 3.453125 -5.71875 C 2.898438 -5.71875 2.445313 -5.511719 2.085938 -5.101563 C 1.722656 -4.6875 1.539063 -4.066406 1.542969 -3.242188 Z M 1.542969 -3.242188 \"/>\n",
       "</symbol>\n",
       "<symbol overflow=\"visible\" id=\"glyph0-22\">\n",
       "<path style=\"stroke:none;\" d=\"M 5.03125 0 L 5.03125 -0.816406 C 4.617188 -0.171875 4.011719 0.144531 3.214844 0.148438 C 2.695313 0.144531 2.21875 0.0078125 1.789063 -0.277344 C 1.351563 -0.558594 1.015625 -0.957031 0.78125 -1.472656 C 0.539063 -1.980469 0.421875 -2.570313 0.425781 -3.234375 C 0.421875 -3.882813 0.53125 -4.46875 0.75 -4.996094 C 0.964844 -5.519531 1.285156 -5.921875 1.71875 -6.207031 C 2.148438 -6.484375 2.632813 -6.625 3.167969 -6.628906 C 3.554688 -6.625 3.902344 -6.542969 4.210938 -6.378906 C 4.511719 -6.210938 4.761719 -5.996094 4.957031 -5.738281 L 4.957031 -8.949219 L 6.046875 -8.949219 L 6.046875 0 Z M 1.554688 -3.234375 C 1.550781 -2.402344 1.726563 -1.78125 2.078125 -1.371094 C 2.425781 -0.960938 2.839844 -0.753906 3.320313 -0.757813 C 3.796875 -0.753906 4.203125 -0.949219 4.542969 -1.34375 C 4.875 -1.734375 5.042969 -2.335938 5.046875 -3.144531 C 5.042969 -4.027344 4.875 -4.675781 4.535156 -5.09375 C 4.191406 -5.507813 3.769531 -5.71875 3.273438 -5.71875 C 2.78125 -5.71875 2.371094 -5.519531 2.046875 -5.121094 C 1.714844 -4.722656 1.550781 -4.09375 1.554688 -3.234375 Z M 1.554688 -3.234375 \"/>\n",
       "</symbol>\n",
       "<symbol overflow=\"visible\" id=\"glyph0-23\">\n",
       "<path style=\"stroke:none;\" d=\"M 1.085938 0 L 1.085938 -5.628906 L 0.117188 -5.628906 L 0.117188 -6.480469 L 1.085938 -6.480469 L 1.085938 -7.171875 C 1.082031 -7.605469 1.121094 -7.925781 1.203125 -8.140625 C 1.304688 -8.421875 1.492188 -8.65625 1.757813 -8.835938 C 2.023438 -9.011719 2.398438 -9.097656 2.882813 -9.101563 C 3.1875 -9.097656 3.527344 -9.0625 3.90625 -8.992188 L 3.742188 -8.03125 C 3.511719 -8.070313 3.296875 -8.089844 3.09375 -8.09375 C 2.757813 -8.089844 2.519531 -8.019531 2.386719 -7.878906 C 2.246094 -7.734375 2.179688 -7.46875 2.179688 -7.078125 L 2.179688 -6.480469 L 3.441406 -6.480469 L 3.441406 -5.628906 L 2.179688 -5.628906 L 2.179688 0 Z M 1.085938 0 \"/>\n",
       "</symbol>\n",
       "<symbol overflow=\"visible\" id=\"glyph0-24\">\n",
       "<path style=\"stroke:none;\" d=\"M 5.054688 -0.800781 C 4.644531 -0.453125 4.253906 -0.207031 3.878906 -0.0664063 C 3.5 0.078125 3.09375 0.144531 2.667969 0.148438 C 1.949219 0.144531 1.402344 -0.0273438 1.023438 -0.375 C 0.640625 -0.722656 0.449219 -1.167969 0.453125 -1.710938 C 0.449219 -2.023438 0.523438 -2.3125 0.667969 -2.578125 C 0.8125 -2.839844 1 -3.050781 1.234375 -3.210938 C 1.464844 -3.367188 1.730469 -3.484375 2.027344 -3.570313 C 2.242188 -3.625 2.566406 -3.679688 3.003906 -3.734375 C 3.886719 -3.835938 4.539063 -3.964844 4.960938 -4.113281 C 4.964844 -4.261719 4.96875 -4.355469 4.96875 -4.402344 C 4.96875 -4.84375 4.863281 -5.160156 4.65625 -5.347656 C 4.371094 -5.59375 3.953125 -5.71875 3.40625 -5.71875 C 2.882813 -5.71875 2.5 -5.625 2.257813 -5.445313 C 2.007813 -5.261719 1.828125 -4.941406 1.714844 -4.484375 L 0.640625 -4.632813 C 0.734375 -5.089844 0.894531 -5.460938 1.121094 -5.746094 C 1.339844 -6.027344 1.664063 -6.246094 2.089844 -6.398438 C 2.511719 -6.550781 3.003906 -6.625 3.5625 -6.628906 C 4.117188 -6.625 4.566406 -6.5625 4.914063 -6.433594 C 5.257813 -6.300781 5.511719 -6.136719 5.675781 -5.941406 C 5.835938 -5.742188 5.949219 -5.492188 6.019531 -5.195313 C 6.050781 -5.003906 6.070313 -4.664063 6.074219 -4.179688 L 6.074219 -2.714844 C 6.070313 -1.691406 6.09375 -1.046875 6.144531 -0.777344 C 6.1875 -0.503906 6.28125 -0.246094 6.421875 0 L 5.273438 0 C 5.15625 -0.226563 5.082031 -0.492188 5.054688 -0.800781 Z M 4.960938 -3.253906 C 4.558594 -3.085938 3.960938 -2.949219 3.167969 -2.839844 C 2.714844 -2.773438 2.394531 -2.699219 2.210938 -2.617188 C 2.019531 -2.535156 1.875 -2.417969 1.777344 -2.261719 C 1.671875 -2.105469 1.621094 -1.929688 1.625 -1.738281 C 1.621094 -1.445313 1.734375 -1.203125 1.957031 -1.007813 C 2.175781 -0.8125 2.5 -0.714844 2.929688 -0.714844 C 3.351563 -0.714844 3.726563 -0.804688 4.058594 -0.992188 C 4.386719 -1.171875 4.628906 -1.425781 4.785156 -1.75 C 4.898438 -1.996094 4.957031 -2.363281 4.960938 -2.851563 Z M 4.960938 -3.253906 \"/>\n",
       "</symbol>\n",
       "<symbol overflow=\"visible\" id=\"glyph0-25\">\n",
       "<path style=\"stroke:none;\" d=\"M 0.828125 -7.683594 L 0.828125 -8.949219 L 1.929688 -8.949219 L 1.929688 -7.683594 Z M 0.828125 0 L 0.828125 -6.480469 L 1.929688 -6.480469 L 1.929688 0 Z M 0.828125 0 \"/>\n",
       "</symbol>\n",
       "<symbol overflow=\"visible\" id=\"glyph0-26\">\n",
       "<path style=\"stroke:none;\" d=\"M 0.824219 2.484375 L 0.824219 -6.480469 L 1.824219 -6.480469 L 1.824219 -5.640625 C 2.058594 -5.964844 2.328125 -6.210938 2.625 -6.378906 C 2.921875 -6.542969 3.28125 -6.625 3.703125 -6.628906 C 4.257813 -6.625 4.746094 -6.484375 5.167969 -6.199219 C 5.589844 -5.914063 5.910156 -5.511719 6.128906 -4.996094 C 6.34375 -4.476563 6.449219 -3.90625 6.453125 -3.289063 C 6.449219 -2.625 6.332031 -2.03125 6.09375 -1.5 C 5.855469 -0.96875 5.507813 -0.558594 5.054688 -0.277344 C 4.597656 0.0078125 4.121094 0.144531 3.625 0.148438 C 3.257813 0.144531 2.929688 0.0703125 2.640625 -0.0820313 C 2.347656 -0.238281 2.109375 -0.433594 1.921875 -0.671875 L 1.921875 2.484375 Z M 1.820313 -3.203125 C 1.816406 -2.367188 1.984375 -1.75 2.324219 -1.355469 C 2.660156 -0.953125 3.070313 -0.753906 3.550781 -0.757813 C 4.039063 -0.753906 4.457031 -0.960938 4.804688 -1.375 C 5.152344 -1.785156 5.324219 -2.425781 5.328125 -3.296875 C 5.324219 -4.121094 5.15625 -4.738281 4.816406 -5.152344 C 4.476563 -5.558594 4.070313 -5.765625 3.601563 -5.769531 C 3.128906 -5.765625 2.714844 -5.546875 2.359375 -5.113281 C 1.996094 -4.671875 1.816406 -4.035156 1.820313 -3.203125 Z M 1.820313 -3.203125 \"/>\n",
       "</symbol>\n",
       "<symbol overflow=\"visible\" id=\"glyph1-0\">\n",
       "<path style=\"stroke:none;\" d=\"M 2.597656 0 L 0.0507813 -10.664063 L 2.253906 -10.664063 L 3.863281 -3.339844 L 5.8125 -10.664063 L 8.375 -10.664063 L 10.242188 -3.214844 L 11.878906 -10.664063 L 14.046875 -10.664063 L 11.457031 0 L 9.175781 0 L 7.050781 -7.972656 L 4.933594 0 Z M 2.597656 0 \"/>\n",
       "</symbol>\n",
       "<symbol overflow=\"visible\" id=\"glyph1-1\">\n",
       "<path style=\"stroke:none;\" d=\"M 0.597656 -3.972656 C 0.597656 -4.652344 0.761719 -5.308594 1.097656 -5.945313 C 1.429688 -6.578125 1.90625 -7.0625 2.519531 -7.398438 C 3.132813 -7.730469 3.816406 -7.898438 4.578125 -7.902344 C 5.742188 -7.898438 6.699219 -7.519531 7.449219 -6.761719 C 8.191406 -6.003906 8.566406 -5.042969 8.570313 -3.886719 C 8.566406 -2.714844 8.1875 -1.746094 7.4375 -0.976563 C 6.679688 -0.207031 5.730469 0.175781 4.589844 0.175781 C 3.878906 0.175781 3.203125 0.015625 2.5625 -0.304688 C 1.917969 -0.625 1.429688 -1.09375 1.097656 -1.710938 C 0.761719 -2.328125 0.597656 -3.082031 0.597656 -3.972656 Z M 2.691406 -3.863281 C 2.6875 -3.09375 2.871094 -2.507813 3.234375 -2.101563 C 3.597656 -1.691406 4.046875 -1.488281 4.582031 -1.492188 C 5.113281 -1.488281 5.558594 -1.691406 5.925781 -2.101563 C 6.285156 -2.507813 6.46875 -3.101563 6.46875 -3.878906 C 6.46875 -4.632813 6.285156 -5.210938 5.925781 -5.621094 C 5.558594 -6.027344 5.113281 -6.234375 4.582031 -6.234375 C 4.046875 -6.234375 3.597656 -6.027344 3.234375 -5.621094 C 2.871094 -5.210938 2.6875 -4.625 2.691406 -3.863281 Z M 2.691406 -3.863281 \"/>\n",
       "</symbol>\n",
       "<symbol overflow=\"visible\" id=\"glyph1-2\">\n",
       "<path style=\"stroke:none;\" d=\"M 6.15625 0 L 6.15625 -1.15625 C 5.871094 -0.742188 5.5 -0.417969 5.046875 -0.179688 C 4.585938 0.0585938 4.101563 0.175781 3.59375 0.175781 C 3.070313 0.175781 2.605469 0.0625 2.195313 -0.164063 C 1.78125 -0.390625 1.484375 -0.710938 1.300781 -1.125 C 1.117188 -1.539063 1.023438 -2.109375 1.027344 -2.835938 L 1.027344 -7.726563 L 3.070313 -7.726563 L 3.070313 -4.175781 C 3.070313 -3.085938 3.105469 -2.421875 3.183594 -2.179688 C 3.253906 -1.933594 3.390625 -1.738281 3.59375 -1.597656 C 3.789063 -1.453125 4.042969 -1.382813 4.351563 -1.382813 C 4.699219 -1.382813 5.011719 -1.476563 5.289063 -1.667969 C 5.5625 -1.859375 5.75 -2.097656 5.855469 -2.382813 C 5.953125 -2.664063 6.003906 -3.359375 6.007813 -4.46875 L 6.007813 -7.726563 L 8.054688 -7.726563 L 8.054688 0 Z M 6.15625 0 \"/>\n",
       "</symbol>\n",
       "<symbol overflow=\"visible\" id=\"glyph1-3\">\n",
       "<path style=\"stroke:none;\" d=\"M 1.070313 0 L 1.070313 -10.664063 L 3.113281 -10.664063 L 3.113281 0 Z M 1.070313 0 \"/>\n",
       "</symbol>\n",
       "<symbol overflow=\"visible\" id=\"glyph1-4\">\n",
       "<path style=\"stroke:none;\" d=\"M 8.15625 0 L 6.257813 0 L 6.257813 -1.136719 C 5.941406 -0.691406 5.566406 -0.359375 5.140625 -0.148438 C 4.707031 0.0703125 4.273438 0.175781 3.839844 0.175781 C 2.949219 0.175781 2.191406 -0.179688 1.558594 -0.898438 C 0.925781 -1.609375 0.609375 -2.609375 0.609375 -3.890625 C 0.609375 -5.199219 0.917969 -6.195313 1.535156 -6.878906 C 2.152344 -7.558594 2.929688 -7.898438 3.871094 -7.902344 C 4.730469 -7.898438 5.476563 -7.539063 6.109375 -6.824219 L 6.109375 -10.664063 L 8.15625 -10.664063 Z M 2.699219 -4.03125 C 2.695313 -3.203125 2.808594 -2.605469 3.042969 -2.242188 C 3.367188 -1.707031 3.828125 -1.441406 4.421875 -1.441406 C 4.890625 -1.441406 5.289063 -1.640625 5.621094 -2.039063 C 5.949219 -2.4375 6.117188 -3.035156 6.117188 -3.835938 C 6.117188 -4.71875 5.957031 -5.355469 5.636719 -5.75 C 5.316406 -6.136719 4.90625 -6.332031 4.410156 -6.335938 C 3.921875 -6.332031 3.515625 -6.140625 3.1875 -5.757813 C 2.859375 -5.371094 2.695313 -4.796875 2.699219 -4.03125 Z M 2.699219 -4.03125 \"/>\n",
       "</symbol>\n",
       "<symbol overflow=\"visible\" id=\"glyph1-5\">\n",
       "<path style=\"stroke:none;\" d=\"\"/>\n",
       "</symbol>\n",
       "<symbol overflow=\"visible\" id=\"glyph1-6\">\n",
       "<path style=\"stroke:none;\" d=\"M 3.886719 0 L 3.886719 -4.488281 L -0.0234375 -10.664063 L 2.503906 -10.664063 L 5.011719 -6.445313 L 7.472656 -10.664063 L 9.953125 -10.664063 L 6.03125 -4.472656 L 6.03125 0 Z M 3.886719 0 \"/>\n",
       "</symbol>\n",
       "<symbol overflow=\"visible\" id=\"glyph1-7\">\n",
       "<path style=\"stroke:none;\" d=\"M 0.539063 -3.46875 L 2.632813 -3.675781 C 2.757813 -2.964844 3.015625 -2.449219 3.402344 -2.121094 C 3.785156 -1.792969 4.304688 -1.628906 4.960938 -1.628906 C 5.652344 -1.628906 6.175781 -1.773438 6.53125 -2.070313 C 6.878906 -2.359375 7.054688 -2.703125 7.058594 -3.097656 C 7.054688 -3.347656 6.980469 -3.5625 6.835938 -3.742188 C 6.683594 -3.917969 6.425781 -4.074219 6.058594 -4.207031 C 5.808594 -4.292969 5.234375 -4.445313 4.335938 -4.671875 C 3.179688 -4.953125 2.367188 -5.304688 1.90625 -5.726563 C 1.25 -6.308594 0.925781 -7.023438 0.925781 -7.871094 C 0.925781 -8.410156 1.078125 -8.917969 1.386719 -9.394531 C 1.691406 -9.863281 2.132813 -10.226563 2.714844 -10.476563 C 3.292969 -10.722656 3.996094 -10.84375 4.816406 -10.847656 C 6.152344 -10.84375 7.160156 -10.550781 7.839844 -9.964844 C 8.515625 -9.375 8.871094 -8.59375 8.90625 -7.617188 L 6.75 -7.523438 C 6.65625 -8.070313 6.457031 -8.460938 6.15625 -8.703125 C 5.851563 -8.941406 5.398438 -9.0625 4.792969 -9.066406 C 4.167969 -9.0625 3.675781 -8.933594 3.324219 -8.679688 C 3.09375 -8.511719 2.980469 -8.292969 2.984375 -8.015625 C 2.980469 -7.765625 3.089844 -7.550781 3.304688 -7.371094 C 3.574219 -7.140625 4.230469 -6.902344 5.28125 -6.65625 C 6.324219 -6.40625 7.101563 -6.148438 7.605469 -5.886719 C 8.105469 -5.621094 8.496094 -5.261719 8.785156 -4.804688 C 9.066406 -4.34375 9.210938 -3.777344 9.210938 -3.105469 C 9.210938 -2.496094 9.039063 -1.921875 8.699219 -1.390625 C 8.359375 -0.851563 7.878906 -0.457031 7.257813 -0.199219 C 6.636719 0.0585938 5.863281 0.1875 4.941406 0.1875 C 3.589844 0.1875 2.554688 -0.121094 1.832031 -0.746094 C 1.109375 -1.363281 0.679688 -2.273438 0.539063 -3.46875 Z M 0.539063 -3.46875 \"/>\n",
       "</symbol>\n",
       "<symbol overflow=\"visible\" id=\"glyph1-8\">\n",
       "<path style=\"stroke:none;\" d=\"M 2.597656 -5.371094 L 0.742188 -5.703125 C 0.949219 -6.445313 1.308594 -7 1.816406 -7.363281 C 2.324219 -7.71875 3.082031 -7.898438 4.089844 -7.902344 C 5 -7.898438 5.675781 -7.789063 6.125 -7.578125 C 6.570313 -7.359375 6.886719 -7.085938 7.066406 -6.753906 C 7.246094 -6.421875 7.335938 -5.8125 7.339844 -4.925781 L 7.320313 -2.539063 C 7.316406 -1.855469 7.351563 -1.355469 7.417969 -1.035156 C 7.480469 -0.710938 7.601563 -0.367188 7.785156 0 L 5.761719 0 C 5.707031 -0.132813 5.644531 -0.332031 5.566406 -0.605469 C 5.53125 -0.722656 5.503906 -0.804688 5.492188 -0.84375 C 5.140625 -0.503906 4.769531 -0.246094 4.371094 -0.078125 C 3.972656 0.09375 3.546875 0.175781 3.097656 0.175781 C 2.300781 0.175781 1.675781 -0.0390625 1.21875 -0.472656 C 0.757813 -0.902344 0.527344 -1.449219 0.53125 -2.109375 C 0.527344 -2.546875 0.632813 -2.933594 0.84375 -3.277344 C 1.050781 -3.613281 1.339844 -3.875 1.71875 -4.0625 C 2.09375 -4.242188 2.636719 -4.402344 3.347656 -4.539063 C 4.300781 -4.714844 4.964844 -4.882813 5.332031 -5.042969 L 5.332031 -5.246094 C 5.332031 -5.636719 5.234375 -5.917969 5.039063 -6.085938 C 4.84375 -6.25 4.476563 -6.332031 3.941406 -6.335938 C 3.578125 -6.332031 3.292969 -6.261719 3.089844 -6.121094 C 2.882813 -5.976563 2.71875 -5.726563 2.597656 -5.371094 Z M 5.332031 -3.710938 C 5.070313 -3.617188 4.65625 -3.511719 4.089844 -3.394531 C 3.519531 -3.269531 3.148438 -3.152344 2.976563 -3.042969 C 2.707031 -2.847656 2.570313 -2.609375 2.574219 -2.320313 C 2.570313 -2.03125 2.679688 -1.78125 2.894531 -1.578125 C 3.105469 -1.367188 3.375 -1.265625 3.710938 -1.265625 C 4.074219 -1.265625 4.425781 -1.386719 4.765625 -1.628906 C 5.007813 -1.8125 5.171875 -2.035156 5.253906 -2.304688 C 5.304688 -2.476563 5.332031 -2.8125 5.332031 -3.304688 Z M 5.332031 -3.710938 \"/>\n",
       "</symbol>\n",
       "<symbol overflow=\"visible\" id=\"glyph1-9\">\n",
       "<path style=\"stroke:none;\" d=\"M 0.101563 -7.726563 L 2.277344 -7.726563 L 4.125 -2.242188 L 5.929688 -7.726563 L 8.046875 -7.726563 L 5.316406 -0.289063 L 4.832031 1.054688 C 4.648438 1.503906 4.476563 1.847656 4.316406 2.085938 C 4.152344 2.324219 3.964844 2.515625 3.757813 2.664063 C 3.542969 2.808594 3.285156 2.925781 2.976563 3.011719 C 2.667969 3.09375 2.320313 3.132813 1.933594 3.136719 C 1.542969 3.132813 1.15625 3.09375 0.777344 3.011719 L 0.597656 1.410156 C 0.917969 1.472656 1.203125 1.503906 1.460938 1.507813 C 1.933594 1.503906 2.285156 1.363281 2.515625 1.085938 C 2.742188 0.804688 2.917969 0.453125 3.042969 0.0234375 Z M 0.101563 -7.726563 \"/>\n",
       "</symbol>\n",
       "<symbol overflow=\"visible\" id=\"glyph1-10\">\n",
       "<path style=\"stroke:none;\" d=\"M 1.070313 -8.773438 L 1.070313 -10.664063 L 3.113281 -10.664063 L 3.113281 -8.773438 Z M 1.070313 0 L 1.070313 -7.726563 L 3.113281 -7.726563 L 3.113281 0 Z M 1.070313 0 \"/>\n",
       "</symbol>\n",
       "<symbol overflow=\"visible\" id=\"glyph1-11\">\n",
       "<path style=\"stroke:none;\" d=\"M 8.097656 0 L 6.054688 0 L 6.054688 -3.941406 C 6.050781 -4.773438 6.007813 -5.3125 5.921875 -5.5625 C 5.832031 -5.804688 5.691406 -5.996094 5.496094 -6.132813 C 5.300781 -6.265625 5.0625 -6.332031 4.789063 -6.335938 C 4.429688 -6.332031 4.113281 -6.234375 3.835938 -6.042969 C 3.550781 -5.847656 3.355469 -5.59375 3.253906 -5.273438 C 3.144531 -4.953125 3.09375 -4.359375 3.097656 -3.5 L 3.097656 0 L 1.054688 0 L 1.054688 -7.726563 L 2.953125 -7.726563 L 2.953125 -6.589844 C 3.625 -7.460938 4.472656 -7.898438 5.5 -7.902344 C 5.949219 -7.898438 6.359375 -7.816406 6.734375 -7.65625 C 7.105469 -7.492188 7.390625 -7.285156 7.582031 -7.035156 C 7.773438 -6.78125 7.90625 -6.496094 7.984375 -6.175781 C 8.058594 -5.855469 8.097656 -5.394531 8.097656 -4.800781 Z M 8.097656 0 \"/>\n",
       "</symbol>\n",
       "<symbol overflow=\"visible\" id=\"glyph1-12\">\n",
       "<path style=\"stroke:none;\" d=\"M 6.046875 -3.921875 L 6.046875 -5.71875 L 10.6875 -5.71875 L 10.6875 -1.46875 C 10.234375 -1.03125 9.578125 -0.648438 8.726563 -0.316406 C 7.867188 0.015625 7 0.179688 6.125 0.183594 C 5.007813 0.179688 4.035156 -0.0507813 3.207031 -0.519531 C 2.375 -0.984375 1.753906 -1.652344 1.339844 -2.527344 C 0.921875 -3.394531 0.714844 -4.34375 0.714844 -5.371094 C 0.714844 -6.476563 0.945313 -7.460938 1.410156 -8.328125 C 1.875 -9.1875 2.558594 -9.851563 3.457031 -10.316406 C 4.136719 -10.667969 4.984375 -10.84375 6.007813 -10.847656 C 7.328125 -10.84375 8.363281 -10.566406 9.113281 -10.011719 C 9.855469 -9.453125 10.335938 -8.6875 10.550781 -7.710938 L 8.410156 -7.3125 C 8.253906 -7.835938 7.972656 -8.246094 7.5625 -8.550781 C 7.144531 -8.851563 6.625 -9.003906 6.007813 -9.007813 C 5.0625 -9.003906 4.316406 -8.707031 3.765625 -8.113281 C 3.207031 -7.515625 2.929688 -6.628906 2.933594 -5.457031 C 2.929688 -4.1875 3.210938 -3.238281 3.777344 -2.609375 C 4.335938 -1.972656 5.074219 -1.65625 5.988281 -1.660156 C 6.4375 -1.65625 6.886719 -1.746094 7.34375 -1.925781 C 7.792969 -2.101563 8.183594 -2.316406 8.511719 -2.566406 L 8.511719 -3.921875 Z M 6.046875 -3.921875 \"/>\n",
       "</symbol>\n",
       "<symbol overflow=\"visible\" id=\"glyph1-13\">\n",
       "<path style=\"stroke:none;\" d=\"M 5.542969 -2.460938 L 7.582031 -2.117188 C 7.316406 -1.367188 6.902344 -0.800781 6.339844 -0.410156 C 5.773438 -0.0195313 5.066406 0.175781 4.21875 0.175781 C 2.875 0.175781 1.878906 -0.261719 1.238281 -1.140625 C 0.722656 -1.839844 0.46875 -2.726563 0.472656 -3.804688 C 0.46875 -5.082031 0.804688 -6.085938 1.476563 -6.8125 C 2.144531 -7.535156 2.988281 -7.898438 4.015625 -7.902344 C 5.164063 -7.898438 6.074219 -7.519531 6.738281 -6.761719 C 7.402344 -6.003906 7.71875 -4.839844 7.691406 -3.273438 L 2.566406 -3.273438 C 2.582031 -2.664063 2.746094 -2.191406 3.0625 -1.855469 C 3.375 -1.515625 3.769531 -1.347656 4.242188 -1.351563 C 4.5625 -1.347656 4.828125 -1.433594 5.046875 -1.613281 C 5.261719 -1.785156 5.429688 -2.070313 5.542969 -2.460938 Z M 5.660156 -4.523438 C 5.644531 -5.117188 5.488281 -5.566406 5.199219 -5.875 C 4.90625 -6.179688 4.554688 -6.332031 4.140625 -6.335938 C 3.691406 -6.332031 3.324219 -6.171875 3.035156 -5.847656 C 2.742188 -5.523438 2.597656 -5.082031 2.605469 -4.523438 Z M 5.660156 -4.523438 \"/>\n",
       "</symbol>\n",
       "<symbol overflow=\"visible\" id=\"glyph1-14\">\n",
       "<path style=\"stroke:none;\" d=\"M 3.027344 0 L 0.980469 0 L 0.980469 -7.726563 L 2.882813 -7.726563 L 2.882813 -6.628906 C 3.203125 -7.144531 3.492188 -7.488281 3.757813 -7.652344 C 4.015625 -7.816406 4.3125 -7.898438 4.640625 -7.902344 C 5.105469 -7.898438 5.554688 -7.769531 5.988281 -7.515625 L 5.355469 -5.734375 C 5.011719 -5.953125 4.691406 -6.0625 4.394531 -6.066406 C 4.105469 -6.0625 3.859375 -5.984375 3.664063 -5.828125 C 3.460938 -5.667969 3.304688 -5.382813 3.195313 -4.976563 C 3.078125 -4.5625 3.023438 -3.699219 3.027344 -2.386719 Z M 3.027344 0 \"/>\n",
       "</symbol>\n",
       "<symbol overflow=\"visible\" id=\"glyph1-15\">\n",
       "<path style=\"stroke:none;\" d=\"M 3.484375 0 L 3.484375 -8.863281 L 0.320313 -8.863281 L 0.320313 -10.664063 L 8.796875 -10.664063 L 8.796875 -8.863281 L 5.636719 -8.863281 L 5.636719 0 Z M 3.484375 0 \"/>\n",
       "</symbol>\n",
       "<symbol overflow=\"visible\" id=\"glyph1-16\">\n",
       "<path style=\"stroke:none;\" d=\"M 3.105469 -10.664063 L 3.105469 -6.746094 C 3.765625 -7.511719 4.554688 -7.898438 5.472656 -7.902344 C 5.941406 -7.898438 6.363281 -7.8125 6.742188 -7.640625 C 7.121094 -7.464844 7.40625 -7.238281 7.597656 -6.96875 C 7.789063 -6.695313 7.921875 -6.394531 7.992188 -6.066406 C 8.0625 -5.734375 8.097656 -5.222656 8.097656 -4.53125 L 8.097656 0 L 6.054688 0 L 6.054688 -4.082031 C 6.050781 -4.890625 6.011719 -5.40625 5.9375 -5.625 C 5.855469 -5.84375 5.71875 -6.015625 5.523438 -6.144531 C 5.324219 -6.269531 5.078125 -6.332031 4.789063 -6.335938 C 4.445313 -6.332031 4.140625 -6.25 3.875 -6.089844 C 3.605469 -5.921875 3.410156 -5.675781 3.289063 -5.34375 C 3.164063 -5.007813 3.105469 -4.515625 3.105469 -3.871094 L 3.105469 0 L 1.0625 0 L 1.0625 -10.664063 Z M 3.105469 -10.664063 \"/>\n",
       "</symbol>\n",
       "<symbol overflow=\"visible\" id=\"glyph1-17\">\n",
       "<path style=\"stroke:none;\" d=\"M 4.613281 -7.726563 L 4.613281 -6.097656 L 3.214844 -6.097656 L 3.214844 -2.984375 C 3.210938 -2.351563 3.222656 -1.984375 3.253906 -1.878906 C 3.277344 -1.773438 3.339844 -1.6875 3.4375 -1.621094 C 3.527344 -1.550781 3.640625 -1.515625 3.78125 -1.519531 C 3.96875 -1.515625 4.246094 -1.582031 4.605469 -1.71875 L 4.78125 -0.132813 C 4.304688 0.0742188 3.765625 0.175781 3.164063 0.175781 C 2.796875 0.175781 2.464844 0.117188 2.167969 -0.0078125 C 1.871094 -0.128906 1.652344 -0.289063 1.515625 -0.488281 C 1.375 -0.683594 1.28125 -0.953125 1.230469 -1.289063 C 1.183594 -1.523438 1.160156 -2 1.164063 -2.726563 L 1.164063 -6.097656 L 0.226563 -6.097656 L 0.226563 -7.726563 L 1.164063 -7.726563 L 1.164063 -9.261719 L 3.214844 -10.453125 L 3.214844 -7.726563 Z M 4.613281 -7.726563 \"/>\n",
       "</symbol>\n",
       "<symbol overflow=\"visible\" id=\"glyph1-18\">\n",
       "<path style=\"stroke:none;\" d=\"M 1.089844 0 L 1.089844 -10.664063 L 3.246094 -10.664063 L 3.246094 -6.46875 L 7.464844 -6.46875 L 7.464844 -10.664063 L 9.617188 -10.664063 L 9.617188 0 L 7.464844 0 L 7.464844 -4.664063 L 3.246094 -4.664063 L 3.246094 0 Z M 1.089844 0 \"/>\n",
       "</symbol>\n",
       "<symbol overflow=\"visible\" id=\"glyph1-19\">\n",
       "<path style=\"stroke:none;\" d=\"M 0.347656 -2.203125 L 2.402344 -2.515625 C 2.488281 -2.117188 2.664063 -1.816406 2.929688 -1.609375 C 3.195313 -1.402344 3.566406 -1.300781 4.050781 -1.300781 C 4.574219 -1.300781 4.972656 -1.398438 5.246094 -1.59375 C 5.421875 -1.726563 5.511719 -1.90625 5.515625 -2.140625 C 5.511719 -2.289063 5.464844 -2.417969 5.371094 -2.523438 C 5.265625 -2.621094 5.035156 -2.710938 4.683594 -2.792969 C 3.03125 -3.15625 1.988281 -3.488281 1.550781 -3.789063 C 0.9375 -4.207031 0.632813 -4.785156 0.632813 -5.527344 C 0.632813 -6.195313 0.894531 -6.761719 1.425781 -7.21875 C 1.949219 -7.671875 2.769531 -7.898438 3.886719 -7.902344 C 4.941406 -7.898438 5.726563 -7.726563 6.242188 -7.382813 C 6.75 -7.039063 7.105469 -6.527344 7.304688 -5.855469 L 5.375 -5.5 C 5.289063 -5.800781 5.132813 -6.03125 4.90625 -6.191406 C 4.671875 -6.347656 4.34375 -6.425781 3.921875 -6.429688 C 3.378906 -6.425781 2.996094 -6.351563 2.765625 -6.207031 C 2.609375 -6.097656 2.53125 -5.960938 2.53125 -5.792969 C 2.53125 -5.644531 2.597656 -5.519531 2.734375 -5.421875 C 2.917969 -5.28125 3.554688 -5.089844 4.644531 -4.84375 C 5.730469 -4.59375 6.492188 -4.292969 6.925781 -3.9375 C 7.351563 -3.570313 7.5625 -3.0625 7.566406 -2.414063 C 7.5625 -1.703125 7.269531 -1.09375 6.679688 -0.585938 C 6.085938 -0.078125 5.207031 0.175781 4.050781 0.175781 C 2.996094 0.175781 2.164063 -0.0351563 1.550781 -0.464844 C 0.9375 -0.886719 0.535156 -1.46875 0.347656 -2.203125 Z M 0.347656 -2.203125 \"/>\n",
       "</symbol>\n",
       "<symbol overflow=\"visible\" id=\"glyph1-20\">\n",
       "<path style=\"stroke:none;\" d=\"M 1.460938 -5.683594 L 1.460938 -7.726563 L 3.507813 -7.726563 L 3.507813 -5.683594 Z M 1.460938 0 L 1.460938 -2.042969 L 3.507813 -2.042969 L 3.507813 0 Z M 1.460938 0 \"/>\n",
       "</symbol>\n",
       "<symbol overflow=\"visible\" id=\"glyph2-0\">\n",
       "<path style=\"stroke:none;\" d=\"M -4.414063 -0.519531 C -5.46875 -0.515625 -6.320313 -0.625 -6.964844 -0.84375 C -7.609375 -1.0625 -8.105469 -1.386719 -8.457031 -1.816406 C -8.804688 -2.246094 -8.980469 -2.785156 -8.984375 -3.4375 C -8.980469 -3.914063 -8.886719 -4.335938 -8.695313 -4.699219 C -8.5 -5.058594 -8.21875 -5.355469 -7.859375 -5.59375 C -7.492188 -5.828125 -7.050781 -6.015625 -6.527344 -6.152344 C -6.003906 -6.285156 -5.296875 -6.351563 -4.414063 -6.355469 C -3.359375 -6.351563 -2.511719 -6.242188 -1.871094 -6.03125 C -1.222656 -5.8125 -0.726563 -5.492188 -0.375 -5.0625 C -0.0234375 -4.632813 0.152344 -4.089844 0.152344 -3.4375 C 0.152344 -2.570313 -0.15625 -1.890625 -0.773438 -1.402344 C -1.515625 -0.808594 -2.726563 -0.515625 -4.414063 -0.519531 Z M -4.414063 -1.648438 C -2.941406 -1.644531 -1.964844 -1.816406 -1.480469 -2.164063 C -0.992188 -2.503906 -0.75 -2.929688 -0.75 -3.4375 C -0.75 -3.9375 -0.992188 -4.359375 -1.480469 -4.707031 C -1.96875 -5.050781 -2.945313 -5.226563 -4.414063 -5.226563 C -5.882813 -5.226563 -6.863281 -5.050781 -7.347656 -4.707031 C -7.832031 -4.359375 -8.074219 -3.933594 -8.074219 -3.425781 C -8.074219 -2.917969 -7.859375 -2.515625 -7.433594 -2.214844 C -6.886719 -1.835938 -5.878906 -1.644531 -4.414063 -1.648438 Z M -4.414063 -1.648438 \"/>\n",
       "</symbol>\n",
       "<symbol overflow=\"visible\" id=\"glyph2-1\">\n",
       "<path style=\"stroke:none;\" d=\"M -1.054688 -6.292969 L 0 -6.292969 L 0 -0.378906 C -0.265625 -0.367188 -0.519531 -0.410156 -0.761719 -0.507813 C -1.164063 -0.65625 -1.558594 -0.898438 -1.953125 -1.230469 C -2.339844 -1.558594 -2.792969 -2.035156 -3.308594 -2.667969 C -4.101563 -3.636719 -4.734375 -4.292969 -5.203125 -4.636719 C -5.667969 -4.976563 -6.105469 -5.148438 -6.523438 -5.152344 C -6.957031 -5.148438 -7.324219 -4.992188 -7.625 -4.683594 C -7.921875 -4.371094 -8.074219 -3.96875 -8.074219 -3.46875 C -8.074219 -2.9375 -7.914063 -2.511719 -7.597656 -2.195313 C -7.277344 -1.878906 -6.839844 -1.71875 -6.28125 -1.714844 L -6.398438 -0.585938 C -7.238281 -0.664063 -7.878906 -0.953125 -8.320313 -1.457031 C -8.761719 -1.960938 -8.980469 -2.640625 -8.984375 -3.492188 C -8.980469 -4.347656 -8.742188 -5.023438 -8.269531 -5.527344 C -7.789063 -6.027344 -7.199219 -6.28125 -6.5 -6.28125 C -6.140625 -6.28125 -5.789063 -6.207031 -5.445313 -6.058594 C -5.09375 -5.910156 -4.730469 -5.664063 -4.351563 -5.328125 C -3.964844 -4.984375 -3.441406 -4.421875 -2.777344 -3.636719 C -2.222656 -2.976563 -1.84375 -2.554688 -1.648438 -2.367188 C -1.449219 -2.179688 -1.253906 -2.023438 -1.054688 -1.90625 Z M -1.054688 -6.292969 \"/>\n",
       "</symbol>\n",
       "<symbol overflow=\"visible\" id=\"glyph2-2\">\n",
       "<path style=\"stroke:none;\" d=\"M 0 -4.039063 L -2.140625 -4.039063 L -2.140625 -0.160156 L -3.148438 -0.160156 L -8.949219 -4.242188 L -8.949219 -5.140625 L -3.148438 -5.140625 L -3.148438 -6.347656 L -2.140625 -6.347656 L -2.140625 -5.140625 L 0 -5.140625 Z M -3.148438 -4.039063 L -7.183594 -4.039063 L -3.148438 -1.238281 Z M -3.148438 -4.039063 \"/>\n",
       "</symbol>\n",
       "<symbol overflow=\"visible\" id=\"glyph2-3\">\n",
       "<path style=\"stroke:none;\" d=\"M -6.757813 -6.21875 L -6.671875 -5.125 C -7.097656 -5.027344 -7.410156 -4.890625 -7.609375 -4.710938 C -7.921875 -4.414063 -8.078125 -4.046875 -8.082031 -3.613281 C -8.078125 -3.261719 -7.980469 -2.953125 -7.789063 -2.691406 C -7.53125 -2.339844 -7.164063 -2.066406 -6.683594 -1.871094 C -6.195313 -1.667969 -5.503906 -1.566406 -4.613281 -1.5625 C -5.011719 -1.824219 -5.3125 -2.148438 -5.511719 -2.53125 C -5.703125 -2.914063 -5.800781 -3.3125 -5.804688 -3.734375 C -5.800781 -4.464844 -5.53125 -5.089844 -4.996094 -5.605469 C -4.453125 -6.117188 -3.757813 -6.375 -2.90625 -6.378906 C -2.34375 -6.375 -1.820313 -6.253906 -1.339844 -6.015625 C -0.855469 -5.769531 -0.484375 -5.4375 -0.230469 -5.015625 C 0.0273438 -4.59375 0.152344 -4.113281 0.152344 -3.578125 C 0.152344 -2.660156 -0.183594 -1.914063 -0.855469 -1.335938 C -1.527344 -0.757813 -2.636719 -0.46875 -4.1875 -0.46875 C -5.914063 -0.46875 -7.171875 -0.789063 -7.960938 -1.429688 C -8.640625 -1.984375 -8.980469 -2.734375 -8.984375 -3.679688 C -8.980469 -4.382813 -8.785156 -4.957031 -8.390625 -5.410156 C -7.996094 -5.855469 -7.449219 -6.125 -6.757813 -6.21875 Z M -2.898438 -1.734375 C -2.519531 -1.734375 -2.15625 -1.8125 -1.8125 -1.972656 C -1.460938 -2.132813 -1.199219 -2.359375 -1.019531 -2.648438 C -0.839844 -2.9375 -0.75 -3.238281 -0.75 -3.558594 C -0.75 -4.019531 -0.9375 -4.417969 -1.3125 -4.753906 C -1.6875 -5.082031 -2.195313 -5.25 -2.839844 -5.253906 C -3.453125 -5.25 -3.941406 -5.085938 -4.300781 -4.757813 C -4.65625 -4.429688 -4.832031 -4.015625 -4.835938 -3.515625 C -4.832031 -3.015625 -4.65625 -2.59375 -4.300781 -2.25 C -3.941406 -1.90625 -3.472656 -1.734375 -2.898438 -1.734375 Z M -2.898438 -1.734375 \"/>\n",
       "</symbol>\n",
       "<symbol overflow=\"visible\" id=\"glyph2-4\">\n",
       "<path style=\"stroke:none;\" d=\"M -4.851563 -2.210938 C -5.015625 -1.75 -5.253906 -1.414063 -5.566406 -1.195313 C -5.875 -0.976563 -6.242188 -0.867188 -6.675781 -0.867188 C -7.324219 -0.867188 -7.871094 -1.097656 -8.316406 -1.566406 C -8.757813 -2.03125 -8.980469 -2.65625 -8.984375 -3.4375 C -8.980469 -4.214844 -8.753906 -4.84375 -8.304688 -5.320313 C -7.847656 -5.796875 -7.296875 -6.035156 -6.648438 -6.035156 C -6.230469 -6.035156 -5.867188 -5.925781 -5.5625 -5.707031 C -5.25 -5.488281 -5.015625 -5.15625 -4.851563 -4.71875 C -4.671875 -5.265625 -4.382813 -5.683594 -3.984375 -5.972656 C -3.585938 -6.253906 -3.109375 -6.398438 -2.558594 -6.402344 C -1.789063 -6.398438 -1.144531 -6.128906 -0.628906 -5.589844 C -0.105469 -5.046875 0.152344 -4.332031 0.152344 -3.453125 C 0.152344 -2.566406 -0.105469 -1.855469 -0.628906 -1.316406 C -1.148438 -0.773438 -1.800781 -0.503906 -2.585938 -0.507813 C -3.164063 -0.503906 -3.652344 -0.652344 -4.050781 -0.949219 C -4.441406 -1.242188 -4.710938 -1.660156 -4.851563 -2.210938 Z M -6.714844 -1.988281 C -6.289063 -1.984375 -5.941406 -2.121094 -5.675781 -2.398438 C -5.40625 -2.667969 -5.273438 -3.023438 -5.273438 -3.460938 C -5.273438 -3.878906 -5.40625 -4.226563 -5.671875 -4.5 C -5.9375 -4.769531 -6.261719 -4.902344 -6.652344 -4.90625 C -7.050781 -4.902344 -7.390625 -4.765625 -7.667969 -4.488281 C -7.941406 -4.207031 -8.078125 -3.859375 -8.082031 -3.449219 C -8.078125 -3.027344 -7.945313 -2.679688 -7.675781 -2.402344 C -7.40625 -2.125 -7.085938 -1.984375 -6.714844 -1.988281 Z M -2.582031 -1.636719 C -2.265625 -1.632813 -1.960938 -1.707031 -1.671875 -1.859375 C -1.375 -2.003906 -1.148438 -2.226563 -0.992188 -2.519531 C -0.828125 -2.8125 -0.75 -3.128906 -0.75 -3.46875 C -0.75 -3.992188 -0.917969 -4.421875 -1.257813 -4.765625 C -1.59375 -5.105469 -2.023438 -5.277344 -2.546875 -5.28125 C -3.074219 -5.277344 -3.511719 -5.101563 -3.855469 -4.75 C -4.199219 -4.394531 -4.371094 -3.953125 -4.375 -3.429688 C -4.371094 -2.910156 -4.199219 -2.484375 -3.863281 -2.144531 C -3.519531 -1.804688 -3.09375 -1.632813 -2.582031 -1.636719 Z M -2.582031 -1.636719 \"/>\n",
       "</symbol>\n",
       "<symbol overflow=\"visible\" id=\"glyph2-5\">\n",
       "<path style=\"stroke:none;\" d=\"M 0 -4.65625 L 0 -3.558594 L -7 -3.558594 C -6.746094 -3.289063 -6.492188 -2.941406 -6.242188 -2.515625 C -5.988281 -2.085938 -5.800781 -1.703125 -5.675781 -1.359375 L -6.738281 -1.359375 C -7.027344 -1.972656 -7.375 -2.507813 -7.789063 -2.972656 C -8.195313 -3.429688 -8.59375 -3.757813 -8.984375 -3.949219 L -8.984375 -4.65625 Z M 0 -4.65625 \"/>\n",
       "</symbol>\n",
       "</g>\n",
       "</defs>\n",
       "<g id=\"surface656\">\n",
       "<rect x=\"0\" y=\"0\" width=\"504\" height=\"504\" style=\"fill:rgb(100%,100%,100%);fill-opacity:1;stroke:none;\"/>\n",
       "<path style=\"fill-rule:nonzero;fill:rgb(0%,0%,54.509804%);fill-opacity:1;stroke-width:1;stroke-linecap:round;stroke-linejoin:round;stroke:rgb(0%,0%,0%);stroke-opacity:1;stroke-miterlimit:10;\" d=\"M 74.398438 227.957031 L 121.226563 227.957031 L 121.226563 426.882813 L 74.398438 426.882813 Z M 74.398438 227.957031 \"/>\n",
       "<path style=\"fill-rule:nonzero;fill:rgb(0%,0%,54.509804%);fill-opacity:1;stroke-width:1;stroke-linecap:round;stroke-linejoin:round;stroke:rgb(0%,0%,0%);stroke-opacity:1;stroke-miterlimit:10;\" d=\"M 130.59375 59.039063 L 177.421875 59.039063 L 177.421875 426.878906 L 130.59375 426.878906 Z M 130.59375 59.039063 \"/>\n",
       "<path style=\"fill-rule:nonzero;fill:rgb(0%,0%,54.509804%);fill-opacity:1;stroke-width:1;stroke-linecap:round;stroke-linejoin:round;stroke:rgb(0%,0%,0%);stroke-opacity:1;stroke-miterlimit:10;\" d=\"M 186.789063 81.359375 L 233.617188 81.359375 L 233.617188 426.882813 L 186.789063 426.882813 Z M 186.789063 81.359375 \"/>\n",
       "<path style=\"fill-rule:nonzero;fill:rgb(0%,0%,54.509804%);fill-opacity:1;stroke-width:1;stroke-linecap:round;stroke-linejoin:round;stroke:rgb(0%,0%,0%);stroke-opacity:1;stroke-miterlimit:10;\" d=\"M 242.984375 276.847656 L 289.8125 276.847656 L 289.8125 426.882813 L 242.984375 426.882813 Z M 242.984375 276.847656 \"/>\n",
       "<path style=\"fill-rule:nonzero;fill:rgb(0%,0%,54.509804%);fill-opacity:1;stroke-width:1;stroke-linecap:round;stroke-linejoin:round;stroke:rgb(0%,0%,0%);stroke-opacity:1;stroke-miterlimit:10;\" d=\"M 299.179688 366.675781 L 346.007813 366.675781 L 346.007813 426.882813 L 299.179688 426.882813 Z M 299.179688 366.675781 \"/>\n",
       "<path style=\"fill-rule:nonzero;fill:rgb(0%,0%,54.509804%);fill-opacity:1;stroke-width:1;stroke-linecap:round;stroke-linejoin:round;stroke:rgb(0%,0%,0%);stroke-opacity:1;stroke-miterlimit:10;\" d=\"M 355.375 424.875 L 402.203125 424.875 L 402.203125 426.878906 L 355.375 426.878906 Z M 355.375 424.875 \"/>\n",
       "<path style=\"fill-rule:nonzero;fill:rgb(0%,0%,54.509804%);fill-opacity:1;stroke-width:1;stroke-linecap:round;stroke-linejoin:round;stroke:rgb(0%,0%,0%);stroke-opacity:1;stroke-miterlimit:10;\" d=\"M 411.570313 424.792969 L 458.398438 424.792969 L 458.398438 426.878906 L 411.570313 426.878906 Z M 411.570313 424.792969 \"/>\n",
       "<g style=\"fill:rgb(0%,0%,0%);fill-opacity:1;\">\n",
       "  <use xlink:href=\"#glyph0-0\" x=\"94.339844\" y=\"457.921875\"/>\n",
       "</g>\n",
       "<g style=\"fill:rgb(0%,0%,0%);fill-opacity:1;\">\n",
       "  <use xlink:href=\"#glyph0-1\" x=\"150.53125\" y=\"457.921875\"/>\n",
       "</g>\n",
       "<g style=\"fill:rgb(0%,0%,0%);fill-opacity:1;\">\n",
       "  <use xlink:href=\"#glyph0-2\" x=\"206.726563\" y=\"457.921875\"/>\n",
       "</g>\n",
       "<g style=\"fill:rgb(0%,0%,0%);fill-opacity:1;\">\n",
       "  <use xlink:href=\"#glyph0-3\" x=\"262.921875\" y=\"457.921875\"/>\n",
       "</g>\n",
       "<g style=\"fill:rgb(0%,0%,0%);fill-opacity:1;\">\n",
       "  <use xlink:href=\"#glyph0-4\" x=\"319.117188\" y=\"457.921875\"/>\n",
       "</g>\n",
       "<g style=\"fill:rgb(0%,0%,0%);fill-opacity:1;\">\n",
       "  <use xlink:href=\"#glyph0-5\" x=\"375.3125\" y=\"457.921875\"/>\n",
       "</g>\n",
       "<g style=\"fill:rgb(0%,0%,0%);fill-opacity:1;\">\n",
       "  <use xlink:href=\"#glyph0-6\" x=\"431.507813\" y=\"457.921875\"/>\n",
       "</g>\n",
       "<g style=\"fill:rgb(0%,0%,0%);fill-opacity:1;\">\n",
       "  <use xlink:href=\"#glyph1-0\" x=\"101.234375\" y=\"34.851563\"/>\n",
       "  <use xlink:href=\"#glyph1-1\" x=\"115.297705\" y=\"34.851563\"/>\n",
       "  <use xlink:href=\"#glyph1-2\" x=\"124.399219\" y=\"34.851563\"/>\n",
       "  <use xlink:href=\"#glyph1-3\" x=\"133.500732\" y=\"34.851563\"/>\n",
       "  <use xlink:href=\"#glyph1-4\" x=\"137.64043\" y=\"34.851563\"/>\n",
       "  <use xlink:href=\"#glyph1-5\" x=\"146.741943\" y=\"34.851563\"/>\n",
       "  <use xlink:href=\"#glyph1-6\" x=\"150.881641\" y=\"34.851563\"/>\n",
       "  <use xlink:href=\"#glyph1-1\" x=\"160.819824\" y=\"34.851563\"/>\n",
       "  <use xlink:href=\"#glyph1-2\" x=\"169.921338\" y=\"34.851563\"/>\n",
       "  <use xlink:href=\"#glyph1-5\" x=\"179.022852\" y=\"34.851563\"/>\n",
       "  <use xlink:href=\"#glyph1-7\" x=\"183.162549\" y=\"34.851563\"/>\n",
       "  <use xlink:href=\"#glyph1-8\" x=\"193.100732\" y=\"34.851563\"/>\n",
       "  <use xlink:href=\"#glyph1-9\" x=\"201.387402\" y=\"34.851563\"/>\n",
       "  <use xlink:href=\"#glyph1-5\" x=\"209.674072\" y=\"34.851563\"/>\n",
       "  <use xlink:href=\"#glyph1-10\" x=\"213.81377\" y=\"34.851563\"/>\n",
       "  <use xlink:href=\"#glyph1-11\" x=\"217.953467\" y=\"34.851563\"/>\n",
       "  <use xlink:href=\"#glyph1-5\" x=\"227.05498\" y=\"34.851563\"/>\n",
       "  <use xlink:href=\"#glyph1-12\" x=\"231.194678\" y=\"34.851563\"/>\n",
       "  <use xlink:href=\"#glyph1-13\" x=\"242.784375\" y=\"34.851563\"/>\n",
       "  <use xlink:href=\"#glyph1-11\" x=\"251.071045\" y=\"34.851563\"/>\n",
       "  <use xlink:href=\"#glyph1-13\" x=\"260.172559\" y=\"34.851563\"/>\n",
       "  <use xlink:href=\"#glyph1-14\" x=\"268.459229\" y=\"34.851563\"/>\n",
       "  <use xlink:href=\"#glyph1-8\" x=\"274.257715\" y=\"34.851563\"/>\n",
       "  <use xlink:href=\"#glyph1-3\" x=\"282.544385\" y=\"34.851563\"/>\n",
       "  <use xlink:href=\"#glyph1-5\" x=\"286.684082\" y=\"34.851563\"/>\n",
       "  <use xlink:href=\"#glyph1-15\" x=\"290.823779\" y=\"34.851563\"/>\n",
       "  <use xlink:href=\"#glyph1-16\" x=\"299.925293\" y=\"34.851563\"/>\n",
       "  <use xlink:href=\"#glyph1-8\" x=\"309.026807\" y=\"34.851563\"/>\n",
       "  <use xlink:href=\"#glyph1-17\" x=\"317.313477\" y=\"34.851563\"/>\n",
       "  <use xlink:href=\"#glyph1-5\" x=\"322.275293\" y=\"34.851563\"/>\n",
       "  <use xlink:href=\"#glyph1-6\" x=\"326.41499\" y=\"34.851563\"/>\n",
       "  <use xlink:href=\"#glyph1-1\" x=\"336.353174\" y=\"34.851563\"/>\n",
       "  <use xlink:href=\"#glyph1-2\" x=\"345.454687\" y=\"34.851563\"/>\n",
       "  <use xlink:href=\"#glyph1-14\" x=\"354.556201\" y=\"34.851563\"/>\n",
       "  <use xlink:href=\"#glyph1-5\" x=\"360.354688\" y=\"34.851563\"/>\n",
       "  <use xlink:href=\"#glyph1-18\" x=\"364.494385\" y=\"34.851563\"/>\n",
       "  <use xlink:href=\"#glyph1-13\" x=\"375.254687\" y=\"34.851563\"/>\n",
       "  <use xlink:href=\"#glyph1-8\" x=\"383.541357\" y=\"34.851563\"/>\n",
       "  <use xlink:href=\"#glyph1-3\" x=\"391.828027\" y=\"34.851563\"/>\n",
       "  <use xlink:href=\"#glyph1-17\" x=\"395.967725\" y=\"34.851563\"/>\n",
       "  <use xlink:href=\"#glyph1-16\" x=\"400.929541\" y=\"34.851563\"/>\n",
       "  <use xlink:href=\"#glyph1-5\" x=\"410.031055\" y=\"34.851563\"/>\n",
       "  <use xlink:href=\"#glyph1-10\" x=\"414.170752\" y=\"34.851563\"/>\n",
       "  <use xlink:href=\"#glyph1-19\" x=\"418.310449\" y=\"34.851563\"/>\n",
       "  <use xlink:href=\"#glyph1-20\" x=\"426.597119\" y=\"34.851563\"/>\n",
       "</g>\n",
       "<g style=\"fill:rgb(0%,0%,0%);fill-opacity:1;\">\n",
       "  <use xlink:href=\"#glyph0-7\" x=\"118.421875\" y=\"486.71875\"/>\n",
       "  <use xlink:href=\"#glyph0-0\" x=\"122.584473\" y=\"486.71875\"/>\n",
       "  <use xlink:href=\"#glyph0-8\" x=\"129.536377\" y=\"486.71875\"/>\n",
       "  <use xlink:href=\"#glyph0-9\" x=\"133.698975\" y=\"486.71875\"/>\n",
       "  <use xlink:href=\"#glyph0-10\" x=\"137.171875\" y=\"486.71875\"/>\n",
       "  <use xlink:href=\"#glyph0-11\" x=\"144.123779\" y=\"486.71875\"/>\n",
       "  <use xlink:href=\"#glyph0-12\" x=\"150.373779\" y=\"486.71875\"/>\n",
       "  <use xlink:href=\"#glyph0-10\" x=\"156.623779\" y=\"486.71875\"/>\n",
       "  <use xlink:href=\"#glyph0-13\" x=\"163.575684\" y=\"486.71875\"/>\n",
       "  <use xlink:href=\"#glyph0-13\" x=\"166.352783\" y=\"486.71875\"/>\n",
       "  <use xlink:href=\"#glyph0-10\" x=\"169.129883\" y=\"486.71875\"/>\n",
       "  <use xlink:href=\"#glyph0-14\" x=\"176.081787\" y=\"486.71875\"/>\n",
       "  <use xlink:href=\"#glyph0-15\" x=\"183.033691\" y=\"486.71875\"/>\n",
       "  <use xlink:href=\"#glyph0-16\" x=\"186.506592\" y=\"486.71875\"/>\n",
       "  <use xlink:href=\"#glyph0-9\" x=\"189.979492\" y=\"486.71875\"/>\n",
       "  <use xlink:href=\"#glyph0-7\" x=\"193.452393\" y=\"486.71875\"/>\n",
       "  <use xlink:href=\"#glyph0-1\" x=\"197.61499\" y=\"486.71875\"/>\n",
       "  <use xlink:href=\"#glyph0-8\" x=\"204.566895\" y=\"486.71875\"/>\n",
       "  <use xlink:href=\"#glyph0-9\" x=\"208.729492\" y=\"486.71875\"/>\n",
       "  <use xlink:href=\"#glyph0-17\" x=\"212.202393\" y=\"486.71875\"/>\n",
       "  <use xlink:href=\"#glyph0-10\" x=\"218.452393\" y=\"486.71875\"/>\n",
       "  <use xlink:href=\"#glyph0-18\" x=\"225.404297\" y=\"486.71875\"/>\n",
       "  <use xlink:href=\"#glyph0-19\" x=\"229.566895\" y=\"486.71875\"/>\n",
       "  <use xlink:href=\"#glyph0-9\" x=\"235.816895\" y=\"486.71875\"/>\n",
       "  <use xlink:href=\"#glyph0-20\" x=\"239.289795\" y=\"486.71875\"/>\n",
       "  <use xlink:href=\"#glyph0-21\" x=\"246.241699\" y=\"486.71875\"/>\n",
       "  <use xlink:href=\"#glyph0-21\" x=\"253.193604\" y=\"486.71875\"/>\n",
       "  <use xlink:href=\"#glyph0-22\" x=\"260.145508\" y=\"486.71875\"/>\n",
       "  <use xlink:href=\"#glyph0-16\" x=\"267.097412\" y=\"486.71875\"/>\n",
       "  <use xlink:href=\"#glyph0-9\" x=\"270.570313\" y=\"486.71875\"/>\n",
       "  <use xlink:href=\"#glyph0-7\" x=\"274.043213\" y=\"486.71875\"/>\n",
       "  <use xlink:href=\"#glyph0-2\" x=\"278.205811\" y=\"486.71875\"/>\n",
       "  <use xlink:href=\"#glyph0-8\" x=\"285.157715\" y=\"486.71875\"/>\n",
       "  <use xlink:href=\"#glyph0-9\" x=\"289.320313\" y=\"486.71875\"/>\n",
       "  <use xlink:href=\"#glyph0-20\" x=\"292.793213\" y=\"486.71875\"/>\n",
       "  <use xlink:href=\"#glyph0-21\" x=\"299.745117\" y=\"486.71875\"/>\n",
       "  <use xlink:href=\"#glyph0-21\" x=\"306.697021\" y=\"486.71875\"/>\n",
       "  <use xlink:href=\"#glyph0-22\" x=\"313.648926\" y=\"486.71875\"/>\n",
       "  <use xlink:href=\"#glyph0-16\" x=\"320.60083\" y=\"486.71875\"/>\n",
       "  <use xlink:href=\"#glyph0-9\" x=\"324.07373\" y=\"486.71875\"/>\n",
       "  <use xlink:href=\"#glyph0-7\" x=\"327.546631\" y=\"486.71875\"/>\n",
       "  <use xlink:href=\"#glyph0-3\" x=\"331.709229\" y=\"486.71875\"/>\n",
       "  <use xlink:href=\"#glyph0-8\" x=\"338.661133\" y=\"486.71875\"/>\n",
       "  <use xlink:href=\"#glyph0-9\" x=\"342.82373\" y=\"486.71875\"/>\n",
       "  <use xlink:href=\"#glyph0-23\" x=\"346.296631\" y=\"486.71875\"/>\n",
       "  <use xlink:href=\"#glyph0-24\" x=\"349.769531\" y=\"486.71875\"/>\n",
       "  <use xlink:href=\"#glyph0-25\" x=\"356.721436\" y=\"486.71875\"/>\n",
       "  <use xlink:href=\"#glyph0-18\" x=\"359.498535\" y=\"486.71875\"/>\n",
       "  <use xlink:href=\"#glyph0-16\" x=\"363.661133\" y=\"486.71875\"/>\n",
       "  <use xlink:href=\"#glyph0-9\" x=\"367.134033\" y=\"486.71875\"/>\n",
       "  <use xlink:href=\"#glyph0-7\" x=\"370.606934\" y=\"486.71875\"/>\n",
       "  <use xlink:href=\"#glyph0-4\" x=\"374.769531\" y=\"486.71875\"/>\n",
       "  <use xlink:href=\"#glyph0-8\" x=\"381.721436\" y=\"486.71875\"/>\n",
       "  <use xlink:href=\"#glyph0-9\" x=\"385.884033\" y=\"486.71875\"/>\n",
       "  <use xlink:href=\"#glyph0-26\" x=\"389.356934\" y=\"486.71875\"/>\n",
       "  <use xlink:href=\"#glyph0-21\" x=\"396.308838\" y=\"486.71875\"/>\n",
       "  <use xlink:href=\"#glyph0-21\" x=\"403.260742\" y=\"486.71875\"/>\n",
       "  <use xlink:href=\"#glyph0-18\" x=\"410.212646\" y=\"486.71875\"/>\n",
       "</g>\n",
       "<path style=\"fill:none;stroke-width:1;stroke-linecap:round;stroke-linejoin:round;stroke:rgb(0%,0%,0%);stroke-opacity:1;stroke-miterlimit:10;\" d=\"M 59.039063 426.882813 L 59.039063 87.433594 \"/>\n",
       "<path style=\"fill:none;stroke-width:1;stroke-linecap:round;stroke-linejoin:round;stroke:rgb(0%,0%,0%);stroke-opacity:1;stroke-miterlimit:10;\" d=\"M 59.039063 426.882813 L 51.839844 426.882813 \"/>\n",
       "<path style=\"fill:none;stroke-width:1;stroke-linecap:round;stroke-linejoin:round;stroke:rgb(0%,0%,0%);stroke-opacity:1;stroke-miterlimit:10;\" d=\"M 59.039063 378.390625 L 51.839844 378.390625 \"/>\n",
       "<path style=\"fill:none;stroke-width:1;stroke-linecap:round;stroke-linejoin:round;stroke:rgb(0%,0%,0%);stroke-opacity:1;stroke-miterlimit:10;\" d=\"M 59.039063 329.898438 L 51.839844 329.898438 \"/>\n",
       "<path style=\"fill:none;stroke-width:1;stroke-linecap:round;stroke-linejoin:round;stroke:rgb(0%,0%,0%);stroke-opacity:1;stroke-miterlimit:10;\" d=\"M 59.039063 281.40625 L 51.839844 281.40625 \"/>\n",
       "<path style=\"fill:none;stroke-width:1;stroke-linecap:round;stroke-linejoin:round;stroke:rgb(0%,0%,0%);stroke-opacity:1;stroke-miterlimit:10;\" d=\"M 59.039063 232.910156 L 51.839844 232.910156 \"/>\n",
       "<path style=\"fill:none;stroke-width:1;stroke-linecap:round;stroke-linejoin:round;stroke:rgb(0%,0%,0%);stroke-opacity:1;stroke-miterlimit:10;\" d=\"M 59.039063 184.417969 L 51.839844 184.417969 \"/>\n",
       "<path style=\"fill:none;stroke-width:1;stroke-linecap:round;stroke-linejoin:round;stroke:rgb(0%,0%,0%);stroke-opacity:1;stroke-miterlimit:10;\" d=\"M 59.039063 135.925781 L 51.839844 135.925781 \"/>\n",
       "<path style=\"fill:none;stroke-width:1;stroke-linecap:round;stroke-linejoin:round;stroke:rgb(0%,0%,0%);stroke-opacity:1;stroke-miterlimit:10;\" d=\"M 59.039063 87.433594 L 51.839844 87.433594 \"/>\n",
       "<g style=\"fill:rgb(0%,0%,0%);fill-opacity:1;\">\n",
       "  <use xlink:href=\"#glyph2-0\" x=\"43.199219\" y=\"430.359375\"/>\n",
       "</g>\n",
       "<g style=\"fill:rgb(0%,0%,0%);fill-opacity:1;\">\n",
       "  <use xlink:href=\"#glyph2-1\" x=\"43.199219\" y=\"395.769531\"/>\n",
       "  <use xlink:href=\"#glyph2-0\" x=\"43.199219\" y=\"388.817627\"/>\n",
       "  <use xlink:href=\"#glyph2-0\" x=\"43.199219\" y=\"381.865723\"/>\n",
       "  <use xlink:href=\"#glyph2-0\" x=\"43.199219\" y=\"374.913818\"/>\n",
       "  <use xlink:href=\"#glyph2-0\" x=\"43.199219\" y=\"367.961914\"/>\n",
       "</g>\n",
       "<g style=\"fill:rgb(0%,0%,0%);fill-opacity:1;\">\n",
       "  <use xlink:href=\"#glyph2-2\" x=\"43.199219\" y=\"347.277344\"/>\n",
       "  <use xlink:href=\"#glyph2-0\" x=\"43.199219\" y=\"340.325439\"/>\n",
       "  <use xlink:href=\"#glyph2-0\" x=\"43.199219\" y=\"333.373535\"/>\n",
       "  <use xlink:href=\"#glyph2-0\" x=\"43.199219\" y=\"326.421631\"/>\n",
       "  <use xlink:href=\"#glyph2-0\" x=\"43.199219\" y=\"319.469727\"/>\n",
       "</g>\n",
       "<g style=\"fill:rgb(0%,0%,0%);fill-opacity:1;\">\n",
       "  <use xlink:href=\"#glyph2-3\" x=\"43.199219\" y=\"298.785156\"/>\n",
       "  <use xlink:href=\"#glyph2-0\" x=\"43.199219\" y=\"291.833252\"/>\n",
       "  <use xlink:href=\"#glyph2-0\" x=\"43.199219\" y=\"284.881348\"/>\n",
       "  <use xlink:href=\"#glyph2-0\" x=\"43.199219\" y=\"277.929443\"/>\n",
       "  <use xlink:href=\"#glyph2-0\" x=\"43.199219\" y=\"270.977539\"/>\n",
       "</g>\n",
       "<g style=\"fill:rgb(0%,0%,0%);fill-opacity:1;\">\n",
       "  <use xlink:href=\"#glyph2-4\" x=\"43.199219\" y=\"250.289063\"/>\n",
       "  <use xlink:href=\"#glyph2-0\" x=\"43.199219\" y=\"243.337158\"/>\n",
       "  <use xlink:href=\"#glyph2-0\" x=\"43.199219\" y=\"236.385254\"/>\n",
       "  <use xlink:href=\"#glyph2-0\" x=\"43.199219\" y=\"229.43335\"/>\n",
       "  <use xlink:href=\"#glyph2-0\" x=\"43.199219\" y=\"222.481445\"/>\n",
       "</g>\n",
       "<g style=\"fill:rgb(0%,0%,0%);fill-opacity:1;\">\n",
       "  <use xlink:href=\"#glyph2-5\" x=\"43.199219\" y=\"156.78125\"/>\n",
       "  <use xlink:href=\"#glyph2-1\" x=\"43.199219\" y=\"149.829346\"/>\n",
       "  <use xlink:href=\"#glyph2-0\" x=\"43.199219\" y=\"142.877441\"/>\n",
       "  <use xlink:href=\"#glyph2-0\" x=\"43.199219\" y=\"135.925537\"/>\n",
       "  <use xlink:href=\"#glyph2-0\" x=\"43.199219\" y=\"128.973633\"/>\n",
       "  <use xlink:href=\"#glyph2-0\" x=\"43.199219\" y=\"122.021729\"/>\n",
       "</g>\n",
       "</g>\n",
       "</svg>\n"
      ],
      "text/plain": [
       "Plot with title \"Would You Say in General That Your Health is:\""
      ]
     },
     "metadata": {
      "image/svg+xml": {
       "isolated": true
      }
     },
     "output_type": "display_data"
    }
   ],
   "source": [
    "## This requires Cairo package in R.\n",
    "barplot(table(VOI$GENHLTH),col=\"darkblue\", main=\"Would You Say in General That Your Health is:\", xlab=\"(1) excellent, (2) very good, (3) good, (4) fair, (5) poor\")"
   ]
  },
  {
   "cell_type": "markdown",
   "metadata": {},
   "source": [
    "The graph above shows a fairly normal distribution, with more people rating themselves as being in \"excellent\" or \"very good\" compared to \"fair\" or \"poor\". Variable 7 corresponds to \"Don't know, not sure\" and 9 to \"Refused\".\n",
    "\n",
    "*Give simple, appropriate statistics (range, mode, mean, median, variance, counts, etc.) for the most important attributes and describe what they mean or if you found something interesting.*\n",
    "\n",
    "This section outlines some of the statistical details of the dataset.\n",
    "This is using the R kernel."
   ]
  },
  {
   "cell_type": "markdown",
   "metadata": {},
   "source": [
    "[toc](#Table-Of-Contents)\n",
    "<hr>\n",
    "## Visualization and Attributes\n",
    "\n",
    "The tables and charts below will visualize the relationship between reported health quality (GENHLTH) and five variables:\n",
    "- LASTDEN3: the working hypothesis here is that oral health is an indicator for self-reported health.\n",
    "- PERSDOC2: access to care seems like it should be positively correlated to self-reported health.\n",
    "- MEDCOST: much has been made about the cost of care as a barrier to care access. We should be able to see some relationship between these two variables.\n",
    "- SLEPTIM1: the quantity of sleep someone reports should be correlated to their overall self-reported health.\n",
    "- BLIND: living without one of life’s five senses seems like it would have a negative impact on self-reported health.\n",
    "\n",
    "The charts are aggregated stacked bar chart, as should be read as each bar represents one of the general health labels: Excellent, Very Good, Good, Fair, or Poor. In that bar, it shows the percentage of respondents who answered the particular question. For example, in the first chart below this, representing the question \"When did you last see a dentist?\", of the people in Excellent health (82,044), just over 75% of them saw one in the last year (the pink colored region, 63799 respondents). Roughly 8.9% (7058/82044) people saw a dentist in the last 2 years, etc."
   ]
  },
  {
   "cell_type": "code",
   "execution_count": 31,
   "metadata": {
    "collapsed": false
   },
   "outputs": [
    {
     "data": {
      "text/plain": [
       "       LASTDEN3\n",
       "GENHLTH Less than 1 year Within the past 2 years Within the past 5 years\n",
       "      1            63799                    7058                    5290\n",
       "      2           113100                   14276                   11626\n",
       "      3            91693                   16226                   14734\n",
       "      4            32607                    7544                    7922\n",
       "      5            10840                    3027                    3416\n",
       "      7              389                      85                      88\n",
       "      9              511                      98                      94\n",
       "       LASTDEN3\n",
       "GENHLTH 5+ years Dont know  Never Refused\n",
       "      1     5045        406    392      54\n",
       "      2    11301        789    488     131\n",
       "      3    17367       1283   1038     165\n",
       "      4    12198        833    674     102\n",
       "      5     6748        428    317      55\n",
       "      7      192         47     21       5\n",
       "      9      116         16     14      12"
      ]
     },
     "metadata": {},
     "output_type": "display_data"
    },
    {
     "name": "stderr",
     "output_type": "stream",
     "text": [
      "Warning message:\n",
      ": Removed 4 rows containing non-finite values (stat_count)."
     ]
    },
    {
     "data": {
      "image/png": "[encoded data removed]",
      "text/plain": [
       "plot without title"
      ]
     },
     "metadata": {
      "image/svg+xml": {
       "isolated": true
      }
     },
     "output_type": "display_data"
    }
   ],
   "source": [
    "with(VOI,table(GENHLTH,LASTDEN3))\n",
    "ggplot(VOI, aes(x = GENHLTH, fill=LASTDEN3)) + geom_bar(position=\"fill\", col=\"darkblue\") + scale_x_discrete(name = \"Self-reported Rank of Health\", limits=c(\"1\",\"2\",\"3\",\"4\",\"5\"),\n",
    "            labels=c(\"Excellent\",\"Very Good\", \"Good\",\"Fair\",\"Poor\")) + theme(axis.text.x = element_text(face=\"bold\", color=\"#993333\", \n",
    "            size=12, angle=45)) + scale_fill_discrete(name=\"When Did You Last\\nSee a Dentist?\")"
   ]
  },
  {
   "cell_type": "markdown",
   "metadata": {},
   "source": [
    "Commentary on the chart above:\n",
    "- It does appear that how frequently you go to the dentist is correlated to self-reported health quality. The poorer you report your health, the more likely it is that you haven’t seen a dentist within the past year."
   ]
  },
  {
   "cell_type": "code",
   "execution_count": 6,
   "metadata": {
    "collapsed": false
   },
   "outputs": [
    {
     "data": {
      "text/plain": [
       "       PERSDOC2\n",
       "GENHLTH Yes, only one More than one     No Don't Know Refused\n",
       "      1         61538          4886  15295        218     107\n",
       "      2        118698          9831  22680        333     169\n",
       "      3        108277         11224  22359        430     215\n",
       "      4         46530          7081   7989        179     101\n",
       "      5         18413          3973   2293         85      67\n",
       "      7           547           117    139         22       2\n",
       "      9           617            86    136          4      18"
      ]
     },
     "metadata": {},
     "output_type": "display_data"
    },
    {
     "name": "stderr",
     "output_type": "stream",
     "text": [
      "Warning message:\n",
      ": Removed 4 rows containing non-finite values (stat_count)."
     ]
    },
    {
     "data": {
      "image/png": "[encoded data removed]",
      "text/plain": [
       "plot without title"
      ]
     },
     "metadata": {
      "image/svg+xml": {
       "isolated": true
      }
     },
     "output_type": "display_data"
    }
   ],
   "source": [
    "with(VOI,table(GENHLTH,PERSDOC2))\n",
    "ggplot(VOI,aes(x = GENHLTH, fill=PERSDOC2,)) + geom_bar(position=\"fill\", col=\"darkblue\") + scale_x_discrete(name = \"Self-reported Rank of Health\", limits=c(\"1\",\"2\",\"3\",\"4\",\"5\"),\n",
    "            labels=c(\"Excellent\",\"Very Good\", \"Good\",\"Fair\",\"Poor\")) + theme(axis.text.x = element_text(face=\"bold\", color=\"#993333\", \n",
    "            size=12, angle=45)) + scale_fill_discrete(name=\"Do You Have Someone You Consider\\n to Be Your Doctor?\")"
   ]
  },
  {
   "cell_type": "markdown",
   "metadata": {},
   "source": [
    "Commentary on the chart above:\n",
    "- Having a doctor does not appear to have a relation to health. All categories are around 75% of people saying they do have a someone they consider to be their doctor.  *This should be followed up to determine if there is a statistically significant differences in the answers.*"
   ]
  },
  {
   "cell_type": "code",
   "execution_count": 7,
   "metadata": {
    "collapsed": false
   },
   "outputs": [
    {
     "data": {
      "text/plain": [
       "       MEDCOST\n",
       "GENHLTH    Yes     No Don't Know Refused\n",
       "      1   4402  77499        113      30\n",
       "      2  10255 141212        191      53\n",
       "      3  16590 125521        314      80\n",
       "      4  11712  49955        162      51\n",
       "      5   6123  18541        128      39\n",
       "      7    136    656         28       7\n",
       "      9     97    744          5      15"
      ]
     },
     "metadata": {},
     "output_type": "display_data"
    },
    {
     "name": "stderr",
     "output_type": "stream",
     "text": [
      "Warning message:\n",
      ": Removed 4 rows containing non-finite values (stat_count)."
     ]
    },
    {
     "data": {
      "image/png": "[encoded data removed]",
      "text/plain": [
       "plot without title"
      ]
     },
     "metadata": {
      "image/svg+xml": {
       "isolated": true
      }
     },
     "output_type": "display_data"
    }
   ],
   "source": [
    "with(VOI,table(GENHLTH,MEDCOST))\n",
    "ggplot(VOI,aes(x = GENHLTH, fill=MEDCOST,)) + geom_bar(position=\"fill\", col=\"darkblue\") + scale_x_discrete(name = \"Self-reported Rank of Health\", limits=c(\"1\",\"2\",\"3\",\"4\",\"5\"),\n",
    "            labels=c(\"Excellent\",\"Very Good\", \"Good\",\"Fair\",\"Poor\")) + theme(axis.text.x = element_text(face=\"bold\", color=\"#993333\", \n",
    "            size=12, angle=45)) + scale_fill_discrete(name=\"Was There a Time in the Last 12 Months\\nWhere You Needed to See the \\nDoctor But Didn't Because of Cost?\")"
   ]
  },
  {
   "cell_type": "markdown",
   "metadata": {},
   "source": [
    "Commentary on the chart above:\n",
    "- Cost does appear to be somewhat correlated with self-reported health quality. Of those who rated their health as poor, 25% reported that there was a time in the last 12 months that they needed to go to a doctor, but didn’t because of cost.  Of those who rated their health as excellent, only about 5% indicated that cost prevented them from going to see a physician.\n"
   ]
  },
  {
   "cell_type": "code",
   "execution_count": 32,
   "metadata": {
    "collapsed": true
   },
   "outputs": [
    {
     "data": {
      "text/plain": [
       "       EXERANY2\n",
       "GENHLTH    Yes     No Don't Know Refused\n",
       "      1  72304   9473         32     235\n",
       "      2 127510  23748         89     363\n",
       "      3 103326  38628        141     409\n",
       "      4  35862  25742         92     183\n",
       "      5   9940  14741         63      87\n",
       "      7    474    343          7       3\n",
       "      9    593    249          0      19"
      ]
     },
     "metadata": {},
     "output_type": "display_data"
    },
    {
     "name": "stderr",
     "output_type": "stream",
     "text": [
      "Warning message:\n",
      ": Removed 4 rows containing non-finite values (stat_count)."
     ]
    },
    {
     "data": {
      "image/png": "[encoded data removed]",
      "text/plain": [
       "plot without title"
      ]
     },
     "metadata": {
      "image/svg+xml": {
       "isolated": true
      }
     },
     "output_type": "display_data"
    }
   ],
   "source": [
    "with(VOI,table(GENHLTH,EXERANY2))\n",
    "ggplot(VOI,aes(x = GENHLTH, fill=EXERANY2,)) + geom_bar(position=\"fill\", col=\"darkblue\") + scale_x_discrete(name = \"Self-reported Rank of Health\", limits=c(\"1\",\"2\",\"3\",\"4\",\"5\"),\n",
    "            labels=c(\"Excellent\",\"Very Good\", \"Good\",\"Fair\",\"Poor\")) + theme(axis.text.x = element_text(face=\"bold\", color=\"#993333\", \n",
    "            size=12, angle=45)) + scale_fill_discrete(name=\"In the Last 12 Months,\\nOther Thank Your Regular Job,\\nDid You Participate in Any Physical Activity?\")"
   ]
  },
  {
   "cell_type": "markdown",
   "metadata": {},
   "source": [
    "Commentary on the chart above:\n",
    "- As we might expect, monthly exercise seems to be correlated to self-reported health. Of those who report poor health, more than half have not had any exercise within the last month. This percentage is in sharp contrast to those who report excellent health, where about 12% report not exercising last month. "
   ]
  },
  {
   "cell_type": "code",
   "execution_count": 16,
   "metadata": {
    "collapsed": false
   },
   "outputs": [
    {
     "data": {
      "text/plain": [
       "       BLIND\n",
       "GENHLTH    Yes     No Don't Know Refused\n",
       "      1   1194  77691         54     192\n",
       "      2   3350 143443        154     269\n",
       "      3   6437 130354        235     346\n",
       "      4   6871  52561        231     196\n",
       "      5   5353  18459        129      72\n",
       "      7    111    654         16       9\n",
       "      9     48    758          1       9"
      ]
     },
     "metadata": {},
     "output_type": "display_data"
    },
    {
     "name": "stderr",
     "output_type": "stream",
     "text": [
      "Warning message:\n",
      ": Removed 4 rows containing non-finite values (stat_count)."
     ]
    },
    {
     "data": {
      "image/png": "[encoded data removed]",
      "text/plain": [
       "plot without title"
      ]
     },
     "metadata": {
      "image/svg+xml": {
       "isolated": true
      }
     },
     "output_type": "display_data"
    }
   ],
   "source": [
    "with(VOI,table(GENHLTH,BLIND))\n",
    "ggplot(VOI,aes(x = GENHLTH, fill=BLIND,)) + geom_bar(position=\"fill\", col=\"darkblue\") + scale_x_discrete(name = \"Self-reported Rank of Health\", limits=c(\"1\",\"2\",\"3\",\"4\",\"5\"),\n",
    "            labels=c(\"Excellent\",\"Very Good\", \"Good\",\"Fair\",\"Poor\")) + theme(axis.text.x = element_text(face=\"bold\", color=\"#993333\", \n",
    "            size=12, angle=45)) + scale_fill_discrete(name=\"Are You Blind or Do You Have Difficulty Seeing?\")"
   ]
  },
  {
   "cell_type": "markdown",
   "metadata": {},
   "source": [
    "Commentary on the chart above:\n",
    "- About a quarter of those who report poor health are blind. This number is sharply contrasted by the percentage of those who report excellent health and are blind, which is around 3%. "
   ]
  },
  {
   "cell_type": "markdown",
   "metadata": {},
   "source": [
    "[toc](#Table-Of-Contents)\n",
    "<hr>\n",
    "## Interesting Features\n",
    "*Explore relationships between attributes: Look at the attributes via scatter plots, correlation, cross-tabulation, group-wise averages, etc. as appropriate. Explain any interesting relationships.\n"
   ]
  },
  {
   "cell_type": "markdown",
   "metadata": {},
   "source": [
    "[toc](#Table-Of-Contents)\n",
    "<hr>\n",
    "## Relationships\n",
    "\n",
    "\n",
    "\n",
    "* Identify and explain interesting relationships between features and the class you are trying to predict (i.e., relationships with variables and the target classiﬁcation). \n"
   ]
  },
  {
   "cell_type": "code",
   "execution_count": 17,
   "metadata": {
    "collapsed": false
   },
   "outputs": [
    {
     "data": {
      "text/plain": [
       "       SLEPTIM1\n",
       "GENHLTH     1     2     3     4     5     6     7     8     9    10    11    12\n",
       "      1    43    66   240  1059  3390 14798 28462 27696  4049  1201    72   278\n",
       "      2    40   117   371  1982  7321 30755 54076 45807  7031  2326   133   439\n",
       "      3    75   205   693  3557  9936 32176 40936 40891  7113  3426   232   893\n",
       "      4    46   248   892  3352  6227 14472 12471 15707  3201  2428   179   807\n",
       "      5    69   317   855  2424  2951  5218  3216  5047  1146  1369   114   648\n",
       "      7     2     5    12    33    49   144   152   200    38    40     5    18\n",
       "      9     0     5    13    15    52   167   216   249    49    25     5     6\n",
       "       SLEPTIM1\n",
       "GENHLTH    13    14    15    16    17    18    19    20    21    22    23    24\n",
       "      1    18    22    16    28     0    14     1     6     1     0     2     6\n",
       "      2    15    38    28    37     4    13     1     7     1     1     1    10\n",
       "      3    41    98    62    97     5    24     1    18     1     1     0    10\n",
       "      4    56    98    89    75     5    31     1    19     1     3     3     5\n",
       "      5    47    83    69    77     8    33     5    21     0     4     3     4\n",
       "      7     1     1     1     1     0     1     0     1     0     0     0     0\n",
       "      9     0     2     0     0     1     0     0     0     0     1     0     1\n",
       "       SLEPTIM1\n",
       "GENHLTH Don't Know Refused\n",
       "      1          0       0\n",
       "      2          0       0\n",
       "      3          0       0\n",
       "      4          0       0\n",
       "      5          0       0\n",
       "      7          0       0\n",
       "      9          0       0"
      ]
     },
     "metadata": {},
     "output_type": "display_data"
    },
    {
     "name": "stderr",
     "output_type": "stream",
     "text": [
      "Warning message:\n",
      ": Removed 4 rows containing non-finite values (stat_count)."
     ]
    },
    {
     "data": {
      "image/png": "[encoded data removed]",
      "text/plain": [
       "plot without title"
      ]
     },
     "metadata": {
      "image/svg+xml": {
       "isolated": true
      }
     },
     "output_type": "display_data"
    }
   ],
   "source": [
    "VOI$SLEPTIM1 <- factor(VOI$SLEPTIM1, levels=c(1,2,3,4,5,6,7,8,9,10,11,12,13,14,15,16,17,18,19,20,21,22,23,24,77,99), \n",
    "                        labels =c(\"1\",\"2\",\"3\",\"4\",\"5\",\"6\",\"7\",\"8\",\"9\",\"10\",\"11\",\"12\",\"13\",\"14\",\"15\",\"16\",\"17\",\"18\",\"19\"\n",
    "                                  ,\"20\",\"21\",\"22\",\"23\",\"24\",\"Don't Know\",\"Refused\"))\n",
    "\n",
    "with(VOI,table(GENHLTH,SLEPTIM1))\n",
    "ggplot(VOI,aes(x = GENHLTH, fill=SLEPTIM1,)) + geom_bar(position=\"fill\", col=\"darkblue\") + \n",
    "           scale_x_discrete(name = \"Self-reported Rank of Health\", limits=c(\"1\",\"2\",\"3\",\"4\",\"5\"),\n",
    "           labels=c(\"Excellent\",\"Very Good\", \"Good\",\"Fair\",\"Poor\")) + theme(axis.text.x = element_text(face=\"bold\", color=\"#993333\", \n",
    "           size=12, angle=45)) + scale_fill_discrete(name=\"How Many Hours per \\nNight Do You Sleep?\")"
   ]
  },
  {
   "cell_type": "markdown",
   "metadata": {},
   "source": [
    "As seen in the chart above, the more orange colors grow as you move from Excellent to Poor health, \n",
    "meaning that those who self-report poor health tend to sleep less."
   ]
  },
  {
   "cell_type": "markdown",
   "metadata": {
    "collapsed": true
   },
   "source": [
    "[toc](#Table-Of-Contents)\n",
    "<hr>\n",
    "## Exceptional Work\n",
    "1. This notebook is pretty big. As simple as it sounds, we found adding a table of contents and links to the different sections to be a valuable tool.\n",
    "2. Likewise, adjusted margin widths to handle the large code lines.  (Both this and the above are more about learning the tools.)"
   ]
  },
  {
   "cell_type": "markdown",
   "metadata": {
    "collapsed": true
   },
   "source": [
    "[toc](#Table-Of-Contents)\n",
    "<hr>\n",
    "## References\n",
    "\n",
    "(1) The main page for the data: http://www.cdc.gov/brfss/annual_data/annual_2014.html\n",
    "\n",
    "(2) Codebook of lookup values: http://www.cdc.gov/brfss/annual_data/2014/pdf/codebook14_llcp.pdf\n",
    "        "
   ]
  },
  {
   "cell_type": "code",
   "execution_count": null,
   "metadata": {
    "collapsed": true
   },
   "outputs": [],
   "source": []
  },
  {
   "cell_type": "code",
   "execution_count": null,
   "metadata": {
    "collapsed": true
   },
   "outputs": [],
   "source": []
  }
 ],
 "metadata": {
  "kernelspec": {
   "display_name": "R",
   "language": "R",
   "name": "ir"
  },
  "language_info": {
   "codemirror_mode": "r",
   "file_extension": ".r",
   "mimetype": "text/x-r-source",
   "name": "R",
   "pygments_lexer": "r",
   "version": "3.3.0"
  }
 },
 "nbformat": 4,
 "nbformat_minor": 0
}
