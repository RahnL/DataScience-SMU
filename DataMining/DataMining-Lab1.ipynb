{
 "cells": [
  {
   "cell_type": "markdown",
   "metadata": {},
   "source": [
    "# Table of Contents\n",
    "\n",
    "- [Why This Data Was Collected](#Why_This_Data_Was_Collected)\n",
    "- [Data Import / Housekeeping](#Housekeeping)\n",
    "- [Data Understanding](#Data_Understanding)\n",
    "- [References](#References)"
   ]
  },
  {
   "cell_type": "markdown",
   "metadata": {},
   "source": [
    "Data Mining - MSDS 7331 - Thurs 6:30, Summer 2016\n",
    "Team 3 (AKA Team Super Awesome):  Sal Melendez, Rahn Lieberman, Thomas Rogers\n",
    "\n",
    "\n",
    "# Lab 1 - Visualization and Data Preprocessing\n",
    "\n",
    "## Why This Data Was Collected\n",
    "\n",
    "Our team has selected the 2014 Behavioral Risk Factor Surveillance System data (BRFSS), from the Center for Disease Control and prevention (CDC), to attempt to understand the relationship between quality of health and a number of behavioral, demographic and environmental factors. \n",
    "\n",
    "The purpose of the BRFSS project is to survey a large population of Americans on a wide range of topics to inform policy, research and healthcare delivery. The same or similar questions are asked each year and the resulting dataset gives not only a broad, comprehensive view of health quality in the United States, but it also provides a longitudinal view on how quality of care (among other factors) is changing over time.\n",
    "\n",
    "There are 279 variables in the dataset and over 460,000 surveys completed. The sheer breadth and complexity of this data, with missing, weighted and calculated variables requires a clear and distinct question of interest and some sense of what variables might help answer the question. We have chosen to focus on one particular question in the survey as our response variable and will attempt to better understand the impact reported behaviors have on responses to that question. \n",
    "\n",
    "Our response variable becomes the answer to the following question on quality of health:\n",
    "•\t\"Would you say that in general your health is: (1) excellent, (2) very good, (3) good, (4) fair, (5) poor.\"  (section 1.1, column 80)\n",
    "\n",
    "We will limit the 279 variables to focus on those related to behavioral survey questions. The corresponding variables from the questions related to behavior number XXX, so our dataset is roughly 450,000 rows by XXX columns. \n",
    "\n",
    "If we start now with a model-building methodology in mind and identify logistic regression as an approach, we need to transform these ordinal responses into a binary response. We’ll do so by combining the “excellent”, “very good” and “good” responses as measures of “good or better” health and the “fair” and “poor” measures as “fair and poor”.\n",
    "\n",
    "To measure success, we will know we’ve mined useful knowledge from this dataset if we’re able to translate the data into actionable insight. If the information we discover has the potential to inform policy or change individual behavior to increase health quality, we’ve been helpful. \n",
    "\n",
    "We plan to measuring the effectiveness of a good prediction algorithm by it’s ability to classify whether someone will report good or better health or fair and poor health at a high degree of sensitivity and specificity. \n",
    "\n",
    "[Source data, reference 1](#References)\n"
   ]
  },
  {
   "cell_type": "markdown",
   "metadata": {},
   "source": [
    "# Housekeeping\n",
    "Loading the data, imports, and such."
   ]
  },
  {
   "cell_type": "code",
   "execution_count": null,
   "metadata": {
    "collapsed": false
   },
   "outputs": [],
   "source": [
    "import pandas as pd\n",
    "import numpy as np\n",
    "\n",
    "df = pd.read_csv(\"data/LLCP2014XPT.txt\", sep=\"\\t\")\n",
    "df.info()\n",
    "df.head()"
   ]
  },
  {
   "cell_type": "markdown",
   "metadata": {},
   "source": [
    "# Data Understanding"
   ]
  },
  {
   "cell_type": "markdown",
   "metadata": {
    "collapsed": true
   },
   "source": [
    "The data consists of 279 fields. The majority of the data is answers to the survey questions on either a Likert scale (1 t o 5+), yes/no (1 = yes, 2 = not), true/false (1=true, 2=false).\n",
    "\n",
    "For our question of interest, we are interested in the GENLTH variable.  The answers scale is:\n",
    "\n",
    "Key | 1 | 2 | 3 | 4 | 5 | 7 | 9 | Blank |\n",
    "----- | --- | --- | --- | --- | --- | --- | --- | --- |\n",
    "Value | Excellent | Very Good | Good | Fair | Poor | Don't Know | Refused | Not asked or missing\n",
    "\n",
    "\n",
    "To get a feel for the data, here are some of the other variables, with their meaning.\n",
    "\n",
    " The STATE field is a numerically coded list of all states and territories participating in the survey.\n",
    "\n",
    "Key | Value\n",
    "--- | ---\n",
    "1 | Alaska\n",
    "2 | Alabama\n",
    "3 | Arizona\n",
    "... | ...\n",
    "66 | Guam\n",
    "72 | Puerto Rico\n",
    "\n",
    "\n",
    "The number of adults in the household (measure seperately for male and female):\n",
    "\n",
    "Key | Anwer to \"number of adult [men]/[women] in household\n",
    "--- | ---\n",
    "0 | 0\n",
    "1 | 1\n",
    "2 | 2\n",
    "3 | 3\n",
    "4 | 4\n",
    "5 | 5\n",
    "6 - 99 | 6 or more\n",
    "\n",
    "A detailed listing of all keys and values is found in the codebook. [Codebook, Reference #2](#References)"
   ]
  },
  {
   "cell_type": "code",
   "execution_count": null,
   "metadata": {
    "collapsed": true
   },
   "outputs": [],
   "source": [
    "### References"
   ]
  },
  {
   "cell_type": "code",
   "execution_count": null,
   "metadata": {
    "collapsed": true
   },
   "outputs": [],
   "source": [
    "(1) The main page for the data: http://www.cdc.gov/brfss/annual_data/annual_2014.html\n",
    "(2) Codebook of lookup values: http://www.cdc.gov/brfss/annual_data/2014/pdf/codebook14_llcp.pdf\n",
    "        "
   ]
  }
 ],
 "metadata": {
  "kernelspec": {
   "display_name": "Python 2",
   "language": "python",
   "name": "python2"
  },
  "language_info": {
   "codemirror_mode": {
    "name": "ipython",
    "version": 2
   },
   "file_extension": ".py",
   "mimetype": "text/x-python",
   "name": "python",
   "nbconvert_exporter": "python",
   "pygments_lexer": "ipython2",
   "version": "2.7.11"
  }
 },
 "nbformat": 4,
 "nbformat_minor": 0
}
